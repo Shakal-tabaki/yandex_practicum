{
 "cells": [
  {
   "cell_type": "markdown",
   "metadata": {
    "toc": true
   },
   "source": [
    "<h1>Содержание<span class=\"tocSkip\"></span></h1>\n",
    "<div class=\"toc\"><ul class=\"toc-item\"><li><span><a href=\"#Подготовка-данных\" data-toc-modified-id=\"Подготовка-данных-1\"><span class=\"toc-item-num\">1&nbsp;&nbsp;</span>Подготовка данных</a></span></li><li><span><a href=\"#Анализ-данных\" data-toc-modified-id=\"Анализ-данных-2\"><span class=\"toc-item-num\">2&nbsp;&nbsp;</span>Анализ данных</a></span></li><li><span><a href=\"#Модель\" data-toc-modified-id=\"Модель-3\"><span class=\"toc-item-num\">3&nbsp;&nbsp;</span>Модель</a></span></li><li><span><a href=\"#Итоговый-вывод\" data-toc-modified-id=\"Итоговый-вывод-4\"><span class=\"toc-item-num\">4&nbsp;&nbsp;</span>Итоговый вывод</a></span></li></ul></div>"
   ]
  },
  {
   "cell_type": "markdown",
   "metadata": {},
   "source": [
    "# Восстановление золота из руды"
   ]
  },
  {
   "cell_type": "markdown",
   "metadata": {},
   "source": [
    "В данной работе будет подготовлен прототип модели машинного обучения для компании «Цифры», разрабатывающей решения для эффективной работы промышленных предприятий. \n",
    "Модель будет предсказывать коэффициент восстановления золота из золотосодержащей руды, для этого компания предоставила  данные с параметрами добычи и очистки. Такая модель поможет оптимизировать производство, чтобы не запускать предприятие с убыточными характеристиками.\n",
    "Изначально данные разделенны на:\n",
    "* `gold_recovery_train_new.csv` — обучающая выборка;\n",
    "* `gold_recovery_test_new.csv` — тестовая выборка;\n",
    "* `gold_recovery_full_new.csv` — исходные данные.\n",
    "\n",
    "_Стоит отметить._  \n",
    "Данные индексируются датой и временем получения информации (признак `date`). Соседние по времени параметры часто похожи.\n",
    "Некоторые параметры недоступны, потому что замеряются и/или рассчитываются значительно позже. Из-за этого в тестовой выборке отсутствуют некоторые признаки, которые могут быть в обучающей. Также в тестовом наборе нет целевых признаков. \n",
    "\n",
    "__Описание данных__  \n",
    "_Технологический процесс:_\n",
    "* `Rougher feed` — исходное сырье\n",
    "* `Rougher additions` (или `reagent additions`) — флотационные реагенты: Xanthate, Sulphate, Depressant\n",
    "* `Xanthate**`— ксантогенат (промотер, или активатор флотации);\n",
    "* `Sulphate` — сульфат (на данном производстве сульфид натрия);\n",
    "* `Depressant` — депрессант (силикат натрия).\n",
    "* `Rougher process` (англ. «грубый процесс») — флотация\n",
    "* `Rougher tails` — отвальные хвосты\n",
    "* `Float banks` — флотационная установка\n",
    "* `Cleaner process` — очистка\n",
    "* `Rougher Au` — черновой концентрат золота\n",
    "* `Final Au` — финальный концентрат золота  \n",
    "_Параметры этапов_\n",
    "* `air amount` — объём воздуха\n",
    "* `fluid levels` — уровень жидкости\n",
    "* `feed size` — размер гранул сырья\n",
    "* `feed rate` — скорость подачи  \n",
    "_Наименование признаков_\n",
    "Наименование признаков должно быть такое:\n",
    "[этап].[тип_параметра].[название_параметра]\n",
    "Возможные значения для блока [этап]:\n",
    "* `rougher` — флотация\n",
    "* `primary_cleaner` — первичная очистка\n",
    "* `secondary_cleaner` — вторичная очистка\n",
    "* `final` — финальные характеристики  \n",
    "Возможные значения для блока [тип_параметра]:\n",
    "* `input` — параметры сырья\n",
    "* `output` — параметры продукта\n",
    "* `state` — параметры, характеризующие текущее состояние этапа\n",
    "* `calculation` — расчётные характеристики  \n",
    "\n",
    "__Задача модели.__  \n",
    "Cпрогнозировать сразу две величины:\n",
    "* эффективность обогащения чернового концентрата `rougher.output.recovery`;\n",
    "* эффективность обогащения финального концентрата `final.output.recovery`."
   ]
  },
  {
   "cell_type": "markdown",
   "metadata": {},
   "source": [
    "## Подготовка данных"
   ]
  },
  {
   "cell_type": "markdown",
   "metadata": {},
   "source": [
    "Для начала импортируем все необходимые библиотеки для данной работы."
   ]
  },
  {
   "cell_type": "code",
   "execution_count": 1,
   "metadata": {},
   "outputs": [],
   "source": [
    "import pandas as pd\n",
    "\n",
    "import matplotlib.pyplot as plt\n",
    "import seaborn as sns\n",
    "\n",
    "import numpy as np\n",
    "\n",
    "from sklearn.model_selection import train_test_split,GridSearchCV\n",
    "from sklearn.linear_model import LinearRegression\n",
    "from sklearn.ensemble import RandomForestRegressor\n",
    "from sklearn.metrics import make_scorer\n",
    "from sklearn.tree import DecisionTreeRegressor\n",
    "from sklearn.metrics import mean_absolute_error\n",
    "from sklearn.dummy import DummyRegressor\n",
    "\n",
    "#Для удаленя предупреждений\n",
    "import warnings \n",
    "warnings.simplefilter('ignore')"
   ]
  },
  {
   "cell_type": "markdown",
   "metadata": {},
   "source": [
    "Зададим переменные которые будут хранить в себе все датасеты предоставленные компанией."
   ]
  },
  {
   "cell_type": "code",
   "execution_count": 2,
   "metadata": {},
   "outputs": [],
   "source": [
    "#Полные данные \n",
    "data_all = pd.read_csv('datasets/gold_industry_full.csv')\n",
    "#Выборка для обучения с целевым признаком\n",
    "data_train = pd.read_csv('datasets/gold_industry_train.csv')\n",
    "#Тестовая выборка без целевого признака \n",
    "data_test = pd.read_csv('datasets/gold_industry_test.csv')"
   ]
  },
  {
   "cell_type": "markdown",
   "metadata": {},
   "source": [
    "Перед подготовкой данных проверим один из целевой признак находящийся в переменной обучающей выборки `data_train`. Проверять будем колонку `rougher.output.recovery`. Сформулируем формулу для расчета эффективности обогащения, а после при помощи заданных и вычисленных значений расчитаем метрики качества `МАЕ` между ними, она покажет величину средней абсолютной разницы."
   ]
  },
  {
   "cell_type": "markdown",
   "metadata": {},
   "source": [
    "_Формула для расчета эффективности обогащения ._"
   ]
  },
  {
   "cell_type": "markdown",
   "metadata": {},
   "source": [
    "$$Recovery = \\frac{C*(F-T)}{F*(C-T)}*100\\%$$"
   ]
  },
  {
   "cell_type": "markdown",
   "metadata": {},
   "source": [
    "где:\n",
    "* $C$ — доля золота в концентрате после флотации/очистки;\n",
    "* $F$ — доля золота в сырье/концентрате до флотации/очистки;\n",
    "* $T$ — доля золота в отвальных хвостах после флотации/очистки."
   ]
  },
  {
   "cell_type": "markdown",
   "metadata": {},
   "source": [
    "Теперь зададим переменные хранящие все необходимые данные для вычисления эффективности обогащения. "
   ]
  },
  {
   "cell_type": "code",
   "execution_count": 3,
   "metadata": {},
   "outputs": [],
   "source": [
    "#доля золота в концентрате после флотации/очистки\n",
    "C = data_train['rougher.output.concentrate_au']\n",
    "#доля золота в сырье/концентрате до флотации/очистки\n",
    "F = data_train['rougher.input.feed_au']\n",
    "#доля золота в отвальных хвостах после флотации/очистки\n",
    "T = data_train['rougher.output.tail_au']"
   ]
  },
  {
   "cell_type": "markdown",
   "metadata": {},
   "source": [
    "Теперь рассчитаем эффективность"
   ]
  },
  {
   "cell_type": "code",
   "execution_count": 4,
   "metadata": {},
   "outputs": [
    {
     "data": {
      "text/plain": [
       "0    84.814586\n",
       "1    86.013484\n",
       "2    87.457294\n",
       "3    87.394321\n",
       "4    86.448262\n",
       "dtype: float64"
      ]
     },
     "execution_count": 4,
     "metadata": {},
     "output_type": "execute_result"
    }
   ],
   "source": [
    "recovery = (C*(F-T))/(F*(C-T))*100\n",
    "#Прверка \n",
    "recovery.head()"
   ]
  },
  {
   "cell_type": "markdown",
   "metadata": {},
   "source": [
    "Тепрь возьмем полученную колонку с данными и `rougher.output.recovery` колонку из предоставленного датасета. Расчитаем метрику `MAE`."
   ]
  },
  {
   "cell_type": "code",
   "execution_count": 5,
   "metadata": {},
   "outputs": [
    {
     "name": "stdout",
     "output_type": "stream",
     "text": [
      "Значение МАЕ: 9.901274415917823e-15\n"
     ]
    }
   ],
   "source": [
    "print('Значение МАЕ:', \n",
    "      mean_absolute_error(data_train['rougher.output.recovery'], recovery))"
   ]
  },
  {
   "cell_type": "markdown",
   "metadata": {},
   "source": [
    "_Значение средней абсолютной разницы карйне мало, что говорит о достоверности предоставленных данных, можно с уверенностью использовать их при обучении моделей._"
   ]
  },
  {
   "cell_type": "markdown",
   "metadata": {},
   "source": [
    "Наши таблицы имеют разное количество колонок. посмотрим как сильно они отличаются и какие именно данные отсутствуют."
   ]
  },
  {
   "cell_type": "code",
   "execution_count": 6,
   "metadata": {
    "scrolled": true
   },
   "outputs": [
    {
     "name": "stdout",
     "output_type": "stream",
     "text": [
      "Колонки отсутствующие в data_test:\n",
      "\n",
      "Unnamed: 0.5\n",
      "Unnamed: 0.4\n",
      "Unnamed: 0.3\n",
      "Unnamed: 0.2\n",
      "Unnamed: 0.1\n",
      "Unnamed: 0\n",
      "rougher.calculation.sulfate_to_au_concentrate\n",
      "rougher.calculation.floatbank10_sulfate_to_au_feed\n",
      "rougher.calculation.floatbank11_sulfate_to_au_feed\n",
      "rougher.calculation.au_pb_ratio\n",
      "rougher.output.concentrate_au\n",
      "rougher.output.concentrate_ag\n",
      "rougher.output.concentrate_pb\n",
      "rougher.output.concentrate_sol\n",
      "rougher.output.recovery\n",
      "rougher.output.tail_au\n",
      "rougher.output.tail_ag\n",
      "rougher.output.tail_pb\n",
      "rougher.output.tail_sol\n",
      "primary_cleaner.output.concentrate_au\n",
      "primary_cleaner.output.concentrate_ag\n",
      "primary_cleaner.output.concentrate_pb\n",
      "primary_cleaner.output.concentrate_sol\n",
      "primary_cleaner.output.tail_au\n",
      "primary_cleaner.output.tail_ag\n",
      "primary_cleaner.output.tail_pb\n",
      "primary_cleaner.output.tail_sol\n",
      "secondary_cleaner.output.tail_au\n",
      "secondary_cleaner.output.tail_ag\n",
      "secondary_cleaner.output.tail_pb\n",
      "secondary_cleaner.output.tail_sol\n",
      "final.output.concentrate_au\n",
      "final.output.concentrate_ag\n",
      "final.output.concentrate_pb\n",
      "final.output.concentrate_sol\n",
      "final.output.recovery\n",
      "final.output.tail_au\n",
      "final.output.tail_ag\n",
      "final.output.tail_pb\n",
      "final.output.tail_sol\n"
     ]
    }
   ],
   "source": [
    "print('Колонки отсутствующие в data_test:\\n')\n",
    "for i in data_train.columns:\n",
    "    if i not in data_test.columns:\n",
    "        print(i)"
   ]
  },
  {
   "cell_type": "markdown",
   "metadata": {},
   "source": [
    "_В основном отсутствуют колонки хранящие выходные данные после всем манипуляций с рудой, об этом на говорит название параметра `output`. Это вполне логично так как, данные параметры сообщают нам итоговые параметры, которые и нужно предсказать по вводным данным, и при проверки модели такие характреистики будут лишними. А вот для обучения они необходимы. А вот колонки с названием параметра `calculation`, хранят в себе расчетные характеристики для флотации. Таких данных нет в тестовой, и в будующем это помешает предсказать по тестовой выборке целевые значения, так как модель будет пытать использовать данные которых нет. Стоит исключить их при обучении будующих моделей._"
   ]
  },
  {
   "cell_type": "markdown",
   "metadata": {},
   "source": [
    "Проведем предобработку предоставленных таблиц."
   ]
  },
  {
   "cell_type": "markdown",
   "metadata": {},
   "source": [
    " __Выборка для обучения моделей.__"
   ]
  },
  {
   "cell_type": "code",
   "execution_count": 7,
   "metadata": {
    "scrolled": true
   },
   "outputs": [
    {
     "name": "stdout",
     "output_type": "stream",
     "text": [
      "<class 'pandas.core.frame.DataFrame'>\n",
      "RangeIndex: 8279 entries, 0 to 8278\n",
      "Data columns (total 93 columns):\n",
      " #   Column                                              Non-Null Count  Dtype  \n",
      "---  ------                                              --------------  -----  \n",
      " 0   Unnamed: 0.5                                        8279 non-null   int64  \n",
      " 1   Unnamed: 0.4                                        8279 non-null   int64  \n",
      " 2   Unnamed: 0.3                                        8279 non-null   int64  \n",
      " 3   Unnamed: 0.2                                        8279 non-null   int64  \n",
      " 4   Unnamed: 0.1                                        8279 non-null   int64  \n",
      " 5   Unnamed: 0                                          8279 non-null   int64  \n",
      " 6   date                                                8279 non-null   object \n",
      " 7   rougher.input.feed_au                               8279 non-null   float64\n",
      " 8   rougher.input.feed_ag                               8279 non-null   float64\n",
      " 9   rougher.input.feed_pb                               8216 non-null   float64\n",
      " 10  rougher.input.feed_sol                              8238 non-null   float64\n",
      " 11  rougher.input.feed_rate                             8272 non-null   float64\n",
      " 12  rougher.input.feed_size                             8273 non-null   float64\n",
      " 13  rougher.input.floatbank10_sulfate                   8251 non-null   float64\n",
      " 14  rougher.input.floatbank10_xanthate                  8272 non-null   float64\n",
      " 15  rougher.state.floatbank10_a_air                     8279 non-null   float64\n",
      " 16  rougher.state.floatbank10_a_level                   8279 non-null   float64\n",
      " 17  rougher.state.floatbank10_b_air                     8279 non-null   float64\n",
      " 18  rougher.state.floatbank10_b_level                   8279 non-null   float64\n",
      " 19  rougher.state.floatbank10_c_air                     8279 non-null   float64\n",
      " 20  rougher.state.floatbank10_c_level                   8279 non-null   float64\n",
      " 21  rougher.state.floatbank10_d_air                     8279 non-null   float64\n",
      " 22  rougher.state.floatbank10_d_level                   8279 non-null   float64\n",
      " 23  rougher.state.floatbank10_e_air                     7850 non-null   float64\n",
      " 24  rougher.state.floatbank10_e_level                   8279 non-null   float64\n",
      " 25  rougher.state.floatbank10_f_air                     8279 non-null   float64\n",
      " 26  rougher.state.floatbank10_f_level                   8279 non-null   float64\n",
      " 27  rougher.input.floatbank11_sulfate                   8246 non-null   float64\n",
      " 28  rougher.input.floatbank11_xanthate                  7887 non-null   float64\n",
      " 29  rougher.calculation.sulfate_to_au_concentrate       8278 non-null   float64\n",
      " 30  rougher.calculation.floatbank10_sulfate_to_au_feed  8278 non-null   float64\n",
      " 31  rougher.calculation.floatbank11_sulfate_to_au_feed  8278 non-null   float64\n",
      " 32  rougher.calculation.au_pb_ratio                     8279 non-null   float64\n",
      " 33  rougher.output.concentrate_au                       8279 non-null   float64\n",
      " 34  rougher.output.concentrate_ag                       8279 non-null   float64\n",
      " 35  rougher.output.concentrate_pb                       8279 non-null   float64\n",
      " 36  rougher.output.concentrate_sol                      8266 non-null   float64\n",
      " 37  rougher.output.recovery                             8279 non-null   float64\n",
      " 38  rougher.output.tail_au                              8279 non-null   float64\n",
      " 39  rougher.output.tail_ag                              8279 non-null   float64\n",
      " 40  rougher.output.tail_pb                              8279 non-null   float64\n",
      " 41  rougher.output.tail_sol                             8279 non-null   float64\n",
      " 42  primary_cleaner.input.sulfate                       8262 non-null   float64\n",
      " 43  primary_cleaner.input.depressant                    8264 non-null   float64\n",
      " 44  primary_cleaner.input.feed_size                     8279 non-null   float64\n",
      " 45  primary_cleaner.input.xanthate                      8231 non-null   float64\n",
      " 46  primary_cleaner.state.floatbank8_a_air              8276 non-null   float64\n",
      " 47  primary_cleaner.state.floatbank8_a_level            8279 non-null   float64\n",
      " 48  primary_cleaner.state.floatbank8_b_air              8276 non-null   float64\n",
      " 49  primary_cleaner.state.floatbank8_b_level            8279 non-null   float64\n",
      " 50  primary_cleaner.state.floatbank8_c_air              8279 non-null   float64\n",
      " 51  primary_cleaner.state.floatbank8_c_level            8279 non-null   float64\n",
      " 52  primary_cleaner.state.floatbank8_d_air              8279 non-null   float64\n",
      " 53  primary_cleaner.state.floatbank8_d_level            8279 non-null   float64\n",
      " 54  primary_cleaner.output.concentrate_au               8279 non-null   float64\n",
      " 55  primary_cleaner.output.concentrate_ag               8279 non-null   float64\n",
      " 56  primary_cleaner.output.concentrate_pb               8238 non-null   float64\n",
      " 57  primary_cleaner.output.concentrate_sol              8105 non-null   float64\n",
      " 58  primary_cleaner.output.tail_au                      8279 non-null   float64\n",
      " 59  primary_cleaner.output.tail_ag                      8276 non-null   float64\n",
      " 60  primary_cleaner.output.tail_pb                      8276 non-null   float64\n",
      " 61  primary_cleaner.output.tail_sol                     8244 non-null   float64\n",
      " 62  secondary_cleaner.state.floatbank2_a_air            8185 non-null   float64\n",
      " 63  secondary_cleaner.state.floatbank2_a_level          8279 non-null   float64\n",
      " 64  secondary_cleaner.state.floatbank2_b_air            8260 non-null   float64\n",
      " 65  secondary_cleaner.state.floatbank2_b_level          8279 non-null   float64\n",
      " 66  secondary_cleaner.state.floatbank3_a_air            8277 non-null   float64\n",
      " 67  secondary_cleaner.state.floatbank3_a_level          8279 non-null   float64\n",
      " 68  secondary_cleaner.state.floatbank3_b_air            8279 non-null   float64\n",
      " 69  secondary_cleaner.state.floatbank3_b_level          8279 non-null   float64\n",
      " 70  secondary_cleaner.state.floatbank4_a_air            8274 non-null   float64\n",
      " 71  secondary_cleaner.state.floatbank4_a_level          8279 non-null   float64\n",
      " 72  secondary_cleaner.state.floatbank4_b_air            8279 non-null   float64\n",
      " 73  secondary_cleaner.state.floatbank4_b_level          8279 non-null   float64\n",
      " 74  secondary_cleaner.state.floatbank5_a_air            8279 non-null   float64\n",
      " 75  secondary_cleaner.state.floatbank5_a_level          8279 non-null   float64\n",
      " 76  secondary_cleaner.state.floatbank5_b_air            8279 non-null   float64\n",
      " 77  secondary_cleaner.state.floatbank5_b_level          8279 non-null   float64\n",
      " 78  secondary_cleaner.state.floatbank6_a_air            8278 non-null   float64\n",
      " 79  secondary_cleaner.state.floatbank6_a_level          8279 non-null   float64\n",
      " 80  secondary_cleaner.output.tail_au                    8279 non-null   float64\n",
      " 81  secondary_cleaner.output.tail_ag                    8279 non-null   float64\n",
      " 82  secondary_cleaner.output.tail_pb                    8276 non-null   float64\n",
      " 83  secondary_cleaner.output.tail_sol                   7376 non-null   float64\n",
      " 84  final.output.concentrate_au                         8279 non-null   float64\n",
      " 85  final.output.concentrate_ag                         8279 non-null   float64\n",
      " 86  final.output.concentrate_pb                         8279 non-null   float64\n",
      " 87  final.output.concentrate_sol                        8279 non-null   float64\n",
      " 88  final.output.recovery                               8279 non-null   float64\n",
      " 89  final.output.tail_au                                8279 non-null   float64\n",
      " 90  final.output.tail_ag                                8278 non-null   float64\n",
      " 91  final.output.tail_pb                                8211 non-null   float64\n",
      " 92  final.output.tail_sol                               8275 non-null   float64\n",
      "dtypes: float64(86), int64(6), object(1)\n",
      "memory usage: 5.9+ MB\n"
     ]
    }
   ],
   "source": [
    "data_train.info()"
   ]
  },
  {
   "cell_type": "markdown",
   "metadata": {},
   "source": [
    "Название и типы колонок, соответствуют нашим требованиям. Также в таблице присутствуют пропуски и колонки которые не потребуются для обучения моделей. Так же присутствует колонка `date` которая также не потребуется для обучения. Сначала посмотрим на пропуски."
   ]
  },
  {
   "cell_type": "code",
   "execution_count": 8,
   "metadata": {},
   "outputs": [
    {
     "name": "stdout",
     "output_type": "stream",
     "text": [
      "Колличество всех пропусков 2464\n"
     ]
    },
    {
     "data": {
      "text/plain": [
       "rougher.input.feed_pb                                  63\n",
       "rougher.input.feed_sol                                 41\n",
       "rougher.input.feed_rate                                 7\n",
       "rougher.input.feed_size                                 6\n",
       "rougher.input.floatbank10_sulfate                      28\n",
       "rougher.input.floatbank10_xanthate                      7\n",
       "rougher.state.floatbank10_e_air                       429\n",
       "rougher.input.floatbank11_sulfate                      33\n",
       "rougher.input.floatbank11_xanthate                    392\n",
       "rougher.calculation.sulfate_to_au_concentrate           1\n",
       "rougher.calculation.floatbank10_sulfate_to_au_feed      1\n",
       "rougher.calculation.floatbank11_sulfate_to_au_feed      1\n",
       "rougher.output.concentrate_sol                         13\n",
       "primary_cleaner.input.sulfate                          17\n",
       "primary_cleaner.input.depressant                       15\n",
       "primary_cleaner.input.xanthate                         48\n",
       "primary_cleaner.state.floatbank8_a_air                  3\n",
       "primary_cleaner.state.floatbank8_b_air                  3\n",
       "primary_cleaner.output.concentrate_pb                  41\n",
       "primary_cleaner.output.concentrate_sol                174\n",
       "primary_cleaner.output.tail_ag                          3\n",
       "primary_cleaner.output.tail_pb                          3\n",
       "primary_cleaner.output.tail_sol                        35\n",
       "secondary_cleaner.state.floatbank2_a_air               94\n",
       "secondary_cleaner.state.floatbank2_b_air               19\n",
       "secondary_cleaner.state.floatbank3_a_air                2\n",
       "secondary_cleaner.state.floatbank4_a_air                5\n",
       "secondary_cleaner.state.floatbank6_a_air                1\n",
       "secondary_cleaner.output.tail_pb                        3\n",
       "secondary_cleaner.output.tail_sol                     903\n",
       "final.output.tail_ag                                    1\n",
       "final.output.tail_pb                                   68\n",
       "final.output.tail_sol                                   4\n",
       "dtype: int64"
      ]
     },
     "execution_count": 8,
     "metadata": {},
     "output_type": "execute_result"
    }
   ],
   "source": [
    "#Вывод всех колонок с пропусками и их общее количество.\n",
    "print('Колличество всех пропусков',\n",
    "      data_train.isna().sum()[(data_train.isna().sum()>0)].sum())\n",
    "data_train.isna().sum()[(data_train.isna().sum()>0)]"
   ]
  },
  {
   "cell_type": "markdown",
   "metadata": {},
   "source": [
    "Пропусков достаточно большое количество. И находятся они в 62 колонках. Удалять их будет неправильным, так как потеря такого большого количества данных будет ошибкой. Но их нужно запонить так как обучить модель с пропусками в данных не получится. Ноперед тем как заполнять их стоит исключить из обучающей выборки все ненужные колонки, которые отсутствуют в выборке для теста, а также сохраним колонки с целевыми признаками."
   ]
  },
  {
   "cell_type": "code",
   "execution_count": 9,
   "metadata": {},
   "outputs": [
    {
     "name": "stdout",
     "output_type": "stream",
     "text": [
      "Колличество колонок в обучающей выборке 55\n",
      "Количество колонок в тестовой выборке 53\n"
     ]
    }
   ],
   "source": [
    "#Создаем список со всеми необходимыми колонками\n",
    "columns_for_train = list(data_test.columns)\n",
    "columns_for_train.extend(['final.output.recovery',\n",
    "                        'rougher.output.recovery'])\n",
    "print('Колличество колонок в обучающей выборке', len(columns_for_train))\n",
    "print('Количество колонок в тестовой выборке', data_test.shape[1])"
   ]
  },
  {
   "cell_type": "markdown",
   "metadata": {},
   "source": [
    "Получится что в новой обучающей выборке будет ровно на два целевых признака больше, что нам и нужно. Теперь исключим данные колонки из выборки, а также удалим колонку с датой."
   ]
  },
  {
   "cell_type": "code",
   "execution_count": 10,
   "metadata": {},
   "outputs": [
    {
     "data": {
      "text/html": [
       "<div>\n",
       "<style scoped>\n",
       "    .dataframe tbody tr th:only-of-type {\n",
       "        vertical-align: middle;\n",
       "    }\n",
       "\n",
       "    .dataframe tbody tr th {\n",
       "        vertical-align: top;\n",
       "    }\n",
       "\n",
       "    .dataframe thead th {\n",
       "        text-align: right;\n",
       "    }\n",
       "</style>\n",
       "<table border=\"1\" class=\"dataframe\">\n",
       "  <thead>\n",
       "    <tr style=\"text-align: right;\">\n",
       "      <th></th>\n",
       "      <th>rougher.input.feed_au</th>\n",
       "      <th>rougher.input.feed_ag</th>\n",
       "      <th>rougher.input.feed_pb</th>\n",
       "      <th>rougher.input.feed_sol</th>\n",
       "      <th>rougher.input.feed_rate</th>\n",
       "      <th>rougher.input.feed_size</th>\n",
       "      <th>rougher.input.floatbank10_sulfate</th>\n",
       "      <th>rougher.input.floatbank10_xanthate</th>\n",
       "      <th>rougher.state.floatbank10_a_air</th>\n",
       "      <th>rougher.state.floatbank10_a_level</th>\n",
       "      <th>...</th>\n",
       "      <th>secondary_cleaner.state.floatbank4_b_air</th>\n",
       "      <th>secondary_cleaner.state.floatbank4_b_level</th>\n",
       "      <th>secondary_cleaner.state.floatbank5_a_air</th>\n",
       "      <th>secondary_cleaner.state.floatbank5_a_level</th>\n",
       "      <th>secondary_cleaner.state.floatbank5_b_air</th>\n",
       "      <th>secondary_cleaner.state.floatbank5_b_level</th>\n",
       "      <th>secondary_cleaner.state.floatbank6_a_air</th>\n",
       "      <th>secondary_cleaner.state.floatbank6_a_level</th>\n",
       "      <th>final.output.recovery</th>\n",
       "      <th>rougher.output.recovery</th>\n",
       "    </tr>\n",
       "  </thead>\n",
       "  <tbody>\n",
       "    <tr>\n",
       "      <th>0</th>\n",
       "      <td>10.541454</td>\n",
       "      <td>10.655165</td>\n",
       "      <td>3.991062</td>\n",
       "      <td>28.612776</td>\n",
       "      <td>354.617046</td>\n",
       "      <td>40.305708</td>\n",
       "      <td>11.449669</td>\n",
       "      <td>5.157384</td>\n",
       "      <td>1493.707771</td>\n",
       "      <td>-300.000292</td>\n",
       "      <td>...</td>\n",
       "      <td>23.038878</td>\n",
       "      <td>-400.267771</td>\n",
       "      <td>23.048501</td>\n",
       "      <td>-453.024673</td>\n",
       "      <td>19.991403</td>\n",
       "      <td>-450.697855</td>\n",
       "      <td>25.014363</td>\n",
       "      <td>-599.692088</td>\n",
       "      <td>43.216713</td>\n",
       "      <td>84.814586</td>\n",
       "    </tr>\n",
       "    <tr>\n",
       "      <th>1</th>\n",
       "      <td>10.218859</td>\n",
       "      <td>10.589197</td>\n",
       "      <td>3.815051</td>\n",
       "      <td>36.029721</td>\n",
       "      <td>386.602632</td>\n",
       "      <td>44.405363</td>\n",
       "      <td>12.000902</td>\n",
       "      <td>5.501515</td>\n",
       "      <td>1499.749342</td>\n",
       "      <td>-299.946860</td>\n",
       "      <td>...</td>\n",
       "      <td>23.018276</td>\n",
       "      <td>-400.321568</td>\n",
       "      <td>22.999819</td>\n",
       "      <td>-448.101512</td>\n",
       "      <td>20.000746</td>\n",
       "      <td>-449.877079</td>\n",
       "      <td>25.019034</td>\n",
       "      <td>-598.135381</td>\n",
       "      <td>54.303094</td>\n",
       "      <td>86.013484</td>\n",
       "    </tr>\n",
       "    <tr>\n",
       "      <th>2</th>\n",
       "      <td>10.251907</td>\n",
       "      <td>10.459074</td>\n",
       "      <td>3.848392</td>\n",
       "      <td>36.780163</td>\n",
       "      <td>414.800822</td>\n",
       "      <td>47.540082</td>\n",
       "      <td>12.999204</td>\n",
       "      <td>5.931941</td>\n",
       "      <td>1499.003673</td>\n",
       "      <td>-300.479294</td>\n",
       "      <td>...</td>\n",
       "      <td>22.950066</td>\n",
       "      <td>-400.041434</td>\n",
       "      <td>23.020168</td>\n",
       "      <td>-448.204864</td>\n",
       "      <td>20.004751</td>\n",
       "      <td>-449.997049</td>\n",
       "      <td>25.013455</td>\n",
       "      <td>-597.959874</td>\n",
       "      <td>63.975268</td>\n",
       "      <td>87.457294</td>\n",
       "    </tr>\n",
       "    <tr>\n",
       "      <th>3</th>\n",
       "      <td>9.958958</td>\n",
       "      <td>9.987284</td>\n",
       "      <td>3.834882</td>\n",
       "      <td>38.910239</td>\n",
       "      <td>415.690381</td>\n",
       "      <td>51.634926</td>\n",
       "      <td>13.011036</td>\n",
       "      <td>6.017776</td>\n",
       "      <td>1499.098285</td>\n",
       "      <td>-300.144037</td>\n",
       "      <td>...</td>\n",
       "      <td>23.003890</td>\n",
       "      <td>-399.670796</td>\n",
       "      <td>22.983392</td>\n",
       "      <td>-450.346822</td>\n",
       "      <td>20.014109</td>\n",
       "      <td>-449.705197</td>\n",
       "      <td>25.016112</td>\n",
       "      <td>-501.003741</td>\n",
       "      <td>61.927558</td>\n",
       "      <td>87.394321</td>\n",
       "    </tr>\n",
       "    <tr>\n",
       "      <th>4</th>\n",
       "      <td>9.853358</td>\n",
       "      <td>9.774808</td>\n",
       "      <td>3.850639</td>\n",
       "      <td>38.667543</td>\n",
       "      <td>418.217465</td>\n",
       "      <td>54.556275</td>\n",
       "      <td>12.995792</td>\n",
       "      <td>6.198225</td>\n",
       "      <td>1502.699684</td>\n",
       "      <td>-300.065897</td>\n",
       "      <td>...</td>\n",
       "      <td>23.016138</td>\n",
       "      <td>-400.373036</td>\n",
       "      <td>22.974736</td>\n",
       "      <td>-449.598448</td>\n",
       "      <td>19.997314</td>\n",
       "      <td>-450.051142</td>\n",
       "      <td>24.984056</td>\n",
       "      <td>-499.606747</td>\n",
       "      <td>61.546846</td>\n",
       "      <td>86.448262</td>\n",
       "    </tr>\n",
       "  </tbody>\n",
       "</table>\n",
       "<p>5 rows × 54 columns</p>\n",
       "</div>"
      ],
      "text/plain": [
       "   rougher.input.feed_au  rougher.input.feed_ag  rougher.input.feed_pb  \\\n",
       "0              10.541454              10.655165               3.991062   \n",
       "1              10.218859              10.589197               3.815051   \n",
       "2              10.251907              10.459074               3.848392   \n",
       "3               9.958958               9.987284               3.834882   \n",
       "4               9.853358               9.774808               3.850639   \n",
       "\n",
       "   rougher.input.feed_sol  rougher.input.feed_rate  rougher.input.feed_size  \\\n",
       "0               28.612776               354.617046                40.305708   \n",
       "1               36.029721               386.602632                44.405363   \n",
       "2               36.780163               414.800822                47.540082   \n",
       "3               38.910239               415.690381                51.634926   \n",
       "4               38.667543               418.217465                54.556275   \n",
       "\n",
       "   rougher.input.floatbank10_sulfate  rougher.input.floatbank10_xanthate  \\\n",
       "0                          11.449669                            5.157384   \n",
       "1                          12.000902                            5.501515   \n",
       "2                          12.999204                            5.931941   \n",
       "3                          13.011036                            6.017776   \n",
       "4                          12.995792                            6.198225   \n",
       "\n",
       "   rougher.state.floatbank10_a_air  rougher.state.floatbank10_a_level  ...  \\\n",
       "0                      1493.707771                        -300.000292  ...   \n",
       "1                      1499.749342                        -299.946860  ...   \n",
       "2                      1499.003673                        -300.479294  ...   \n",
       "3                      1499.098285                        -300.144037  ...   \n",
       "4                      1502.699684                        -300.065897  ...   \n",
       "\n",
       "   secondary_cleaner.state.floatbank4_b_air  \\\n",
       "0                                 23.038878   \n",
       "1                                 23.018276   \n",
       "2                                 22.950066   \n",
       "3                                 23.003890   \n",
       "4                                 23.016138   \n",
       "\n",
       "   secondary_cleaner.state.floatbank4_b_level  \\\n",
       "0                                 -400.267771   \n",
       "1                                 -400.321568   \n",
       "2                                 -400.041434   \n",
       "3                                 -399.670796   \n",
       "4                                 -400.373036   \n",
       "\n",
       "   secondary_cleaner.state.floatbank5_a_air  \\\n",
       "0                                 23.048501   \n",
       "1                                 22.999819   \n",
       "2                                 23.020168   \n",
       "3                                 22.983392   \n",
       "4                                 22.974736   \n",
       "\n",
       "   secondary_cleaner.state.floatbank5_a_level  \\\n",
       "0                                 -453.024673   \n",
       "1                                 -448.101512   \n",
       "2                                 -448.204864   \n",
       "3                                 -450.346822   \n",
       "4                                 -449.598448   \n",
       "\n",
       "   secondary_cleaner.state.floatbank5_b_air  \\\n",
       "0                                 19.991403   \n",
       "1                                 20.000746   \n",
       "2                                 20.004751   \n",
       "3                                 20.014109   \n",
       "4                                 19.997314   \n",
       "\n",
       "   secondary_cleaner.state.floatbank5_b_level  \\\n",
       "0                                 -450.697855   \n",
       "1                                 -449.877079   \n",
       "2                                 -449.997049   \n",
       "3                                 -449.705197   \n",
       "4                                 -450.051142   \n",
       "\n",
       "   secondary_cleaner.state.floatbank6_a_air  \\\n",
       "0                                 25.014363   \n",
       "1                                 25.019034   \n",
       "2                                 25.013455   \n",
       "3                                 25.016112   \n",
       "4                                 24.984056   \n",
       "\n",
       "   secondary_cleaner.state.floatbank6_a_level  final.output.recovery  \\\n",
       "0                                 -599.692088              43.216713   \n",
       "1                                 -598.135381              54.303094   \n",
       "2                                 -597.959874              63.975268   \n",
       "3                                 -501.003741              61.927558   \n",
       "4                                 -499.606747              61.546846   \n",
       "\n",
       "   rougher.output.recovery  \n",
       "0                84.814586  \n",
       "1                86.013484  \n",
       "2                87.457294  \n",
       "3                87.394321  \n",
       "4                86.448262  \n",
       "\n",
       "[5 rows x 54 columns]"
      ]
     },
     "execution_count": 10,
     "metadata": {},
     "output_type": "execute_result"
    }
   ],
   "source": [
    "#Новый датасет для обучения в сокращенном варианте.\n",
    "data_train_short = data_train[columns_for_train].drop('date',axis=1)\n",
    "data_train_short.head()"
   ]
  },
  {
   "cell_type": "markdown",
   "metadata": {},
   "source": [
    "Теперь разбиремся с пропусками."
   ]
  },
  {
   "cell_type": "code",
   "execution_count": 11,
   "metadata": {
    "scrolled": true
   },
   "outputs": [
    {
     "name": "stdout",
     "output_type": "stream",
     "text": [
      "Колличество всех пропусков 1213\n"
     ]
    },
    {
     "data": {
      "text/plain": [
       "rougher.input.feed_pb                        63\n",
       "rougher.input.feed_sol                       41\n",
       "rougher.input.feed_rate                       7\n",
       "rougher.input.feed_size                       6\n",
       "rougher.input.floatbank10_sulfate            28\n",
       "rougher.input.floatbank10_xanthate            7\n",
       "rougher.state.floatbank10_e_air             429\n",
       "rougher.input.floatbank11_sulfate            33\n",
       "rougher.input.floatbank11_xanthate          392\n",
       "primary_cleaner.input.sulfate                17\n",
       "primary_cleaner.input.depressant             15\n",
       "primary_cleaner.input.xanthate               48\n",
       "primary_cleaner.state.floatbank8_a_air        3\n",
       "primary_cleaner.state.floatbank8_b_air        3\n",
       "secondary_cleaner.state.floatbank2_a_air     94\n",
       "secondary_cleaner.state.floatbank2_b_air     19\n",
       "secondary_cleaner.state.floatbank3_a_air      2\n",
       "secondary_cleaner.state.floatbank4_a_air      5\n",
       "secondary_cleaner.state.floatbank6_a_air      1\n",
       "dtype: int64"
      ]
     },
     "execution_count": 11,
     "metadata": {},
     "output_type": "execute_result"
    }
   ],
   "source": [
    "#Вывод всех колонок с пропусками и их общее количество.\n",
    "print('Колличество всех пропусков',\n",
    "      data_train_short.isna().sum()[(data_train.isna().sum()>0)].sum())\n",
    "data_train_short.isna().sum()[(data_train_short.isna().sum()>0)]"
   ]
  },
  {
   "cell_type": "markdown",
   "metadata": {},
   "source": [
    "Пропусков стало в разы меньше, есть большое количество колонок в которых пропусков очень мало, но также присутствуют колонки с пропусками больше 400 позиций, посмотрим на статистические показатели таких колонок в которых количество пропусков достигает 100 позиций."
   ]
  },
  {
   "cell_type": "code",
   "execution_count": 12,
   "metadata": {},
   "outputs": [
    {
     "data": {
      "text/html": [
       "<style type=\"text/css\">\n",
       "</style>\n",
       "<table id=\"T_9e88e\">\n",
       "  <thead>\n",
       "    <tr>\n",
       "      <th class=\"blank level0\" >&nbsp;</th>\n",
       "      <th id=\"T_9e88e_level0_col0\" class=\"col_heading level0 col0\" >primary_cleaner.input.xanthate</th>\n",
       "      <th id=\"T_9e88e_level0_col1\" class=\"col_heading level0 col1\" >rougher.input.feed_pb</th>\n",
       "      <th id=\"T_9e88e_level0_col2\" class=\"col_heading level0 col2\" >rougher.input.feed_size</th>\n",
       "      <th id=\"T_9e88e_level0_col3\" class=\"col_heading level0 col3\" >rougher.input.floatbank11_xanthate</th>\n",
       "      <th id=\"T_9e88e_level0_col4\" class=\"col_heading level0 col4\" >rougher.state.floatbank10_e_air</th>\n",
       "      <th id=\"T_9e88e_level0_col5\" class=\"col_heading level0 col5\" >secondary_cleaner.state.floatbank2_a_air</th>\n",
       "    </tr>\n",
       "  </thead>\n",
       "  <tbody>\n",
       "    <tr>\n",
       "      <th id=\"T_9e88e_level0_row0\" class=\"row_heading level0 row0\" >mean</th>\n",
       "      <td id=\"T_9e88e_row0_col0\" class=\"data row0 col0\" >1.09</td>\n",
       "      <td id=\"T_9e88e_row0_col1\" class=\"data row0 col1\" >3.86</td>\n",
       "      <td id=\"T_9e88e_row0_col2\" class=\"data row0 col2\" >64.93</td>\n",
       "      <td id=\"T_9e88e_row0_col3\" class=\"data row0 col3\" >6.06</td>\n",
       "      <td id=\"T_9e88e_row0_col4\" class=\"data row0 col4\" >1,022.33</td>\n",
       "      <td id=\"T_9e88e_row0_col5\" class=\"data row0 col5\" >29.66</td>\n",
       "    </tr>\n",
       "    <tr>\n",
       "      <th id=\"T_9e88e_level0_row1\" class=\"row_heading level0 row1\" >min</th>\n",
       "      <td id=\"T_9e88e_row1_col0\" class=\"data row1 col0\" >0.00</td>\n",
       "      <td id=\"T_9e88e_row1_col1\" class=\"data row1 col1\" >0.01</td>\n",
       "      <td id=\"T_9e88e_row1_col2\" class=\"data row1 col2\" >0.05</td>\n",
       "      <td id=\"T_9e88e_row1_col3\" class=\"data row1 col3\" >0.00</td>\n",
       "      <td id=\"T_9e88e_row1_col4\" class=\"data row1 col4\" >-1.98</td>\n",
       "      <td id=\"T_9e88e_row1_col5\" class=\"data row1 col5\" >0.14</td>\n",
       "    </tr>\n",
       "    <tr>\n",
       "      <th id=\"T_9e88e_level0_row2\" class=\"row_heading level0 row2\" >max</th>\n",
       "      <td id=\"T_9e88e_row2_col0\" class=\"data row2 col0\" >4.10</td>\n",
       "      <td id=\"T_9e88e_row2_col1\" class=\"data row2 col1\" >7.05</td>\n",
       "      <td id=\"T_9e88e_row2_col2\" class=\"data row2 col2\" >484.97</td>\n",
       "      <td id=\"T_9e88e_row2_col3\" class=\"data row2 col3\" >9.30</td>\n",
       "      <td id=\"T_9e88e_row2_col4\" class=\"data row2 col4\" >1,922.64</td>\n",
       "      <td id=\"T_9e88e_row2_col5\" class=\"data row2 col5\" >52.65</td>\n",
       "    </tr>\n",
       "    <tr>\n",
       "      <th id=\"T_9e88e_level0_row3\" class=\"row_heading level0 row3\" >median</th>\n",
       "      <td id=\"T_9e88e_row3_col0\" class=\"data row3 col0\" >0.99</td>\n",
       "      <td id=\"T_9e88e_row3_col1\" class=\"data row3 col1\" >3.77</td>\n",
       "      <td id=\"T_9e88e_row3_col2\" class=\"data row3 col2\" >58.72</td>\n",
       "      <td id=\"T_9e88e_row3_col3\" class=\"data row3 col3\" >6.20</td>\n",
       "      <td id=\"T_9e88e_row3_col4\" class=\"data row3 col4\" >1,000.30</td>\n",
       "      <td id=\"T_9e88e_row3_col5\" class=\"data row3 col5\" >30.03</td>\n",
       "    </tr>\n",
       "  </tbody>\n",
       "</table>\n"
      ],
      "text/plain": [
       "<pandas.io.formats.style.Styler at 0x20d9434a4c0>"
      ]
     },
     "execution_count": 12,
     "metadata": {},
     "output_type": "execute_result"
    }
   ],
   "source": [
    "(\n",
    "    data_train_short[['primary_cleaner.input.xanthate', \n",
    "                'rougher.input.feed_pb',\n",
    "                'rougher.input.feed_size', \n",
    "                'rougher.input.floatbank11_xanthate', \n",
    "                'rougher.state.floatbank10_e_air', \n",
    "                'secondary_cleaner.state.floatbank2_a_air',]\n",
    "              ]\n",
    "    .apply (['mean', 'min', 'max', 'median'])   \n",
    "    .style.format(\"{:,.2f}\")\n",
    ")\n"
   ]
  },
  {
   "cell_type": "markdown",
   "metadata": {},
   "source": [
    "Видно что в данных колонках, медиана и среднее арифметическое практически равны. Построим гистограммы, для дальнейшего отслеживания статических параметров колонок."
   ]
  },
  {
   "cell_type": "code",
   "execution_count": 13,
   "metadata": {
    "scrolled": true
   },
   "outputs": [
    {
     "data": {
      "image/png": "[encoded data removed]",
      "text/plain": [
       "<Figure size 720x720 with 6 Axes>"
      ]
     },
     "metadata": {
      "needs_background": "light"
     },
     "output_type": "display_data"
    }
   ],
   "source": [
    "data_train_short[['primary_cleaner.input.xanthate', \n",
    "                'rougher.input.feed_pb',\n",
    "                'rougher.input.feed_size', \n",
    "                'rougher.input.floatbank11_xanthate', \n",
    "                'rougher.state.floatbank10_e_air', \n",
    "                'secondary_cleaner.state.floatbank2_a_air']].hist(figsize=(10,10));"
   ]
  },
  {
   "cell_type": "markdown",
   "metadata": {},
   "source": [
    "Графики построенны, теперь заполним пропуски меданным значением соответствующих колонок, а после посмотрим насколько изменились графики и метрики."
   ]
  },
  {
   "cell_type": "code",
   "execution_count": 14,
   "metadata": {},
   "outputs": [
    {
     "name": "stdout",
     "output_type": "stream",
     "text": [
      "Колличество всех пропусков 181\n"
     ]
    }
   ],
   "source": [
    "for i in ['primary_cleaner.input.xanthate', \n",
    "          'rougher.input.feed_pb',\n",
    "          'rougher.input.feed_size', \n",
    "          'rougher.input.floatbank11_xanthate', \n",
    "          'rougher.state.floatbank10_e_air', \n",
    "          'secondary_cleaner.state.floatbank2_a_air']:\n",
    "    \n",
    "    data_train_short[i] = data_train_short[i].fillna(data_train_short[i].median())\n",
    "print('Колличество всех пропусков',\n",
    "      data_train_short.isna().sum()[(data_train_short.isna().sum()>0)].sum())"
   ]
  },
  {
   "cell_type": "markdown",
   "metadata": {},
   "source": [
    "Колличество пропусков заметно уменьшилось. Посмотрим как это повлияло на наши данные."
   ]
  },
  {
   "cell_type": "code",
   "execution_count": 15,
   "metadata": {},
   "outputs": [
    {
     "data": {
      "text/html": [
       "<style type=\"text/css\">\n",
       "</style>\n",
       "<table id=\"T_0cd9d\">\n",
       "  <thead>\n",
       "    <tr>\n",
       "      <th class=\"blank level0\" >&nbsp;</th>\n",
       "      <th id=\"T_0cd9d_level0_col0\" class=\"col_heading level0 col0\" >primary_cleaner.input.xanthate</th>\n",
       "      <th id=\"T_0cd9d_level0_col1\" class=\"col_heading level0 col1\" >rougher.input.feed_pb</th>\n",
       "      <th id=\"T_0cd9d_level0_col2\" class=\"col_heading level0 col2\" >rougher.input.feed_size</th>\n",
       "      <th id=\"T_0cd9d_level0_col3\" class=\"col_heading level0 col3\" >rougher.input.floatbank11_xanthate</th>\n",
       "      <th id=\"T_0cd9d_level0_col4\" class=\"col_heading level0 col4\" >rougher.state.floatbank10_e_air</th>\n",
       "      <th id=\"T_0cd9d_level0_col5\" class=\"col_heading level0 col5\" >secondary_cleaner.state.floatbank2_a_air</th>\n",
       "    </tr>\n",
       "  </thead>\n",
       "  <tbody>\n",
       "    <tr>\n",
       "      <th id=\"T_0cd9d_level0_row0\" class=\"row_heading level0 row0\" >mean</th>\n",
       "      <td id=\"T_0cd9d_row0_col0\" class=\"data row0 col0\" >1.09</td>\n",
       "      <td id=\"T_0cd9d_row0_col1\" class=\"data row0 col1\" >3.86</td>\n",
       "      <td id=\"T_0cd9d_row0_col2\" class=\"data row0 col2\" >64.92</td>\n",
       "      <td id=\"T_0cd9d_row0_col3\" class=\"data row0 col3\" >6.06</td>\n",
       "      <td id=\"T_0cd9d_row0_col4\" class=\"data row0 col4\" >1,021.19</td>\n",
       "      <td id=\"T_0cd9d_row0_col5\" class=\"data row0 col5\" >29.67</td>\n",
       "    </tr>\n",
       "    <tr>\n",
       "      <th id=\"T_0cd9d_level0_row1\" class=\"row_heading level0 row1\" >min</th>\n",
       "      <td id=\"T_0cd9d_row1_col0\" class=\"data row1 col0\" >0.00</td>\n",
       "      <td id=\"T_0cd9d_row1_col1\" class=\"data row1 col1\" >0.01</td>\n",
       "      <td id=\"T_0cd9d_row1_col2\" class=\"data row1 col2\" >0.05</td>\n",
       "      <td id=\"T_0cd9d_row1_col3\" class=\"data row1 col3\" >0.00</td>\n",
       "      <td id=\"T_0cd9d_row1_col4\" class=\"data row1 col4\" >-1.98</td>\n",
       "      <td id=\"T_0cd9d_row1_col5\" class=\"data row1 col5\" >0.14</td>\n",
       "    </tr>\n",
       "    <tr>\n",
       "      <th id=\"T_0cd9d_level0_row2\" class=\"row_heading level0 row2\" >max</th>\n",
       "      <td id=\"T_0cd9d_row2_col0\" class=\"data row2 col0\" >4.10</td>\n",
       "      <td id=\"T_0cd9d_row2_col1\" class=\"data row2 col1\" >7.05</td>\n",
       "      <td id=\"T_0cd9d_row2_col2\" class=\"data row2 col2\" >484.97</td>\n",
       "      <td id=\"T_0cd9d_row2_col3\" class=\"data row2 col3\" >9.30</td>\n",
       "      <td id=\"T_0cd9d_row2_col4\" class=\"data row2 col4\" >1,922.64</td>\n",
       "      <td id=\"T_0cd9d_row2_col5\" class=\"data row2 col5\" >52.65</td>\n",
       "    </tr>\n",
       "    <tr>\n",
       "      <th id=\"T_0cd9d_level0_row3\" class=\"row_heading level0 row3\" >median</th>\n",
       "      <td id=\"T_0cd9d_row3_col0\" class=\"data row3 col0\" >0.99</td>\n",
       "      <td id=\"T_0cd9d_row3_col1\" class=\"data row3 col1\" >3.77</td>\n",
       "      <td id=\"T_0cd9d_row3_col2\" class=\"data row3 col2\" >58.72</td>\n",
       "      <td id=\"T_0cd9d_row3_col3\" class=\"data row3 col3\" >6.20</td>\n",
       "      <td id=\"T_0cd9d_row3_col4\" class=\"data row3 col4\" >1,000.30</td>\n",
       "      <td id=\"T_0cd9d_row3_col5\" class=\"data row3 col5\" >30.03</td>\n",
       "    </tr>\n",
       "  </tbody>\n",
       "</table>\n"
      ],
      "text/plain": [
       "<pandas.io.formats.style.Styler at 0x20d956d5fd0>"
      ]
     },
     "execution_count": 15,
     "metadata": {},
     "output_type": "execute_result"
    }
   ],
   "source": [
    "(\n",
    "    data_train_short[['primary_cleaner.input.xanthate', \n",
    "                'rougher.input.feed_pb',\n",
    "                'rougher.input.feed_size', \n",
    "                'rougher.input.floatbank11_xanthate', \n",
    "                'rougher.state.floatbank10_e_air', \n",
    "                'secondary_cleaner.state.floatbank2_a_air',]\n",
    "              ]\n",
    "    .apply (['mean', 'min', 'max', 'median'])   \n",
    "    .style.format(\"{:,.2f}\")\n",
    ")\n"
   ]
  },
  {
   "cell_type": "markdown",
   "metadata": {},
   "source": [
    "По статистическим характеристикам, все хорошо, сильных искажений по параметром замеченно не было. Посмотрим на гистограммы."
   ]
  },
  {
   "cell_type": "code",
   "execution_count": 16,
   "metadata": {
    "scrolled": true
   },
   "outputs": [
    {
     "data": {
      "image/png": "[encoded data removed]",
      "text/plain": [
       "<Figure size 720x720 with 6 Axes>"
      ]
     },
     "metadata": {
      "needs_background": "light"
     },
     "output_type": "display_data"
    }
   ],
   "source": [
    "data_train_short[['primary_cleaner.input.xanthate', \n",
    "                'rougher.input.feed_pb',\n",
    "                'rougher.input.feed_size', \n",
    "                'rougher.input.floatbank11_xanthate', \n",
    "                'rougher.state.floatbank10_e_air', \n",
    "                'secondary_cleaner.state.floatbank2_a_air']].hist(figsize=(10,10));"
   ]
  },
  {
   "cell_type": "markdown",
   "metadata": {},
   "source": [
    "Видно небольшое увеличесние в районе средних значений, но заполнение данными значениями не привело к сильному искажению картинки и изменению порядков значений характеристик. Оставим такое заполнение. Остальные же заполним нулями, так как их количество слишком мало по сравнению с остальным датасетом."
   ]
  },
  {
   "cell_type": "code",
   "execution_count": 17,
   "metadata": {},
   "outputs": [
    {
     "name": "stdout",
     "output_type": "stream",
     "text": [
      "Колличество всех пропусков 0\n"
     ]
    }
   ],
   "source": [
    "data_train_short = data_train_short.fillna(0)\n",
    "#Проверка\n",
    "print('Колличество всех пропусков',\n",
    "      data_train_short.isna().sum()[(data_train_short.isna().sum()>0)].sum())"
   ]
  },
  {
   "cell_type": "markdown",
   "metadata": {},
   "source": [
    "Проверим датасет на дубликаты."
   ]
  },
  {
   "cell_type": "code",
   "execution_count": 18,
   "metadata": {},
   "outputs": [
    {
     "name": "stdout",
     "output_type": "stream",
     "text": [
      "Количество полных дубликатов 0\n"
     ]
    }
   ],
   "source": [
    "print('Количество полных дубликатов', data_train_short.duplicated().sum())"
   ]
  },
  {
   "cell_type": "markdown",
   "metadata": {},
   "source": [
    "Такие отсутсвуют, приступим к предобработке тестовой выборки."
   ]
  },
  {
   "cell_type": "markdown",
   "metadata": {},
   "source": [
    "__Тестовая выборка__"
   ]
  },
  {
   "cell_type": "markdown",
   "metadata": {},
   "source": [
    "Дейсствуем по аналогии с выборкой для обучения."
   ]
  },
  {
   "cell_type": "code",
   "execution_count": 19,
   "metadata": {
    "scrolled": true
   },
   "outputs": [
    {
     "name": "stdout",
     "output_type": "stream",
     "text": [
      "<class 'pandas.core.frame.DataFrame'>\n",
      "RangeIndex: 4860 entries, 0 to 4859\n",
      "Data columns (total 53 columns):\n",
      " #   Column                                      Non-Null Count  Dtype  \n",
      "---  ------                                      --------------  -----  \n",
      " 0   date                                        4860 non-null   object \n",
      " 1   rougher.input.feed_au                       4860 non-null   float64\n",
      " 2   rougher.input.feed_ag                       4860 non-null   float64\n",
      " 3   rougher.input.feed_pb                       4832 non-null   float64\n",
      " 4   rougher.input.feed_sol                      4838 non-null   float64\n",
      " 5   rougher.input.feed_rate                     4856 non-null   float64\n",
      " 6   rougher.input.feed_size                     4816 non-null   float64\n",
      " 7   rougher.input.floatbank10_sulfate           4857 non-null   float64\n",
      " 8   rougher.input.floatbank10_xanthate          4859 non-null   float64\n",
      " 9   rougher.state.floatbank10_a_air             4859 non-null   float64\n",
      " 10  rougher.state.floatbank10_a_level           4859 non-null   float64\n",
      " 11  rougher.state.floatbank10_b_air             4859 non-null   float64\n",
      " 12  rougher.state.floatbank10_b_level           4859 non-null   float64\n",
      " 13  rougher.state.floatbank10_c_air             4859 non-null   float64\n",
      " 14  rougher.state.floatbank10_c_level           4859 non-null   float64\n",
      " 15  rougher.state.floatbank10_d_air             4860 non-null   float64\n",
      " 16  rougher.state.floatbank10_d_level           4860 non-null   float64\n",
      " 17  rougher.state.floatbank10_e_air             4853 non-null   float64\n",
      " 18  rougher.state.floatbank10_e_level           4860 non-null   float64\n",
      " 19  rougher.state.floatbank10_f_air             4860 non-null   float64\n",
      " 20  rougher.state.floatbank10_f_level           4860 non-null   float64\n",
      " 21  rougher.input.floatbank11_sulfate           4852 non-null   float64\n",
      " 22  rougher.input.floatbank11_xanthate          4814 non-null   float64\n",
      " 23  primary_cleaner.input.sulfate               4859 non-null   float64\n",
      " 24  primary_cleaner.input.depressant            4851 non-null   float64\n",
      " 25  primary_cleaner.input.feed_size             4860 non-null   float64\n",
      " 26  primary_cleaner.input.xanthate              4817 non-null   float64\n",
      " 27  primary_cleaner.state.floatbank8_a_air      4859 non-null   float64\n",
      " 28  primary_cleaner.state.floatbank8_a_level    4859 non-null   float64\n",
      " 29  primary_cleaner.state.floatbank8_b_air      4859 non-null   float64\n",
      " 30  primary_cleaner.state.floatbank8_b_level    4859 non-null   float64\n",
      " 31  primary_cleaner.state.floatbank8_c_air      4858 non-null   float64\n",
      " 32  primary_cleaner.state.floatbank8_c_level    4859 non-null   float64\n",
      " 33  primary_cleaner.state.floatbank8_d_air      4858 non-null   float64\n",
      " 34  primary_cleaner.state.floatbank8_d_level    4859 non-null   float64\n",
      " 35  secondary_cleaner.state.floatbank2_a_air    4734 non-null   float64\n",
      " 36  secondary_cleaner.state.floatbank2_a_level  4859 non-null   float64\n",
      " 37  secondary_cleaner.state.floatbank2_b_air    4859 non-null   float64\n",
      " 38  secondary_cleaner.state.floatbank2_b_level  4859 non-null   float64\n",
      " 39  secondary_cleaner.state.floatbank3_a_air    4859 non-null   float64\n",
      " 40  secondary_cleaner.state.floatbank3_a_level  4859 non-null   float64\n",
      " 41  secondary_cleaner.state.floatbank3_b_air    4859 non-null   float64\n",
      " 42  secondary_cleaner.state.floatbank3_b_level  4859 non-null   float64\n",
      " 43  secondary_cleaner.state.floatbank4_a_air    4859 non-null   float64\n",
      " 44  secondary_cleaner.state.floatbank4_a_level  4859 non-null   float64\n",
      " 45  secondary_cleaner.state.floatbank4_b_air    4859 non-null   float64\n",
      " 46  secondary_cleaner.state.floatbank4_b_level  4859 non-null   float64\n",
      " 47  secondary_cleaner.state.floatbank5_a_air    4859 non-null   float64\n",
      " 48  secondary_cleaner.state.floatbank5_a_level  4859 non-null   float64\n",
      " 49  secondary_cleaner.state.floatbank5_b_air    4859 non-null   float64\n",
      " 50  secondary_cleaner.state.floatbank5_b_level  4859 non-null   float64\n",
      " 51  secondary_cleaner.state.floatbank6_a_air    4859 non-null   float64\n",
      " 52  secondary_cleaner.state.floatbank6_a_level  4859 non-null   float64\n",
      "dtypes: float64(52), object(1)\n",
      "memory usage: 2.0+ MB\n"
     ]
    }
   ],
   "source": [
    "data_test.info()"
   ]
  },
  {
   "cell_type": "markdown",
   "metadata": {},
   "source": [
    "В данной колонке также все хорошо с типами и названиями. Пропуски присутствуют, также необходимо исключить колонку `date`. Но сначала с ее помощью достанем из основного датасета целевые признаки для тестовой выборки. Но сначала проверим уникально ли каждое значение колонки `date`."
   ]
  },
  {
   "cell_type": "code",
   "execution_count": 20,
   "metadata": {},
   "outputs": [
    {
     "name": "stdout",
     "output_type": "stream",
     "text": [
      "Все даты уникальны.\n"
     ]
    }
   ],
   "source": [
    "assert len(data_all.date.unique()) == data_all.shape[0], 'Есть одинаковые даты'\n",
    "print('Все даты уникальны.')"
   ]
  },
  {
   "cell_type": "markdown",
   "metadata": {},
   "source": [
    "Отлично, теперь спокойно можно достать из основного датасета целевые признаки для тестовой выборки."
   ]
  },
  {
   "cell_type": "code",
   "execution_count": 21,
   "metadata": {
    "scrolled": true
   },
   "outputs": [
    {
     "data": {
      "text/html": [
       "<div>\n",
       "<style scoped>\n",
       "    .dataframe tbody tr th:only-of-type {\n",
       "        vertical-align: middle;\n",
       "    }\n",
       "\n",
       "    .dataframe tbody tr th {\n",
       "        vertical-align: top;\n",
       "    }\n",
       "\n",
       "    .dataframe thead th {\n",
       "        text-align: right;\n",
       "    }\n",
       "</style>\n",
       "<table border=\"1\" class=\"dataframe\">\n",
       "  <thead>\n",
       "    <tr style=\"text-align: right;\">\n",
       "      <th></th>\n",
       "      <th>date</th>\n",
       "      <th>rougher.output.recovery</th>\n",
       "      <th>final.output.recovery</th>\n",
       "    </tr>\n",
       "  </thead>\n",
       "  <tbody>\n",
       "    <tr>\n",
       "      <th>0</th>\n",
       "      <td>2017-12-09 14:59:59</td>\n",
       "      <td>89.514960</td>\n",
       "      <td>70.281454</td>\n",
       "    </tr>\n",
       "    <tr>\n",
       "      <th>1</th>\n",
       "      <td>2017-12-09 15:59:59</td>\n",
       "      <td>89.858126</td>\n",
       "      <td>65.523246</td>\n",
       "    </tr>\n",
       "    <tr>\n",
       "      <th>2</th>\n",
       "      <td>2017-12-09 16:59:59</td>\n",
       "      <td>91.816623</td>\n",
       "      <td>74.817644</td>\n",
       "    </tr>\n",
       "    <tr>\n",
       "      <th>3</th>\n",
       "      <td>2017-12-09 17:59:59</td>\n",
       "      <td>88.478959</td>\n",
       "      <td>63.082720</td>\n",
       "    </tr>\n",
       "    <tr>\n",
       "      <th>4</th>\n",
       "      <td>2017-12-09 18:59:59</td>\n",
       "      <td>89.230316</td>\n",
       "      <td>74.463380</td>\n",
       "    </tr>\n",
       "    <tr>\n",
       "      <th>...</th>\n",
       "      <td>...</td>\n",
       "      <td>...</td>\n",
       "      <td>...</td>\n",
       "    </tr>\n",
       "    <tr>\n",
       "      <th>4855</th>\n",
       "      <td>2018-08-18 06:59:59</td>\n",
       "      <td>85.462226</td>\n",
       "      <td>68.786981</td>\n",
       "    </tr>\n",
       "    <tr>\n",
       "      <th>4856</th>\n",
       "      <td>2018-08-18 07:59:59</td>\n",
       "      <td>85.443505</td>\n",
       "      <td>67.839536</td>\n",
       "    </tr>\n",
       "    <tr>\n",
       "      <th>4857</th>\n",
       "      <td>2018-08-18 08:59:59</td>\n",
       "      <td>87.235441</td>\n",
       "      <td>70.847012</td>\n",
       "    </tr>\n",
       "    <tr>\n",
       "      <th>4858</th>\n",
       "      <td>2018-08-18 09:59:59</td>\n",
       "      <td>89.299981</td>\n",
       "      <td>72.659046</td>\n",
       "    </tr>\n",
       "    <tr>\n",
       "      <th>4859</th>\n",
       "      <td>2018-08-18 10:59:59</td>\n",
       "      <td>87.650868</td>\n",
       "      <td>70.279619</td>\n",
       "    </tr>\n",
       "  </tbody>\n",
       "</table>\n",
       "<p>4860 rows × 3 columns</p>\n",
       "</div>"
      ],
      "text/plain": [
       "                     date  rougher.output.recovery  final.output.recovery\n",
       "0     2017-12-09 14:59:59                89.514960              70.281454\n",
       "1     2017-12-09 15:59:59                89.858126              65.523246\n",
       "2     2017-12-09 16:59:59                91.816623              74.817644\n",
       "3     2017-12-09 17:59:59                88.478959              63.082720\n",
       "4     2017-12-09 18:59:59                89.230316              74.463380\n",
       "...                   ...                      ...                    ...\n",
       "4855  2018-08-18 06:59:59                85.462226              68.786981\n",
       "4856  2018-08-18 07:59:59                85.443505              67.839536\n",
       "4857  2018-08-18 08:59:59                87.235441              70.847012\n",
       "4858  2018-08-18 09:59:59                89.299981              72.659046\n",
       "4859  2018-08-18 10:59:59                87.650868              70.279619\n",
       "\n",
       "[4860 rows x 3 columns]"
      ]
     },
     "execution_count": 21,
     "metadata": {},
     "output_type": "execute_result"
    }
   ],
   "source": [
    "# Выбираем только строки с теми же датами что и у тестовой выборки\n",
    "target_test = (data_all.loc[data_all['date'].isin(data_test.date.tolist())][\n",
    "                ['date',\n",
    "                 'rougher.output.recovery', \n",
    "                 'final.output.recovery']  # выбираем только целевые признаки и дату для проверки с тестовой.\n",
    "                                                                            ] \n",
    "               .reset_index(drop=True) # обновляем индексы\n",
    "              )\n",
    "assert target_test.shape[0] == data_test.shape[0], 'Не соответсвует размеру тестовой выборки'\n",
    "target_test"
   ]
  },
  {
   "cell_type": "markdown",
   "metadata": {},
   "source": [
    "По выведенной таблице можно отследить индексы и значение `date`. Теперь посмотрим на индексы и дату в тестовой выборки, чтобы понять правильно ли распределились целевые значения по индексам"
   ]
  },
  {
   "cell_type": "code",
   "execution_count": 22,
   "metadata": {
    "scrolled": true
   },
   "outputs": [
    {
     "data": {
      "text/plain": [
       "0       2017-12-09 14:59:59\n",
       "1       2017-12-09 15:59:59\n",
       "2       2017-12-09 16:59:59\n",
       "3       2017-12-09 17:59:59\n",
       "4       2017-12-09 18:59:59\n",
       "               ...         \n",
       "4855    2018-08-18 06:59:59\n",
       "4856    2018-08-18 07:59:59\n",
       "4857    2018-08-18 08:59:59\n",
       "4858    2018-08-18 09:59:59\n",
       "4859    2018-08-18 10:59:59\n",
       "Name: date, Length: 4860, dtype: object"
      ]
     },
     "execution_count": 22,
     "metadata": {},
     "output_type": "execute_result"
    }
   ],
   "source": [
    "data_test.date"
   ]
  },
  {
   "cell_type": "markdown",
   "metadata": {},
   "source": [
    "Все правильно, теперь можно смело удалить колонку `date` из тестовой выборки и проверить на наличие пропусков."
   ]
  },
  {
   "cell_type": "code",
   "execution_count": 23,
   "metadata": {
    "scrolled": true
   },
   "outputs": [
    {
     "name": "stdout",
     "output_type": "stream",
     "text": [
      "Колличество всех пропусков 375\n"
     ]
    },
    {
     "data": {
      "text/plain": [
       "rougher.input.feed_pb                          28\n",
       "rougher.input.feed_sol                         22\n",
       "rougher.input.feed_rate                         4\n",
       "rougher.input.feed_size                        44\n",
       "rougher.input.floatbank10_sulfate               3\n",
       "rougher.input.floatbank10_xanthate              1\n",
       "rougher.state.floatbank10_a_air                 1\n",
       "rougher.state.floatbank10_a_level               1\n",
       "rougher.state.floatbank10_b_air                 1\n",
       "rougher.state.floatbank10_b_level               1\n",
       "rougher.state.floatbank10_c_air                 1\n",
       "rougher.state.floatbank10_c_level               1\n",
       "rougher.state.floatbank10_e_air                 7\n",
       "rougher.input.floatbank11_sulfate               8\n",
       "rougher.input.floatbank11_xanthate             46\n",
       "primary_cleaner.input.sulfate                   1\n",
       "primary_cleaner.input.depressant                9\n",
       "primary_cleaner.input.xanthate                 43\n",
       "primary_cleaner.state.floatbank8_a_air          1\n",
       "primary_cleaner.state.floatbank8_a_level        1\n",
       "primary_cleaner.state.floatbank8_b_air          1\n",
       "primary_cleaner.state.floatbank8_b_level        1\n",
       "primary_cleaner.state.floatbank8_c_air          2\n",
       "primary_cleaner.state.floatbank8_c_level        1\n",
       "primary_cleaner.state.floatbank8_d_air          2\n",
       "primary_cleaner.state.floatbank8_d_level        1\n",
       "secondary_cleaner.state.floatbank2_a_air      126\n",
       "secondary_cleaner.state.floatbank2_a_level      1\n",
       "secondary_cleaner.state.floatbank2_b_air        1\n",
       "secondary_cleaner.state.floatbank2_b_level      1\n",
       "secondary_cleaner.state.floatbank3_a_air        1\n",
       "secondary_cleaner.state.floatbank3_a_level      1\n",
       "secondary_cleaner.state.floatbank3_b_air        1\n",
       "secondary_cleaner.state.floatbank3_b_level      1\n",
       "secondary_cleaner.state.floatbank4_a_air        1\n",
       "secondary_cleaner.state.floatbank4_a_level      1\n",
       "secondary_cleaner.state.floatbank4_b_air        1\n",
       "secondary_cleaner.state.floatbank4_b_level      1\n",
       "secondary_cleaner.state.floatbank5_a_air        1\n",
       "secondary_cleaner.state.floatbank5_a_level      1\n",
       "secondary_cleaner.state.floatbank5_b_air        1\n",
       "secondary_cleaner.state.floatbank5_b_level      1\n",
       "secondary_cleaner.state.floatbank6_a_air        1\n",
       "secondary_cleaner.state.floatbank6_a_level      1\n",
       "dtype: int64"
      ]
     },
     "execution_count": 23,
     "metadata": {},
     "output_type": "execute_result"
    }
   ],
   "source": [
    "data_test = data_test.drop('date', axis=1)\n",
    "print('Колличество всех пропусков',\n",
    "      data_test.isna().sum()[(data_test.isna().sum()>0)].sum())\n",
    "data_test.isna().sum()[(data_test.isna().sum()>0)]"
   ]
  },
  {
   "cell_type": "raw",
   "metadata": {},
   "source": [
    "Количество пропусков очень мало, учитывая что они распределенны по большому количеству колонок. Заполним их нулями, так как сильно это не повлияет на предсказание модели."
   ]
  },
  {
   "cell_type": "code",
   "execution_count": 24,
   "metadata": {},
   "outputs": [
    {
     "name": "stdout",
     "output_type": "stream",
     "text": [
      "Колличество всех пропусков 0\n"
     ]
    }
   ],
   "source": [
    "data_test = data_test.fillna(0)\n",
    "print('Колличество всех пропусков',\n",
    "      data_test.isna().sum()[(data_test.isna().sum()>0)].sum())"
   ]
  },
  {
   "cell_type": "code",
   "execution_count": 25,
   "metadata": {},
   "outputs": [
    {
     "data": {
      "text/plain": [
       "0"
      ]
     },
     "execution_count": 25,
     "metadata": {},
     "output_type": "execute_result"
    }
   ],
   "source": [
    "data_train.duplicated().sum()"
   ]
  },
  {
   "cell_type": "markdown",
   "metadata": {},
   "source": [
    "Проверим датасет на дубликаты."
   ]
  },
  {
   "cell_type": "code",
   "execution_count": 26,
   "metadata": {},
   "outputs": [
    {
     "name": "stdout",
     "output_type": "stream",
     "text": [
      "Количество полных дубликатов 0\n"
     ]
    }
   ],
   "source": [
    "print('Количество полных дубликатов', data_test.duplicated().sum())"
   ]
  },
  {
   "cell_type": "markdown",
   "metadata": {},
   "source": [
    "Такие отсутсвуют, все данные готовы к дальнейшей работе. "
   ]
  },
  {
   "cell_type": "markdown",
   "metadata": {},
   "source": [
    "__Вывод__  \n",
    "В данной части, были подготовленны две выборки. Были удаленны ненужные колонки и заполненны все пропуски. Для тестовой выборки были отобранны целевые признаки из основного датасета, для тестирования в будующем обученной модели. Также датасеты были проверенны на полные дубликаты. Также был проверен один из ключевых признаков на корректность с помощью метрики `MAE`."
   ]
  },
  {
   "cell_type": "markdown",
   "metadata": {},
   "source": [
    "## Анализ данных"
   ]
  },
  {
   "cell_type": "markdown",
   "metadata": {},
   "source": [
    "Анализ данных будем проводить по датасету со всеми данными, так как обобщенные данные помогут более четко понять зависимости и статистики данных."
   ]
  },
  {
   "cell_type": "markdown",
   "metadata": {},
   "source": [
    "__Для начала посмотрим как менялась концентрация металлов на каждом из этапов отчистки.__"
   ]
  },
  {
   "cell_type": "markdown",
   "metadata": {},
   "source": [
    "Сначала найдем колонки с такими данными."
   ]
  },
  {
   "cell_type": "code",
   "execution_count": 27,
   "metadata": {},
   "outputs": [
    {
     "name": "stdout",
     "output_type": "stream",
     "text": [
      "rougher.input.feed_au\n",
      "rougher.input.feed_ag\n",
      "rougher.input.feed_pb\n",
      "rougher.input.feed_sol\n",
      "rougher.input.feed_rate\n",
      "rougher.input.feed_size\n",
      "rougher.calculation.sulfate_to_au_concentrate\n",
      "rougher.output.concentrate_au\n",
      "rougher.output.concentrate_ag\n",
      "rougher.output.concentrate_pb\n",
      "rougher.output.concentrate_sol\n",
      "primary_cleaner.output.concentrate_au\n",
      "primary_cleaner.output.concentrate_ag\n",
      "primary_cleaner.output.concentrate_pb\n",
      "primary_cleaner.output.concentrate_sol\n",
      "final.output.concentrate_au\n",
      "final.output.concentrate_ag\n",
      "final.output.concentrate_pb\n",
      "final.output.concentrate_sol\n"
     ]
    }
   ],
   "source": [
    "#Выведем все колонки с 'concentrate' в названии, а также 'rougher.input.feed_' для определения сырья для каждого элемента\n",
    "for i in data_all.columns:\n",
    "    if 'concentrate' in i or 'rougher.input.feed_' in i:\n",
    "        print(i)"
   ]
  },
  {
   "cell_type": "markdown",
   "metadata": {},
   "source": [
    "Такие данные присутствует для элементов `ag, pb, sol и au` на каждом из этапов обработки руды, так как рассматриваемый вопрос относится только к металлам, элемент `sol`(Натрий) мы откинем. Также были выведенны ненужные колонки `rougher.calculation.sulfate_to_au_concentrate`, `rougher.input.feed_size` и `rougher.input.feed_rate` для данного исследования."
   ]
  },
  {
   "cell_type": "markdown",
   "metadata": {},
   "source": [
    "Для поставленного вопроса, создадим функцию которая построит график распределения с помощью функции `kdeplot` библиотеки `sns` на каждый этап отчистки, и расчитает общую концентрацию и среднее арифметическое для каждого этапа."
   ]
  },
  {
   "cell_type": "code",
   "execution_count": 28,
   "metadata": {},
   "outputs": [],
   "source": [
    "def graf_concentrate_element(data:'DataFrame', element:str):\n",
    "    \n",
    "    '''Функция берет на вход датафрейм с определенным названием типичных колонок, \n",
    "    также берет второй параметр обозначающий нужный элемент для работы в формате str'''\n",
    "    \n",
    "    try:\n",
    "        #Создаем три переменный для каждого этапа для уменьшения кода\n",
    "        raw_material = 'rougher.input.feed_' + element\n",
    "        rougher = 'rougher.output.concentrate_' + element\n",
    "        primary = 'primary_cleaner.output.concentrate_' + element\n",
    "        final = 'final.output.concentrate_' + element\n",
    "        \n",
    "        #Ресуем три гистограммы для каждого этапа отчистки\n",
    "        \n",
    "        sns.kdeplot(data[raw_material], \n",
    "                    shade=True, \n",
    "                    label='Сырье'\n",
    "                   )\n",
    "        \n",
    "        sns.kdeplot(data[rougher], \n",
    "                    shade=True, \n",
    "                    label='Флотация'\n",
    "                   )\n",
    "        sns.kdeplot(data[primary], \n",
    "                    shade=True,\n",
    "                    label='Первичная отчистка'\n",
    "                   )\n",
    "        sns.kdeplot(data[final], \n",
    "                    shade=True,\n",
    "                    label='Финальная отчистка'\n",
    "                   )\n",
    "\n",
    "       # Оформляем график \n",
    "        plt.title('Концентрация '+element+' на разных этапах отчистки.')\n",
    "        plt.grid()\n",
    "        plt.xlabel('Концентрация')\n",
    "        plt.ylabel('Относительное количество данных по руде')\n",
    "        plt.legend();\n",
    "        \n",
    "        \n",
    "        #Вывести таблицу с общей массой и средним на каждом этапе отчистки\n",
    "        return (data[[raw_material, rougher, primary, final]]\n",
    "                .apply(['sum', 'mean'])\n",
    "                .rename(columns={raw_material:'Сырье',\n",
    "                                  rougher:'Флотация',\n",
    "                                  primary:'Первичная отчситка',\n",
    "                                  final:'Финальная отчистка'},\n",
    "                        index={'sum':'Общий обьем',\n",
    "                               'mean':'Среднее арифметическое'})\n",
    "                )\n",
    "    \n",
    "    except:\n",
    "        return print('Неверные параметры для функции')"
   ]
  },
  {
   "cell_type": "markdown",
   "metadata": {},
   "source": [
    "Функция готова, можно приступать к анализу."
   ]
  },
  {
   "cell_type": "markdown",
   "metadata": {},
   "source": [
    "_Металл `ag` серебро._\n",
    "___"
   ]
  },
  {
   "cell_type": "code",
   "execution_count": 29,
   "metadata": {},
   "outputs": [
    {
     "data": {
      "text/html": [
       "<div>\n",
       "<style scoped>\n",
       "    .dataframe tbody tr th:only-of-type {\n",
       "        vertical-align: middle;\n",
       "    }\n",
       "\n",
       "    .dataframe tbody tr th {\n",
       "        vertical-align: top;\n",
       "    }\n",
       "\n",
       "    .dataframe thead th {\n",
       "        text-align: right;\n",
       "    }\n",
       "</style>\n",
       "<table border=\"1\" class=\"dataframe\">\n",
       "  <thead>\n",
       "    <tr style=\"text-align: right;\">\n",
       "      <th></th>\n",
       "      <th>Сырье</th>\n",
       "      <th>Флотация</th>\n",
       "      <th>Первичная отчситка</th>\n",
       "      <th>Финальная отчистка</th>\n",
       "    </tr>\n",
       "  </thead>\n",
       "  <tbody>\n",
       "    <tr>\n",
       "      <th>Общий обьем</th>\n",
       "      <td>114326.833905</td>\n",
       "      <td>156215.124787</td>\n",
       "      <td>109885.489367</td>\n",
       "      <td>66004.465767</td>\n",
       "    </tr>\n",
       "    <tr>\n",
       "      <th>Среднее арифметическое</th>\n",
       "      <td>8.701334</td>\n",
       "      <td>11.889423</td>\n",
       "      <td>8.363307</td>\n",
       "      <td>5.023553</td>\n",
       "    </tr>\n",
       "  </tbody>\n",
       "</table>\n",
       "</div>"
      ],
      "text/plain": [
       "                                Сырье       Флотация  Первичная отчситка  \\\n",
       "Общий обьем             114326.833905  156215.124787       109885.489367   \n",
       "Среднее арифметическое       8.701334      11.889423            8.363307   \n",
       "\n",
       "                        Финальная отчистка  \n",
       "Общий обьем                   66004.465767  \n",
       "Среднее арифметическое            5.023553  "
      ]
     },
     "execution_count": 29,
     "metadata": {},
     "output_type": "execute_result"
    },
    {
     "data": {
      "image/png": "[encoded data removed]",
      "text/plain": [
       "<Figure size 432x288 with 1 Axes>"
      ]
     },
     "metadata": {
      "needs_background": "light"
     },
     "output_type": "display_data"
    }
   ],
   "source": [
    "graf_concentrate_element(data_all, 'ag')"
   ]
  },
  {
   "cell_type": "markdown",
   "metadata": {},
   "source": [
    "По таблице видно, что после флотации примесь серебра резко возросла, видимо данный этап отчистки, не предназначен для данного элемента. На последующих этапах концентрация практически вернулась к сырьевому значению, видимо комппания стремится к сохранению данного элемента. К финальной стадии отчистки график стремительно устремляется вверх в значении 5. Также можно увидить большое количество данных с нулем на этапе флотации, видимо это позиции находящиеся в позициях из тестовой выборки, их появление обьясняется использованием всего датасета, а данных позициях отсутствуют колонки с нужными значениями."
   ]
  },
  {
   "cell_type": "markdown",
   "metadata": {},
   "source": [
    "_Металл `pb` свинец._\n",
    "___"
   ]
  },
  {
   "cell_type": "code",
   "execution_count": 30,
   "metadata": {},
   "outputs": [
    {
     "data": {
      "text/html": [
       "<div>\n",
       "<style scoped>\n",
       "    .dataframe tbody tr th:only-of-type {\n",
       "        vertical-align: middle;\n",
       "    }\n",
       "\n",
       "    .dataframe tbody tr th {\n",
       "        vertical-align: top;\n",
       "    }\n",
       "\n",
       "    .dataframe thead th {\n",
       "        text-align: right;\n",
       "    }\n",
       "</style>\n",
       "<table border=\"1\" class=\"dataframe\">\n",
       "  <thead>\n",
       "    <tr style=\"text-align: right;\">\n",
       "      <th></th>\n",
       "      <th>Сырье</th>\n",
       "      <th>Флотация</th>\n",
       "      <th>Первичная отчситка</th>\n",
       "      <th>Финальная отчистка</th>\n",
       "    </tr>\n",
       "  </thead>\n",
       "  <tbody>\n",
       "    <tr>\n",
       "      <th>Общий обьем</th>\n",
       "      <td>49015.738057</td>\n",
       "      <td>103003.217192</td>\n",
       "      <td>134257.668792</td>\n",
       "      <td>133407.727895</td>\n",
       "    </tr>\n",
       "    <tr>\n",
       "      <th>Среднее арифметическое</th>\n",
       "      <td>3.756571</td>\n",
       "      <td>7.839502</td>\n",
       "      <td>10.272201</td>\n",
       "      <td>10.153568</td>\n",
       "    </tr>\n",
       "  </tbody>\n",
       "</table>\n",
       "</div>"
      ],
      "text/plain": [
       "                               Сырье       Флотация  Первичная отчситка  \\\n",
       "Общий обьем             49015.738057  103003.217192       134257.668792   \n",
       "Среднее арифметическое      3.756571       7.839502           10.272201   \n",
       "\n",
       "                        Финальная отчистка  \n",
       "Общий обьем                  133407.727895  \n",
       "Среднее арифметическое           10.153568  "
      ]
     },
     "execution_count": 30,
     "metadata": {},
     "output_type": "execute_result"
    },
    {
     "data": {
      "image/png": "[encoded data removed]",
      "text/plain": [
       "<Figure size 432x288 with 1 Axes>"
      ]
     },
     "metadata": {
      "needs_background": "light"
     },
     "output_type": "display_data"
    }
   ],
   "source": [
    "graf_concentrate_element(data_all, 'pb')"
   ]
  },
  {
   "cell_type": "markdown",
   "metadata": {},
   "source": [
    "В случае свинца, можно сказать, что данные методы отчистки слабо помогают в избавление от данного элемента. Это видно и по таблице и по графику. Среднее значение к финальному этапу изменилась от 3 (на флотации) до 10. Также присутствуют позиции с значением нуль в позициях из тестовой выборки."
   ]
  },
  {
   "cell_type": "markdown",
   "metadata": {},
   "source": [
    "_Металл `au` золото._\n",
    "___"
   ]
  },
  {
   "cell_type": "code",
   "execution_count": 31,
   "metadata": {},
   "outputs": [
    {
     "data": {
      "text/html": [
       "<div>\n",
       "<style scoped>\n",
       "    .dataframe tbody tr th:only-of-type {\n",
       "        vertical-align: middle;\n",
       "    }\n",
       "\n",
       "    .dataframe tbody tr th {\n",
       "        vertical-align: top;\n",
       "    }\n",
       "\n",
       "    .dataframe thead th {\n",
       "        text-align: right;\n",
       "    }\n",
       "</style>\n",
       "<table border=\"1\" class=\"dataframe\">\n",
       "  <thead>\n",
       "    <tr style=\"text-align: right;\">\n",
       "      <th></th>\n",
       "      <th>Сырье</th>\n",
       "      <th>Флотация</th>\n",
       "      <th>Первичная отчситка</th>\n",
       "      <th>Финальная отчистка</th>\n",
       "    </tr>\n",
       "  </thead>\n",
       "  <tbody>\n",
       "    <tr>\n",
       "      <th>Общий обьем</th>\n",
       "      <td>107250.332662</td>\n",
       "      <td>253607.728218</td>\n",
       "      <td>413337.604759</td>\n",
       "      <td>581865.971625</td>\n",
       "    </tr>\n",
       "    <tr>\n",
       "      <th>Среднее арифметическое</th>\n",
       "      <td>8.162747</td>\n",
       "      <td>19.301905</td>\n",
       "      <td>31.458833</td>\n",
       "      <td>44.285408</td>\n",
       "    </tr>\n",
       "  </tbody>\n",
       "</table>\n",
       "</div>"
      ],
      "text/plain": [
       "                                Сырье       Флотация  Первичная отчситка  \\\n",
       "Общий обьем             107250.332662  253607.728218       413337.604759   \n",
       "Среднее арифметическое       8.162747      19.301905           31.458833   \n",
       "\n",
       "                        Финальная отчистка  \n",
       "Общий обьем                  581865.971625  \n",
       "Среднее арифметическое           44.285408  "
      ]
     },
     "execution_count": 31,
     "metadata": {},
     "output_type": "execute_result"
    },
    {
     "data": {
      "image/png": "[encoded data removed]",
      "text/plain": [
       "<Figure size 432x288 with 1 Axes>"
      ]
     },
     "metadata": {
      "needs_background": "light"
     },
     "output_type": "display_data"
    }
   ],
   "source": [
    "graf_concentrate_element(data_all, 'au')"
   ]
  },
  {
   "cell_type": "markdown",
   "metadata": {},
   "source": [
    "По выводу функции можно заключить, что с каждым последующим этапом отчистки, концентрация золота стремительно растет. На финальном этапе достигает среднего арифмитечиеского в 44."
   ]
  },
  {
   "cell_type": "markdown",
   "metadata": {},
   "source": [
    "__Теперь анализируем распределение размеров гранул сырья на обучающей и тестовой выборках. Стоит отследить этот момен, так как если распределение сильно отличаются друг от друга, оценка модели будет некорректной.__"
   ]
  },
  {
   "cell_type": "markdown",
   "metadata": {},
   "source": [
    "Построим две гистограммы на одном графике, для единоразового взгляда на распределение размера гранул.  \n",
    "Будет построенно два графика, так как размер гранул в датасетах расчитан только на этапы флотации и первичной отчистки. Также в их легенде будет расчитанно среднее арифметическое по данному параметру в каждой выборке."
   ]
  },
  {
   "cell_type": "markdown",
   "metadata": {},
   "source": [
    "_Размер гранул на этапе флотации._\n",
    "___"
   ]
  },
  {
   "cell_type": "code",
   "execution_count": 32,
   "metadata": {},
   "outputs": [
    {
     "data": {
      "image/png": "[encoded data removed]",
      "text/plain": [
       "<Figure size 432x288 with 1 Axes>"
      ]
     },
     "metadata": {
      "needs_background": "light"
     },
     "output_type": "display_data"
    }
   ],
   "source": [
    "sns.kdeplot(data_train['rougher.input.feed_size'],\n",
    "            label=('Обучающая выборка, со средним '\n",
    "                   +str(int(data_train['rougher.input.feed_size'].mean())))\n",
    "           )\n",
    "\n",
    "sns.kdeplot(data_test['rougher.input.feed_size'],\n",
    "            label=('Тестовая выборка, со средним '\n",
    "                   +str(int(data_test['rougher.input.feed_size'].mean())))\n",
    "           )\n",
    "plt.grid()\n",
    "plt.title('Размер гранул на этапе флотации')\n",
    "plt.ylabel('Количество позиций в относительной доле')\n",
    "plt.xlabel('Размер гранул')\n",
    "\n",
    "plt.legend();"
   ]
  },
  {
   "cell_type": "markdown",
   "metadata": {},
   "source": [
    "Средние арифметические отличаются не сильно, графики возвышаются практически на одном значении. Присутствуют слишком большие значения в каждой из выборок, проверим их статистики."
   ]
  },
  {
   "cell_type": "code",
   "execution_count": 33,
   "metadata": {},
   "outputs": [
    {
     "name": "stdout",
     "output_type": "stream",
     "text": [
      "Обучающая выборка\n",
      "---------------------\n",
      "count    8273.000000\n",
      "mean       64.925177\n",
      "std        26.660613\n",
      "min         0.049194\n",
      "25%        51.115490\n",
      "50%        58.716396\n",
      "75%        73.342147\n",
      "max       484.967466\n",
      "Name: rougher.input.feed_size, dtype: float64\n",
      "_____________________\n",
      "\n",
      "Тестовая выборка\n",
      "---------------------\n",
      "count    4860.000000\n",
      "mean       58.578217\n",
      "std        19.844763\n",
      "min         0.000000\n",
      "25%        47.580982\n",
      "50%        55.382436\n",
      "75%        66.531930\n",
      "max       363.989699\n",
      "Name: rougher.input.feed_size, dtype: float64\n",
      "______________________\n"
     ]
    }
   ],
   "source": [
    "print('Обучающая выборка')\n",
    "print('---------------------')\n",
    "print(data_train['rougher.input.feed_size'].describe())\n",
    "print('_____________________\\n')\n",
    "print('Тестовая выборка')\n",
    "print('---------------------')\n",
    "print(data_test['rougher.input.feed_size'].describe())\n",
    "print('______________________')"
   ]
  },
  {
   "cell_type": "markdown",
   "metadata": {},
   "source": [
    "Выбоки достаточно похожи, есть небольшое расхождения по квантилям. Также максимальное значение в обучающей достаточно оторвалось от тестовой. Можно утверждать, что значения данного параметра в выборках подойдет для обучения модели и ее последующейго теста."
   ]
  },
  {
   "cell_type": "markdown",
   "metadata": {},
   "source": [
    "_Размер гранул на этапе первичной отчистки._\n",
    "___"
   ]
  },
  {
   "cell_type": "code",
   "execution_count": 34,
   "metadata": {},
   "outputs": [
    {
     "data": {
      "image/png": "[encoded data removed]",
      "text/plain": [
       "<Figure size 432x288 with 1 Axes>"
      ]
     },
     "metadata": {
      "needs_background": "light"
     },
     "output_type": "display_data"
    }
   ],
   "source": [
    "sns.kdeplot(data_train['primary_cleaner.input.feed_size'],\n",
    "            label=('Обучающая выборка, со средним '\n",
    "                   +str(int(data_train['primary_cleaner.input.feed_size'].mean())))\n",
    "           )\n",
    "\n",
    "sns.kdeplot(data_test['primary_cleaner.input.feed_size'],\n",
    "            label=('Тестовая выборка, со средним '\n",
    "                   +str(int(data_test['primary_cleaner.input.feed_size'].mean())))\n",
    "           )\n",
    "\n",
    "plt.ylim (0, 1) \n",
    "plt.grid()\n",
    "plt.title('Размер гранул на этапе флотации')\n",
    "plt.ylabel('Количество позиций в относительной доле')\n",
    "plt.xlabel('Размер гранул')\n",
    "\n",
    "plt.legend();"
   ]
  },
  {
   "cell_type": "markdown",
   "metadata": {},
   "source": [
    "Здесь картинка, еще лучше. Среднее практически одинаковое, по графику видно что распределение также похожи. Также посмотрим на их статистики."
   ]
  },
  {
   "cell_type": "code",
   "execution_count": 35,
   "metadata": {},
   "outputs": [
    {
     "name": "stdout",
     "output_type": "stream",
     "text": [
      "Обучающая выборка\n",
      "---------------------\n",
      "count    8279.000000\n",
      "mean        7.137218\n",
      "std         0.613388\n",
      "min         1.080000\n",
      "25%         6.800000\n",
      "50%         7.120000\n",
      "75%         7.480000\n",
      "max        15.500000\n",
      "Name: primary_cleaner.input.feed_size, dtype: float64\n",
      "_____________________\n",
      "\n",
      "Тестовая выборка\n",
      "---------------------\n",
      "count    4860.000000\n",
      "mean        7.305514\n",
      "std         0.588602\n",
      "min         4.970000\n",
      "25%         6.940000\n",
      "50%         7.290000\n",
      "75%         7.630000\n",
      "max         9.630000\n",
      "Name: primary_cleaner.input.feed_size, dtype: float64\n",
      "______________________\n"
     ]
    }
   ],
   "source": [
    "print('Обучающая выборка')\n",
    "print('---------------------')\n",
    "print(data_train['primary_cleaner.input.feed_size'].describe())\n",
    "print('_____________________\\n')\n",
    "print('Тестовая выборка')\n",
    "print('---------------------')\n",
    "print(data_test['primary_cleaner.input.feed_size'].describe())\n",
    "print('______________________')"
   ]
  },
  {
   "cell_type": "markdown",
   "metadata": {},
   "source": [
    "По крайним значениям есть небольшой расход, но это обьясняется большой разностью в количестве данных, медиана же практически одинакова."
   ]
  },
  {
   "cell_type": "markdown",
   "metadata": {},
   "source": [
    "__Последним этапом анализа данных, будет исследование суммарной концентрации всех веществ на разных стадиях: в сырье, в черновом и финальном концентратах.__"
   ]
  },
  {
   "cell_type": "markdown",
   "metadata": {},
   "source": [
    "Для этого, в начале определим три переменные заключающие в себе сумму всех концентрации каждого элемента в одну."
   ]
  },
  {
   "cell_type": "code",
   "execution_count": 36,
   "metadata": {},
   "outputs": [],
   "source": [
    "#Колонки из всего датасета с информацией о сырье суммируются по строке\n",
    "raw = data_train[['rougher.input.feed_ag', \n",
    "                'rougher.input.feed_pb',\n",
    "                'rougher.input.feed_sol',\n",
    "                'rougher.input.feed_au']].apply(sum, axis=1)\n",
    "\n",
    "#Колонки из всего датасета с информацией о черновом концетрате суммируются по строке\n",
    "draft = data_train[['rougher.output.concentrate_ag',\n",
    "                  'rougher.output.concentrate_pb',\n",
    "                  'rougher.output.concentrate_sol',\n",
    "                  'rougher.output.concentrate_au']].apply(sum, axis=1)\n",
    "\n",
    "#Колонки из всего датасета с информацией о финальном концетрате суммируются по строке\n",
    "final_concentrate = data_train[['final.output.concentrate_ag',\n",
    "                              'final.output.concentrate_pb',\n",
    "                              'final.output.concentrate_sol',\n",
    "                              'final.output.concentrate_au']].apply(sum, axis=1)"
   ]
  },
  {
   "cell_type": "markdown",
   "metadata": {},
   "source": [
    "Теперь построим график, и посмотрим на их различия."
   ]
  },
  {
   "cell_type": "code",
   "execution_count": 37,
   "metadata": {},
   "outputs": [
    {
     "data": {
      "image/png": "[encoded data removed]",
      "text/plain": [
       "<Figure size 432x288 with 1 Axes>"
      ]
     },
     "metadata": {
      "needs_background": "light"
     },
     "output_type": "display_data"
    }
   ],
   "source": [
    "sns.kdeplot(raw, \n",
    "            label='Сырье'\n",
    "           )\n",
    "sns.kdeplot(draft, \n",
    "            label='Черновой концентрат'\n",
    "           )\n",
    "sns.kdeplot(final_concentrate, \n",
    "            label='Финальный концентрат'\n",
    "           )\n",
    "plt.grid()\n",
    "plt.title('Суммарная концентрация всех веществ на разных стадиях.')\n",
    "plt.xlabel('Концентрация')\n",
    "plt.ylabel('Относительная доля количества позиций')\n",
    "plt.legend(loc='upper left');"
   ]
  },
  {
   "cell_type": "markdown",
   "metadata": {},
   "source": [
    "По сырью можно сказать, что концентрация находится на самом низком уровне и ее среднее в районе 56, а ее хвост слева не достигает и 80. У черногого концентрата схожий график с сырьем, но он значительно сдвинут к левой части графика и его среднее примерно равно 70 крайнее же левое значение в районе 90. Финальный концентрат имеет среднее схожее с черновым, но значительно опережает все остальные графики по количеству позиций в этом значении, что говорит о низком стандартном отклонении, и стремлении на данном этапе приблизица к этому значению. Максимальное значение у финального концентрата же меньше чем у черногого в районе 80. Можно сделать вывод, что после всех этапов отчистки, концентрация всех веществ стремится к значению 70, такую тенденцую скорее всего задает один из более сохранившихся элементов, в нашем случае золото, которое к финальному этапу составляет большую часть в каждой позиции.  \n",
    "Также присутствуют значения в нуле, что может обьясняться аномалиями в значениях. Такие строчки, необходимо исключить из датасета для обучения модели, так как, в суммарной концентрации вещество, какой либо элемент должен присутствовать. "
   ]
  },
  {
   "cell_type": "markdown",
   "metadata": {},
   "source": [
    "Построим `Диаграмму размаха` и посмотрим на примерное количество выбросов, и после каких значений они находятся."
   ]
  },
  {
   "cell_type": "code",
   "execution_count": 38,
   "metadata": {},
   "outputs": [
    {
     "data": {
      "image/png": "[encoded data removed]",
      "text/plain": [
       "<Figure size 1080x720 with 3 Axes>"
      ]
     },
     "metadata": {
      "needs_background": "light"
     },
     "output_type": "display_data"
    }
   ],
   "source": [
    "\n",
    "# Горизонтальный вид диаграммы размаха\n",
    "\n",
    "fig, (ax1, ax2, ax3) = plt.subplots(3,1, figsize = (15,10))\n",
    "ax1= raw.plot.box(vert = False, \n",
    "                  ax=ax1,\n",
    "                  grid=True,\n",
    "                  title='Сырье',\n",
    "                  ylabel=''\n",
    "                 )\n",
    "\n",
    "ax2 = draft.plot.box(vert = False, \n",
    "                     ax=ax2,\n",
    "                     grid=True,\n",
    "                     title='Черновой концентрат',\n",
    "                     ylabel=''\n",
    "                    )\n",
    "ax3 = draft.plot.box(vert = False, \n",
    "                     ax=ax3,\n",
    "                     grid=True,\n",
    "                     title='Финальный концентрат',\n",
    "                     ylabel=''\n",
    "                    )\n",
    "#Для позиционирования\n",
    "plt.subplots_adjust(hspace = 0.5, wspace=0.5, top=1, bottom=0.2)\n",
    "plt.show()"
   ]
  },
  {
   "cell_type": "markdown",
   "metadata": {},
   "source": [
    "На графике хорошо видны, значения после которых позиции принимают аномальные значения. Удалим данные значения из датасета `data_train_short` которым будем обучать наши модели. Но сначала найдем значения в 5%-ом доверительном интервале для каждого типа концентрата."
   ]
  },
  {
   "cell_type": "code",
   "execution_count": 39,
   "metadata": {},
   "outputs": [
    {
     "name": "stdout",
     "output_type": "stream",
     "text": [
      "Начало доверительного интервала в 5% по сырью: 43\n",
      "Конец доверительного интервала в 95% по сырью: 70\n",
      "\n",
      "Начало доверительный интервала в 5% по Черновому концентрату: 0\n",
      "Конец доверительного интервала в 95% по Черновому концентрату: 79\n",
      "\n",
      "Начало доверительного интервала в 5% по Финальному концентрату: 49\n",
      "Конец доверительного интервала в 95% по Финальному концентрату: 74\n"
     ]
    }
   ],
   "source": [
    "print('Начало доверительного интервала в 5% по сырью:', int(raw.quantile(0.025)))\n",
    "print('Конец доверительного интервала в 95% по сырью:', int(raw.quantile(0.975)))\n",
    "print()\n",
    "print('Начало доверительный интервала в 5% по Черновому концентрату:', int(draft.quantile(0.025)))\n",
    "print('Конец доверительного интервала в 95% по Черновому концентрату:', int(draft.quantile(0.975)))\n",
    "print()\n",
    "print('Начало доверительного интервала в 5% по Финальному концентрату:', int(final_concentrate.quantile(0.025)))\n",
    "print('Конец доверительного интервала в 95% по Финальному концентрату:', int(final_concentrate.quantile(0.975)))"
   ]
  },
  {
   "cell_type": "markdown",
   "metadata": {},
   "source": [
    "Значения после доверительного интервала, пожалуй оставим, для сохранения данных. Их несовсем много, и значения в них не совсем велики. Удалим их из датасета для обучения."
   ]
  },
  {
   "cell_type": "code",
   "execution_count": 40,
   "metadata": {},
   "outputs": [],
   "source": [
    "#Создаем переменную с индексами по сырью и удаляем из датасета для обучения\n",
    "r_an = raw[raw<40].index\n",
    "data_train_short = data_train_short.drop(index = r_an)\n",
    "# Игнорируем ошибки таккак наверняка есть отсутствующие индексы\n",
    "d_an = draft[draft<31].index\n",
    "data_train_short = data_train_short.drop(index = d_an, \n",
    "                                         errors='ignore'\n",
    "                                        )\n",
    "\n",
    "f_an = final_concentrate[final_concentrate<57].index\n",
    "data_train_short = data_train_short.drop(index = f_an, \n",
    "                                         errors='ignore'\n",
    "                                        )\n",
    "\n",
    "#Обновляем индексы\n",
    "data_train_short = data_train_short.reset_index(drop=True)"
   ]
  },
  {
   "cell_type": "markdown",
   "metadata": {},
   "source": [
    "Проверим количество потерянных данных."
   ]
  },
  {
   "cell_type": "code",
   "execution_count": 41,
   "metadata": {},
   "outputs": [
    {
     "name": "stdout",
     "output_type": "stream",
     "text": [
      "Процент потерянных данных составил: 7.71%\n"
     ]
    }
   ],
   "source": [
    " print(f'Процент потерянных данных составил: {round((len(data_train)-len(data_train_short)) / (len(data_train)/100),2)}%')"
   ]
  },
  {
   "cell_type": "markdown",
   "metadata": {},
   "source": [
    "Было удаленно `6.19%`, это не критично, но все равно больше нормы равной в 5%. Оставим без изменений."
   ]
  },
  {
   "cell_type": "markdown",
   "metadata": {},
   "source": [
    "__Вывод__  \n",
    "В данной части был проведен анализ данных и рассмотренно три вопроса.  \n",
    "Было определенно, что после c каждым этапом отчистки концентрация элемента `ag` (серебра) стремительно уменьшается. Элемент `pb` (свинец), после флотации значительно возрос, а вот на финальной отчитке его концентрация выросла несильно. `Au` (золото) стремительно растетпосле каждого этапа, что неудивительно, так как цель сохранить этот элемент и преследуется компанией.  \n",
    "Также был сделан вывод, что размер гранул в обучающей и тестовой выборке, значительно не отличаются, и влияние на обучение и проверку модели данный фактор будет иметь незначительный.  \n",
    "В конце, было зафиксированно среднее значение общей концентрации элементов на финальном этапе отчистки в 70 единиц. Сырье же имело наименьшую концентрацию, скорее всего это обьясняется высоким присутствием большого количества других, неинтересующих нас, элементов. Также были удалены минимальные аномальные значения. Так как их влияние пагубно бы сыграло на обучении моделей."
   ]
  },
  {
   "cell_type": "markdown",
   "metadata": {},
   "source": [
    "## Модель"
   ]
  },
  {
   "cell_type": "markdown",
   "metadata": {},
   "source": [
    "Пришло время построить модель которая будет предсказывать коэффициент восстановления золота из золотосодержащей руды. Качество модели будет отслеживать по метрике `sMAPE`. Для этого сначала создадим функцию которая по актуальным и предсказанным значением выдаст значчение этой метрики, а также функцию для подсчета совместной по обеим целевым признакам в которых значимать отличается 25% на флотацию и 75% на финальный этап отчистки."
   ]
  },
  {
   "cell_type": "markdown",
   "metadata": {},
   "source": [
    "__Функция расчета sMAPE__\n",
    "___"
   ]
  },
  {
   "cell_type": "code",
   "execution_count": 42,
   "metadata": {},
   "outputs": [],
   "source": [
    "#Функция для расчета отдельной sMAPE \n",
    "def smape(target_actual, target_predictions):\n",
    "    numerator = np.abs(target_actual - target_predictions)\n",
    "    denominator = (np.abs(target_actual) + np.abs(target_predictions)) / 2 \n",
    "    return 1 / len(target_actual) * np.sum(numerator / denominator) * 100 \n",
    "\n",
    "#Функция для расчета итоговой sMAPE по двум целевым признакам  \n",
    "def calculate_final_smape(target_actual, target_predictions):\n",
    "    target_actual_rougher = target_actual['rougher.output.recovery']\n",
    "    target_actual_final = target_actual['final.output.recovery']\n",
    "    target_predictions_rougher = target_predictions[:, 0]\n",
    "    target_predictions_final = target_predictions[:, 1]\n",
    "    return 0.25 * smape(target_actual_rougher, target_predictions_rougher) + 0.75 * smape(target_actual_final, target_predictions_final)\n",
    "\n",
    "# Создаем дополнительную функцию оценки, по которой модели будут выбирать наилучшие параметры \n",
    "# и кроссвалидировать их\n",
    "smape_scorer = make_scorer(calculate_final_smape, \n",
    "                           greater_is_better=False # Лучшей оценкой будет наименьшее значение\n",
    "                          )"
   ]
  },
  {
   "cell_type": "markdown",
   "metadata": {},
   "source": [
    "Функции разработаны, теперь можно приступить к обучению моделей."
   ]
  },
  {
   "cell_type": "markdown",
   "metadata": {},
   "source": [
    "__Обучение моделей для обоих целевых признаков__\n",
    "___"
   ]
  },
  {
   "cell_type": "markdown",
   "metadata": {},
   "source": [
    "Для обучения и проверки модели не обходимо в обучающую выборку разделить на целевые и определяющие параметры. Так как целевых параметров у нас два, переменная с целевыми параметрами будет содеражть две колонки."
   ]
  },
  {
   "cell_type": "code",
   "execution_count": 43,
   "metadata": {},
   "outputs": [],
   "source": [
    "features = data_train_short.drop(['rougher.output.recovery','final.output.recovery'], axis=1)\n",
    "target = data_train_short[['rougher.output.recovery','final.output.recovery']]"
   ]
  },
  {
   "cell_type": "markdown",
   "metadata": {},
   "source": [
    "Можно приступать к выбору моделей. Рассмотрим три известных мне метода обучения.  \n",
    "* Линейную регрессию\n",
    "* Дерево решений\n",
    "* Случайный лес"
   ]
  },
  {
   "cell_type": "markdown",
   "metadata": {},
   "source": [
    "Но для начала создадим константную модель находящую медиану, по таргету, которая поможет оценить адекватность обученных моделей. Но для того, чтобы применить крос-валидацию, используем метод `GridSearchCV` из библиотеки `sklearn`."
   ]
  },
  {
   "cell_type": "code",
   "execution_count": 44,
   "metadata": {},
   "outputs": [
    {
     "name": "stdout",
     "output_type": "stream",
     "text": [
      "Среднее значение sMAPE на крос-валидации -9.1302\n",
      "Значение sMAPE по всей обучающей выборке 8.4207\n"
     ]
    }
   ],
   "source": [
    "check_model = GridSearchCV(estimator=DummyRegressor(strategy = 'median'), # Вид модели\n",
    "                            param_grid ={}, # обязательный аргумент принимает значение пустого словаря\n",
    "                            scoring=smape_scorer # задаем оценку модели нашей функцией расчета итоговой sMAPE\n",
    "                           )\n",
    "# обучение модели\n",
    "check_model.fit(features, target)\n",
    "\n",
    "\n",
    "print('Среднее значение sMAPE на крос-валидации', \n",
    "      round(check_model.best_score_,4))\n",
    "print('Значение sMAPE по всей обучающей выборке', \n",
    "      round(calculate_final_smape(target, check_model.predict(features)),4))"
   ]
  },
  {
   "cell_type": "markdown",
   "metadata": {},
   "source": [
    "Как мы видим итоговые метрикии не сильно отличаются. Но стоит обьяснить минус на среднем значении на кросс-валидации. Он обусловлен особенностью расчетов библиотекой `sklearn`, для самоличносозданных метрик. Так что при оценки моделей, не будем на него обращать внимание, стоит учесть что чем ближе значение к нулю тем модель работает лучше."
   ]
  },
  {
   "cell_type": "markdown",
   "metadata": {},
   "source": [
    "__Линейная регрессия__\n",
    "___"
   ]
  },
  {
   "cell_type": "markdown",
   "metadata": {},
   "source": [
    "Для построения модели `Линейной регресии`, нет необходимости подбирать какие либо гипперпараметры.  Прогонять значения тренировочной выборки будет стандартное число раз заданное в данном методе `5`."
   ]
  },
  {
   "cell_type": "code",
   "execution_count": 45,
   "metadata": {},
   "outputs": [
    {
     "name": "stdout",
     "output_type": "stream",
     "text": [
      "Среднее значение sMAPE на крос-валидации -8.2914\n",
      "Значение sMAPE по всей обучающей выборке 6.3941\n"
     ]
    }
   ],
   "source": [
    "model_linear = GridSearchCV(estimator=LinearRegression(), # Вид модели\n",
    "                            param_grid = {}, # обязательный аргумент принимает значение пустого словаря\n",
    "                            scoring=smape_scorer # задаем оценку модели нашей функцией расчета итоговой sMAPE\n",
    "                           )\n",
    "# обучение модели\n",
    "model_linear.fit(features, target)\n",
    "\n",
    "\n",
    "print('Среднее значение sMAPE на крос-валидации', \n",
    "      round(model_linear.best_score_,4))\n",
    "print('Значение sMAPE по всей обучающей выборке', \n",
    "      round(calculate_final_smape(target, model_linear.predict(features)),4))"
   ]
  },
  {
   "cell_type": "markdown",
   "metadata": {},
   "source": [
    "Линейная регрессия как самая простая и быстрая показала результат в `8.4672` по среднему значению кросс-валидации, это больше чем у нашей проверочной модели. А значение целевой метрики по обучающей выборке, меньше чем у проверрочной."
   ]
  },
  {
   "cell_type": "markdown",
   "metadata": {},
   "source": [
    "__Случайный лес.__\n",
    "___"
   ]
  },
  {
   "cell_type": "markdown",
   "metadata": {},
   "source": [
    "Случайный лес имеет несколько важных гипперпараметров. При помощи той же `GridSearchCV`, подбирем наилучшие и применим кросс-валидацию."
   ]
  },
  {
   "cell_type": "code",
   "execution_count": 46,
   "metadata": {},
   "outputs": [
    {
     "name": "stdout",
     "output_type": "stream",
     "text": [
      "Fitting 5 folds for each of 20 candidates, totalling 100 fits\n",
      "Среднее значение sMAPE на крос-валидации -8.304\n",
      "Значение sMAPE по всей обучающей выборке 5.0393\n",
      "\n",
      "Наилучшие гипперпараметры : деревья 7 ; листья 16\n"
     ]
    }
   ],
   "source": [
    "param_rf = {'n_estimators': range (1, 21, 5),\n",
    "            'max_depth': range (1, 10, 2),\n",
    "            'random_state':[2503] # необходимо данный параметр заключить в список\n",
    "            }\n",
    "\n",
    "model_rf = GridSearchCV(estimator=RandomForestRegressor(), \n",
    "                        param_grid = param_rf, \n",
    "                        verbose=1, # Для отображения количества вариаций\n",
    "                        scoring=smape_scorer # задаем оценку модели нашей функцией расчета итоговой sMAPE\n",
    "                       )\n",
    "# обучение модели\n",
    "model_rf.fit(features, target)\n",
    "\n",
    "print('Среднее значение sMAPE на крос-валидации', \n",
    "      round(model_rf.best_score_,4))\n",
    "print('Значение sMAPE по всей обучающей выборке', \n",
    "      round(calculate_final_smape(target, model_rf.predict(features)),4))\n",
    "print()\n",
    "print('Наилучшие гипперпараметры :', end=' ')\n",
    "print(f'деревья {model_rf.best_params_[\"max_depth\"]} ; листья {model_rf.best_params_[\"n_estimators\"]}')   "
   ]
  },
  {
   "cell_type": "markdown",
   "metadata": {},
   "source": [
    "У данной модели, результаты еще лучше. По все показателя модель опережает проверочную и линенйную регресию. Также есть возмжность подобрать другие гипперпараметры, для усовершенствования данной модели, но эта процедура может занять гараздо большее время. Останановимся на данном результате."
   ]
  },
  {
   "cell_type": "markdown",
   "metadata": {},
   "source": [
    "__Решающее деревою__\n",
    "___\n"
   ]
  },
  {
   "cell_type": "markdown",
   "metadata": {},
   "source": [
    "В данном случае, у нас останется только гипперпараметр `max_depht`."
   ]
  },
  {
   "cell_type": "code",
   "execution_count": 47,
   "metadata": {},
   "outputs": [
    {
     "name": "stdout",
     "output_type": "stream",
     "text": [
      "Fitting 5 folds for each of 14 candidates, totalling 70 fits\n",
      "Среднее значение sMAPE на крос-валидации -8.8305\n",
      "Значение sMAPE по всей обучающей выборке 7.3915\n",
      "\n",
      "Наилучшие гипперпараметр для \"max_depth\" 1\n"
     ]
    }
   ],
   "source": [
    "param_dt = {'max_depth': range (1, 15, 1),\n",
    "            'random_state':[2503] # необходимо данный параметр заключить в список\n",
    "            }\n",
    "\n",
    "model_dt = GridSearchCV(estimator=DecisionTreeRegressor(), \n",
    "                        param_grid = param_dt, \n",
    "                        verbose=1, # Для отображения количества вариаций\n",
    "                        scoring=smape_scorer # задаем оценку модели нашей функцией расчета итоговой sMAPE\n",
    "                       )\n",
    "# обучение модели\n",
    "model_dt.fit(features, target)\n",
    "\n",
    "print('Среднее значение sMAPE на крос-валидации', \n",
    "      round(model_dt.best_score_,4))\n",
    "print('Значение sMAPE по всей обучающей выборке', \n",
    "      round(calculate_final_smape(target, model_dt.predict(features)),4))\n",
    "print()\n",
    "print(f'Наилучшие гипперпараметр для \"max_depth\" {model_dt.best_params_[\"max_depth\"]}')"
   ]
  },
  {
   "cell_type": "markdown",
   "metadata": {},
   "source": [
    "Данная модель показала результат в на обучающей выборке `6.6085` и среднее значение `sMape` на кросс-валидации равное `8.1262`, который хуже чем у модели `Случайного леса`."
   ]
  },
  {
   "cell_type": "markdown",
   "metadata": {},
   "source": [
    "Выберем модель с наименьшим значением итоговой `sMAPE`. Этой моделью будет являтся `Случайный лес` с гиппер параметрами `max_depth`=3 и `n_estimators`=6 обученную выше. Осталось проверить ее качество на тестовой выборке."
   ]
  },
  {
   "cell_type": "markdown",
   "metadata": {},
   "source": [
    "__Проверка на тестовой выборке лучшей модели.__\n",
    "___"
   ]
  },
  {
   "cell_type": "markdown",
   "metadata": {},
   "source": [
    "Тестовые определяющии параметры хранятся в переменной `data_test`, а целевые признаки были заключен в переменной `target_test` в первой части работы. Найдем значение итоговой `sMAPE` для тестовой выборки."
   ]
  },
  {
   "cell_type": "code",
   "execution_count": 48,
   "metadata": {},
   "outputs": [
    {
     "name": "stdout",
     "output_type": "stream",
     "text": [
      "Значение итогового sMAPE по тестовой выборке: 6.7955\n"
     ]
    }
   ],
   "source": [
    "# предсказываем результаты по тестовой выборке.\n",
    "final_test_predict = calculate_final_smape(target_test, model_rf.predict(data_test))\n",
    "print('Значение итогового sMAPE по тестовой выборке:', round(final_test_predict, 4))"
   ]
  },
  {
   "cell_type": "markdown",
   "metadata": {},
   "source": [
    "Значение в `7.0943` конечно выше чем было достигнуто на этапе проверки модели, но разница составляет примерно в 1.\n",
    "Можно заключить что модель работает достаточно эффективно. По ее выводу можно заключить, разработанная модель предсказывает коэффициент восстановления золота из золотосодержащей руды с ошибкой примерно равной `8-10%`."
   ]
  },
  {
   "cell_type": "markdown",
   "metadata": {},
   "source": [
    "__Вывод__   \n",
    "В заключительной части, была разработанна функция дляоценки качества моделей метрикой `sMAPE`.  \n",
    "Было рассмотренно три модели, из которых, как фоворит по метрике `sMAPE` была отобранна модель `Случайного леса`.  \n",
    "Выбранная модель была проверенна на тестовой выборке, с неплохим результатом в `7.0943%`."
   ]
  },
  {
   "cell_type": "markdown",
   "metadata": {},
   "source": [
    "## Итоговый вывод"
   ]
  },
  {
   "cell_type": "markdown",
   "metadata": {},
   "source": [
    "Данный проект был предназначен для разработки модели разработанная модель предсказывающей коэффициент восстановления золота из золотосодержащей руды. Так же был проведен анализ данных, и отвеченно на несколько вопросов, заданных в соответствующей части проекта. Но перед всей основной работой в первой части была проведенна предобработка данных. \n",
    "В заключении данной работы хотелось бы зафиксировать несколько моментов:\n",
    "\n",
    "* Было определенно, что после c каждым этапом отчистки концентрация элемента ag (серебра) стремительно уменьшается. Элемент pb (свинец), после флотации значительно возрос, а вот на финальной отчитке его концентрация выросла несильн\n",
    "и проверку модели данный фактор не имел.\n",
    "* В конце, было зафиксированно среднее значение общей концентрации элементов в 70 единиц на финальном этапе отчистки, это данные по которым есть информация. Сырье же имело нименьшую концентрацию. Данные же которые содержали в себе аномальные значение (слишком низкие) было решенно удалить из датасета подготовленного для обучения моделй.\n",
    "* Была разработанна функция для оценки качества моделей метрикой `sMAPE` с помощью которой была отобранна модель `Случайного леса`. Выбранная модель была проверенна на тестовой выборке, с результатом в `7.0943%`."
   ]
  },
  {
   "cell_type": "code",
   "execution_count": null,
   "metadata": {},
   "outputs": [],
   "source": []
  }
 ],
 "metadata": {
  "ExecuteTimeLog": [
   {
    "duration": 1844,
    "start_time": "2023-02-23T12:46:00.590Z"
   },
   {
    "duration": 3433,
    "start_time": "2023-02-23T12:46:02.437Z"
   },
   {
    "duration": 4,
    "start_time": "2023-02-23T12:46:05.872Z"
   },
   {
    "duration": 18,
    "start_time": "2023-02-23T12:46:05.878Z"
   },
   {
    "duration": 5,
    "start_time": "2023-02-23T12:46:05.898Z"
   },
   {
    "duration": 19,
    "start_time": "2023-02-23T12:46:05.905Z"
   },
   {
    "duration": 36,
    "start_time": "2023-02-23T12:46:05.926Z"
   },
   {
    "duration": 25,
    "start_time": "2023-02-23T12:46:05.963Z"
   },
   {
    "duration": 4,
    "start_time": "2023-02-23T12:46:05.990Z"
   },
   {
    "duration": 57,
    "start_time": "2023-02-23T12:46:05.997Z"
   },
   {
    "duration": 16,
    "start_time": "2023-02-23T12:46:06.056Z"
   },
   {
    "duration": 82,
    "start_time": "2023-02-23T12:46:06.073Z"
   },
   {
    "duration": 814,
    "start_time": "2023-02-23T12:46:06.157Z"
   },
   {
    "duration": 15,
    "start_time": "2023-02-23T12:46:06.973Z"
   },
   {
    "duration": 33,
    "start_time": "2023-02-23T12:46:06.989Z"
   },
   {
    "duration": 752,
    "start_time": "2023-02-23T12:46:07.024Z"
   },
   {
    "duration": 14,
    "start_time": "2023-02-23T12:46:07.778Z"
   },
   {
    "duration": 148,
    "start_time": "2023-02-23T12:46:07.793Z"
   },
   {
    "duration": 16,
    "start_time": "2023-02-23T12:46:07.943Z"
   },
   {
    "duration": 8,
    "start_time": "2023-02-23T12:46:07.961Z"
   },
   {
    "duration": 19,
    "start_time": "2023-02-23T12:46:07.971Z"
   },
   {
    "duration": 40,
    "start_time": "2023-02-23T12:46:07.992Z"
   },
   {
    "duration": 20,
    "start_time": "2023-02-23T12:46:08.034Z"
   },
   {
    "duration": 9,
    "start_time": "2023-02-23T12:46:08.056Z"
   },
   {
    "duration": 98,
    "start_time": "2023-02-23T12:46:08.067Z"
   },
   {
    "duration": 25,
    "start_time": "2023-02-23T12:46:08.167Z"
   },
   {
    "duration": 5,
    "start_time": "2023-02-23T12:46:08.193Z"
   },
   {
    "duration": 16,
    "start_time": "2023-02-23T12:46:08.220Z"
   },
   {
    "duration": 1023,
    "start_time": "2023-02-23T12:46:08.239Z"
   },
   {
    "duration": 1007,
    "start_time": "2023-02-23T12:46:09.264Z"
   },
   {
    "duration": 1092,
    "start_time": "2023-02-23T12:46:10.272Z"
   },
   {
    "duration": 482,
    "start_time": "2023-02-23T12:46:11.366Z"
   },
   {
    "duration": 13,
    "start_time": "2023-02-23T12:46:11.850Z"
   },
   {
    "duration": 504,
    "start_time": "2023-02-23T12:46:11.865Z"
   },
   {
    "duration": 14,
    "start_time": "2023-02-23T12:46:12.372Z"
   },
   {
    "duration": 382,
    "start_time": "2023-02-23T12:46:12.388Z"
   },
   {
    "duration": 1070,
    "start_time": "2023-02-23T12:46:12.772Z"
   },
   {
    "duration": 5,
    "start_time": "2023-02-23T12:46:13.844Z"
   },
   {
    "duration": 19,
    "start_time": "2023-02-23T12:46:13.851Z"
   },
   {
    "duration": 18,
    "start_time": "2023-02-23T12:46:13.872Z"
   },
   {
    "duration": 1738,
    "start_time": "2023-02-23T12:46:13.892Z"
   },
   {
    "duration": 134350,
    "start_time": "2023-02-23T12:46:15.633Z"
   },
   {
    "duration": 11473,
    "start_time": "2023-02-23T12:48:29.984Z"
   },
   {
    "duration": 14,
    "start_time": "2023-02-23T12:48:41.459Z"
   },
   {
    "duration": 1506,
    "start_time": "2023-02-27T14:11:46.968Z"
   },
   {
    "duration": 3002,
    "start_time": "2023-02-27T14:11:48.475Z"
   },
   {
    "duration": 3,
    "start_time": "2023-02-27T14:11:51.478Z"
   },
   {
    "duration": 17,
    "start_time": "2023-02-27T14:11:51.483Z"
   },
   {
    "duration": 185,
    "start_time": "2023-02-27T14:12:20.025Z"
   },
   {
    "duration": 7,
    "start_time": "2023-02-27T14:12:32.407Z"
   },
   {
    "duration": 4,
    "start_time": "2023-02-27T14:12:55.426Z"
   },
   {
    "duration": 5,
    "start_time": "2023-02-27T14:13:09.221Z"
   },
   {
    "duration": 4,
    "start_time": "2023-02-27T14:13:16.652Z"
   },
   {
    "duration": 11,
    "start_time": "2023-02-27T14:16:03.491Z"
   },
   {
    "duration": 4,
    "start_time": "2023-02-27T14:16:25.849Z"
   },
   {
    "duration": 7,
    "start_time": "2023-02-27T14:16:45.654Z"
   },
   {
    "duration": 4,
    "start_time": "2023-02-27T14:16:54.546Z"
   },
   {
    "duration": 5,
    "start_time": "2023-02-27T14:17:31.809Z"
   },
   {
    "duration": 5,
    "start_time": "2023-02-27T14:17:50.952Z"
   },
   {
    "duration": 4,
    "start_time": "2023-02-27T14:18:18.298Z"
   },
   {
    "duration": 5,
    "start_time": "2023-02-27T14:19:09.481Z"
   },
   {
    "duration": 70,
    "start_time": "2023-02-27T14:21:24.104Z"
   },
   {
    "duration": 7,
    "start_time": "2023-02-27T14:21:47.548Z"
   },
   {
    "duration": 4,
    "start_time": "2023-02-27T14:22:11.263Z"
   },
   {
    "duration": 667,
    "start_time": "2023-02-27T14:22:11.268Z"
   },
   {
    "duration": 3,
    "start_time": "2023-02-27T14:22:11.937Z"
   },
   {
    "duration": 13,
    "start_time": "2023-02-27T14:22:11.942Z"
   },
   {
    "duration": 5,
    "start_time": "2023-02-27T14:22:11.957Z"
   },
   {
    "duration": 7,
    "start_time": "2023-02-27T14:22:11.963Z"
   },
   {
    "duration": 23,
    "start_time": "2023-02-27T14:22:11.972Z"
   },
   {
    "duration": 23,
    "start_time": "2023-02-27T14:22:11.996Z"
   },
   {
    "duration": 3,
    "start_time": "2023-02-27T14:22:12.020Z"
   },
   {
    "duration": 51,
    "start_time": "2023-02-27T14:22:12.025Z"
   },
   {
    "duration": 16,
    "start_time": "2023-02-27T14:22:12.078Z"
   },
   {
    "duration": 70,
    "start_time": "2023-02-27T14:22:12.095Z"
   },
   {
    "duration": 710,
    "start_time": "2023-02-27T14:22:12.167Z"
   },
   {
    "duration": 14,
    "start_time": "2023-02-27T14:22:12.878Z"
   },
   {
    "duration": 15,
    "start_time": "2023-02-27T14:22:12.893Z"
   },
   {
    "duration": 615,
    "start_time": "2023-02-27T14:22:12.909Z"
   },
   {
    "duration": 11,
    "start_time": "2023-02-27T14:22:13.526Z"
   },
   {
    "duration": 74,
    "start_time": "2023-02-27T14:22:13.549Z"
   },
   {
    "duration": 31,
    "start_time": "2023-02-27T14:22:13.625Z"
   },
   {
    "duration": 7,
    "start_time": "2023-02-27T14:22:13.658Z"
   },
   {
    "duration": 38,
    "start_time": "2023-02-27T14:22:13.666Z"
   },
   {
    "duration": 30,
    "start_time": "2023-02-27T14:22:13.706Z"
   },
   {
    "duration": 33,
    "start_time": "2023-02-27T14:22:13.737Z"
   },
   {
    "duration": 16,
    "start_time": "2023-02-27T14:22:13.772Z"
   },
   {
    "duration": 89,
    "start_time": "2023-02-27T14:22:13.790Z"
   },
   {
    "duration": 23,
    "start_time": "2023-02-27T14:22:13.881Z"
   },
   {
    "duration": 5,
    "start_time": "2023-02-27T14:22:13.905Z"
   },
   {
    "duration": 6,
    "start_time": "2023-02-27T14:22:18.450Z"
   },
   {
    "duration": 1026,
    "start_time": "2023-02-27T14:22:19.518Z"
   },
   {
    "duration": 1035,
    "start_time": "2023-02-27T14:22:48.017Z"
   },
   {
    "duration": 1172,
    "start_time": "2023-02-27T14:23:46.696Z"
   },
   {
    "duration": 984,
    "start_time": "2023-02-27T14:28:46.471Z"
   },
   {
    "duration": 1056,
    "start_time": "2023-02-27T14:29:30.201Z"
   },
   {
    "duration": 504,
    "start_time": "2023-02-27T14:29:49.425Z"
   },
   {
    "duration": 18,
    "start_time": "2023-02-27T14:29:49.931Z"
   },
   {
    "duration": 400,
    "start_time": "2023-02-27T14:29:50.159Z"
   },
   {
    "duration": 11,
    "start_time": "2023-02-27T14:29:50.665Z"
   },
   {
    "duration": 280,
    "start_time": "2023-02-27T14:30:03.379Z"
   },
   {
    "duration": 800,
    "start_time": "2023-02-27T14:30:04.423Z"
   },
   {
    "duration": 128,
    "start_time": "2023-02-27T14:31:51.762Z"
   },
   {
    "duration": 92,
    "start_time": "2023-02-27T14:32:24.698Z"
   },
   {
    "duration": 12,
    "start_time": "2023-02-27T14:39:24.032Z"
   },
   {
    "duration": 3,
    "start_time": "2023-02-27T14:39:29.069Z"
   },
   {
    "duration": 608,
    "start_time": "2023-02-27T14:39:29.074Z"
   },
   {
    "duration": 3,
    "start_time": "2023-02-27T14:39:29.684Z"
   },
   {
    "duration": 22,
    "start_time": "2023-02-27T14:39:29.688Z"
   },
   {
    "duration": 5,
    "start_time": "2023-02-27T14:39:29.712Z"
   },
   {
    "duration": 7,
    "start_time": "2023-02-27T14:39:29.718Z"
   },
   {
    "duration": 22,
    "start_time": "2023-02-27T14:39:29.726Z"
   },
   {
    "duration": 20,
    "start_time": "2023-02-27T14:39:29.749Z"
   },
   {
    "duration": 3,
    "start_time": "2023-02-27T14:39:29.771Z"
   },
   {
    "duration": 26,
    "start_time": "2023-02-27T14:39:51.748Z"
   },
   {
    "duration": 21,
    "start_time": "2023-02-27T14:40:13.785Z"
   },
   {
    "duration": 16,
    "start_time": "2023-02-27T14:40:19.753Z"
   },
   {
    "duration": 594,
    "start_time": "2023-02-27T14:40:29.857Z"
   },
   {
    "duration": 16,
    "start_time": "2023-02-27T14:40:42.785Z"
   },
   {
    "duration": 16,
    "start_time": "2023-02-27T14:40:53.612Z"
   },
   {
    "duration": 613,
    "start_time": "2023-02-27T14:41:00.879Z"
   },
   {
    "duration": 18,
    "start_time": "2023-02-27T14:41:12.471Z"
   },
   {
    "duration": 187,
    "start_time": "2023-02-27T14:41:17.084Z"
   },
   {
    "duration": 12,
    "start_time": "2023-02-27T14:41:30.931Z"
   },
   {
    "duration": 6,
    "start_time": "2023-02-27T14:41:33.895Z"
   },
   {
    "duration": 18,
    "start_time": "2023-02-27T14:41:34.235Z"
   },
   {
    "duration": 5,
    "start_time": "2023-02-27T14:41:39.148Z"
   },
   {
    "duration": 15,
    "start_time": "2023-02-27T14:41:41.378Z"
   },
   {
    "duration": 7,
    "start_time": "2023-02-27T14:41:41.949Z"
   },
   {
    "duration": 113,
    "start_time": "2023-02-27T14:41:42.365Z"
   },
   {
    "duration": 24,
    "start_time": "2023-02-27T14:41:44.682Z"
   },
   {
    "duration": 6,
    "start_time": "2023-02-27T14:41:52.684Z"
   },
   {
    "duration": 8,
    "start_time": "2023-02-27T14:41:55.063Z"
   },
   {
    "duration": 958,
    "start_time": "2023-02-27T14:41:56.287Z"
   },
   {
    "duration": 1022,
    "start_time": "2023-02-27T14:41:58.148Z"
   },
   {
    "duration": 1093,
    "start_time": "2023-02-27T14:42:00.081Z"
   },
   {
    "duration": 487,
    "start_time": "2023-02-27T14:42:11.650Z"
   },
   {
    "duration": 15,
    "start_time": "2023-02-27T14:42:14.944Z"
   },
   {
    "duration": 373,
    "start_time": "2023-02-27T14:42:16.879Z"
   },
   {
    "duration": 11,
    "start_time": "2023-02-27T14:42:21.071Z"
   },
   {
    "duration": 195,
    "start_time": "2023-02-27T14:42:29.388Z"
   },
   {
    "duration": 221,
    "start_time": "2023-02-27T14:42:43.202Z"
   },
   {
    "duration": 816,
    "start_time": "2023-02-27T14:42:47.096Z"
   },
   {
    "duration": 11,
    "start_time": "2023-02-27T14:45:41.764Z"
   },
   {
    "duration": 11,
    "start_time": "2023-02-27T14:45:47.125Z"
   },
   {
    "duration": 12,
    "start_time": "2023-02-27T14:45:57.249Z"
   },
   {
    "duration": 11,
    "start_time": "2023-02-27T14:46:36.803Z"
   },
   {
    "duration": 7,
    "start_time": "2023-02-27T14:46:52.048Z"
   },
   {
    "duration": 12,
    "start_time": "2023-02-27T14:47:23.648Z"
   },
   {
    "duration": 11,
    "start_time": "2023-02-27T14:47:55.089Z"
   },
   {
    "duration": 90,
    "start_time": "2023-02-27T14:47:59.907Z"
   },
   {
    "duration": 3,
    "start_time": "2023-02-27T14:48:53.233Z"
   },
   {
    "duration": 6,
    "start_time": "2023-02-27T14:49:07.879Z"
   },
   {
    "duration": 7,
    "start_time": "2023-02-27T14:49:13.048Z"
   },
   {
    "duration": 5,
    "start_time": "2023-02-27T14:49:25.273Z"
   },
   {
    "duration": 6,
    "start_time": "2023-02-27T14:49:40.001Z"
   },
   {
    "duration": 6,
    "start_time": "2023-02-27T14:49:56.012Z"
   },
   {
    "duration": 8,
    "start_time": "2023-02-27T14:50:00.115Z"
   },
   {
    "duration": 12,
    "start_time": "2023-02-27T14:52:01.275Z"
   },
   {
    "duration": 12,
    "start_time": "2023-02-27T14:52:19.617Z"
   },
   {
    "duration": 45,
    "start_time": "2023-02-27T14:52:26.527Z"
   },
   {
    "duration": 45,
    "start_time": "2023-02-27T14:52:30.916Z"
   },
   {
    "duration": 52,
    "start_time": "2023-02-27T14:52:36.768Z"
   },
   {
    "duration": 12,
    "start_time": "2023-02-27T14:52:40.548Z"
   },
   {
    "duration": 12,
    "start_time": "2023-02-27T14:52:46.515Z"
   },
   {
    "duration": 5,
    "start_time": "2023-02-27T14:53:02.069Z"
   },
   {
    "duration": 8,
    "start_time": "2023-02-27T14:53:17.713Z"
   },
   {
    "duration": 13,
    "start_time": "2023-02-27T14:53:24.793Z"
   },
   {
    "duration": 14,
    "start_time": "2023-02-27T14:53:35.988Z"
   },
   {
    "duration": 10,
    "start_time": "2023-02-27T14:53:44.506Z"
   },
   {
    "duration": 15,
    "start_time": "2023-02-27T14:53:49.795Z"
   },
   {
    "duration": 13,
    "start_time": "2023-02-27T14:53:53.261Z"
   },
   {
    "duration": 15,
    "start_time": "2023-02-27T14:54:06.747Z"
   },
   {
    "duration": 12,
    "start_time": "2023-02-27T14:54:12.963Z"
   },
   {
    "duration": 11,
    "start_time": "2023-02-27T14:54:17.417Z"
   },
   {
    "duration": 4,
    "start_time": "2023-02-27T14:54:20.401Z"
   },
   {
    "duration": 14,
    "start_time": "2023-02-27T14:54:29.847Z"
   },
   {
    "duration": 4,
    "start_time": "2023-02-27T14:54:36.162Z"
   },
   {
    "duration": 867,
    "start_time": "2023-02-27T14:54:42.557Z"
   },
   {
    "duration": 8,
    "start_time": "2023-02-27T14:55:50.406Z"
   },
   {
    "duration": 10,
    "start_time": "2023-02-27T14:55:52.460Z"
   },
   {
    "duration": 8,
    "start_time": "2023-02-27T14:55:54.973Z"
   },
   {
    "duration": 16,
    "start_time": "2023-02-27T14:55:57.584Z"
   },
   {
    "duration": 4,
    "start_time": "2023-02-27T14:56:09.607Z"
   },
   {
    "duration": 3,
    "start_time": "2023-02-27T14:56:14.534Z"
   },
   {
    "duration": 4,
    "start_time": "2023-02-27T14:56:18.224Z"
   },
   {
    "duration": 15,
    "start_time": "2023-02-27T14:56:26.385Z"
   },
   {
    "duration": 10,
    "start_time": "2023-02-27T14:56:39.973Z"
   },
   {
    "duration": 3,
    "start_time": "2023-02-27T14:56:43.331Z"
   },
   {
    "duration": 4,
    "start_time": "2023-02-27T14:56:48.795Z"
   },
   {
    "duration": 10,
    "start_time": "2023-02-27T14:56:54.472Z"
   },
   {
    "duration": 13,
    "start_time": "2023-02-27T14:56:59.687Z"
   },
   {
    "duration": 3,
    "start_time": "2023-02-27T14:57:02.106Z"
   },
   {
    "duration": 16,
    "start_time": "2023-02-27T14:57:05.649Z"
   },
   {
    "duration": 16,
    "start_time": "2023-02-27T14:57:16.220Z"
   },
   {
    "duration": 18,
    "start_time": "2023-02-27T14:57:31.234Z"
   },
   {
    "duration": 12,
    "start_time": "2023-02-27T14:58:44.882Z"
   },
   {
    "duration": 35,
    "start_time": "2023-02-27T14:59:10.066Z"
   },
   {
    "duration": 803,
    "start_time": "2023-02-27T14:59:17.498Z"
   },
   {
    "duration": 40,
    "start_time": "2023-02-27T15:00:09.492Z"
   },
   {
    "duration": 20,
    "start_time": "2023-02-27T15:00:25.497Z"
   },
   {
    "duration": 14,
    "start_time": "2023-02-27T15:01:19.572Z"
   },
   {
    "duration": 4,
    "start_time": "2023-02-27T15:02:19.224Z"
   },
   {
    "duration": 732,
    "start_time": "2023-02-27T15:02:19.230Z"
   },
   {
    "duration": 4,
    "start_time": "2023-02-27T15:02:19.964Z"
   },
   {
    "duration": 22,
    "start_time": "2023-02-27T15:02:19.970Z"
   },
   {
    "duration": 10,
    "start_time": "2023-02-27T15:02:19.995Z"
   },
   {
    "duration": 21,
    "start_time": "2023-02-27T15:02:20.007Z"
   },
   {
    "duration": 35,
    "start_time": "2023-02-27T15:02:20.030Z"
   },
   {
    "duration": 37,
    "start_time": "2023-02-27T15:02:20.067Z"
   },
   {
    "duration": 5,
    "start_time": "2023-02-27T15:02:20.106Z"
   },
   {
    "duration": 57,
    "start_time": "2023-02-27T15:02:20.113Z"
   },
   {
    "duration": 66,
    "start_time": "2023-02-27T15:02:20.172Z"
   },
   {
    "duration": 25,
    "start_time": "2023-02-27T15:02:20.239Z"
   },
   {
    "duration": 773,
    "start_time": "2023-02-27T15:02:20.266Z"
   },
   {
    "duration": 19,
    "start_time": "2023-02-27T15:02:21.042Z"
   },
   {
    "duration": 33,
    "start_time": "2023-02-27T15:02:21.062Z"
   },
   {
    "duration": 620,
    "start_time": "2023-02-27T15:02:21.097Z"
   },
   {
    "duration": 13,
    "start_time": "2023-02-27T15:02:21.719Z"
   },
   {
    "duration": 89,
    "start_time": "2023-02-27T15:02:21.734Z"
   },
   {
    "duration": 30,
    "start_time": "2023-02-27T15:02:21.825Z"
   },
   {
    "duration": 10,
    "start_time": "2023-02-27T15:02:21.857Z"
   },
   {
    "duration": 32,
    "start_time": "2023-02-27T15:02:21.868Z"
   },
   {
    "duration": 8,
    "start_time": "2023-02-27T15:02:21.902Z"
   },
   {
    "duration": 25,
    "start_time": "2023-02-27T15:02:21.912Z"
   },
   {
    "duration": 22,
    "start_time": "2023-02-27T15:02:21.939Z"
   },
   {
    "duration": 115,
    "start_time": "2023-02-27T15:02:21.963Z"
   },
   {
    "duration": 23,
    "start_time": "2023-02-27T15:02:22.080Z"
   },
   {
    "duration": 5,
    "start_time": "2023-02-27T15:02:22.105Z"
   },
   {
    "duration": 11,
    "start_time": "2023-02-27T15:02:22.112Z"
   },
   {
    "duration": 1031,
    "start_time": "2023-02-27T15:02:22.127Z"
   },
   {
    "duration": 1020,
    "start_time": "2023-02-27T15:02:23.160Z"
   },
   {
    "duration": 1073,
    "start_time": "2023-02-27T15:02:24.182Z"
   },
   {
    "duration": 363,
    "start_time": "2023-02-27T15:02:25.257Z"
   },
   {
    "duration": 11,
    "start_time": "2023-02-27T15:02:25.622Z"
   },
   {
    "duration": 434,
    "start_time": "2023-02-27T15:02:25.635Z"
   },
   {
    "duration": 12,
    "start_time": "2023-02-27T15:02:26.071Z"
   },
   {
    "duration": 221,
    "start_time": "2023-02-27T15:02:26.084Z"
   },
   {
    "duration": 791,
    "start_time": "2023-02-27T15:02:26.307Z"
   },
   {
    "duration": 821,
    "start_time": "2023-02-27T15:02:28.998Z"
   },
   {
    "duration": 20,
    "start_time": "2023-02-27T15:02:30.727Z"
   },
   {
    "duration": 708,
    "start_time": "2023-02-27T15:02:33.587Z"
   },
   {
    "duration": 233,
    "start_time": "2023-02-27T15:02:41.803Z"
   },
   {
    "duration": 783,
    "start_time": "2023-02-27T15:02:43.729Z"
   },
   {
    "duration": 9,
    "start_time": "2023-02-27T15:06:07.167Z"
   },
   {
    "duration": 80,
    "start_time": "2023-02-27T15:06:10.493Z"
   },
   {
    "duration": 80,
    "start_time": "2023-02-27T15:06:29.432Z"
   },
   {
    "duration": 11,
    "start_time": "2023-02-27T15:06:59.575Z"
   },
   {
    "duration": 94,
    "start_time": "2023-02-27T15:07:02.763Z"
   },
   {
    "duration": 122,
    "start_time": "2023-02-27T15:07:11.311Z"
   },
   {
    "duration": 127,
    "start_time": "2023-02-27T15:08:11.309Z"
   },
   {
    "duration": 85,
    "start_time": "2023-02-27T15:08:25.448Z"
   },
   {
    "duration": 4,
    "start_time": "2023-02-27T15:08:31.996Z"
   },
   {
    "duration": 655,
    "start_time": "2023-02-27T15:08:32.002Z"
   },
   {
    "duration": 4,
    "start_time": "2023-02-27T15:08:32.659Z"
   },
   {
    "duration": 12,
    "start_time": "2023-02-27T15:08:32.665Z"
   },
   {
    "duration": 7,
    "start_time": "2023-02-27T15:08:32.679Z"
   },
   {
    "duration": 12,
    "start_time": "2023-02-27T15:08:32.687Z"
   },
   {
    "duration": 22,
    "start_time": "2023-02-27T15:08:32.701Z"
   },
   {
    "duration": 35,
    "start_time": "2023-02-27T15:08:32.725Z"
   },
   {
    "duration": 4,
    "start_time": "2023-02-27T15:08:32.761Z"
   },
   {
    "duration": 34,
    "start_time": "2023-02-27T15:08:32.766Z"
   },
   {
    "duration": 21,
    "start_time": "2023-02-27T15:08:32.803Z"
   },
   {
    "duration": 34,
    "start_time": "2023-02-27T15:08:32.826Z"
   },
   {
    "duration": 914,
    "start_time": "2023-02-27T15:08:32.862Z"
   },
   {
    "duration": 16,
    "start_time": "2023-02-27T15:08:33.779Z"
   },
   {
    "duration": 29,
    "start_time": "2023-02-27T15:08:33.796Z"
   },
   {
    "duration": 595,
    "start_time": "2023-02-27T15:08:33.827Z"
   },
   {
    "duration": 12,
    "start_time": "2023-02-27T15:08:34.423Z"
   },
   {
    "duration": 85,
    "start_time": "2023-02-27T15:08:34.436Z"
   },
   {
    "duration": 12,
    "start_time": "2023-02-27T15:08:34.522Z"
   },
   {
    "duration": 6,
    "start_time": "2023-02-27T15:08:34.548Z"
   },
   {
    "duration": 20,
    "start_time": "2023-02-27T15:08:34.555Z"
   },
   {
    "duration": 10,
    "start_time": "2023-02-27T15:08:34.576Z"
   },
   {
    "duration": 22,
    "start_time": "2023-02-27T15:08:34.587Z"
   },
   {
    "duration": 10,
    "start_time": "2023-02-27T15:08:34.611Z"
   },
   {
    "duration": 131,
    "start_time": "2023-02-27T15:08:34.622Z"
   },
   {
    "duration": 20,
    "start_time": "2023-02-27T15:08:34.755Z"
   },
   {
    "duration": 5,
    "start_time": "2023-02-27T15:08:34.776Z"
   },
   {
    "duration": 6,
    "start_time": "2023-02-27T15:08:34.782Z"
   },
   {
    "duration": 1096,
    "start_time": "2023-02-27T15:08:34.791Z"
   },
   {
    "duration": 1106,
    "start_time": "2023-02-27T15:08:35.889Z"
   },
   {
    "duration": 1157,
    "start_time": "2023-02-27T15:08:36.996Z"
   },
   {
    "duration": 359,
    "start_time": "2023-02-27T15:08:38.155Z"
   },
   {
    "duration": 12,
    "start_time": "2023-02-27T15:08:38.515Z"
   },
   {
    "duration": 409,
    "start_time": "2023-02-27T15:08:38.529Z"
   },
   {
    "duration": 17,
    "start_time": "2023-02-27T15:08:38.940Z"
   },
   {
    "duration": 214,
    "start_time": "2023-02-27T15:08:38.959Z"
   },
   {
    "duration": 744,
    "start_time": "2023-02-27T15:08:39.175Z"
   },
   {
    "duration": 945,
    "start_time": "2023-02-27T15:08:43.280Z"
   },
   {
    "duration": 89,
    "start_time": "2023-02-27T15:08:46.708Z"
   },
   {
    "duration": 80,
    "start_time": "2023-02-27T15:08:57.487Z"
   },
   {
    "duration": 105,
    "start_time": "2023-02-27T15:09:25.307Z"
   },
   {
    "duration": 73,
    "start_time": "2023-02-27T15:09:40.163Z"
   },
   {
    "duration": 10,
    "start_time": "2023-02-27T15:09:47.798Z"
   },
   {
    "duration": 94,
    "start_time": "2023-02-27T15:09:50.703Z"
   },
   {
    "duration": 121,
    "start_time": "2023-02-27T15:09:58.784Z"
   },
   {
    "duration": 95,
    "start_time": "2023-02-27T15:10:20.107Z"
   },
   {
    "duration": 130,
    "start_time": "2023-02-27T15:10:37.895Z"
   },
   {
    "duration": 77,
    "start_time": "2023-02-27T15:11:20.369Z"
   },
   {
    "duration": 406,
    "start_time": "2023-02-27T15:12:15.612Z"
   },
   {
    "duration": 82,
    "start_time": "2023-02-27T15:12:20.373Z"
   },
   {
    "duration": 81,
    "start_time": "2023-02-27T15:12:26.180Z"
   },
   {
    "duration": 70,
    "start_time": "2023-02-27T15:12:48.993Z"
   },
   {
    "duration": 73,
    "start_time": "2023-02-27T15:13:10.191Z"
   },
   {
    "duration": 337,
    "start_time": "2023-02-27T15:13:39.787Z"
   },
   {
    "duration": 376,
    "start_time": "2023-02-27T15:14:06.250Z"
   },
   {
    "duration": 360,
    "start_time": "2023-02-27T15:14:43.631Z"
   },
   {
    "duration": 321,
    "start_time": "2023-02-27T15:14:48.995Z"
   },
   {
    "duration": 6,
    "start_time": "2023-02-27T15:15:15.778Z"
   },
   {
    "duration": 76,
    "start_time": "2023-02-27T15:15:25.351Z"
   },
   {
    "duration": 75,
    "start_time": "2023-02-27T15:15:30.890Z"
   },
   {
    "duration": 87,
    "start_time": "2023-02-27T15:16:03.298Z"
   },
   {
    "duration": 69,
    "start_time": "2023-02-27T15:16:08.157Z"
   },
   {
    "duration": 76,
    "start_time": "2023-02-27T15:16:57.254Z"
   },
   {
    "duration": 76,
    "start_time": "2023-02-27T15:17:10.612Z"
   },
   {
    "duration": 5,
    "start_time": "2023-02-27T15:18:57.834Z"
   },
   {
    "duration": 9,
    "start_time": "2023-02-27T15:19:05.392Z"
   },
   {
    "duration": 10,
    "start_time": "2023-02-27T15:19:07.662Z"
   },
   {
    "duration": 9,
    "start_time": "2023-02-27T15:19:09.475Z"
   },
   {
    "duration": 10,
    "start_time": "2023-02-27T15:20:03.353Z"
   },
   {
    "duration": 106,
    "start_time": "2023-02-27T15:20:09.403Z"
   },
   {
    "duration": 9,
    "start_time": "2023-02-27T15:20:27.094Z"
   },
   {
    "duration": 9,
    "start_time": "2023-02-27T15:20:36.785Z"
   },
   {
    "duration": 8,
    "start_time": "2023-02-27T15:20:46.118Z"
   },
   {
    "duration": 132,
    "start_time": "2023-02-27T15:20:55.279Z"
   },
   {
    "duration": 9,
    "start_time": "2023-02-27T15:21:11.693Z"
   },
   {
    "duration": 54,
    "start_time": "2023-02-27T15:21:15.814Z"
   },
   {
    "duration": 359,
    "start_time": "2023-02-27T15:21:22.668Z"
   },
   {
    "duration": 52,
    "start_time": "2023-02-27T15:22:28.459Z"
   },
   {
    "duration": 9,
    "start_time": "2023-02-27T15:22:32.809Z"
   },
   {
    "duration": 89,
    "start_time": "2023-02-27T15:23:10.051Z"
   },
   {
    "duration": 10,
    "start_time": "2023-02-27T15:23:31.090Z"
   },
   {
    "duration": 6,
    "start_time": "2023-02-27T15:23:49.775Z"
   },
   {
    "duration": 6,
    "start_time": "2023-02-27T15:24:05.559Z"
   },
   {
    "duration": 9,
    "start_time": "2023-02-27T15:24:28.030Z"
   },
   {
    "duration": 8,
    "start_time": "2023-02-27T15:24:36.975Z"
   },
   {
    "duration": 55,
    "start_time": "2023-02-27T15:27:48.235Z"
   },
   {
    "duration": 7,
    "start_time": "2023-02-27T15:28:04.434Z"
   },
   {
    "duration": 103,
    "start_time": "2023-02-27T15:28:44.589Z"
   },
   {
    "duration": 93,
    "start_time": "2023-02-27T15:29:47.246Z"
   },
   {
    "duration": 104,
    "start_time": "2023-02-27T15:29:54.678Z"
   },
   {
    "duration": 110,
    "start_time": "2023-02-27T15:31:09.104Z"
   },
   {
    "duration": 159,
    "start_time": "2023-02-27T15:31:21.359Z"
   },
   {
    "duration": 155,
    "start_time": "2023-02-27T15:31:42.365Z"
   },
   {
    "duration": 184,
    "start_time": "2023-02-27T15:31:47.718Z"
   },
   {
    "duration": 11,
    "start_time": "2023-02-27T15:32:52.878Z"
   },
   {
    "duration": 5,
    "start_time": "2023-02-27T15:32:59.247Z"
   },
   {
    "duration": 12,
    "start_time": "2023-02-27T15:33:02.424Z"
   },
   {
    "duration": 16,
    "start_time": "2023-02-27T15:35:04.572Z"
   },
   {
    "duration": 9,
    "start_time": "2023-02-27T15:35:24.150Z"
   },
   {
    "duration": 10,
    "start_time": "2023-02-27T15:35:55.602Z"
   },
   {
    "duration": 6,
    "start_time": "2023-02-27T15:35:58.910Z"
   },
   {
    "duration": 1700,
    "start_time": "2023-02-27T15:36:01.160Z"
   },
   {
    "duration": 11,
    "start_time": "2023-02-27T15:41:01.021Z"
   },
   {
    "duration": 13014,
    "start_time": "2023-02-27T15:41:11.968Z"
   },
   {
    "duration": 9,
    "start_time": "2023-02-27T15:42:45.514Z"
   },
   {
    "duration": 9,
    "start_time": "2023-02-27T15:43:24.255Z"
   },
   {
    "duration": 10,
    "start_time": "2023-02-27T15:43:30.770Z"
   },
   {
    "duration": 5,
    "start_time": "2023-02-27T15:44:34.869Z"
   },
   {
    "duration": 146322,
    "start_time": "2023-02-27T15:45:13.355Z"
   },
   {
    "duration": 4,
    "start_time": "2023-02-27T15:48:21.032Z"
   },
   {
    "duration": 105,
    "start_time": "2023-02-27T15:55:51.663Z"
   },
   {
    "duration": 174,
    "start_time": "2023-02-27T15:56:09.286Z"
   },
   {
    "duration": 176,
    "start_time": "2023-02-27T15:56:27.846Z"
   },
   {
    "duration": 312,
    "start_time": "2023-02-27T15:56:34.095Z"
   },
   {
    "duration": 100,
    "start_time": "2023-02-27T15:56:45.576Z"
   },
   {
    "duration": 235,
    "start_time": "2023-02-27T15:57:05.329Z"
   },
   {
    "duration": 208,
    "start_time": "2023-02-27T15:57:16.557Z"
   },
   {
    "duration": 230,
    "start_time": "2023-02-27T15:57:36.239Z"
   },
   {
    "duration": 18,
    "start_time": "2023-02-27T15:57:59.906Z"
   },
   {
    "duration": 17,
    "start_time": "2023-02-27T15:58:06.696Z"
   },
   {
    "duration": 152,
    "start_time": "2023-02-27T15:58:12.982Z"
   },
   {
    "duration": 190,
    "start_time": "2023-02-27T15:58:19.815Z"
   },
   {
    "duration": 190,
    "start_time": "2023-02-27T15:58:46.248Z"
   },
   {
    "duration": 205,
    "start_time": "2023-02-27T15:58:53.453Z"
   },
   {
    "duration": 230,
    "start_time": "2023-02-27T15:59:13.653Z"
   },
   {
    "duration": 194,
    "start_time": "2023-02-27T15:59:28.634Z"
   },
   {
    "duration": 212,
    "start_time": "2023-02-27T15:59:33.548Z"
   },
   {
    "duration": 503,
    "start_time": "2023-02-27T15:59:48.140Z"
   },
   {
    "duration": 281,
    "start_time": "2023-02-27T16:00:09.916Z"
   },
   {
    "duration": 201,
    "start_time": "2023-02-27T16:00:22.054Z"
   },
   {
    "duration": 54,
    "start_time": "2023-02-27T16:00:34.030Z"
   },
   {
    "duration": 66,
    "start_time": "2023-02-27T16:00:39.987Z"
   },
   {
    "duration": 215,
    "start_time": "2023-02-27T16:00:44.390Z"
   },
   {
    "duration": 200,
    "start_time": "2023-02-27T16:00:58.768Z"
   },
   {
    "duration": 58,
    "start_time": "2023-02-27T16:01:03.834Z"
   },
   {
    "duration": 209,
    "start_time": "2023-02-27T16:01:08.231Z"
   },
   {
    "duration": 243,
    "start_time": "2023-02-27T16:01:13.718Z"
   },
   {
    "duration": 185,
    "start_time": "2023-02-27T16:02:27.978Z"
   },
   {
    "duration": 177,
    "start_time": "2023-02-27T16:02:42.849Z"
   },
   {
    "duration": 162,
    "start_time": "2023-02-27T16:03:03.351Z"
   },
   {
    "duration": 245,
    "start_time": "2023-02-27T16:03:31.364Z"
   },
   {
    "duration": 234,
    "start_time": "2023-02-27T16:03:36.951Z"
   },
   {
    "duration": 238,
    "start_time": "2023-02-27T16:03:40.191Z"
   },
   {
    "duration": 245,
    "start_time": "2023-02-27T16:03:43.290Z"
   },
   {
    "duration": 260,
    "start_time": "2023-02-27T16:03:48.282Z"
   },
   {
    "duration": 281,
    "start_time": "2023-02-27T16:04:35.082Z"
   },
   {
    "duration": 612,
    "start_time": "2023-02-27T16:04:50.448Z"
   },
   {
    "duration": 275,
    "start_time": "2023-02-27T16:05:23.535Z"
   },
   {
    "duration": 268,
    "start_time": "2023-02-27T16:06:11.475Z"
   },
   {
    "duration": 302,
    "start_time": "2023-02-27T16:06:55.462Z"
   },
   {
    "duration": 59,
    "start_time": "2023-02-27T16:07:05.855Z"
   },
   {
    "duration": 65,
    "start_time": "2023-02-27T16:07:10.262Z"
   },
   {
    "duration": 289,
    "start_time": "2023-02-27T16:07:17.533Z"
   },
   {
    "duration": 279,
    "start_time": "2023-02-27T16:10:02.570Z"
   },
   {
    "duration": 299,
    "start_time": "2023-02-27T16:10:30.996Z"
   },
   {
    "duration": 275,
    "start_time": "2023-02-27T16:10:41.526Z"
   },
   {
    "duration": 265,
    "start_time": "2023-02-27T16:11:07.235Z"
   },
   {
    "duration": 303,
    "start_time": "2023-02-27T16:11:16.211Z"
   },
   {
    "duration": 311,
    "start_time": "2023-02-27T16:11:23.373Z"
   },
   {
    "duration": 258,
    "start_time": "2023-02-27T16:12:07.907Z"
   },
   {
    "duration": 4,
    "start_time": "2023-02-27T16:12:28.990Z"
   },
   {
    "duration": 275,
    "start_time": "2023-02-27T16:12:32.599Z"
   },
   {
    "duration": 650,
    "start_time": "2023-02-27T16:13:24.890Z"
   },
   {
    "duration": 285,
    "start_time": "2023-02-27T16:13:41.790Z"
   },
   {
    "duration": 324,
    "start_time": "2023-02-27T16:14:36.738Z"
   },
   {
    "duration": 295,
    "start_time": "2023-02-27T16:14:42.283Z"
   },
   {
    "duration": 280,
    "start_time": "2023-02-27T16:17:03.769Z"
   },
   {
    "duration": 8,
    "start_time": "2023-02-27T16:18:05.682Z"
   },
   {
    "duration": 276,
    "start_time": "2023-02-27T16:18:06.127Z"
   },
   {
    "duration": 458,
    "start_time": "2023-02-27T16:19:09.203Z"
   },
   {
    "duration": 267,
    "start_time": "2023-02-27T16:19:24.764Z"
   },
   {
    "duration": 287,
    "start_time": "2023-02-27T16:20:09.738Z"
   },
   {
    "duration": 9,
    "start_time": "2023-02-27T16:21:26.052Z"
   },
   {
    "duration": 262,
    "start_time": "2023-02-27T16:21:26.931Z"
   },
   {
    "duration": 16,
    "start_time": "2023-02-27T16:25:45.019Z"
   },
   {
    "duration": 16,
    "start_time": "2023-02-27T16:26:10.124Z"
   },
   {
    "duration": 10,
    "start_time": "2023-02-27T16:26:14.589Z"
   },
   {
    "duration": 11,
    "start_time": "2023-02-27T16:26:35.724Z"
   },
   {
    "duration": 14,
    "start_time": "2023-02-27T16:30:16.392Z"
   },
   {
    "duration": 30,
    "start_time": "2023-02-27T16:30:24.360Z"
   },
   {
    "duration": 46,
    "start_time": "2023-02-27T16:31:51.125Z"
   },
   {
    "duration": 48,
    "start_time": "2023-02-27T16:32:01.646Z"
   },
   {
    "duration": 13,
    "start_time": "2023-02-27T16:32:05.396Z"
   },
   {
    "duration": 13,
    "start_time": "2023-02-27T16:34:03.998Z"
   },
   {
    "duration": 57,
    "start_time": "2023-02-27T16:34:26.403Z"
   },
   {
    "duration": 14,
    "start_time": "2023-02-27T16:34:31.415Z"
   },
   {
    "duration": 14,
    "start_time": "2023-02-27T16:34:37.175Z"
   },
   {
    "duration": 25,
    "start_time": "2023-02-27T16:34:40.584Z"
   },
   {
    "duration": 4,
    "start_time": "2023-02-27T16:34:48.699Z"
   },
   {
    "duration": 631,
    "start_time": "2023-02-27T16:34:48.705Z"
   },
   {
    "duration": 3,
    "start_time": "2023-02-27T16:34:49.338Z"
   },
   {
    "duration": 9,
    "start_time": "2023-02-27T16:34:49.342Z"
   },
   {
    "duration": 4,
    "start_time": "2023-02-27T16:34:49.354Z"
   },
   {
    "duration": 8,
    "start_time": "2023-02-27T16:34:49.359Z"
   },
   {
    "duration": 17,
    "start_time": "2023-02-27T16:34:49.368Z"
   },
   {
    "duration": 22,
    "start_time": "2023-02-27T16:34:49.386Z"
   },
   {
    "duration": 4,
    "start_time": "2023-02-27T16:34:49.409Z"
   },
   {
    "duration": 56,
    "start_time": "2023-02-27T16:34:49.414Z"
   },
   {
    "duration": 18,
    "start_time": "2023-02-27T16:34:49.473Z"
   },
   {
    "duration": 14,
    "start_time": "2023-02-27T16:34:49.493Z"
   },
   {
    "duration": 631,
    "start_time": "2023-02-27T16:34:49.509Z"
   },
   {
    "duration": 15,
    "start_time": "2023-02-27T16:34:50.148Z"
   },
   {
    "duration": 15,
    "start_time": "2023-02-27T16:34:50.165Z"
   },
   {
    "duration": 927,
    "start_time": "2023-02-27T16:34:50.182Z"
   },
   {
    "duration": 12,
    "start_time": "2023-02-27T16:34:51.111Z"
   },
   {
    "duration": 86,
    "start_time": "2023-02-27T16:34:51.125Z"
   },
   {
    "duration": 13,
    "start_time": "2023-02-27T16:34:51.213Z"
   },
   {
    "duration": 12,
    "start_time": "2023-02-27T16:34:51.227Z"
   },
   {
    "duration": 18,
    "start_time": "2023-02-27T16:34:51.248Z"
   },
   {
    "duration": 22,
    "start_time": "2023-02-27T16:34:51.267Z"
   },
   {
    "duration": 33,
    "start_time": "2023-02-27T16:34:51.291Z"
   },
   {
    "duration": 22,
    "start_time": "2023-02-27T16:34:51.325Z"
   },
   {
    "duration": 121,
    "start_time": "2023-02-27T16:34:51.348Z"
   },
   {
    "duration": 21,
    "start_time": "2023-02-27T16:34:51.470Z"
   },
   {
    "duration": 4,
    "start_time": "2023-02-27T16:34:51.493Z"
   },
   {
    "duration": 9,
    "start_time": "2023-02-27T16:34:51.499Z"
   },
   {
    "duration": 1043,
    "start_time": "2023-02-27T16:34:51.511Z"
   },
   {
    "duration": 1004,
    "start_time": "2023-02-27T16:34:52.556Z"
   },
   {
    "duration": 1040,
    "start_time": "2023-02-27T16:34:53.562Z"
   },
   {
    "duration": 428,
    "start_time": "2023-02-27T16:34:54.605Z"
   },
   {
    "duration": 20,
    "start_time": "2023-02-27T16:34:55.035Z"
   },
   {
    "duration": 375,
    "start_time": "2023-02-27T16:34:55.057Z"
   },
   {
    "duration": 20,
    "start_time": "2023-02-27T16:34:55.434Z"
   },
   {
    "duration": 222,
    "start_time": "2023-02-27T16:34:55.456Z"
   },
   {
    "duration": 720,
    "start_time": "2023-02-27T16:34:55.680Z"
   },
   {
    "duration": 273,
    "start_time": "2023-02-27T16:34:56.402Z"
   },
   {
    "duration": 11,
    "start_time": "2023-02-27T16:34:56.677Z"
   },
   {
    "duration": 12,
    "start_time": "2023-02-27T16:35:00.034Z"
   },
   {
    "duration": 16,
    "start_time": "2023-02-27T16:35:01.210Z"
   },
   {
    "duration": 35,
    "start_time": "2023-02-27T16:35:03.241Z"
   },
   {
    "duration": 20,
    "start_time": "2023-02-27T16:36:13.190Z"
   },
   {
    "duration": 4,
    "start_time": "2023-02-27T16:36:27.863Z"
   },
   {
    "duration": 596,
    "start_time": "2023-02-27T16:36:27.869Z"
   },
   {
    "duration": 3,
    "start_time": "2023-02-27T16:36:28.467Z"
   },
   {
    "duration": 9,
    "start_time": "2023-02-27T16:36:28.471Z"
   },
   {
    "duration": 7,
    "start_time": "2023-02-27T16:36:28.482Z"
   },
   {
    "duration": 8,
    "start_time": "2023-02-27T16:36:28.490Z"
   },
   {
    "duration": 17,
    "start_time": "2023-02-27T16:36:28.499Z"
   },
   {
    "duration": 41,
    "start_time": "2023-02-27T16:36:28.518Z"
   },
   {
    "duration": 3,
    "start_time": "2023-02-27T16:36:28.561Z"
   },
   {
    "duration": 26,
    "start_time": "2023-02-27T16:36:28.565Z"
   },
   {
    "duration": 18,
    "start_time": "2023-02-27T16:36:28.592Z"
   },
   {
    "duration": 36,
    "start_time": "2023-02-27T16:36:28.612Z"
   },
   {
    "duration": 601,
    "start_time": "2023-02-27T16:36:28.650Z"
   },
   {
    "duration": 14,
    "start_time": "2023-02-27T16:36:29.254Z"
   },
   {
    "duration": 14,
    "start_time": "2023-02-27T16:36:29.270Z"
   },
   {
    "duration": 583,
    "start_time": "2023-02-27T16:36:29.285Z"
   },
   {
    "duration": 13,
    "start_time": "2023-02-27T16:36:29.870Z"
   },
   {
    "duration": 90,
    "start_time": "2023-02-27T16:36:29.885Z"
   },
   {
    "duration": 13,
    "start_time": "2023-02-27T16:36:29.977Z"
   },
   {
    "duration": 7,
    "start_time": "2023-02-27T16:36:29.992Z"
   },
   {
    "duration": 32,
    "start_time": "2023-02-27T16:36:30.000Z"
   },
   {
    "duration": 18,
    "start_time": "2023-02-27T16:36:30.034Z"
   },
   {
    "duration": 21,
    "start_time": "2023-02-27T16:36:30.054Z"
   },
   {
    "duration": 26,
    "start_time": "2023-02-27T16:36:30.077Z"
   },
   {
    "duration": 132,
    "start_time": "2023-02-27T16:36:30.104Z"
   },
   {
    "duration": 25,
    "start_time": "2023-02-27T16:36:30.239Z"
   },
   {
    "duration": 5,
    "start_time": "2023-02-27T16:36:30.266Z"
   },
   {
    "duration": 38,
    "start_time": "2023-02-27T16:36:30.273Z"
   },
   {
    "duration": 1046,
    "start_time": "2023-02-27T16:36:30.314Z"
   },
   {
    "duration": 1000,
    "start_time": "2023-02-27T16:36:31.363Z"
   },
   {
    "duration": 1101,
    "start_time": "2023-02-27T16:36:32.365Z"
   },
   {
    "duration": 363,
    "start_time": "2023-02-27T16:36:33.468Z"
   },
   {
    "duration": 21,
    "start_time": "2023-02-27T16:36:33.832Z"
   },
   {
    "duration": 395,
    "start_time": "2023-02-27T16:36:33.855Z"
   },
   {
    "duration": 13,
    "start_time": "2023-02-27T16:36:34.252Z"
   },
   {
    "duration": 217,
    "start_time": "2023-02-27T16:36:34.266Z"
   },
   {
    "duration": 838,
    "start_time": "2023-02-27T16:36:34.485Z"
   },
   {
    "duration": 296,
    "start_time": "2023-02-27T16:36:35.325Z"
   },
   {
    "duration": 11,
    "start_time": "2023-02-27T16:36:41.269Z"
   },
   {
    "duration": 23,
    "start_time": "2023-02-27T16:36:42.979Z"
   },
   {
    "duration": 24,
    "start_time": "2023-02-27T16:36:46.781Z"
   },
   {
    "duration": 8,
    "start_time": "2023-02-27T16:40:46.392Z"
   },
   {
    "duration": 25,
    "start_time": "2023-02-27T16:40:47.686Z"
   },
   {
    "duration": 16,
    "start_time": "2023-02-27T16:40:57.299Z"
   },
   {
    "duration": 18,
    "start_time": "2023-02-27T16:41:11.747Z"
   },
   {
    "duration": 18,
    "start_time": "2023-02-27T16:41:22.529Z"
   },
   {
    "duration": 19,
    "start_time": "2023-02-27T16:42:30.647Z"
   },
   {
    "duration": 4,
    "start_time": "2023-02-27T16:42:36.985Z"
   },
   {
    "duration": 643,
    "start_time": "2023-02-27T16:42:36.991Z"
   },
   {
    "duration": 3,
    "start_time": "2023-02-27T16:42:37.636Z"
   },
   {
    "duration": 13,
    "start_time": "2023-02-27T16:42:37.641Z"
   },
   {
    "duration": 7,
    "start_time": "2023-02-27T16:42:37.656Z"
   },
   {
    "duration": 13,
    "start_time": "2023-02-27T16:42:37.665Z"
   },
   {
    "duration": 19,
    "start_time": "2023-02-27T16:42:37.680Z"
   },
   {
    "duration": 52,
    "start_time": "2023-02-27T16:42:37.701Z"
   },
   {
    "duration": 4,
    "start_time": "2023-02-27T16:42:37.754Z"
   },
   {
    "duration": 29,
    "start_time": "2023-02-27T16:42:37.760Z"
   },
   {
    "duration": 19,
    "start_time": "2023-02-27T16:42:37.791Z"
   },
   {
    "duration": 37,
    "start_time": "2023-02-27T16:42:37.812Z"
   },
   {
    "duration": 1030,
    "start_time": "2023-02-27T16:42:37.851Z"
   },
   {
    "duration": 15,
    "start_time": "2023-02-27T16:42:38.884Z"
   },
   {
    "duration": 17,
    "start_time": "2023-02-27T16:42:38.901Z"
   },
   {
    "duration": 649,
    "start_time": "2023-02-27T16:42:38.920Z"
   },
   {
    "duration": 11,
    "start_time": "2023-02-27T16:42:39.570Z"
   },
   {
    "duration": 79,
    "start_time": "2023-02-27T16:42:39.583Z"
   },
   {
    "duration": 12,
    "start_time": "2023-02-27T16:42:39.664Z"
   },
   {
    "duration": 6,
    "start_time": "2023-02-27T16:42:39.678Z"
   },
   {
    "duration": 16,
    "start_time": "2023-02-27T16:42:39.685Z"
   },
   {
    "duration": 6,
    "start_time": "2023-02-27T16:42:39.702Z"
   },
   {
    "duration": 45,
    "start_time": "2023-02-27T16:42:39.710Z"
   },
   {
    "duration": 7,
    "start_time": "2023-02-27T16:42:39.757Z"
   },
   {
    "duration": 123,
    "start_time": "2023-02-27T16:42:39.765Z"
   },
   {
    "duration": 21,
    "start_time": "2023-02-27T16:42:39.889Z"
   },
   {
    "duration": 5,
    "start_time": "2023-02-27T16:42:39.912Z"
   },
   {
    "duration": 14,
    "start_time": "2023-02-27T16:42:39.918Z"
   },
   {
    "duration": 1311,
    "start_time": "2023-02-27T16:42:39.933Z"
   },
   {
    "duration": 1025,
    "start_time": "2023-02-27T16:42:41.246Z"
   },
   {
    "duration": 996,
    "start_time": "2023-02-27T16:42:42.273Z"
   },
   {
    "duration": 369,
    "start_time": "2023-02-27T16:42:43.271Z"
   },
   {
    "duration": 14,
    "start_time": "2023-02-27T16:42:43.648Z"
   },
   {
    "duration": 379,
    "start_time": "2023-02-27T16:42:43.664Z"
   },
   {
    "duration": 12,
    "start_time": "2023-02-27T16:42:44.045Z"
   },
   {
    "duration": 219,
    "start_time": "2023-02-27T16:42:44.058Z"
   },
   {
    "duration": 831,
    "start_time": "2023-02-27T16:42:44.279Z"
   },
   {
    "duration": 295,
    "start_time": "2023-02-27T16:42:45.112Z"
   },
   {
    "duration": 12,
    "start_time": "2023-02-27T16:42:45.409Z"
   },
   {
    "duration": 12,
    "start_time": "2023-02-27T16:42:46.711Z"
   },
   {
    "duration": 11,
    "start_time": "2023-02-27T16:42:47.996Z"
   },
   {
    "duration": 33,
    "start_time": "2023-02-27T16:42:48.869Z"
   },
   {
    "duration": 5,
    "start_time": "2023-02-27T16:43:37.725Z"
   },
   {
    "duration": 587,
    "start_time": "2023-02-27T16:43:37.731Z"
   },
   {
    "duration": 3,
    "start_time": "2023-02-27T16:43:38.320Z"
   },
   {
    "duration": 24,
    "start_time": "2023-02-27T16:43:38.325Z"
   },
   {
    "duration": 17,
    "start_time": "2023-02-27T16:43:38.351Z"
   },
   {
    "duration": 9,
    "start_time": "2023-02-27T16:43:38.370Z"
   },
   {
    "duration": 31,
    "start_time": "2023-02-27T16:43:38.380Z"
   },
   {
    "duration": 22,
    "start_time": "2023-02-27T16:43:38.413Z"
   },
   {
    "duration": 4,
    "start_time": "2023-02-27T16:43:38.437Z"
   },
   {
    "duration": 40,
    "start_time": "2023-02-27T16:43:38.443Z"
   },
   {
    "duration": 20,
    "start_time": "2023-02-27T16:43:38.486Z"
   },
   {
    "duration": 16,
    "start_time": "2023-02-27T16:43:38.508Z"
   },
   {
    "duration": 603,
    "start_time": "2023-02-27T16:43:38.526Z"
   },
   {
    "duration": 28,
    "start_time": "2023-02-27T16:43:39.131Z"
   },
   {
    "duration": 18,
    "start_time": "2023-02-27T16:43:39.161Z"
   },
   {
    "duration": 631,
    "start_time": "2023-02-27T16:43:39.181Z"
   },
   {
    "duration": 13,
    "start_time": "2023-02-27T16:43:39.814Z"
   },
   {
    "duration": 88,
    "start_time": "2023-02-27T16:43:39.829Z"
   },
   {
    "duration": 13,
    "start_time": "2023-02-27T16:43:39.919Z"
   },
   {
    "duration": 19,
    "start_time": "2023-02-27T16:43:39.934Z"
   },
   {
    "duration": 20,
    "start_time": "2023-02-27T16:43:39.955Z"
   },
   {
    "duration": 5,
    "start_time": "2023-02-27T16:43:39.977Z"
   },
   {
    "duration": 22,
    "start_time": "2023-02-27T16:43:39.983Z"
   },
   {
    "duration": 8,
    "start_time": "2023-02-27T16:43:40.007Z"
   },
   {
    "duration": 141,
    "start_time": "2023-02-27T16:43:40.017Z"
   },
   {
    "duration": 23,
    "start_time": "2023-02-27T16:43:40.160Z"
   },
   {
    "duration": 4,
    "start_time": "2023-02-27T16:43:40.185Z"
   },
   {
    "duration": 6,
    "start_time": "2023-02-27T16:43:40.190Z"
   },
   {
    "duration": 1052,
    "start_time": "2023-02-27T16:43:40.199Z"
   },
   {
    "duration": 1392,
    "start_time": "2023-02-27T16:43:41.252Z"
   },
   {
    "duration": 1115,
    "start_time": "2023-02-27T16:43:42.647Z"
   },
   {
    "duration": 367,
    "start_time": "2023-02-27T16:43:43.764Z"
   },
   {
    "duration": 20,
    "start_time": "2023-02-27T16:43:44.132Z"
   },
   {
    "duration": 403,
    "start_time": "2023-02-27T16:43:44.154Z"
   },
   {
    "duration": 12,
    "start_time": "2023-02-27T16:43:44.559Z"
   },
   {
    "duration": 240,
    "start_time": "2023-02-27T16:43:44.573Z"
   },
   {
    "duration": 800,
    "start_time": "2023-02-27T16:43:44.815Z"
   },
   {
    "duration": 315,
    "start_time": "2023-02-27T16:43:45.616Z"
   },
   {
    "duration": 22,
    "start_time": "2023-02-27T16:43:45.933Z"
   },
   {
    "duration": 14,
    "start_time": "2023-02-27T16:43:47.490Z"
   },
   {
    "duration": 23,
    "start_time": "2023-02-27T16:43:48.134Z"
   },
   {
    "duration": 11,
    "start_time": "2023-02-27T16:43:49.170Z"
   },
   {
    "duration": 15,
    "start_time": "2023-02-27T16:44:13.394Z"
   },
   {
    "duration": 4,
    "start_time": "2023-02-27T16:44:19.697Z"
   },
   {
    "duration": 664,
    "start_time": "2023-02-27T16:44:19.703Z"
   },
   {
    "duration": 3,
    "start_time": "2023-02-27T16:44:20.369Z"
   },
   {
    "duration": 25,
    "start_time": "2023-02-27T16:44:20.373Z"
   },
   {
    "duration": 15,
    "start_time": "2023-02-27T16:44:20.401Z"
   },
   {
    "duration": 25,
    "start_time": "2023-02-27T16:44:20.418Z"
   },
   {
    "duration": 36,
    "start_time": "2023-02-27T16:44:20.445Z"
   },
   {
    "duration": 23,
    "start_time": "2023-02-27T16:44:20.482Z"
   },
   {
    "duration": 4,
    "start_time": "2023-02-27T16:44:20.506Z"
   },
   {
    "duration": 57,
    "start_time": "2023-02-27T16:44:20.511Z"
   },
   {
    "duration": 19,
    "start_time": "2023-02-27T16:44:20.570Z"
   },
   {
    "duration": 17,
    "start_time": "2023-02-27T16:44:20.591Z"
   },
   {
    "duration": 612,
    "start_time": "2023-02-27T16:44:20.610Z"
   },
   {
    "duration": 13,
    "start_time": "2023-02-27T16:44:21.224Z"
   },
   {
    "duration": 20,
    "start_time": "2023-02-27T16:44:21.238Z"
   },
   {
    "duration": 624,
    "start_time": "2023-02-27T16:44:21.259Z"
   },
   {
    "duration": 11,
    "start_time": "2023-02-27T16:44:21.885Z"
   },
   {
    "duration": 85,
    "start_time": "2023-02-27T16:44:21.898Z"
   },
   {
    "duration": 12,
    "start_time": "2023-02-27T16:44:21.985Z"
   },
   {
    "duration": 7,
    "start_time": "2023-02-27T16:44:21.998Z"
   },
   {
    "duration": 30,
    "start_time": "2023-02-27T16:44:22.006Z"
   },
   {
    "duration": 22,
    "start_time": "2023-02-27T16:44:22.037Z"
   },
   {
    "duration": 32,
    "start_time": "2023-02-27T16:44:22.061Z"
   },
   {
    "duration": 8,
    "start_time": "2023-02-27T16:44:22.095Z"
   },
   {
    "duration": 115,
    "start_time": "2023-02-27T16:44:22.104Z"
   },
   {
    "duration": 29,
    "start_time": "2023-02-27T16:44:22.220Z"
   },
   {
    "duration": 5,
    "start_time": "2023-02-27T16:44:22.250Z"
   },
   {
    "duration": 19,
    "start_time": "2023-02-27T16:44:22.256Z"
   },
   {
    "duration": 1101,
    "start_time": "2023-02-27T16:44:22.278Z"
   },
   {
    "duration": 987,
    "start_time": "2023-02-27T16:44:23.381Z"
   },
   {
    "duration": 1079,
    "start_time": "2023-02-27T16:44:24.370Z"
   },
   {
    "duration": 407,
    "start_time": "2023-02-27T16:44:25.451Z"
   },
   {
    "duration": 16,
    "start_time": "2023-02-27T16:44:25.860Z"
   },
   {
    "duration": 453,
    "start_time": "2023-02-27T16:44:25.878Z"
   },
   {
    "duration": 19,
    "start_time": "2023-02-27T16:44:26.333Z"
   },
   {
    "duration": 213,
    "start_time": "2023-02-27T16:44:26.354Z"
   },
   {
    "duration": 731,
    "start_time": "2023-02-27T16:44:26.568Z"
   },
   {
    "duration": 275,
    "start_time": "2023-02-27T16:44:27.301Z"
   },
   {
    "duration": 11,
    "start_time": "2023-02-27T16:44:27.578Z"
   },
   {
    "duration": 11,
    "start_time": "2023-02-27T16:44:28.871Z"
   },
   {
    "duration": 15,
    "start_time": "2023-02-27T16:44:29.654Z"
   },
   {
    "duration": 26,
    "start_time": "2023-02-27T16:44:30.558Z"
   },
   {
    "duration": 5,
    "start_time": "2023-02-27T16:45:07.859Z"
   },
   {
    "duration": 4,
    "start_time": "2023-02-27T16:46:23.733Z"
   },
   {
    "duration": 656,
    "start_time": "2023-02-27T16:46:23.739Z"
   },
   {
    "duration": 3,
    "start_time": "2023-02-27T16:46:24.397Z"
   },
   {
    "duration": 9,
    "start_time": "2023-02-27T16:46:24.402Z"
   },
   {
    "duration": 13,
    "start_time": "2023-02-27T16:46:24.413Z"
   },
   {
    "duration": 8,
    "start_time": "2023-02-27T16:46:24.427Z"
   },
   {
    "duration": 16,
    "start_time": "2023-02-27T16:46:24.448Z"
   },
   {
    "duration": 23,
    "start_time": "2023-02-27T16:46:24.465Z"
   },
   {
    "duration": 4,
    "start_time": "2023-02-27T16:46:24.490Z"
   },
   {
    "duration": 63,
    "start_time": "2023-02-27T16:46:24.495Z"
   },
   {
    "duration": 20,
    "start_time": "2023-02-27T16:46:24.561Z"
   },
   {
    "duration": 16,
    "start_time": "2023-02-27T16:46:24.583Z"
   },
   {
    "duration": 979,
    "start_time": "2023-02-27T16:46:24.600Z"
   },
   {
    "duration": 14,
    "start_time": "2023-02-27T16:46:25.581Z"
   },
   {
    "duration": 19,
    "start_time": "2023-02-27T16:46:25.597Z"
   },
   {
    "duration": 703,
    "start_time": "2023-02-27T16:46:25.617Z"
   },
   {
    "duration": 13,
    "start_time": "2023-02-27T16:46:26.321Z"
   },
   {
    "duration": 87,
    "start_time": "2023-02-27T16:46:26.335Z"
   },
   {
    "duration": 25,
    "start_time": "2023-02-27T16:46:26.424Z"
   },
   {
    "duration": 6,
    "start_time": "2023-02-27T16:46:26.451Z"
   },
   {
    "duration": 19,
    "start_time": "2023-02-27T16:46:26.459Z"
   },
   {
    "duration": 12,
    "start_time": "2023-02-27T16:46:26.479Z"
   },
   {
    "duration": 30,
    "start_time": "2023-02-27T16:46:26.493Z"
   },
   {
    "duration": 9,
    "start_time": "2023-02-27T16:46:26.525Z"
   },
   {
    "duration": 126,
    "start_time": "2023-02-27T16:46:26.548Z"
   },
   {
    "duration": 36,
    "start_time": "2023-02-27T16:46:26.676Z"
   },
   {
    "duration": 6,
    "start_time": "2023-02-27T16:46:26.714Z"
   },
   {
    "duration": 31,
    "start_time": "2023-02-27T16:46:26.722Z"
   },
   {
    "duration": 1109,
    "start_time": "2023-02-27T16:46:26.758Z"
   },
   {
    "duration": 996,
    "start_time": "2023-02-27T16:46:27.869Z"
   },
   {
    "duration": 993,
    "start_time": "2023-02-27T16:46:28.866Z"
   },
   {
    "duration": 489,
    "start_time": "2023-02-27T16:46:29.861Z"
   },
   {
    "duration": 11,
    "start_time": "2023-02-27T16:46:30.352Z"
   },
   {
    "duration": 478,
    "start_time": "2023-02-27T16:46:30.365Z"
   },
   {
    "duration": 12,
    "start_time": "2023-02-27T16:46:30.845Z"
   },
   {
    "duration": 227,
    "start_time": "2023-02-27T16:46:30.859Z"
   },
   {
    "duration": 815,
    "start_time": "2023-02-27T16:46:31.088Z"
   },
   {
    "duration": 282,
    "start_time": "2023-02-27T16:46:31.904Z"
   },
   {
    "duration": 11,
    "start_time": "2023-02-27T16:46:32.188Z"
   },
   {
    "duration": 13,
    "start_time": "2023-02-27T16:46:35.066Z"
   },
   {
    "duration": 14,
    "start_time": "2023-02-27T16:46:36.682Z"
   },
   {
    "duration": 4,
    "start_time": "2023-02-27T16:46:37.172Z"
   },
   {
    "duration": 4,
    "start_time": "2023-02-27T16:46:49.113Z"
   },
   {
    "duration": 4,
    "start_time": "2023-02-27T16:46:55.238Z"
   },
   {
    "duration": 4,
    "start_time": "2023-02-27T16:46:58.628Z"
   },
   {
    "duration": 5,
    "start_time": "2023-02-27T16:47:06.000Z"
   },
   {
    "duration": 4,
    "start_time": "2023-02-27T16:47:12.494Z"
   },
   {
    "duration": 3,
    "start_time": "2023-02-27T16:47:48.812Z"
   },
   {
    "duration": 4,
    "start_time": "2023-02-27T16:47:59.945Z"
   },
   {
    "duration": 4,
    "start_time": "2023-02-27T16:55:34.203Z"
   },
   {
    "duration": 2,
    "start_time": "2023-02-27T16:57:55.597Z"
   },
   {
    "duration": 9,
    "start_time": "2023-02-27T16:58:15.229Z"
   },
   {
    "duration": 9,
    "start_time": "2023-02-27T16:58:57.886Z"
   },
   {
    "duration": 10,
    "start_time": "2023-02-27T17:00:19.742Z"
   },
   {
    "duration": 10,
    "start_time": "2023-02-27T17:00:45.744Z"
   },
   {
    "duration": 41,
    "start_time": "2023-02-27T17:01:05.662Z"
   },
   {
    "duration": 48,
    "start_time": "2023-02-27T17:01:13.071Z"
   },
   {
    "duration": 36,
    "start_time": "2023-02-27T17:02:38.367Z"
   },
   {
    "duration": 61,
    "start_time": "2023-02-27T17:03:43.041Z"
   },
   {
    "duration": 4,
    "start_time": "2023-02-27T17:04:12.316Z"
   },
   {
    "duration": 60,
    "start_time": "2023-02-27T17:04:25.846Z"
   },
   {
    "duration": 70,
    "start_time": "2023-02-27T17:06:30.397Z"
   },
   {
    "duration": 46,
    "start_time": "2023-02-27T17:06:42.710Z"
   },
   {
    "duration": 84,
    "start_time": "2023-02-27T17:06:46.885Z"
   },
   {
    "duration": 1625,
    "start_time": "2023-02-27T17:06:59.522Z"
   },
   {
    "duration": 1589,
    "start_time": "2023-02-27T17:07:13.166Z"
   },
   {
    "duration": 144332,
    "start_time": "2023-02-27T17:08:54.043Z"
   },
   {
    "duration": 12740,
    "start_time": "2023-02-27T17:14:43.376Z"
   },
   {
    "duration": 146461,
    "start_time": "2023-02-27T17:18:32.052Z"
   },
   {
    "duration": 13,
    "start_time": "2023-02-27T17:22:53.430Z"
   },
   {
    "duration": 1402,
    "start_time": "2023-02-27T17:27:25.369Z"
   },
   {
    "duration": 642,
    "start_time": "2023-02-27T17:27:26.773Z"
   },
   {
    "duration": 4,
    "start_time": "2023-02-27T17:27:27.416Z"
   },
   {
    "duration": 13,
    "start_time": "2023-02-27T17:27:27.422Z"
   },
   {
    "duration": 4,
    "start_time": "2023-02-27T17:27:27.437Z"
   },
   {
    "duration": 7,
    "start_time": "2023-02-27T17:27:27.448Z"
   },
   {
    "duration": 26,
    "start_time": "2023-02-27T17:27:27.457Z"
   },
   {
    "duration": 24,
    "start_time": "2023-02-27T17:27:27.484Z"
   },
   {
    "duration": 4,
    "start_time": "2023-02-27T17:27:27.510Z"
   },
   {
    "duration": 57,
    "start_time": "2023-02-27T17:27:27.516Z"
   },
   {
    "duration": 19,
    "start_time": "2023-02-27T17:27:27.574Z"
   },
   {
    "duration": 65,
    "start_time": "2023-02-27T17:27:27.594Z"
   },
   {
    "duration": 671,
    "start_time": "2023-02-27T17:27:27.661Z"
   },
   {
    "duration": 21,
    "start_time": "2023-02-27T17:27:28.334Z"
   },
   {
    "duration": 15,
    "start_time": "2023-02-27T17:27:28.357Z"
   },
   {
    "duration": 569,
    "start_time": "2023-02-27T17:27:28.374Z"
   },
   {
    "duration": 13,
    "start_time": "2023-02-27T17:27:28.944Z"
   },
   {
    "duration": 89,
    "start_time": "2023-02-27T17:27:28.959Z"
   },
   {
    "duration": 13,
    "start_time": "2023-02-27T17:27:29.050Z"
   },
   {
    "duration": 5,
    "start_time": "2023-02-27T17:27:29.065Z"
   },
   {
    "duration": 17,
    "start_time": "2023-02-27T17:27:29.071Z"
   },
   {
    "duration": 4,
    "start_time": "2023-02-27T17:27:29.090Z"
   },
   {
    "duration": 16,
    "start_time": "2023-02-27T17:27:29.095Z"
   },
   {
    "duration": 35,
    "start_time": "2023-02-27T17:27:29.113Z"
   },
   {
    "duration": 117,
    "start_time": "2023-02-27T17:27:29.150Z"
   },
   {
    "duration": 24,
    "start_time": "2023-02-27T17:27:29.268Z"
   },
   {
    "duration": 5,
    "start_time": "2023-02-27T17:27:29.294Z"
   },
   {
    "duration": 12,
    "start_time": "2023-02-27T17:27:29.303Z"
   },
   {
    "duration": 1142,
    "start_time": "2023-02-27T17:27:29.317Z"
   },
   {
    "duration": 1138,
    "start_time": "2023-02-27T17:27:30.461Z"
   },
   {
    "duration": 1166,
    "start_time": "2023-02-27T17:27:31.601Z"
   },
   {
    "duration": 350,
    "start_time": "2023-02-27T17:27:32.769Z"
   },
   {
    "duration": 13,
    "start_time": "2023-02-27T17:27:33.121Z"
   },
   {
    "duration": 489,
    "start_time": "2023-02-27T17:27:33.135Z"
   },
   {
    "duration": 10,
    "start_time": "2023-02-27T17:27:33.626Z"
   },
   {
    "duration": 230,
    "start_time": "2023-02-27T17:27:33.637Z"
   },
   {
    "duration": 941,
    "start_time": "2023-02-27T17:27:33.868Z"
   },
   {
    "duration": 268,
    "start_time": "2023-02-27T17:27:34.810Z"
   },
   {
    "duration": 11,
    "start_time": "2023-02-27T17:27:35.079Z"
   },
   {
    "duration": 14,
    "start_time": "2023-02-27T17:27:35.092Z"
   },
   {
    "duration": 4,
    "start_time": "2023-02-27T17:27:35.108Z"
   },
   {
    "duration": 12,
    "start_time": "2023-02-27T17:27:35.114Z"
   },
   {
    "duration": 73,
    "start_time": "2023-02-27T17:27:35.127Z"
   },
   {
    "duration": 1154,
    "start_time": "2023-02-27T17:27:35.202Z"
   },
   {
    "duration": 122948,
    "start_time": "2023-02-27T17:27:36.358Z"
   },
   {
    "duration": 10818,
    "start_time": "2023-02-27T17:29:39.307Z"
   },
   {
    "duration": 11,
    "start_time": "2023-02-27T17:29:50.126Z"
   },
   {
    "duration": 115,
    "start_time": "2023-02-27T17:32:49.170Z"
   },
   {
    "duration": 4,
    "start_time": "2023-02-27T17:32:57.277Z"
   },
   {
    "duration": 657,
    "start_time": "2023-02-27T17:32:57.283Z"
   },
   {
    "duration": 3,
    "start_time": "2023-02-27T17:32:57.942Z"
   },
   {
    "duration": 10,
    "start_time": "2023-02-27T17:32:57.947Z"
   },
   {
    "duration": 7,
    "start_time": "2023-02-27T17:32:57.958Z"
   },
   {
    "duration": 9,
    "start_time": "2023-02-27T17:32:57.966Z"
   },
   {
    "duration": 28,
    "start_time": "2023-02-27T17:32:57.977Z"
   },
   {
    "duration": 20,
    "start_time": "2023-02-27T17:32:58.007Z"
   },
   {
    "duration": 3,
    "start_time": "2023-02-27T17:32:58.028Z"
   },
   {
    "duration": 36,
    "start_time": "2023-02-27T17:32:58.033Z"
   },
   {
    "duration": 17,
    "start_time": "2023-02-27T17:32:58.072Z"
   },
   {
    "duration": 15,
    "start_time": "2023-02-27T17:32:58.090Z"
   },
   {
    "duration": 606,
    "start_time": "2023-02-27T17:32:58.107Z"
   },
   {
    "duration": 16,
    "start_time": "2023-02-27T17:32:58.715Z"
   },
   {
    "duration": 28,
    "start_time": "2023-02-27T17:32:58.733Z"
   },
   {
    "duration": 581,
    "start_time": "2023-02-27T17:32:58.763Z"
   },
   {
    "duration": 12,
    "start_time": "2023-02-27T17:32:59.348Z"
   },
   {
    "duration": 198,
    "start_time": "2023-02-27T17:32:59.361Z"
   },
   {
    "duration": 12,
    "start_time": "2023-02-27T17:32:59.561Z"
   },
   {
    "duration": 6,
    "start_time": "2023-02-27T17:32:59.575Z"
   },
   {
    "duration": 20,
    "start_time": "2023-02-27T17:32:59.582Z"
   },
   {
    "duration": 14,
    "start_time": "2023-02-27T17:32:59.603Z"
   },
   {
    "duration": 33,
    "start_time": "2023-02-27T17:32:59.619Z"
   },
   {
    "duration": 9,
    "start_time": "2023-02-27T17:32:59.654Z"
   },
   {
    "duration": 145,
    "start_time": "2023-02-27T17:32:59.665Z"
   },
   {
    "duration": 24,
    "start_time": "2023-02-27T17:32:59.812Z"
   },
   {
    "duration": 12,
    "start_time": "2023-02-27T17:32:59.838Z"
   },
   {
    "duration": 8,
    "start_time": "2023-02-27T17:32:59.852Z"
   },
   {
    "duration": 1005,
    "start_time": "2023-02-27T17:32:59.863Z"
   },
   {
    "duration": 1017,
    "start_time": "2023-02-27T17:33:00.869Z"
   },
   {
    "duration": 1060,
    "start_time": "2023-02-27T17:33:01.888Z"
   },
   {
    "duration": 422,
    "start_time": "2023-02-27T17:33:02.949Z"
   },
   {
    "duration": 16,
    "start_time": "2023-02-27T17:33:03.372Z"
   },
   {
    "duration": 565,
    "start_time": "2023-02-27T17:33:03.390Z"
   },
   {
    "duration": 12,
    "start_time": "2023-02-27T17:33:03.957Z"
   },
   {
    "duration": 226,
    "start_time": "2023-02-27T17:33:03.970Z"
   },
   {
    "duration": 794,
    "start_time": "2023-02-27T17:33:04.198Z"
   },
   {
    "duration": 268,
    "start_time": "2023-02-27T17:33:04.993Z"
   },
   {
    "duration": 10,
    "start_time": "2023-02-27T17:33:05.263Z"
   },
   {
    "duration": 12,
    "start_time": "2023-02-27T17:33:16.133Z"
   },
   {
    "duration": 45,
    "start_time": "2023-02-27T17:33:17.595Z"
   },
   {
    "duration": 4,
    "start_time": "2023-02-27T17:33:30.730Z"
   },
   {
    "duration": 699,
    "start_time": "2023-02-27T17:33:30.736Z"
   },
   {
    "duration": 4,
    "start_time": "2023-02-27T17:33:31.437Z"
   },
   {
    "duration": 26,
    "start_time": "2023-02-27T17:33:31.443Z"
   },
   {
    "duration": 12,
    "start_time": "2023-02-27T17:33:31.472Z"
   },
   {
    "duration": 20,
    "start_time": "2023-02-27T17:33:31.485Z"
   },
   {
    "duration": 21,
    "start_time": "2023-02-27T17:33:31.507Z"
   },
   {
    "duration": 24,
    "start_time": "2023-02-27T17:33:31.530Z"
   },
   {
    "duration": 5,
    "start_time": "2023-02-27T17:33:31.555Z"
   },
   {
    "duration": 31,
    "start_time": "2023-02-27T17:33:31.562Z"
   },
   {
    "duration": 27,
    "start_time": "2023-02-27T17:33:31.595Z"
   },
   {
    "duration": 39,
    "start_time": "2023-02-27T17:33:31.624Z"
   },
   {
    "duration": 711,
    "start_time": "2023-02-27T17:33:31.665Z"
   },
   {
    "duration": 13,
    "start_time": "2023-02-27T17:33:32.378Z"
   },
   {
    "duration": 25,
    "start_time": "2023-02-27T17:33:32.393Z"
   },
   {
    "duration": 873,
    "start_time": "2023-02-27T17:33:32.419Z"
   },
   {
    "duration": 13,
    "start_time": "2023-02-27T17:33:33.294Z"
   },
   {
    "duration": 96,
    "start_time": "2023-02-27T17:33:33.310Z"
   },
   {
    "duration": 16,
    "start_time": "2023-02-27T17:33:33.408Z"
   },
   {
    "duration": 27,
    "start_time": "2023-02-27T17:33:33.426Z"
   },
   {
    "duration": 29,
    "start_time": "2023-02-27T17:33:33.455Z"
   },
   {
    "duration": 17,
    "start_time": "2023-02-27T17:33:33.486Z"
   },
   {
    "duration": 27,
    "start_time": "2023-02-27T17:33:33.505Z"
   },
   {
    "duration": 22,
    "start_time": "2023-02-27T17:33:33.534Z"
   },
   {
    "duration": 138,
    "start_time": "2023-02-27T17:33:33.558Z"
   },
   {
    "duration": 25,
    "start_time": "2023-02-27T17:33:33.698Z"
   },
   {
    "duration": 24,
    "start_time": "2023-02-27T17:33:33.724Z"
   },
   {
    "duration": 7,
    "start_time": "2023-02-27T17:33:33.750Z"
   },
   {
    "duration": 1099,
    "start_time": "2023-02-27T17:33:33.761Z"
   },
   {
    "duration": 1021,
    "start_time": "2023-02-27T17:33:34.862Z"
   },
   {
    "duration": 1070,
    "start_time": "2023-02-27T17:33:35.885Z"
   },
   {
    "duration": 364,
    "start_time": "2023-02-27T17:33:36.957Z"
   },
   {
    "duration": 12,
    "start_time": "2023-02-27T17:33:37.323Z"
   },
   {
    "duration": 401,
    "start_time": "2023-02-27T17:33:37.348Z"
   },
   {
    "duration": 12,
    "start_time": "2023-02-27T17:33:37.751Z"
   },
   {
    "duration": 232,
    "start_time": "2023-02-27T17:33:37.765Z"
   },
   {
    "duration": 819,
    "start_time": "2023-02-27T17:33:37.998Z"
   },
   {
    "duration": 276,
    "start_time": "2023-02-27T17:33:38.818Z"
   },
   {
    "duration": 10,
    "start_time": "2023-02-27T17:33:39.095Z"
   },
   {
    "duration": 11,
    "start_time": "2023-02-27T17:33:48.989Z"
   },
   {
    "duration": 15,
    "start_time": "2023-02-27T17:33:50.615Z"
   },
   {
    "duration": 24,
    "start_time": "2023-02-27T17:33:57.183Z"
   },
   {
    "duration": 29,
    "start_time": "2023-02-27T17:34:02.374Z"
   },
   {
    "duration": 4,
    "start_time": "2023-02-27T17:34:57.772Z"
   },
   {
    "duration": 589,
    "start_time": "2023-02-27T17:34:58.097Z"
   },
   {
    "duration": 3,
    "start_time": "2023-02-27T17:34:59.020Z"
   },
   {
    "duration": 8,
    "start_time": "2023-02-27T17:34:59.328Z"
   },
   {
    "duration": 4,
    "start_time": "2023-02-27T17:34:59.621Z"
   },
   {
    "duration": 8,
    "start_time": "2023-02-27T17:35:00.233Z"
   },
   {
    "duration": 138,
    "start_time": "2023-02-27T17:35:00.980Z"
   },
   {
    "duration": 22,
    "start_time": "2023-02-27T17:35:01.277Z"
   },
   {
    "duration": 4,
    "start_time": "2023-02-27T17:35:01.575Z"
   },
   {
    "duration": 27,
    "start_time": "2023-02-27T17:35:01.883Z"
   },
   {
    "duration": 20,
    "start_time": "2023-02-27T17:35:02.203Z"
   },
   {
    "duration": 17,
    "start_time": "2023-02-27T17:35:02.486Z"
   },
   {
    "duration": 621,
    "start_time": "2023-02-27T17:35:02.800Z"
   },
   {
    "duration": 14,
    "start_time": "2023-02-27T17:35:03.423Z"
   },
   {
    "duration": 15,
    "start_time": "2023-02-27T17:35:03.448Z"
   },
   {
    "duration": 593,
    "start_time": "2023-02-27T17:35:03.732Z"
   },
   {
    "duration": 22,
    "start_time": "2023-02-27T17:35:04.327Z"
   },
   {
    "duration": 78,
    "start_time": "2023-02-27T17:35:04.351Z"
   },
   {
    "duration": 14,
    "start_time": "2023-02-27T17:35:05.114Z"
   },
   {
    "duration": 7,
    "start_time": "2023-02-27T17:35:05.424Z"
   },
   {
    "duration": 18,
    "start_time": "2023-02-27T17:35:06.037Z"
   },
   {
    "duration": 5,
    "start_time": "2023-02-27T17:35:10.162Z"
   },
   {
    "duration": 15,
    "start_time": "2023-02-27T17:35:11.061Z"
   },
   {
    "duration": 8,
    "start_time": "2023-02-27T17:35:11.891Z"
   },
   {
    "duration": 120,
    "start_time": "2023-02-27T17:35:12.545Z"
   },
   {
    "duration": 25,
    "start_time": "2023-02-27T17:35:13.398Z"
   },
   {
    "duration": 4,
    "start_time": "2023-02-27T17:35:16.727Z"
   },
   {
    "duration": 7,
    "start_time": "2023-02-27T17:35:18.601Z"
   },
   {
    "duration": 1020,
    "start_time": "2023-02-27T17:35:19.527Z"
   },
   {
    "duration": 993,
    "start_time": "2023-02-27T17:35:21.977Z"
   },
   {
    "duration": 986,
    "start_time": "2023-02-27T17:35:24.389Z"
   },
   {
    "duration": 417,
    "start_time": "2023-02-27T17:35:28.419Z"
   },
   {
    "duration": 13,
    "start_time": "2023-02-27T17:35:29.661Z"
   },
   {
    "duration": 490,
    "start_time": "2023-02-27T17:35:30.949Z"
   },
   {
    "duration": 13,
    "start_time": "2023-02-27T17:35:32.184Z"
   },
   {
    "duration": 202,
    "start_time": "2023-02-27T17:35:34.556Z"
   },
   {
    "duration": 752,
    "start_time": "2023-02-27T17:35:36.243Z"
   },
   {
    "duration": 260,
    "start_time": "2023-02-27T17:35:39.282Z"
   },
   {
    "duration": 11,
    "start_time": "2023-02-27T17:35:41.747Z"
   },
   {
    "duration": 15,
    "start_time": "2023-02-27T17:35:47.708Z"
   },
   {
    "duration": 26,
    "start_time": "2023-02-27T17:35:56.982Z"
   },
   {
    "duration": 30,
    "start_time": "2023-02-27T17:36:05.100Z"
   },
   {
    "duration": 15,
    "start_time": "2023-02-27T17:37:13.357Z"
   },
   {
    "duration": 13,
    "start_time": "2023-02-27T17:37:31.191Z"
   },
   {
    "duration": 16,
    "start_time": "2023-02-27T17:38:19.960Z"
   },
   {
    "duration": 12,
    "start_time": "2023-02-27T17:39:10.318Z"
   },
   {
    "duration": 21,
    "start_time": "2023-02-27T17:39:13.014Z"
   },
   {
    "duration": 3,
    "start_time": "2023-02-27T17:39:16.413Z"
   },
   {
    "duration": 698,
    "start_time": "2023-02-27T17:39:16.418Z"
   },
   {
    "duration": 4,
    "start_time": "2023-02-27T17:39:17.118Z"
   },
   {
    "duration": 13,
    "start_time": "2023-02-27T17:39:17.123Z"
   },
   {
    "duration": 13,
    "start_time": "2023-02-27T17:39:17.138Z"
   },
   {
    "duration": 14,
    "start_time": "2023-02-27T17:39:17.153Z"
   },
   {
    "duration": 20,
    "start_time": "2023-02-27T17:39:17.170Z"
   },
   {
    "duration": 23,
    "start_time": "2023-02-27T17:39:17.192Z"
   },
   {
    "duration": 4,
    "start_time": "2023-02-27T17:39:17.217Z"
   },
   {
    "duration": 61,
    "start_time": "2023-02-27T17:39:17.222Z"
   },
   {
    "duration": 17,
    "start_time": "2023-02-27T17:39:17.285Z"
   },
   {
    "duration": 46,
    "start_time": "2023-02-27T17:39:17.303Z"
   },
   {
    "duration": 715,
    "start_time": "2023-02-27T17:39:17.354Z"
   },
   {
    "duration": 16,
    "start_time": "2023-02-27T17:39:18.071Z"
   },
   {
    "duration": 15,
    "start_time": "2023-02-27T17:39:18.089Z"
   },
   {
    "duration": 709,
    "start_time": "2023-02-27T17:39:18.105Z"
   },
   {
    "duration": 12,
    "start_time": "2023-02-27T17:39:18.815Z"
   },
   {
    "duration": 236,
    "start_time": "2023-02-27T17:39:18.829Z"
   },
   {
    "duration": 21,
    "start_time": "2023-02-27T17:39:19.067Z"
   },
   {
    "duration": 16,
    "start_time": "2023-02-27T17:39:19.089Z"
   },
   {
    "duration": 32,
    "start_time": "2023-02-27T17:39:19.107Z"
   },
   {
    "duration": 9,
    "start_time": "2023-02-27T17:39:19.141Z"
   },
   {
    "duration": 27,
    "start_time": "2023-02-27T17:39:19.153Z"
   },
   {
    "duration": 14,
    "start_time": "2023-02-27T17:39:19.181Z"
   },
   {
    "duration": 142,
    "start_time": "2023-02-27T17:39:19.197Z"
   },
   {
    "duration": 43,
    "start_time": "2023-02-27T17:39:19.341Z"
   },
   {
    "duration": 6,
    "start_time": "2023-02-27T17:39:19.386Z"
   },
   {
    "duration": 8,
    "start_time": "2023-02-27T17:39:19.394Z"
   },
   {
    "duration": 1142,
    "start_time": "2023-02-27T17:39:19.408Z"
   },
   {
    "duration": 1458,
    "start_time": "2023-02-27T17:39:20.552Z"
   },
   {
    "duration": 1192,
    "start_time": "2023-02-27T17:39:22.011Z"
   },
   {
    "duration": 508,
    "start_time": "2023-02-27T17:39:23.205Z"
   },
   {
    "duration": 13,
    "start_time": "2023-02-27T17:39:23.715Z"
   },
   {
    "duration": 449,
    "start_time": "2023-02-27T17:39:23.730Z"
   },
   {
    "duration": 13,
    "start_time": "2023-02-27T17:39:24.181Z"
   },
   {
    "duration": 227,
    "start_time": "2023-02-27T17:39:24.196Z"
   },
   {
    "duration": 814,
    "start_time": "2023-02-27T17:39:24.424Z"
   },
   {
    "duration": 353,
    "start_time": "2023-02-27T17:39:25.239Z"
   },
   {
    "duration": 11,
    "start_time": "2023-02-27T17:39:25.594Z"
   },
   {
    "duration": 24,
    "start_time": "2023-02-27T17:39:25.607Z"
   },
   {
    "duration": 4,
    "start_time": "2023-02-27T17:39:25.633Z"
   },
   {
    "duration": 21,
    "start_time": "2023-02-27T17:39:25.639Z"
   },
   {
    "duration": 68,
    "start_time": "2023-02-27T17:39:25.668Z"
   },
   {
    "duration": 3910,
    "start_time": "2023-02-27T17:39:25.738Z"
   },
   {
    "duration": 36745,
    "start_time": "2023-02-27T17:39:29.650Z"
   },
   {
    "duration": 0,
    "start_time": "2023-02-27T17:40:06.401Z"
   },
   {
    "duration": 0,
    "start_time": "2023-02-27T17:40:06.403Z"
   },
   {
    "duration": 0,
    "start_time": "2023-02-27T17:40:06.405Z"
   },
   {
    "duration": 0,
    "start_time": "2023-02-27T17:40:06.406Z"
   },
   {
    "duration": 0,
    "start_time": "2023-02-27T17:40:06.408Z"
   },
   {
    "duration": 0,
    "start_time": "2023-02-27T17:40:06.410Z"
   },
   {
    "duration": 0,
    "start_time": "2023-02-27T17:40:06.412Z"
   },
   {
    "duration": 0,
    "start_time": "2023-02-27T17:40:06.413Z"
   },
   {
    "duration": 0,
    "start_time": "2023-02-27T17:40:06.414Z"
   },
   {
    "duration": 0,
    "start_time": "2023-02-27T17:40:06.416Z"
   },
   {
    "duration": 0,
    "start_time": "2023-02-27T17:40:06.418Z"
   },
   {
    "duration": 0,
    "start_time": "2023-02-27T17:40:06.419Z"
   },
   {
    "duration": 0,
    "start_time": "2023-02-27T17:40:06.421Z"
   },
   {
    "duration": 0,
    "start_time": "2023-02-27T17:40:06.448Z"
   },
   {
    "duration": 0,
    "start_time": "2023-02-27T17:40:06.451Z"
   },
   {
    "duration": 0,
    "start_time": "2023-02-27T17:40:06.453Z"
   },
   {
    "duration": 0,
    "start_time": "2023-02-27T17:40:06.454Z"
   },
   {
    "duration": 0,
    "start_time": "2023-02-27T17:40:06.456Z"
   },
   {
    "duration": 0,
    "start_time": "2023-02-27T17:40:06.457Z"
   },
   {
    "duration": 0,
    "start_time": "2023-02-27T17:40:06.459Z"
   },
   {
    "duration": 0,
    "start_time": "2023-02-27T17:40:06.459Z"
   },
   {
    "duration": 0,
    "start_time": "2023-02-27T17:40:06.460Z"
   },
   {
    "duration": 0,
    "start_time": "2023-02-27T17:40:06.461Z"
   },
   {
    "duration": 0,
    "start_time": "2023-02-27T17:40:06.462Z"
   },
   {
    "duration": 0,
    "start_time": "2023-02-27T17:40:06.463Z"
   },
   {
    "duration": 0,
    "start_time": "2023-02-27T17:40:06.463Z"
   },
   {
    "duration": 0,
    "start_time": "2023-02-27T17:40:06.465Z"
   },
   {
    "duration": 0,
    "start_time": "2023-02-27T17:40:06.465Z"
   },
   {
    "duration": 0,
    "start_time": "2023-02-27T17:40:06.466Z"
   },
   {
    "duration": 0,
    "start_time": "2023-02-27T17:40:06.467Z"
   },
   {
    "duration": 0,
    "start_time": "2023-02-27T17:40:06.469Z"
   },
   {
    "duration": 0,
    "start_time": "2023-02-27T17:40:06.470Z"
   },
   {
    "duration": 1,
    "start_time": "2023-02-27T17:40:06.471Z"
   },
   {
    "duration": 0,
    "start_time": "2023-02-27T17:40:06.474Z"
   },
   {
    "duration": 0,
    "start_time": "2023-02-27T17:40:06.476Z"
   },
   {
    "duration": 0,
    "start_time": "2023-02-27T17:40:06.478Z"
   },
   {
    "duration": 0,
    "start_time": "2023-02-27T17:40:06.479Z"
   },
   {
    "duration": 0,
    "start_time": "2023-02-27T17:40:06.481Z"
   },
   {
    "duration": 0,
    "start_time": "2023-02-27T17:40:06.483Z"
   },
   {
    "duration": 0,
    "start_time": "2023-02-27T17:40:06.484Z"
   },
   {
    "duration": 6,
    "start_time": "2023-02-27T17:40:15.924Z"
   },
   {
    "duration": 802,
    "start_time": "2023-02-27T17:40:15.932Z"
   },
   {
    "duration": 4,
    "start_time": "2023-02-27T17:40:16.736Z"
   },
   {
    "duration": 17,
    "start_time": "2023-02-27T17:40:16.742Z"
   },
   {
    "duration": 15,
    "start_time": "2023-02-27T17:40:16.763Z"
   },
   {
    "duration": 17,
    "start_time": "2023-02-27T17:40:16.779Z"
   },
   {
    "duration": 25,
    "start_time": "2023-02-27T17:40:16.799Z"
   },
   {
    "duration": 38,
    "start_time": "2023-02-27T17:40:16.827Z"
   },
   {
    "duration": 7,
    "start_time": "2023-02-27T17:40:16.867Z"
   },
   {
    "duration": 34,
    "start_time": "2023-02-27T17:40:16.876Z"
   },
   {
    "duration": 49,
    "start_time": "2023-02-27T17:40:16.913Z"
   },
   {
    "duration": 20,
    "start_time": "2023-02-27T17:40:16.977Z"
   },
   {
    "duration": 882,
    "start_time": "2023-02-27T17:40:16.999Z"
   },
   {
    "duration": 18,
    "start_time": "2023-02-27T17:40:17.883Z"
   },
   {
    "duration": 48,
    "start_time": "2023-02-27T17:40:17.903Z"
   },
   {
    "duration": 741,
    "start_time": "2023-02-27T17:40:17.954Z"
   },
   {
    "duration": 14,
    "start_time": "2023-02-27T17:40:18.697Z"
   },
   {
    "duration": 118,
    "start_time": "2023-02-27T17:40:18.713Z"
   },
   {
    "duration": 27,
    "start_time": "2023-02-27T17:40:18.833Z"
   },
   {
    "duration": 10,
    "start_time": "2023-02-27T17:40:18.866Z"
   },
   {
    "duration": 20,
    "start_time": "2023-02-27T17:40:18.878Z"
   },
   {
    "duration": 22,
    "start_time": "2023-02-27T17:40:18.900Z"
   },
   {
    "duration": 34,
    "start_time": "2023-02-27T17:40:18.924Z"
   },
   {
    "duration": 15,
    "start_time": "2023-02-27T17:40:18.960Z"
   },
   {
    "duration": 142,
    "start_time": "2023-02-27T17:40:18.977Z"
   },
   {
    "duration": 37,
    "start_time": "2023-02-27T17:40:19.121Z"
   },
   {
    "duration": 8,
    "start_time": "2023-02-27T17:40:19.161Z"
   },
   {
    "duration": 14,
    "start_time": "2023-02-27T17:40:19.174Z"
   },
   {
    "duration": 1388,
    "start_time": "2023-02-27T17:40:19.191Z"
   },
   {
    "duration": 1020,
    "start_time": "2023-02-27T17:40:20.581Z"
   },
   {
    "duration": 1373,
    "start_time": "2023-02-27T17:40:21.603Z"
   },
   {
    "duration": 549,
    "start_time": "2023-02-27T17:40:22.978Z"
   },
   {
    "duration": 24,
    "start_time": "2023-02-27T17:40:23.529Z"
   },
   {
    "duration": 528,
    "start_time": "2023-02-27T17:40:23.555Z"
   },
   {
    "duration": 12,
    "start_time": "2023-02-27T17:40:24.085Z"
   },
   {
    "duration": 275,
    "start_time": "2023-02-27T17:40:24.099Z"
   },
   {
    "duration": 953,
    "start_time": "2023-02-27T17:40:24.375Z"
   },
   {
    "duration": 458,
    "start_time": "2023-02-27T17:40:25.330Z"
   },
   {
    "duration": 12,
    "start_time": "2023-02-27T17:40:37.492Z"
   },
   {
    "duration": 16,
    "start_time": "2023-02-27T17:40:39.025Z"
   },
   {
    "duration": 12,
    "start_time": "2023-02-27T17:40:46.625Z"
   },
   {
    "duration": 13,
    "start_time": "2023-02-27T17:40:49.559Z"
   },
   {
    "duration": 27,
    "start_time": "2023-02-27T17:40:53.740Z"
   },
   {
    "duration": 5,
    "start_time": "2023-02-27T17:41:42.321Z"
   },
   {
    "duration": 6,
    "start_time": "2023-02-27T17:41:53.747Z"
   },
   {
    "duration": 4,
    "start_time": "2023-02-27T17:42:05.583Z"
   },
   {
    "duration": 5,
    "start_time": "2023-02-27T17:42:14.922Z"
   },
   {
    "duration": 4,
    "start_time": "2023-02-27T17:42:34.834Z"
   },
   {
    "duration": 4,
    "start_time": "2023-02-27T17:42:42.593Z"
   },
   {
    "duration": 4,
    "start_time": "2023-02-27T17:42:51.292Z"
   },
   {
    "duration": 4,
    "start_time": "2023-02-27T17:43:43.301Z"
   },
   {
    "duration": 4,
    "start_time": "2023-02-27T17:43:51.316Z"
   },
   {
    "duration": 47,
    "start_time": "2023-02-27T17:44:01.488Z"
   },
   {
    "duration": 42,
    "start_time": "2023-02-27T17:44:26.551Z"
   },
   {
    "duration": 6,
    "start_time": "2023-02-27T17:44:31.049Z"
   },
   {
    "duration": 4,
    "start_time": "2023-02-27T17:44:35.310Z"
   },
   {
    "duration": 1539,
    "start_time": "2023-02-27T17:46:00.145Z"
   },
   {
    "duration": 780,
    "start_time": "2023-02-27T17:46:01.686Z"
   },
   {
    "duration": 4,
    "start_time": "2023-02-27T17:46:02.468Z"
   },
   {
    "duration": 25,
    "start_time": "2023-02-27T17:46:02.475Z"
   },
   {
    "duration": 15,
    "start_time": "2023-02-27T17:46:02.502Z"
   },
   {
    "duration": 20,
    "start_time": "2023-02-27T17:46:02.519Z"
   },
   {
    "duration": 39,
    "start_time": "2023-02-27T17:46:02.541Z"
   },
   {
    "duration": 22,
    "start_time": "2023-02-27T17:46:02.581Z"
   },
   {
    "duration": 4,
    "start_time": "2023-02-27T17:46:02.604Z"
   },
   {
    "duration": 57,
    "start_time": "2023-02-27T17:46:02.610Z"
   },
   {
    "duration": 22,
    "start_time": "2023-02-27T17:46:02.669Z"
   },
   {
    "duration": 72,
    "start_time": "2023-02-27T17:46:02.693Z"
   },
   {
    "duration": 776,
    "start_time": "2023-02-27T17:46:02.767Z"
   },
   {
    "duration": 23,
    "start_time": "2023-02-27T17:46:03.545Z"
   },
   {
    "duration": 17,
    "start_time": "2023-02-27T17:46:03.571Z"
   },
   {
    "duration": 645,
    "start_time": "2023-02-27T17:46:03.589Z"
   },
   {
    "duration": 36,
    "start_time": "2023-02-27T17:46:04.236Z"
   },
   {
    "duration": 92,
    "start_time": "2023-02-27T17:46:04.274Z"
   },
   {
    "duration": 16,
    "start_time": "2023-02-27T17:46:04.368Z"
   },
   {
    "duration": 6,
    "start_time": "2023-02-27T17:46:04.386Z"
   },
   {
    "duration": 26,
    "start_time": "2023-02-27T17:46:04.394Z"
   },
   {
    "duration": 5,
    "start_time": "2023-02-27T17:46:04.422Z"
   },
   {
    "duration": 23,
    "start_time": "2023-02-27T17:46:04.449Z"
   },
   {
    "duration": 8,
    "start_time": "2023-02-27T17:46:04.474Z"
   },
   {
    "duration": 146,
    "start_time": "2023-02-27T17:46:04.483Z"
   },
   {
    "duration": 35,
    "start_time": "2023-02-27T17:46:04.630Z"
   },
   {
    "duration": 6,
    "start_time": "2023-02-27T17:46:04.668Z"
   },
   {
    "duration": 7,
    "start_time": "2023-02-27T17:46:04.677Z"
   },
   {
    "duration": 1202,
    "start_time": "2023-02-27T17:46:04.685Z"
   },
   {
    "duration": 1073,
    "start_time": "2023-02-27T17:46:05.889Z"
   },
   {
    "duration": 1190,
    "start_time": "2023-02-27T17:46:06.965Z"
   },
   {
    "duration": 368,
    "start_time": "2023-02-27T17:46:08.158Z"
   },
   {
    "duration": 22,
    "start_time": "2023-02-27T17:46:08.528Z"
   },
   {
    "duration": 389,
    "start_time": "2023-02-27T17:46:08.552Z"
   },
   {
    "duration": 20,
    "start_time": "2023-02-27T17:46:08.943Z"
   },
   {
    "duration": 242,
    "start_time": "2023-02-27T17:46:08.965Z"
   },
   {
    "duration": 1016,
    "start_time": "2023-02-27T17:46:09.209Z"
   },
   {
    "duration": 336,
    "start_time": "2023-02-27T17:46:10.226Z"
   },
   {
    "duration": 12,
    "start_time": "2023-02-27T17:46:10.564Z"
   },
   {
    "duration": 14,
    "start_time": "2023-02-27T17:46:10.578Z"
   },
   {
    "duration": 3,
    "start_time": "2023-02-27T17:46:10.593Z"
   },
   {
    "duration": 11,
    "start_time": "2023-02-27T17:46:10.598Z"
   },
   {
    "duration": 20,
    "start_time": "2023-02-27T17:46:10.610Z"
   },
   {
    "duration": 69,
    "start_time": "2023-02-27T17:46:10.631Z"
   },
   {
    "duration": 2957,
    "start_time": "2023-02-27T17:46:10.701Z"
   },
   {
    "duration": 138116,
    "start_time": "2023-02-27T17:46:13.661Z"
   },
   {
    "duration": 12758,
    "start_time": "2023-02-27T17:48:31.779Z"
   },
   {
    "duration": 15,
    "start_time": "2023-02-27T17:48:44.538Z"
   },
   {
    "duration": 27189,
    "start_time": "2023-02-27T17:52:07.673Z"
   },
   {
    "duration": 1446,
    "start_time": "2023-02-27T17:54:23.574Z"
   },
   {
    "duration": 733,
    "start_time": "2023-02-27T17:54:25.022Z"
   },
   {
    "duration": 4,
    "start_time": "2023-02-27T17:54:25.757Z"
   },
   {
    "duration": 24,
    "start_time": "2023-02-27T17:54:25.763Z"
   },
   {
    "duration": 4,
    "start_time": "2023-02-27T17:54:25.789Z"
   },
   {
    "duration": 11,
    "start_time": "2023-02-27T17:54:25.795Z"
   },
   {
    "duration": 26,
    "start_time": "2023-02-27T17:54:25.808Z"
   },
   {
    "duration": 37,
    "start_time": "2023-02-27T17:54:25.836Z"
   },
   {
    "duration": 6,
    "start_time": "2023-02-27T17:54:25.875Z"
   },
   {
    "duration": 48,
    "start_time": "2023-02-27T17:54:25.884Z"
   },
   {
    "duration": 27,
    "start_time": "2023-02-27T17:54:25.951Z"
   },
   {
    "duration": 91,
    "start_time": "2023-02-27T17:54:25.980Z"
   },
   {
    "duration": 725,
    "start_time": "2023-02-27T17:54:26.074Z"
   },
   {
    "duration": 16,
    "start_time": "2023-02-27T17:54:26.800Z"
   },
   {
    "duration": 43,
    "start_time": "2023-02-27T17:54:26.818Z"
   },
   {
    "duration": 631,
    "start_time": "2023-02-27T17:54:26.864Z"
   },
   {
    "duration": 12,
    "start_time": "2023-02-27T17:54:27.496Z"
   },
   {
    "duration": 105,
    "start_time": "2023-02-27T17:54:27.510Z"
   },
   {
    "duration": 13,
    "start_time": "2023-02-27T17:54:27.617Z"
   },
   {
    "duration": 16,
    "start_time": "2023-02-27T17:54:27.632Z"
   },
   {
    "duration": 29,
    "start_time": "2023-02-27T17:54:27.651Z"
   },
   {
    "duration": 11,
    "start_time": "2023-02-27T17:54:27.681Z"
   },
   {
    "duration": 18,
    "start_time": "2023-02-27T17:54:27.694Z"
   },
   {
    "duration": 7,
    "start_time": "2023-02-27T17:54:27.713Z"
   },
   {
    "duration": 172,
    "start_time": "2023-02-27T17:54:27.722Z"
   },
   {
    "duration": 24,
    "start_time": "2023-02-27T17:54:27.896Z"
   },
   {
    "duration": 6,
    "start_time": "2023-02-27T17:54:27.921Z"
   },
   {
    "duration": 8,
    "start_time": "2023-02-27T17:54:27.948Z"
   },
   {
    "duration": 1122,
    "start_time": "2023-02-27T17:54:27.957Z"
   },
   {
    "duration": 1124,
    "start_time": "2023-02-27T17:54:29.081Z"
   },
   {
    "duration": 1385,
    "start_time": "2023-02-27T17:54:30.207Z"
   },
   {
    "duration": 477,
    "start_time": "2023-02-27T17:54:31.593Z"
   },
   {
    "duration": 13,
    "start_time": "2023-02-27T17:54:32.073Z"
   },
   {
    "duration": 474,
    "start_time": "2023-02-27T17:54:32.087Z"
   },
   {
    "duration": 26,
    "start_time": "2023-02-27T17:54:32.565Z"
   },
   {
    "duration": 276,
    "start_time": "2023-02-27T17:54:32.593Z"
   },
   {
    "duration": 940,
    "start_time": "2023-02-27T17:54:32.872Z"
   },
   {
    "duration": 324,
    "start_time": "2023-02-27T17:54:33.814Z"
   },
   {
    "duration": 18,
    "start_time": "2023-02-27T17:54:34.140Z"
   },
   {
    "duration": 22,
    "start_time": "2023-02-27T17:54:34.160Z"
   },
   {
    "duration": 3,
    "start_time": "2023-02-27T17:54:34.184Z"
   },
   {
    "duration": 5,
    "start_time": "2023-02-27T17:54:34.189Z"
   },
   {
    "duration": 11,
    "start_time": "2023-02-27T17:54:34.196Z"
   },
   {
    "duration": 74,
    "start_time": "2023-02-27T17:54:34.208Z"
   },
   {
    "duration": 2470,
    "start_time": "2023-02-27T17:54:34.284Z"
   },
   {
    "duration": 137121,
    "start_time": "2023-02-27T17:54:36.756Z"
   },
   {
    "duration": 26268,
    "start_time": "2023-02-27T17:56:53.878Z"
   },
   {
    "duration": 14,
    "start_time": "2023-02-27T17:57:20.148Z"
   },
   {
    "duration": 127,
    "start_time": "2023-02-27T17:58:42.469Z"
   },
   {
    "duration": 51,
    "start_time": "2023-02-27T17:58:48.387Z"
   },
   {
    "duration": 44,
    "start_time": "2023-02-27T17:58:56.961Z"
   },
   {
    "duration": 45,
    "start_time": "2023-02-27T17:59:00.207Z"
   },
   {
    "duration": 1587,
    "start_time": "2023-02-27T17:59:48.291Z"
   },
   {
    "duration": 664,
    "start_time": "2023-02-27T17:59:49.881Z"
   },
   {
    "duration": 4,
    "start_time": "2023-02-27T17:59:50.546Z"
   },
   {
    "duration": 27,
    "start_time": "2023-02-27T17:59:50.552Z"
   },
   {
    "duration": 5,
    "start_time": "2023-02-27T17:59:50.581Z"
   },
   {
    "duration": 14,
    "start_time": "2023-02-27T17:59:50.588Z"
   },
   {
    "duration": 28,
    "start_time": "2023-02-27T17:59:50.603Z"
   },
   {
    "duration": 35,
    "start_time": "2023-02-27T17:59:50.633Z"
   },
   {
    "duration": 5,
    "start_time": "2023-02-27T17:59:50.670Z"
   },
   {
    "duration": 43,
    "start_time": "2023-02-27T17:59:50.678Z"
   },
   {
    "duration": 48,
    "start_time": "2023-02-27T17:59:50.723Z"
   },
   {
    "duration": 52,
    "start_time": "2023-02-27T17:59:50.773Z"
   },
   {
    "duration": 854,
    "start_time": "2023-02-27T17:59:50.826Z"
   },
   {
    "duration": 16,
    "start_time": "2023-02-27T17:59:51.682Z"
   },
   {
    "duration": 34,
    "start_time": "2023-02-27T17:59:51.700Z"
   },
   {
    "duration": 693,
    "start_time": "2023-02-27T17:59:51.736Z"
   },
   {
    "duration": 23,
    "start_time": "2023-02-27T17:59:52.431Z"
   },
   {
    "duration": 93,
    "start_time": "2023-02-27T17:59:52.457Z"
   },
   {
    "duration": 21,
    "start_time": "2023-02-27T17:59:52.554Z"
   },
   {
    "duration": 7,
    "start_time": "2023-02-27T17:59:52.578Z"
   },
   {
    "duration": 20,
    "start_time": "2023-02-27T17:59:52.586Z"
   },
   {
    "duration": 20,
    "start_time": "2023-02-27T17:59:52.608Z"
   },
   {
    "duration": 51,
    "start_time": "2023-02-27T17:59:52.630Z"
   },
   {
    "duration": 7,
    "start_time": "2023-02-27T17:59:52.683Z"
   },
   {
    "duration": 134,
    "start_time": "2023-02-27T17:59:52.692Z"
   },
   {
    "duration": 38,
    "start_time": "2023-02-27T17:59:52.828Z"
   },
   {
    "duration": 7,
    "start_time": "2023-02-27T17:59:52.869Z"
   },
   {
    "duration": 9,
    "start_time": "2023-02-27T17:59:52.879Z"
   },
   {
    "duration": 1210,
    "start_time": "2023-02-27T17:59:52.889Z"
   },
   {
    "duration": 1206,
    "start_time": "2023-02-27T17:59:54.102Z"
   },
   {
    "duration": 1198,
    "start_time": "2023-02-27T17:59:55.310Z"
   },
   {
    "duration": 466,
    "start_time": "2023-02-27T17:59:56.510Z"
   },
   {
    "duration": 15,
    "start_time": "2023-02-27T17:59:56.978Z"
   },
   {
    "duration": 498,
    "start_time": "2023-02-27T17:59:56.995Z"
   },
   {
    "duration": 12,
    "start_time": "2023-02-27T17:59:57.495Z"
   },
   {
    "duration": 231,
    "start_time": "2023-02-27T17:59:57.508Z"
   },
   {
    "duration": 969,
    "start_time": "2023-02-27T17:59:57.741Z"
   },
   {
    "duration": 294,
    "start_time": "2023-02-27T17:59:58.711Z"
   },
   {
    "duration": 12,
    "start_time": "2023-02-27T17:59:59.006Z"
   },
   {
    "duration": 32,
    "start_time": "2023-02-27T17:59:59.019Z"
   },
   {
    "duration": 5,
    "start_time": "2023-02-27T17:59:59.055Z"
   },
   {
    "duration": 8,
    "start_time": "2023-02-27T17:59:59.063Z"
   },
   {
    "duration": 12,
    "start_time": "2023-02-27T17:59:59.072Z"
   },
   {
    "duration": 42,
    "start_time": "2023-02-27T17:59:59.086Z"
   },
   {
    "duration": 4033,
    "start_time": "2023-02-27T17:59:59.130Z"
   },
   {
    "duration": 138740,
    "start_time": "2023-02-27T18:00:03.165Z"
   },
   {
    "duration": 25745,
    "start_time": "2023-02-27T18:02:21.907Z"
   },
   {
    "duration": 11,
    "start_time": "2023-02-27T18:02:47.654Z"
   },
   {
    "duration": 1502,
    "start_time": "2023-02-27T18:05:06.849Z"
   },
   {
    "duration": 740,
    "start_time": "2023-02-27T18:05:08.354Z"
   },
   {
    "duration": 3,
    "start_time": "2023-02-27T18:05:09.095Z"
   },
   {
    "duration": 12,
    "start_time": "2023-02-27T18:05:09.100Z"
   },
   {
    "duration": 11,
    "start_time": "2023-02-27T18:05:09.113Z"
   },
   {
    "duration": 12,
    "start_time": "2023-02-27T18:05:09.126Z"
   },
   {
    "duration": 37,
    "start_time": "2023-02-27T18:05:09.140Z"
   },
   {
    "duration": 21,
    "start_time": "2023-02-27T18:05:09.178Z"
   },
   {
    "duration": 3,
    "start_time": "2023-02-27T18:05:09.201Z"
   },
   {
    "duration": 47,
    "start_time": "2023-02-27T18:05:09.207Z"
   },
   {
    "duration": 23,
    "start_time": "2023-02-27T18:05:09.256Z"
   },
   {
    "duration": 47,
    "start_time": "2023-02-27T18:05:09.281Z"
   },
   {
    "duration": 784,
    "start_time": "2023-02-27T18:05:09.330Z"
   },
   {
    "duration": 15,
    "start_time": "2023-02-27T18:05:10.116Z"
   },
   {
    "duration": 41,
    "start_time": "2023-02-27T18:05:10.132Z"
   },
   {
    "duration": 660,
    "start_time": "2023-02-27T18:05:10.175Z"
   },
   {
    "duration": 19,
    "start_time": "2023-02-27T18:05:10.837Z"
   },
   {
    "duration": 86,
    "start_time": "2023-02-27T18:05:10.866Z"
   },
   {
    "duration": 22,
    "start_time": "2023-02-27T18:05:10.954Z"
   },
   {
    "duration": 9,
    "start_time": "2023-02-27T18:05:10.977Z"
   },
   {
    "duration": 17,
    "start_time": "2023-02-27T18:05:10.988Z"
   },
   {
    "duration": 4,
    "start_time": "2023-02-27T18:05:11.007Z"
   },
   {
    "duration": 41,
    "start_time": "2023-02-27T18:05:11.013Z"
   },
   {
    "duration": 11,
    "start_time": "2023-02-27T18:05:11.055Z"
   },
   {
    "duration": 145,
    "start_time": "2023-02-27T18:05:11.068Z"
   },
   {
    "duration": 22,
    "start_time": "2023-02-27T18:05:11.214Z"
   },
   {
    "duration": 8,
    "start_time": "2023-02-27T18:05:11.248Z"
   },
   {
    "duration": 14,
    "start_time": "2023-02-27T18:05:11.262Z"
   },
   {
    "duration": 1183,
    "start_time": "2023-02-27T18:05:11.277Z"
   },
   {
    "duration": 1195,
    "start_time": "2023-02-27T18:05:12.463Z"
   },
   {
    "duration": 1191,
    "start_time": "2023-02-27T18:05:13.661Z"
   },
   {
    "duration": 395,
    "start_time": "2023-02-27T18:05:14.853Z"
   },
   {
    "duration": 19,
    "start_time": "2023-02-27T18:05:15.250Z"
   },
   {
    "duration": 406,
    "start_time": "2023-02-27T18:05:15.272Z"
   },
   {
    "duration": 11,
    "start_time": "2023-02-27T18:05:15.681Z"
   },
   {
    "duration": 262,
    "start_time": "2023-02-27T18:05:15.694Z"
   },
   {
    "duration": 1072,
    "start_time": "2023-02-27T18:05:15.958Z"
   },
   {
    "duration": 323,
    "start_time": "2023-02-27T18:05:17.032Z"
   },
   {
    "duration": 17,
    "start_time": "2023-02-27T18:05:17.357Z"
   },
   {
    "duration": 15,
    "start_time": "2023-02-27T18:05:17.375Z"
   },
   {
    "duration": 4,
    "start_time": "2023-02-27T18:05:17.391Z"
   },
   {
    "duration": 5,
    "start_time": "2023-02-27T18:05:17.397Z"
   },
   {
    "duration": 11,
    "start_time": "2023-02-27T18:05:17.404Z"
   },
   {
    "duration": 68,
    "start_time": "2023-02-27T18:05:17.416Z"
   },
   {
    "duration": 3571,
    "start_time": "2023-02-27T18:05:17.486Z"
   },
   {
    "duration": 134738,
    "start_time": "2023-02-27T18:05:21.066Z"
   },
   {
    "duration": 26341,
    "start_time": "2023-02-27T18:07:35.806Z"
   },
   {
    "duration": 12,
    "start_time": "2023-02-27T18:08:02.149Z"
   }
  ],
  "kernelspec": {
   "display_name": "Python 3 (ipykernel)",
   "language": "python",
   "name": "python3"
  },
  "language_info": {
   "codemirror_mode": {
    "name": "ipython",
    "version": 3
   },
   "file_extension": ".py",
   "mimetype": "text/x-python",
   "name": "python",
   "nbconvert_exporter": "python",
   "pygments_lexer": "ipython3",
   "version": "3.9.12"
  },
  "toc": {
   "base_numbering": 1,
   "nav_menu": {},
   "number_sections": true,
   "sideBar": true,
   "skip_h1_title": true,
   "title_cell": "Содержание",
   "title_sidebar": "Contents",
   "toc_cell": true,
   "toc_position": {
    "height": "calc(100% - 180px)",
    "left": "10px",
    "top": "150px",
    "width": "165px"
   },
   "toc_section_display": true,
   "toc_window_display": true
  }
 },
 "nbformat": 4,
 "nbformat_minor": 2
}
