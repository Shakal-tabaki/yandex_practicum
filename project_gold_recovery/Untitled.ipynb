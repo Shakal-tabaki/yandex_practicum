{
 "cells": [
  {
   "cell_type": "markdown",
   "id": "645f1f11",
   "metadata": {
    "toc": true
   },
   "source": [
    "<h1>Table of Contents<span class=\"tocSkip\"></span></h1>\n",
    "<div class=\"toc\"><ul class=\"toc-item\"></ul></div>"
   ]
  },
  {
   "cell_type": "markdown",
   "id": "c7bedd31",
   "metadata": {},
   "source": [
    "\n",
    "<h1 align=\"left\"><a href=\"https://github.com/Shakal-tabaki/yandex_practicum/blob/main/project_determination_of_alloy_temperature/alloy_temperature_determination_project.ipynb\" target=\"_blank\">Исследование технологического процесса очистки золота.</a></h1>\n",
    "\n",
    "<h1>Описание:</h1>\n",
    "\n",
    "\n",
    "Строитстся модель машинного обучения для промышленной компании, \n",
    "разрабатывающая решения для эффективной работы промышленных предприятий. \n",
    "Модель должна предсказать коэффициент восстановления золота из золотосодержащей \n",
    "руды на основе данных с параметрами добычи и очистки. Модель поможет оптимизировать производство, \n",
    "чтобы не запускать предприятие с убыточными характеристиками. \n",
    "\n",
    "\n",
    "__Данные:__\n",
    "\n",
    "Данные находятся в трёх файлах:\n",
    "* `gold_industry_train.csv` — обучающая выборка;\n",
    "* `gold_industry_test.csv` — тестовая выборка;\n",
    "* `gold_industry_full.csv` — исходные данные.\n",
    "\n",
    "\n",
    "<h1>Статус проекта:</h1>\n",
    "Проект закончен. Модель была обученная до удовлетворительного качесвтва (`sMAPE`<10%), показанного на предоставленной тестовой выборке. \n",
    "\n",
    "<h1 style=\"color:#539394\">Навыки и инструменты:</h1>\n",
    "\n",
    "Python, Pandas, Matplotlib, NumPy, Scikit-learn, Seaborn\n",
    "</dir>   \n",
    "Исследовательский анализ данных, визуализация данных, предобработка данных"
   ]
  },
  {
   "cell_type": "code",
   "execution_count": null,
   "id": "8c99ee13",
   "metadata": {},
   "outputs": [],
   "source": []
  }
 ],
 "metadata": {
  "kernelspec": {
   "display_name": "Python 3 (ipykernel)",
   "language": "python",
   "name": "python3"
  },
  "language_info": {
   "codemirror_mode": {
    "name": "ipython",
    "version": 3
   },
   "file_extension": ".py",
   "mimetype": "text/x-python",
   "name": "python",
   "nbconvert_exporter": "python",
   "pygments_lexer": "ipython3",
   "version": "3.9.12"
  },
  "toc": {
   "base_numbering": 1,
   "nav_menu": {},
   "number_sections": true,
   "sideBar": true,
   "skip_h1_title": true,
   "title_cell": "Table of Contents",
   "title_sidebar": "Contents",
   "toc_cell": true,
   "toc_position": {},
   "toc_section_display": true,
   "toc_window_display": true
  }
 },
 "nbformat": 4,
 "nbformat_minor": 5
}
