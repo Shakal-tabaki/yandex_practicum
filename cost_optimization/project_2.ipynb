{
 "cells": [
  {
   "cell_type": "markdown",
   "id": "8e9023cd",
   "metadata": {
    "toc": true
   },
   "source": [
    "<h1>Оптимизация производственных расходов, металлургического комбината   ООО «Так закаляем сталь» <span class=\"tocSkip\"></span></h1>\n",
    "<div class=\"toc\"><ul class=\"toc-item\"><li><span><a href=\"#Исследовательский-анализ-данных\" data-toc-modified-id=\"Исследовательский-анализ-данных-1\"><span class=\"toc-item-num\">1&nbsp;&nbsp;</span>Исследовательский анализ данных</a></span></li><li><span><a href=\"#Предобработка-исходных-данных.\" data-toc-modified-id=\"Предобработка-исходных-данных.-2\"><span class=\"toc-item-num\">2&nbsp;&nbsp;</span>Предобработка исходных данных.</a></span></li><li><span><a href=\"#Обучение-модели.\" data-toc-modified-id=\"Обучение-модели.-3\"><span class=\"toc-item-num\">3&nbsp;&nbsp;</span>Обучение модели.</a></span></li><li><span><a href=\"#Тестирование-модели\" data-toc-modified-id=\"Тестирование-модели-4\"><span class=\"toc-item-num\">4&nbsp;&nbsp;</span>Тестирование модели</a></span></li></ul></div>"
   ]
  },
  {
   "cell_type": "markdown",
   "id": "e182131b",
   "metadata": {},
   "source": [
    "Металлургический комбинат ООО «Так закаляем сталь» решил уменьшить потребление электроэнергии на этапе обработки стали. Данный проект направлен на реализацию поставленной задачи, чтоб свою очередь подразумевает постройку модели способной предсказать температуру стали, на предоставленных данных."
   ]
  },
  {
   "cell_type": "markdown",
   "id": "6ac14ea8",
   "metadata": {},
   "source": [
    "__Описание этапа обработки.__"
   ]
  },
  {
   "cell_type": "markdown",
   "id": "fbf33fd3",
   "metadata": {},
   "source": [
    "Сталь обрабатывают в металлическом ковше вместимостью около 100 тонн. Чтобы ковш выдерживал высокие температуры, изнутри его облицовывают огнеупорным кирпичом. Расплавленную сталь заливают в ковш и подогревают до нужной температуры графитовыми электродами. Они установлены в крышке ковша. \n",
    "\n",
    "Из сплава выводится сера (десульфурация), добавлением примесей корректируется химический состав и отбираются пробы. Сталь легируют — изменяют её состав — подавая куски сплава из бункера для сыпучих материалов или проволоку через специальный трайб-аппарат (англ. tribe, «масса»).\n",
    "\n",
    "Перед тем как первый раз ввести легирующие добавки, измеряют температуру стали и производят её химический анализ. Потом температуру на несколько минут повышают, добавляют легирующие материалы и продувают сплав инертным газом. Затем его перемешивают и снова проводят измерения. Такой цикл повторяется до достижения целевого химического состава и оптимальной температуры плавки.\n",
    "\n",
    "Тогда расплавленная сталь отправляется на доводку металла или поступает в машину непрерывной разливки. Оттуда готовый продукт выходит в виде заготовок-слябов (англ. *slab*, «плита»)."
   ]
  },
  {
   "cell_type": "markdown",
   "id": "510f93a2",
   "metadata": {},
   "source": [
    "__Описание данных__"
   ]
  },
  {
   "cell_type": "markdown",
   "id": "39b52e66",
   "metadata": {},
   "source": [
    "Данные состоят из файлов, полученных из разных источников:\n",
    "\n",
    "- `data_arc_new.csv` — данные об электродах;\n",
    "- `data_bulk_new.csv` — данные о подаче сыпучих материалов (объём);\n",
    "- `data_bulk_time_new.csv` *—* данные о подаче сыпучих материалов (время);\n",
    "- `data_gas_new.csv` — данные о продувке сплава газом;\n",
    "- `data_temp_new.csv` — результаты измерения температуры;\n",
    "- `data_wire_new.csv` — данные о проволочных материалах (объём);\n",
    "- `data_wire_time_new.csv` — данные о проволочных материалах (время).  \n",
    "  \n",
    "  \n",
    "Во всех файлах столбец `key` содержит номер партии. В файлах может быть несколько строк с одинаковым значением `key`: они соответствуют разным итерациям обработки."
   ]
  },
  {
   "cell_type": "markdown",
   "id": "4c34ac30",
   "metadata": {},
   "source": [
    "## Исследовательский анализ данных"
   ]
  },
  {
   "cell_type": "markdown",
   "id": "62af45f6",
   "metadata": {},
   "source": [
    "Из условия поставленной задачи, можно зделать вывод "
   ]
  },
  {
   "cell_type": "markdown",
   "id": "f5c94aef",
   "metadata": {},
   "source": [
    "В данной части посмотрим и проаализируем все датасеты. Исследуем таблицы и построим несколько графиков. "
   ]
  },
  {
   "cell_type": "markdown",
   "id": "6c978b18",
   "metadata": {},
   "source": [
    "Импортируем все необходимые библиотеки."
   ]
  },
  {
   "cell_type": "code",
   "execution_count": 1,
   "id": "0203a806",
   "metadata": {},
   "outputs": [],
   "source": [
    "import pandas as pd\n",
    "\n",
    "import matplotlib.pyplot as plt\n",
    "import seaborn as sns\n",
    "import numpy as np\n",
    "import pylab\n",
    "\n",
    "from sklearn.preprocessing import StandardScaler\n",
    "from sklearn.linear_model import LinearRegression\n",
    "from sklearn.metrics import mean_absolute_error\n",
    "from sklearn.model_selection import GridSearchCV, train_test_split\n",
    "from sklearn.ensemble import RandomForestRegressor\n",
    "from sklearn.dummy import DummyRegressor\n",
    "\n",
    "from catboost import CatBoostRegressor\n",
    "\n",
    "#Для удаленя предупреждений\n",
    "import warnings \n",
    "warnings.simplefilter('ignore')"
   ]
  },
  {
   "cell_type": "markdown",
   "id": "e93aec74",
   "metadata": {},
   "source": [
    "В описании данных было сказано, что `key` встречается в каждом датасете. Это и будет связующим звеном для формирования итоговой таблицы, по которой будем обучать модель. Стоит фиксировать количество уникальных значений данного параметра, чтобы увидеть отсутствие того или иного признака."
   ]
  },
  {
   "cell_type": "markdown",
   "id": "5b6d03c7",
   "metadata": {},
   "source": [
    "А также переменную хранящую значение для всех параметров задающих случайные величины типа `random_state`."
   ]
  },
  {
   "cell_type": "code",
   "execution_count": 2,
   "id": "7c0dd602",
   "metadata": {},
   "outputs": [],
   "source": [
    "RANDOM_NUM = 250623"
   ]
  },
  {
   "cell_type": "markdown",
   "id": "caecb60b",
   "metadata": {},
   "source": [
    "__Исследуем первую таблицу `data_arc_new`.__"
   ]
  },
  {
   "cell_type": "code",
   "execution_count": 3,
   "id": "48330730",
   "metadata": {},
   "outputs": [
    {
     "name": "stdout",
     "output_type": "stream",
     "text": [
      "<class 'pandas.core.frame.DataFrame'>\n",
      "RangeIndex: 14876 entries, 0 to 14875\n",
      "Data columns (total 5 columns):\n",
      " #   Column                Non-Null Count  Dtype  \n",
      "---  ------                --------------  -----  \n",
      " 0   key                   14876 non-null  int64  \n",
      " 1   Начало нагрева дугой  14876 non-null  object \n",
      " 2   Конец нагрева дугой   14876 non-null  object \n",
      " 3   Активная мощность     14876 non-null  float64\n",
      " 4   Реактивная мощность   14876 non-null  float64\n",
      "dtypes: float64(2), int64(1), object(2)\n",
      "memory usage: 581.2+ KB\n"
     ]
    }
   ],
   "source": [
    "data_arc = pd.read_csv('/datasets/data_arc_new.csv')\n",
    "data_arc.info()"
   ]
  },
  {
   "cell_type": "code",
   "execution_count": 4,
   "id": "2129ad2d",
   "metadata": {},
   "outputs": [
    {
     "data": {
      "text/html": [
       "<div>\n",
       "<style scoped>\n",
       "    .dataframe tbody tr th:only-of-type {\n",
       "        vertical-align: middle;\n",
       "    }\n",
       "\n",
       "    .dataframe tbody tr th {\n",
       "        vertical-align: top;\n",
       "    }\n",
       "\n",
       "    .dataframe thead th {\n",
       "        text-align: right;\n",
       "    }\n",
       "</style>\n",
       "<table border=\"1\" class=\"dataframe\">\n",
       "  <thead>\n",
       "    <tr style=\"text-align: right;\">\n",
       "      <th></th>\n",
       "      <th>key</th>\n",
       "      <th>Начало нагрева дугой</th>\n",
       "      <th>Конец нагрева дугой</th>\n",
       "      <th>Активная мощность</th>\n",
       "      <th>Реактивная мощность</th>\n",
       "    </tr>\n",
       "  </thead>\n",
       "  <tbody>\n",
       "    <tr>\n",
       "      <th>0</th>\n",
       "      <td>1</td>\n",
       "      <td>2019-05-03 11:02:14</td>\n",
       "      <td>2019-05-03 11:06:02</td>\n",
       "      <td>0.305130</td>\n",
       "      <td>0.211253</td>\n",
       "    </tr>\n",
       "    <tr>\n",
       "      <th>1</th>\n",
       "      <td>1</td>\n",
       "      <td>2019-05-03 11:07:28</td>\n",
       "      <td>2019-05-03 11:10:33</td>\n",
       "      <td>0.765658</td>\n",
       "      <td>0.477438</td>\n",
       "    </tr>\n",
       "    <tr>\n",
       "      <th>2</th>\n",
       "      <td>1</td>\n",
       "      <td>2019-05-03 11:11:44</td>\n",
       "      <td>2019-05-03 11:14:36</td>\n",
       "      <td>0.580313</td>\n",
       "      <td>0.430460</td>\n",
       "    </tr>\n",
       "    <tr>\n",
       "      <th>3</th>\n",
       "      <td>1</td>\n",
       "      <td>2019-05-03 11:18:14</td>\n",
       "      <td>2019-05-03 11:24:19</td>\n",
       "      <td>0.518496</td>\n",
       "      <td>0.379979</td>\n",
       "    </tr>\n",
       "    <tr>\n",
       "      <th>4</th>\n",
       "      <td>1</td>\n",
       "      <td>2019-05-03 11:26:09</td>\n",
       "      <td>2019-05-03 11:28:37</td>\n",
       "      <td>0.867133</td>\n",
       "      <td>0.643691</td>\n",
       "    </tr>\n",
       "    <tr>\n",
       "      <th>...</th>\n",
       "      <td>...</td>\n",
       "      <td>...</td>\n",
       "      <td>...</td>\n",
       "      <td>...</td>\n",
       "      <td>...</td>\n",
       "    </tr>\n",
       "    <tr>\n",
       "      <th>14871</th>\n",
       "      <td>3241</td>\n",
       "      <td>2019-09-06 16:49:05</td>\n",
       "      <td>2019-09-06 16:51:42</td>\n",
       "      <td>0.439735</td>\n",
       "      <td>0.299579</td>\n",
       "    </tr>\n",
       "    <tr>\n",
       "      <th>14872</th>\n",
       "      <td>3241</td>\n",
       "      <td>2019-09-06 16:55:11</td>\n",
       "      <td>2019-09-06 16:58:11</td>\n",
       "      <td>0.646498</td>\n",
       "      <td>0.458240</td>\n",
       "    </tr>\n",
       "    <tr>\n",
       "      <th>14873</th>\n",
       "      <td>3241</td>\n",
       "      <td>2019-09-06 17:06:48</td>\n",
       "      <td>2019-09-06 17:09:52</td>\n",
       "      <td>1.039726</td>\n",
       "      <td>0.769302</td>\n",
       "    </tr>\n",
       "    <tr>\n",
       "      <th>14874</th>\n",
       "      <td>3241</td>\n",
       "      <td>2019-09-06 17:21:58</td>\n",
       "      <td>2019-09-06 17:22:55</td>\n",
       "      <td>0.530267</td>\n",
       "      <td>0.361543</td>\n",
       "    </tr>\n",
       "    <tr>\n",
       "      <th>14875</th>\n",
       "      <td>3241</td>\n",
       "      <td>2019-09-06 17:24:54</td>\n",
       "      <td>2019-09-06 17:26:15</td>\n",
       "      <td>0.389057</td>\n",
       "      <td>0.251347</td>\n",
       "    </tr>\n",
       "  </tbody>\n",
       "</table>\n",
       "<p>14876 rows × 5 columns</p>\n",
       "</div>"
      ],
      "text/plain": [
       "        key Начало нагрева дугой  Конец нагрева дугой  Активная мощность  \\\n",
       "0         1  2019-05-03 11:02:14  2019-05-03 11:06:02           0.305130   \n",
       "1         1  2019-05-03 11:07:28  2019-05-03 11:10:33           0.765658   \n",
       "2         1  2019-05-03 11:11:44  2019-05-03 11:14:36           0.580313   \n",
       "3         1  2019-05-03 11:18:14  2019-05-03 11:24:19           0.518496   \n",
       "4         1  2019-05-03 11:26:09  2019-05-03 11:28:37           0.867133   \n",
       "...     ...                  ...                  ...                ...   \n",
       "14871  3241  2019-09-06 16:49:05  2019-09-06 16:51:42           0.439735   \n",
       "14872  3241  2019-09-06 16:55:11  2019-09-06 16:58:11           0.646498   \n",
       "14873  3241  2019-09-06 17:06:48  2019-09-06 17:09:52           1.039726   \n",
       "14874  3241  2019-09-06 17:21:58  2019-09-06 17:22:55           0.530267   \n",
       "14875  3241  2019-09-06 17:24:54  2019-09-06 17:26:15           0.389057   \n",
       "\n",
       "       Реактивная мощность  \n",
       "0                 0.211253  \n",
       "1                 0.477438  \n",
       "2                 0.430460  \n",
       "3                 0.379979  \n",
       "4                 0.643691  \n",
       "...                    ...  \n",
       "14871             0.299579  \n",
       "14872             0.458240  \n",
       "14873             0.769302  \n",
       "14874             0.361543  \n",
       "14875             0.251347  \n",
       "\n",
       "[14876 rows x 5 columns]"
      ]
     },
     "execution_count": 4,
     "metadata": {},
     "output_type": "execute_result"
    }
   ],
   "source": [
    "data_arc"
   ]
  },
  {
   "cell_type": "markdown",
   "id": "dd8d8360",
   "metadata": {},
   "source": [
    "В данных отсутчтвуют пропуски. Видно что занчение в `key` будут дублироваться. Так же стоит изменить в тип данных в колонках содержащих информацию о времени. Еще при предобработке сменим название колонок на английский язык. \n",
    "Здесь мы имеем информацию о потребляеммой мощности для нагрева стали. Можно выделить данные колонки как признаки, влияющие на температуру в данный период времени."
   ]
  },
  {
   "cell_type": "markdown",
   "id": "1ec84e35",
   "metadata": {},
   "source": [
    "_Посомтрим на колонку с Активной мощностью_"
   ]
  },
  {
   "cell_type": "code",
   "execution_count": 5,
   "id": "c2b7af8e",
   "metadata": {},
   "outputs": [
    {
     "data": {
      "image/png": "[encoded data removed]",
      "text/plain": [
       "<Figure size 432x288 with 1 Axes>"
      ]
     },
     "metadata": {
      "needs_background": "light"
     },
     "output_type": "display_data"
    }
   ],
   "source": [
    "data_arc['Активная мощность'].hist(bins=50)\n",
    "plt.title('Распределение Активной мощности')\n",
    "plt.xlabel('Активная мощность');"
   ]
  },
  {
   "cell_type": "markdown",
   "id": "a1117d8b",
   "metadata": {},
   "source": [
    "В данной колонке, нет явных выбросов либо анамальных значений. Также отсутсвуют нуливые значения.  График убывает в сторону увеличения активной мощности. Посмотрим на статистики данной колонки."
   ]
  },
  {
   "cell_type": "code",
   "execution_count": 6,
   "id": "3594214f",
   "metadata": {},
   "outputs": [
    {
     "data": {
      "text/plain": [
       "count    14876.000000\n",
       "mean         0.662752\n",
       "std          0.258885\n",
       "min          0.223120\n",
       "25%          0.467115\n",
       "50%          0.599587\n",
       "75%          0.830070\n",
       "max          1.463773\n",
       "Name: Активная мощность, dtype: float64"
      ]
     },
     "execution_count": 6,
     "metadata": {},
     "output_type": "execute_result"
    }
   ],
   "source": [
    "data_arc['Активная мощность'].describe()"
   ]
  },
  {
   "cell_type": "markdown",
   "id": "69b0085b",
   "metadata": {},
   "source": [
    "Данные распределенны достаточно хорошо. Медиана со средним отличаются несильно, а стандартное отклонение имеет невысокое значение."
   ]
  },
  {
   "cell_type": "markdown",
   "id": "f7c327d8",
   "metadata": {},
   "source": [
    "_Теперь проанализируем Колонку с Реактивной мощностью_"
   ]
  },
  {
   "cell_type": "code",
   "execution_count": 7,
   "id": "699d15f5",
   "metadata": {},
   "outputs": [
    {
     "data": {
      "image/png": "[encoded data removed]",
      "text/plain": [
       "<Figure size 432x288 with 1 Axes>"
      ]
     },
     "metadata": {
      "needs_background": "light"
     },
     "output_type": "display_data"
    }
   ],
   "source": [
    "data_arc['Реактивная мощность'].hist(bins=50)\n",
    "plt.title('Распределение Реактивная мощности')\n",
    "plt.xlabel('Реактивная мощность');"
   ]
  },
  {
   "cell_type": "markdown",
   "id": "570e46e0",
   "metadata": {},
   "source": [
    "Виден огромный выброс в отрицательную зону значений реактивной мощности. Посмотрим на ее статистики."
   ]
  },
  {
   "cell_type": "code",
   "execution_count": 8,
   "id": "003b061d",
   "metadata": {},
   "outputs": [
    {
     "data": {
      "text/plain": [
       "count    14876.000000\n",
       "mean         0.438986\n",
       "std          5.873485\n",
       "min       -715.479924\n",
       "25%          0.337175\n",
       "50%          0.441639\n",
       "75%          0.608201\n",
       "max          1.270284\n",
       "Name: Реактивная мощность, dtype: float64"
      ]
     },
     "execution_count": 8,
     "metadata": {},
     "output_type": "execute_result"
    }
   ],
   "source": [
    "data_arc['Реактивная мощность'].describe()"
   ]
  },
  {
   "cell_type": "markdown",
   "id": "e6855262",
   "metadata": {},
   "source": [
    "В районе значения -700 найден выброс который стоит обработать для кореектной работы. Посмотрим на график обрезав данное значение."
   ]
  },
  {
   "cell_type": "code",
   "execution_count": 9,
   "id": "7758181d",
   "metadata": {},
   "outputs": [
    {
     "data": {
      "image/png": "[encoded data removed]",
      "text/plain": [
       "<Figure size 432x288 with 1 Axes>"
      ]
     },
     "metadata": {
      "needs_background": "light"
     },
     "output_type": "display_data"
    }
   ],
   "source": [
    "data_arc['Реактивная мощность'].hist(bins=8000)\n",
    "plt.xlim([0,1.5])\n",
    "plt.title('Распределение Реактивная мощности')\n",
    "plt.xlabel('Реактивная мощность');"
   ]
  },
  {
   "cell_type": "markdown",
   "id": "cb87cabe",
   "metadata": {},
   "source": [
    "Без выброса картина преобретает читабельный вид. График распределенеия значений реактивной мощности смещен влево к более низким значениям. Также отсутствуют отрицательные и нуливые значения. "
   ]
  },
  {
   "cell_type": "markdown",
   "id": "9c451894",
   "metadata": {},
   "source": [
    "Теперь проанализируем время использования электродов. Посмотрим на длительность использования. Для этого найдем разницу между началом и концом, выразим ее в секундах."
   ]
  },
  {
   "cell_type": "code",
   "execution_count": 10,
   "id": "576eda19",
   "metadata": {},
   "outputs": [
    {
     "data": {
      "text/plain": [
       "count    14876.000000\n",
       "mean       171.670946\n",
       "std         98.186803\n",
       "min         11.000000\n",
       "25%        107.000000\n",
       "50%        147.000000\n",
       "75%        214.000000\n",
       "max        907.000000\n",
       "dtype: float64"
      ]
     },
     "execution_count": 10,
     "metadata": {},
     "output_type": "execute_result"
    }
   ],
   "source": [
    "# От конца нагрева отнимаем время начала. Из deltatime достанем секунды, деление на 60 выразим длительность в минутах.\n",
    "# И посмотрим на ее статистики. \n",
    "heating_time = (\n",
    "    pd.to_datetime(data_arc['Конец нагрева дугой']) - pd.to_datetime(data_arc['Начало нагрева дугой'])\n",
    ").apply(lambda heating_sec: heating_sec.seconds)\n",
    "\n",
    "heating_time.describe()"
   ]
  },
  {
   "cell_type": "markdown",
   "id": "cfe56a45",
   "metadata": {},
   "source": [
    "Максимальное значение вышло далеко вверх. Стоит проверить, будет ли оно входить в наш доверительный интервал. Медиана и среднее же отличается слабо, стандартное отклониение тоже принимает не высокое значение. Посмотрим на распределение времени нагрева электродов."
   ]
  },
  {
   "cell_type": "code",
   "execution_count": 11,
   "id": "108d0e01",
   "metadata": {},
   "outputs": [
    {
     "data": {
      "image/png": "[encoded data removed]",
      "text/plain": [
       "<Figure size 432x288 with 1 Axes>"
      ]
     },
     "metadata": {
      "needs_background": "light"
     },
     "output_type": "display_data"
    }
   ],
   "source": [
    "heating_time.hist(bins=50)\n",
    "plt.title('Распределение по времени нагрева')\n",
    "plt.xlabel('Длительность нагрева, мин.');"
   ]
  },
  {
   "cell_type": "markdown",
   "id": "83d0eb2f",
   "metadata": {},
   "source": [
    "Видно что основное время распределенно в районе двух минут. Также заметен резкий спуск при увеличении длительности нагрева. Чаще же всего требуется до 5 минут использования электродов."
   ]
  },
  {
   "cell_type": "markdown",
   "id": "4ce11537",
   "metadata": {},
   "source": [
    "Использовать иследованные данные также будем в качестве работы на каждом занчении `key`. Определенного по формулам."
   ]
  },
  {
   "cell_type": "markdown",
   "id": "fba1a0c3",
   "metadata": {},
   "source": [
    "$$\n",
    "Работа = \\sqrt{Реактивная^2 + Активная^2} * Время\n",
    "$$  \n"
   ]
  },
  {
   "cell_type": "markdown",
   "id": "d63a147e",
   "metadata": {},
   "source": [
    "_Колонка `key`. Здесь просто проверим какое количество уникальных ключей содержит данная колонка._"
   ]
  },
  {
   "cell_type": "code",
   "execution_count": 12,
   "id": "176fbb90",
   "metadata": {},
   "outputs": [
    {
     "name": "stdout",
     "output_type": "stream",
     "text": [
      "Количество уникальных ключей в датасете \"data_arc_new\": 3214\n"
     ]
    }
   ],
   "source": [
    "print('Количество уникальных ключей в датасете \"data_arc_new\":', len(data_arc.key.unique()))"
   ]
  },
  {
   "cell_type": "markdown",
   "id": "9d323d77",
   "metadata": {},
   "source": [
    "___  \n",
    "_По данной таблице можно сказать, что ей необходима предобработка. В некоровых колонках присутствуют выбросы и аномальные значения. Колонки с мощностью и врменем нагрева стоит использовать при обучении модели, в качестве расчитанной полной энергии на всех итерациях определенного значения `key`. Также в будующем стоит учесть тот факт, что такое неравномерное распределение колонок обьясняется тем, что на каждом этапе требуется разнакое количество тепла и времени на его получение._ \n",
    "___"
   ]
  },
  {
   "cell_type": "raw",
   "id": "20947bc7",
   "metadata": {},
   "source": [
    "__Теперь проанализируем таблица хранящие данные о подаче сыпучих материалов__"
   ]
  },
  {
   "cell_type": "code",
   "execution_count": 13,
   "id": "a98bb0b8",
   "metadata": {},
   "outputs": [],
   "source": [
    "#Количество \n",
    "data_bulk = pd.read_csv('/datasets/data_bulk_new.csv')\n",
    "#Время их подачи\n",
    "data_bulk_time = pd.read_csv('/datasets/data_bulk_time_new.csv')"
   ]
  },
  {
   "cell_type": "code",
   "execution_count": 14,
   "id": "46a7ed68",
   "metadata": {},
   "outputs": [
    {
     "name": "stdout",
     "output_type": "stream",
     "text": [
      "<class 'pandas.core.frame.DataFrame'>\n",
      "RangeIndex: 3129 entries, 0 to 3128\n",
      "Data columns (total 16 columns):\n",
      " #   Column   Non-Null Count  Dtype  \n",
      "---  ------   --------------  -----  \n",
      " 0   key      3129 non-null   int64  \n",
      " 1   Bulk 1   252 non-null    float64\n",
      " 2   Bulk 2   22 non-null     float64\n",
      " 3   Bulk 3   1298 non-null   float64\n",
      " 4   Bulk 4   1014 non-null   float64\n",
      " 5   Bulk 5   77 non-null     float64\n",
      " 6   Bulk 6   576 non-null    float64\n",
      " 7   Bulk 7   25 non-null     float64\n",
      " 8   Bulk 8   1 non-null      float64\n",
      " 9   Bulk 9   19 non-null     float64\n",
      " 10  Bulk 10  176 non-null    float64\n",
      " 11  Bulk 11  177 non-null    float64\n",
      " 12  Bulk 12  2450 non-null   float64\n",
      " 13  Bulk 13  18 non-null     float64\n",
      " 14  Bulk 14  2806 non-null   float64\n",
      " 15  Bulk 15  2248 non-null   float64\n",
      "dtypes: float64(15), int64(1)\n",
      "memory usage: 391.2 KB\n"
     ]
    }
   ],
   "source": [
    "data_bulk.info()"
   ]
  },
  {
   "cell_type": "markdown",
   "id": "f2e4a593",
   "metadata": {},
   "source": [
    "Присутствуют пропуски практически во всех полонках. Посмотрим на ее вид."
   ]
  },
  {
   "cell_type": "code",
   "execution_count": 15,
   "id": "49a68b78",
   "metadata": {},
   "outputs": [
    {
     "data": {
      "text/html": [
       "<div>\n",
       "<style scoped>\n",
       "    .dataframe tbody tr th:only-of-type {\n",
       "        vertical-align: middle;\n",
       "    }\n",
       "\n",
       "    .dataframe tbody tr th {\n",
       "        vertical-align: top;\n",
       "    }\n",
       "\n",
       "    .dataframe thead th {\n",
       "        text-align: right;\n",
       "    }\n",
       "</style>\n",
       "<table border=\"1\" class=\"dataframe\">\n",
       "  <thead>\n",
       "    <tr style=\"text-align: right;\">\n",
       "      <th></th>\n",
       "      <th>key</th>\n",
       "      <th>Bulk 1</th>\n",
       "      <th>Bulk 2</th>\n",
       "      <th>Bulk 3</th>\n",
       "      <th>Bulk 4</th>\n",
       "      <th>Bulk 5</th>\n",
       "      <th>Bulk 6</th>\n",
       "      <th>Bulk 7</th>\n",
       "      <th>Bulk 8</th>\n",
       "      <th>Bulk 9</th>\n",
       "      <th>Bulk 10</th>\n",
       "      <th>Bulk 11</th>\n",
       "      <th>Bulk 12</th>\n",
       "      <th>Bulk 13</th>\n",
       "      <th>Bulk 14</th>\n",
       "      <th>Bulk 15</th>\n",
       "    </tr>\n",
       "  </thead>\n",
       "  <tbody>\n",
       "    <tr>\n",
       "      <th>0</th>\n",
       "      <td>1</td>\n",
       "      <td>NaN</td>\n",
       "      <td>NaN</td>\n",
       "      <td>NaN</td>\n",
       "      <td>43.0</td>\n",
       "      <td>NaN</td>\n",
       "      <td>NaN</td>\n",
       "      <td>NaN</td>\n",
       "      <td>NaN</td>\n",
       "      <td>NaN</td>\n",
       "      <td>NaN</td>\n",
       "      <td>NaN</td>\n",
       "      <td>206.0</td>\n",
       "      <td>NaN</td>\n",
       "      <td>150.0</td>\n",
       "      <td>154.0</td>\n",
       "    </tr>\n",
       "    <tr>\n",
       "      <th>1</th>\n",
       "      <td>2</td>\n",
       "      <td>NaN</td>\n",
       "      <td>NaN</td>\n",
       "      <td>NaN</td>\n",
       "      <td>73.0</td>\n",
       "      <td>NaN</td>\n",
       "      <td>NaN</td>\n",
       "      <td>NaN</td>\n",
       "      <td>NaN</td>\n",
       "      <td>NaN</td>\n",
       "      <td>NaN</td>\n",
       "      <td>NaN</td>\n",
       "      <td>206.0</td>\n",
       "      <td>NaN</td>\n",
       "      <td>149.0</td>\n",
       "      <td>154.0</td>\n",
       "    </tr>\n",
       "    <tr>\n",
       "      <th>2</th>\n",
       "      <td>3</td>\n",
       "      <td>NaN</td>\n",
       "      <td>NaN</td>\n",
       "      <td>NaN</td>\n",
       "      <td>34.0</td>\n",
       "      <td>NaN</td>\n",
       "      <td>NaN</td>\n",
       "      <td>NaN</td>\n",
       "      <td>NaN</td>\n",
       "      <td>NaN</td>\n",
       "      <td>NaN</td>\n",
       "      <td>NaN</td>\n",
       "      <td>205.0</td>\n",
       "      <td>NaN</td>\n",
       "      <td>152.0</td>\n",
       "      <td>153.0</td>\n",
       "    </tr>\n",
       "    <tr>\n",
       "      <th>3</th>\n",
       "      <td>4</td>\n",
       "      <td>NaN</td>\n",
       "      <td>NaN</td>\n",
       "      <td>NaN</td>\n",
       "      <td>81.0</td>\n",
       "      <td>NaN</td>\n",
       "      <td>NaN</td>\n",
       "      <td>NaN</td>\n",
       "      <td>NaN</td>\n",
       "      <td>NaN</td>\n",
       "      <td>NaN</td>\n",
       "      <td>NaN</td>\n",
       "      <td>207.0</td>\n",
       "      <td>NaN</td>\n",
       "      <td>153.0</td>\n",
       "      <td>154.0</td>\n",
       "    </tr>\n",
       "    <tr>\n",
       "      <th>4</th>\n",
       "      <td>5</td>\n",
       "      <td>NaN</td>\n",
       "      <td>NaN</td>\n",
       "      <td>NaN</td>\n",
       "      <td>78.0</td>\n",
       "      <td>NaN</td>\n",
       "      <td>NaN</td>\n",
       "      <td>NaN</td>\n",
       "      <td>NaN</td>\n",
       "      <td>NaN</td>\n",
       "      <td>NaN</td>\n",
       "      <td>NaN</td>\n",
       "      <td>203.0</td>\n",
       "      <td>NaN</td>\n",
       "      <td>151.0</td>\n",
       "      <td>152.0</td>\n",
       "    </tr>\n",
       "    <tr>\n",
       "      <th>...</th>\n",
       "      <td>...</td>\n",
       "      <td>...</td>\n",
       "      <td>...</td>\n",
       "      <td>...</td>\n",
       "      <td>...</td>\n",
       "      <td>...</td>\n",
       "      <td>...</td>\n",
       "      <td>...</td>\n",
       "      <td>...</td>\n",
       "      <td>...</td>\n",
       "      <td>...</td>\n",
       "      <td>...</td>\n",
       "      <td>...</td>\n",
       "      <td>...</td>\n",
       "      <td>...</td>\n",
       "      <td>...</td>\n",
       "    </tr>\n",
       "    <tr>\n",
       "      <th>3124</th>\n",
       "      <td>3237</td>\n",
       "      <td>NaN</td>\n",
       "      <td>NaN</td>\n",
       "      <td>170.0</td>\n",
       "      <td>NaN</td>\n",
       "      <td>NaN</td>\n",
       "      <td>NaN</td>\n",
       "      <td>NaN</td>\n",
       "      <td>NaN</td>\n",
       "      <td>NaN</td>\n",
       "      <td>NaN</td>\n",
       "      <td>NaN</td>\n",
       "      <td>252.0</td>\n",
       "      <td>NaN</td>\n",
       "      <td>130.0</td>\n",
       "      <td>206.0</td>\n",
       "    </tr>\n",
       "    <tr>\n",
       "      <th>3125</th>\n",
       "      <td>3238</td>\n",
       "      <td>NaN</td>\n",
       "      <td>NaN</td>\n",
       "      <td>126.0</td>\n",
       "      <td>NaN</td>\n",
       "      <td>NaN</td>\n",
       "      <td>NaN</td>\n",
       "      <td>NaN</td>\n",
       "      <td>NaN</td>\n",
       "      <td>NaN</td>\n",
       "      <td>NaN</td>\n",
       "      <td>NaN</td>\n",
       "      <td>254.0</td>\n",
       "      <td>NaN</td>\n",
       "      <td>108.0</td>\n",
       "      <td>106.0</td>\n",
       "    </tr>\n",
       "    <tr>\n",
       "      <th>3126</th>\n",
       "      <td>3239</td>\n",
       "      <td>NaN</td>\n",
       "      <td>NaN</td>\n",
       "      <td>NaN</td>\n",
       "      <td>NaN</td>\n",
       "      <td>NaN</td>\n",
       "      <td>114.0</td>\n",
       "      <td>NaN</td>\n",
       "      <td>NaN</td>\n",
       "      <td>NaN</td>\n",
       "      <td>NaN</td>\n",
       "      <td>NaN</td>\n",
       "      <td>158.0</td>\n",
       "      <td>NaN</td>\n",
       "      <td>270.0</td>\n",
       "      <td>88.0</td>\n",
       "    </tr>\n",
       "    <tr>\n",
       "      <th>3127</th>\n",
       "      <td>3240</td>\n",
       "      <td>NaN</td>\n",
       "      <td>NaN</td>\n",
       "      <td>NaN</td>\n",
       "      <td>NaN</td>\n",
       "      <td>NaN</td>\n",
       "      <td>26.0</td>\n",
       "      <td>NaN</td>\n",
       "      <td>NaN</td>\n",
       "      <td>NaN</td>\n",
       "      <td>NaN</td>\n",
       "      <td>NaN</td>\n",
       "      <td>NaN</td>\n",
       "      <td>NaN</td>\n",
       "      <td>192.0</td>\n",
       "      <td>54.0</td>\n",
       "    </tr>\n",
       "    <tr>\n",
       "      <th>3128</th>\n",
       "      <td>3241</td>\n",
       "      <td>NaN</td>\n",
       "      <td>NaN</td>\n",
       "      <td>NaN</td>\n",
       "      <td>NaN</td>\n",
       "      <td>NaN</td>\n",
       "      <td>NaN</td>\n",
       "      <td>NaN</td>\n",
       "      <td>NaN</td>\n",
       "      <td>NaN</td>\n",
       "      <td>NaN</td>\n",
       "      <td>NaN</td>\n",
       "      <td>NaN</td>\n",
       "      <td>NaN</td>\n",
       "      <td>180.0</td>\n",
       "      <td>52.0</td>\n",
       "    </tr>\n",
       "  </tbody>\n",
       "</table>\n",
       "<p>3129 rows × 16 columns</p>\n",
       "</div>"
      ],
      "text/plain": [
       "       key  Bulk 1  Bulk 2  Bulk 3  Bulk 4  Bulk 5  Bulk 6  Bulk 7  Bulk 8  \\\n",
       "0        1     NaN     NaN     NaN    43.0     NaN     NaN     NaN     NaN   \n",
       "1        2     NaN     NaN     NaN    73.0     NaN     NaN     NaN     NaN   \n",
       "2        3     NaN     NaN     NaN    34.0     NaN     NaN     NaN     NaN   \n",
       "3        4     NaN     NaN     NaN    81.0     NaN     NaN     NaN     NaN   \n",
       "4        5     NaN     NaN     NaN    78.0     NaN     NaN     NaN     NaN   \n",
       "...    ...     ...     ...     ...     ...     ...     ...     ...     ...   \n",
       "3124  3237     NaN     NaN   170.0     NaN     NaN     NaN     NaN     NaN   \n",
       "3125  3238     NaN     NaN   126.0     NaN     NaN     NaN     NaN     NaN   \n",
       "3126  3239     NaN     NaN     NaN     NaN     NaN   114.0     NaN     NaN   \n",
       "3127  3240     NaN     NaN     NaN     NaN     NaN    26.0     NaN     NaN   \n",
       "3128  3241     NaN     NaN     NaN     NaN     NaN     NaN     NaN     NaN   \n",
       "\n",
       "      Bulk 9  Bulk 10  Bulk 11  Bulk 12  Bulk 13  Bulk 14  Bulk 15  \n",
       "0        NaN      NaN      NaN    206.0      NaN    150.0    154.0  \n",
       "1        NaN      NaN      NaN    206.0      NaN    149.0    154.0  \n",
       "2        NaN      NaN      NaN    205.0      NaN    152.0    153.0  \n",
       "3        NaN      NaN      NaN    207.0      NaN    153.0    154.0  \n",
       "4        NaN      NaN      NaN    203.0      NaN    151.0    152.0  \n",
       "...      ...      ...      ...      ...      ...      ...      ...  \n",
       "3124     NaN      NaN      NaN    252.0      NaN    130.0    206.0  \n",
       "3125     NaN      NaN      NaN    254.0      NaN    108.0    106.0  \n",
       "3126     NaN      NaN      NaN    158.0      NaN    270.0     88.0  \n",
       "3127     NaN      NaN      NaN      NaN      NaN    192.0     54.0  \n",
       "3128     NaN      NaN      NaN      NaN      NaN    180.0     52.0  \n",
       "\n",
       "[3129 rows x 16 columns]"
      ]
     },
     "execution_count": 15,
     "metadata": {},
     "output_type": "execute_result"
    }
   ],
   "source": [
    "data_bulk"
   ]
  },
  {
   "cell_type": "markdown",
   "id": "2ee92ac6",
   "metadata": {},
   "source": [
    "Под каждым `Bulk` подразумевается определенный материал. Видимо не для каждого `keys` требуется каждый вид материала. Стоит заполнить пропуски в предобработке с этими данными. Также видно, что количество определенных сыпучих веществ ояень мало такие как `Bulk 8` вообще стоит исключить, так как там всего одно значение. Также видно, что индексы не сходятся с колонкой `key`, видимо счет в какой то момент перестал быть цикличным. Посмотрим на статистики сыпучих материалов."
   ]
  },
  {
   "cell_type": "code",
   "execution_count": 16,
   "id": "32f9f7c1",
   "metadata": {},
   "outputs": [
    {
     "data": {
      "text/html": [
       "<div>\n",
       "<style scoped>\n",
       "    .dataframe tbody tr th:only-of-type {\n",
       "        vertical-align: middle;\n",
       "    }\n",
       "\n",
       "    .dataframe tbody tr th {\n",
       "        vertical-align: top;\n",
       "    }\n",
       "\n",
       "    .dataframe thead th {\n",
       "        text-align: right;\n",
       "    }\n",
       "</style>\n",
       "<table border=\"1\" class=\"dataframe\">\n",
       "  <thead>\n",
       "    <tr style=\"text-align: right;\">\n",
       "      <th></th>\n",
       "      <th>Bulk 1</th>\n",
       "      <th>Bulk 2</th>\n",
       "      <th>Bulk 3</th>\n",
       "      <th>Bulk 4</th>\n",
       "      <th>Bulk 5</th>\n",
       "      <th>Bulk 6</th>\n",
       "      <th>Bulk 7</th>\n",
       "      <th>Bulk 9</th>\n",
       "      <th>Bulk 10</th>\n",
       "      <th>Bulk 11</th>\n",
       "      <th>Bulk 12</th>\n",
       "      <th>Bulk 13</th>\n",
       "      <th>Bulk 14</th>\n",
       "      <th>Bulk 15</th>\n",
       "    </tr>\n",
       "  </thead>\n",
       "  <tbody>\n",
       "    <tr>\n",
       "      <th>count</th>\n",
       "      <td>252.00</td>\n",
       "      <td>22.00</td>\n",
       "      <td>1298.00</td>\n",
       "      <td>1014.00</td>\n",
       "      <td>77.00</td>\n",
       "      <td>576.00</td>\n",
       "      <td>25.00</td>\n",
       "      <td>19.00</td>\n",
       "      <td>176.00</td>\n",
       "      <td>177.00</td>\n",
       "      <td>2450.00</td>\n",
       "      <td>18.00</td>\n",
       "      <td>2806.00</td>\n",
       "      <td>2248.00</td>\n",
       "    </tr>\n",
       "    <tr>\n",
       "      <th>mean</th>\n",
       "      <td>39.24</td>\n",
       "      <td>253.05</td>\n",
       "      <td>113.88</td>\n",
       "      <td>104.39</td>\n",
       "      <td>107.03</td>\n",
       "      <td>118.93</td>\n",
       "      <td>305.60</td>\n",
       "      <td>76.32</td>\n",
       "      <td>83.28</td>\n",
       "      <td>76.82</td>\n",
       "      <td>260.47</td>\n",
       "      <td>181.11</td>\n",
       "      <td>170.28</td>\n",
       "      <td>160.51</td>\n",
       "    </tr>\n",
       "    <tr>\n",
       "      <th>std</th>\n",
       "      <td>18.28</td>\n",
       "      <td>21.18</td>\n",
       "      <td>75.48</td>\n",
       "      <td>48.18</td>\n",
       "      <td>81.79</td>\n",
       "      <td>72.06</td>\n",
       "      <td>191.02</td>\n",
       "      <td>21.72</td>\n",
       "      <td>26.06</td>\n",
       "      <td>59.66</td>\n",
       "      <td>120.65</td>\n",
       "      <td>46.09</td>\n",
       "      <td>65.87</td>\n",
       "      <td>51.77</td>\n",
       "    </tr>\n",
       "    <tr>\n",
       "      <th>min</th>\n",
       "      <td>10.00</td>\n",
       "      <td>228.00</td>\n",
       "      <td>6.00</td>\n",
       "      <td>12.00</td>\n",
       "      <td>11.00</td>\n",
       "      <td>17.00</td>\n",
       "      <td>47.00</td>\n",
       "      <td>63.00</td>\n",
       "      <td>24.00</td>\n",
       "      <td>8.00</td>\n",
       "      <td>53.00</td>\n",
       "      <td>151.00</td>\n",
       "      <td>16.00</td>\n",
       "      <td>1.00</td>\n",
       "    </tr>\n",
       "    <tr>\n",
       "      <th>25%</th>\n",
       "      <td>27.00</td>\n",
       "      <td>242.00</td>\n",
       "      <td>58.00</td>\n",
       "      <td>72.00</td>\n",
       "      <td>70.00</td>\n",
       "      <td>69.75</td>\n",
       "      <td>155.00</td>\n",
       "      <td>66.00</td>\n",
       "      <td>64.00</td>\n",
       "      <td>25.00</td>\n",
       "      <td>204.00</td>\n",
       "      <td>153.25</td>\n",
       "      <td>119.00</td>\n",
       "      <td>105.00</td>\n",
       "    </tr>\n",
       "    <tr>\n",
       "      <th>50%</th>\n",
       "      <td>31.00</td>\n",
       "      <td>251.50</td>\n",
       "      <td>97.50</td>\n",
       "      <td>102.00</td>\n",
       "      <td>86.00</td>\n",
       "      <td>100.00</td>\n",
       "      <td>298.00</td>\n",
       "      <td>68.00</td>\n",
       "      <td>86.50</td>\n",
       "      <td>64.00</td>\n",
       "      <td>208.00</td>\n",
       "      <td>155.50</td>\n",
       "      <td>151.00</td>\n",
       "      <td>160.00</td>\n",
       "    </tr>\n",
       "    <tr>\n",
       "      <th>75%</th>\n",
       "      <td>46.00</td>\n",
       "      <td>257.75</td>\n",
       "      <td>152.00</td>\n",
       "      <td>133.00</td>\n",
       "      <td>132.00</td>\n",
       "      <td>157.00</td>\n",
       "      <td>406.00</td>\n",
       "      <td>70.50</td>\n",
       "      <td>102.00</td>\n",
       "      <td>106.00</td>\n",
       "      <td>316.00</td>\n",
       "      <td>203.50</td>\n",
       "      <td>205.75</td>\n",
       "      <td>205.00</td>\n",
       "    </tr>\n",
       "    <tr>\n",
       "      <th>max</th>\n",
       "      <td>185.00</td>\n",
       "      <td>325.00</td>\n",
       "      <td>454.00</td>\n",
       "      <td>281.00</td>\n",
       "      <td>603.00</td>\n",
       "      <td>503.00</td>\n",
       "      <td>772.00</td>\n",
       "      <td>147.00</td>\n",
       "      <td>159.00</td>\n",
       "      <td>313.00</td>\n",
       "      <td>1849.00</td>\n",
       "      <td>305.00</td>\n",
       "      <td>636.00</td>\n",
       "      <td>405.00</td>\n",
       "    </tr>\n",
       "  </tbody>\n",
       "</table>\n",
       "</div>"
      ],
      "text/plain": [
       "       Bulk 1  Bulk 2   Bulk 3   Bulk 4  Bulk 5  Bulk 6  Bulk 7  Bulk 9  \\\n",
       "count  252.00   22.00  1298.00  1014.00   77.00  576.00   25.00   19.00   \n",
       "mean    39.24  253.05   113.88   104.39  107.03  118.93  305.60   76.32   \n",
       "std     18.28   21.18    75.48    48.18   81.79   72.06  191.02   21.72   \n",
       "min     10.00  228.00     6.00    12.00   11.00   17.00   47.00   63.00   \n",
       "25%     27.00  242.00    58.00    72.00   70.00   69.75  155.00   66.00   \n",
       "50%     31.00  251.50    97.50   102.00   86.00  100.00  298.00   68.00   \n",
       "75%     46.00  257.75   152.00   133.00  132.00  157.00  406.00   70.50   \n",
       "max    185.00  325.00   454.00   281.00  603.00  503.00  772.00  147.00   \n",
       "\n",
       "       Bulk 10  Bulk 11  Bulk 12  Bulk 13  Bulk 14  Bulk 15  \n",
       "count   176.00   177.00  2450.00    18.00  2806.00  2248.00  \n",
       "mean     83.28    76.82   260.47   181.11   170.28   160.51  \n",
       "std      26.06    59.66   120.65    46.09    65.87    51.77  \n",
       "min      24.00     8.00    53.00   151.00    16.00     1.00  \n",
       "25%      64.00    25.00   204.00   153.25   119.00   105.00  \n",
       "50%      86.50    64.00   208.00   155.50   151.00   160.00  \n",
       "75%     102.00   106.00   316.00   203.50   205.75   205.00  \n",
       "max     159.00   313.00  1849.00   305.00   636.00   405.00  "
      ]
     },
     "execution_count": 16,
     "metadata": {},
     "output_type": "execute_result"
    }
   ],
   "source": [
    "data_bulk = data_bulk.drop('Bulk 8',axis=1)\n",
    "round(data_bulk.describe(exclude=['int64']),2)"
   ]
  },
  {
   "cell_type": "markdown",
   "id": "cd14744b",
   "metadata": {},
   "source": [
    "По полученным данным, можно отличить `Bulk 1, Bulk 6 и Bulk 12` с большими значениями в max. И `Bulk 15` с крайне малым значением в min."
   ]
  },
  {
   "cell_type": "markdown",
   "id": "0eb18dce",
   "metadata": {},
   "source": [
    "Посмотрим на их распределения."
   ]
  },
  {
   "cell_type": "code",
   "execution_count": 17,
   "id": "4f1d9610",
   "metadata": {},
   "outputs": [],
   "source": [
    "def ploting_hist(data, top=2, wspace=0.04):\n",
    "    \"\"\"Функция строющая гистограммы по всем колонкам в датасете, с параметрами локализации графиков.\"\"\"\n",
    "    num_coll = 1\n",
    "    pylab.figure(figsize=(15,1))\n",
    "    pylab.subplots_adjust(top=top, wspace=wspace) # для корректной расстановки\n",
    "    for i in data:\n",
    "        pylab.subplot(data.shape[1]//2, 3, num_coll)\n",
    "        pylab.hist(data[i], bins=50)\n",
    "        pylab.title(i)\n",
    "        pylab.xlabel('Обьем')\n",
    "        pylab.grid(True)\n",
    "        num_coll += 1"
   ]
  },
  {
   "cell_type": "code",
   "execution_count": 18,
   "id": "a93c5af1",
   "metadata": {},
   "outputs": [
    {
     "data": {
      "image/png": "[encoded data removed]",
      "text/plain": [
       "<Figure size 1080x72 with 14 Axes>"
      ]
     },
     "metadata": {
      "needs_background": "light"
     },
     "output_type": "display_data"
    }
   ],
   "source": [
    "ploting_hist(data_bulk.drop('key',axis=1), top=30, wspace=0.2 )"
   ]
  },
  {
   "cell_type": "markdown",
   "id": "b83ec9b6",
   "metadata": {},
   "source": [
    "Видно, что все сыпучие материалы распредленны поразному. Есть небольшие смещения в сторону больших значений (`bulk 1 5 12 5`). Выбросам же это сложно назвать. "
   ]
  },
  {
   "cell_type": "markdown",
   "id": "65082272",
   "metadata": {},
   "source": [
    "_Таблица `data_bulk_time`_"
   ]
  },
  {
   "cell_type": "code",
   "execution_count": 19,
   "id": "dba03ef7",
   "metadata": {},
   "outputs": [
    {
     "name": "stdout",
     "output_type": "stream",
     "text": [
      "<class 'pandas.core.frame.DataFrame'>\n",
      "RangeIndex: 3129 entries, 0 to 3128\n",
      "Data columns (total 16 columns):\n",
      " #   Column   Non-Null Count  Dtype \n",
      "---  ------   --------------  ----- \n",
      " 0   key      3129 non-null   int64 \n",
      " 1   Bulk 1   252 non-null    object\n",
      " 2   Bulk 2   22 non-null     object\n",
      " 3   Bulk 3   1298 non-null   object\n",
      " 4   Bulk 4   1014 non-null   object\n",
      " 5   Bulk 5   77 non-null     object\n",
      " 6   Bulk 6   576 non-null    object\n",
      " 7   Bulk 7   25 non-null     object\n",
      " 8   Bulk 8   1 non-null      object\n",
      " 9   Bulk 9   19 non-null     object\n",
      " 10  Bulk 10  176 non-null    object\n",
      " 11  Bulk 11  177 non-null    object\n",
      " 12  Bulk 12  2450 non-null   object\n",
      " 13  Bulk 13  18 non-null     object\n",
      " 14  Bulk 14  2806 non-null   object\n",
      " 15  Bulk 15  2248 non-null   object\n",
      "dtypes: int64(1), object(15)\n",
      "memory usage: 391.2+ KB\n"
     ]
    }
   ],
   "source": [
    "data_bulk_time.info()"
   ]
  },
  {
   "cell_type": "markdown",
   "id": "5c04b2bf",
   "metadata": {},
   "source": [
    "По первоначальной информации о таблице, можно заметить, что количество пропусков по колонкам индентично. Есть возможность, их обьединения. Но из цели нащей задачи можно заключить, что конкретное время добавление сыпучих веществ, никак не поможет нам определить ее влияния на температуру. "
   ]
  },
  {
   "cell_type": "markdown",
   "id": "9a809906",
   "metadata": {},
   "source": [
    "Посмотрим что они хранят."
   ]
  },
  {
   "cell_type": "code",
   "execution_count": 20,
   "id": "b1735592",
   "metadata": {},
   "outputs": [
    {
     "data": {
      "text/html": [
       "<div>\n",
       "<style scoped>\n",
       "    .dataframe tbody tr th:only-of-type {\n",
       "        vertical-align: middle;\n",
       "    }\n",
       "\n",
       "    .dataframe tbody tr th {\n",
       "        vertical-align: top;\n",
       "    }\n",
       "\n",
       "    .dataframe thead th {\n",
       "        text-align: right;\n",
       "    }\n",
       "</style>\n",
       "<table border=\"1\" class=\"dataframe\">\n",
       "  <thead>\n",
       "    <tr style=\"text-align: right;\">\n",
       "      <th></th>\n",
       "      <th>key</th>\n",
       "      <th>Bulk 1</th>\n",
       "      <th>Bulk 2</th>\n",
       "      <th>Bulk 3</th>\n",
       "      <th>Bulk 4</th>\n",
       "      <th>Bulk 5</th>\n",
       "      <th>Bulk 6</th>\n",
       "      <th>Bulk 7</th>\n",
       "      <th>Bulk 8</th>\n",
       "      <th>Bulk 9</th>\n",
       "      <th>Bulk 10</th>\n",
       "      <th>Bulk 11</th>\n",
       "      <th>Bulk 12</th>\n",
       "      <th>Bulk 13</th>\n",
       "      <th>Bulk 14</th>\n",
       "      <th>Bulk 15</th>\n",
       "    </tr>\n",
       "  </thead>\n",
       "  <tbody>\n",
       "    <tr>\n",
       "      <th>0</th>\n",
       "      <td>1</td>\n",
       "      <td>NaN</td>\n",
       "      <td>NaN</td>\n",
       "      <td>NaN</td>\n",
       "      <td>2019-05-03 11:28:48</td>\n",
       "      <td>NaN</td>\n",
       "      <td>NaN</td>\n",
       "      <td>NaN</td>\n",
       "      <td>NaN</td>\n",
       "      <td>NaN</td>\n",
       "      <td>NaN</td>\n",
       "      <td>NaN</td>\n",
       "      <td>2019-05-03 11:24:31</td>\n",
       "      <td>NaN</td>\n",
       "      <td>2019-05-03 11:14:50</td>\n",
       "      <td>2019-05-03 11:10:43</td>\n",
       "    </tr>\n",
       "    <tr>\n",
       "      <th>1</th>\n",
       "      <td>2</td>\n",
       "      <td>NaN</td>\n",
       "      <td>NaN</td>\n",
       "      <td>NaN</td>\n",
       "      <td>2019-05-03 11:36:50</td>\n",
       "      <td>NaN</td>\n",
       "      <td>NaN</td>\n",
       "      <td>NaN</td>\n",
       "      <td>NaN</td>\n",
       "      <td>NaN</td>\n",
       "      <td>NaN</td>\n",
       "      <td>NaN</td>\n",
       "      <td>2019-05-03 11:53:30</td>\n",
       "      <td>NaN</td>\n",
       "      <td>2019-05-03 11:48:37</td>\n",
       "      <td>2019-05-03 11:44:39</td>\n",
       "    </tr>\n",
       "    <tr>\n",
       "      <th>2</th>\n",
       "      <td>3</td>\n",
       "      <td>NaN</td>\n",
       "      <td>NaN</td>\n",
       "      <td>NaN</td>\n",
       "      <td>2019-05-03 12:32:39</td>\n",
       "      <td>NaN</td>\n",
       "      <td>NaN</td>\n",
       "      <td>NaN</td>\n",
       "      <td>NaN</td>\n",
       "      <td>NaN</td>\n",
       "      <td>NaN</td>\n",
       "      <td>NaN</td>\n",
       "      <td>2019-05-03 12:27:13</td>\n",
       "      <td>NaN</td>\n",
       "      <td>2019-05-03 12:21:01</td>\n",
       "      <td>2019-05-03 12:16:16</td>\n",
       "    </tr>\n",
       "    <tr>\n",
       "      <th>3</th>\n",
       "      <td>4</td>\n",
       "      <td>NaN</td>\n",
       "      <td>NaN</td>\n",
       "      <td>NaN</td>\n",
       "      <td>2019-05-03 12:43:22</td>\n",
       "      <td>NaN</td>\n",
       "      <td>NaN</td>\n",
       "      <td>NaN</td>\n",
       "      <td>NaN</td>\n",
       "      <td>NaN</td>\n",
       "      <td>NaN</td>\n",
       "      <td>NaN</td>\n",
       "      <td>2019-05-03 12:58:00</td>\n",
       "      <td>NaN</td>\n",
       "      <td>2019-05-03 12:51:11</td>\n",
       "      <td>2019-05-03 12:46:36</td>\n",
       "    </tr>\n",
       "    <tr>\n",
       "      <th>4</th>\n",
       "      <td>5</td>\n",
       "      <td>NaN</td>\n",
       "      <td>NaN</td>\n",
       "      <td>NaN</td>\n",
       "      <td>2019-05-03 13:30:47</td>\n",
       "      <td>NaN</td>\n",
       "      <td>NaN</td>\n",
       "      <td>NaN</td>\n",
       "      <td>NaN</td>\n",
       "      <td>NaN</td>\n",
       "      <td>NaN</td>\n",
       "      <td>NaN</td>\n",
       "      <td>2019-05-03 13:30:47</td>\n",
       "      <td>NaN</td>\n",
       "      <td>2019-05-03 13:34:12</td>\n",
       "      <td>2019-05-03 13:30:47</td>\n",
       "    </tr>\n",
       "    <tr>\n",
       "      <th>...</th>\n",
       "      <td>...</td>\n",
       "      <td>...</td>\n",
       "      <td>...</td>\n",
       "      <td>...</td>\n",
       "      <td>...</td>\n",
       "      <td>...</td>\n",
       "      <td>...</td>\n",
       "      <td>...</td>\n",
       "      <td>...</td>\n",
       "      <td>...</td>\n",
       "      <td>...</td>\n",
       "      <td>...</td>\n",
       "      <td>...</td>\n",
       "      <td>...</td>\n",
       "      <td>...</td>\n",
       "      <td>...</td>\n",
       "    </tr>\n",
       "    <tr>\n",
       "      <th>3124</th>\n",
       "      <td>3237</td>\n",
       "      <td>NaN</td>\n",
       "      <td>NaN</td>\n",
       "      <td>2019-09-06 11:54:15</td>\n",
       "      <td>NaN</td>\n",
       "      <td>NaN</td>\n",
       "      <td>NaN</td>\n",
       "      <td>NaN</td>\n",
       "      <td>NaN</td>\n",
       "      <td>NaN</td>\n",
       "      <td>NaN</td>\n",
       "      <td>NaN</td>\n",
       "      <td>2019-09-06 11:49:45</td>\n",
       "      <td>NaN</td>\n",
       "      <td>2019-09-06 11:45:22</td>\n",
       "      <td>2019-09-06 11:40:06</td>\n",
       "    </tr>\n",
       "    <tr>\n",
       "      <th>3125</th>\n",
       "      <td>3238</td>\n",
       "      <td>NaN</td>\n",
       "      <td>NaN</td>\n",
       "      <td>2019-09-06 12:26:52</td>\n",
       "      <td>NaN</td>\n",
       "      <td>NaN</td>\n",
       "      <td>NaN</td>\n",
       "      <td>NaN</td>\n",
       "      <td>NaN</td>\n",
       "      <td>NaN</td>\n",
       "      <td>NaN</td>\n",
       "      <td>NaN</td>\n",
       "      <td>2019-09-06 12:18:35</td>\n",
       "      <td>NaN</td>\n",
       "      <td>2019-09-06 12:31:49</td>\n",
       "      <td>2019-09-06 12:26:52</td>\n",
       "    </tr>\n",
       "    <tr>\n",
       "      <th>3126</th>\n",
       "      <td>3239</td>\n",
       "      <td>NaN</td>\n",
       "      <td>NaN</td>\n",
       "      <td>NaN</td>\n",
       "      <td>NaN</td>\n",
       "      <td>NaN</td>\n",
       "      <td>2019-09-06 15:06:00</td>\n",
       "      <td>NaN</td>\n",
       "      <td>NaN</td>\n",
       "      <td>NaN</td>\n",
       "      <td>NaN</td>\n",
       "      <td>NaN</td>\n",
       "      <td>2019-09-06 15:01:44</td>\n",
       "      <td>NaN</td>\n",
       "      <td>2019-09-06 14:58:15</td>\n",
       "      <td>2019-09-06 14:48:06</td>\n",
       "    </tr>\n",
       "    <tr>\n",
       "      <th>3127</th>\n",
       "      <td>3240</td>\n",
       "      <td>NaN</td>\n",
       "      <td>NaN</td>\n",
       "      <td>NaN</td>\n",
       "      <td>NaN</td>\n",
       "      <td>NaN</td>\n",
       "      <td>2019-09-06 16:24:28</td>\n",
       "      <td>NaN</td>\n",
       "      <td>NaN</td>\n",
       "      <td>NaN</td>\n",
       "      <td>NaN</td>\n",
       "      <td>NaN</td>\n",
       "      <td>NaN</td>\n",
       "      <td>NaN</td>\n",
       "      <td>2019-09-06 16:07:29</td>\n",
       "      <td>2019-09-06 16:01:34</td>\n",
       "    </tr>\n",
       "    <tr>\n",
       "      <th>3128</th>\n",
       "      <td>3241</td>\n",
       "      <td>NaN</td>\n",
       "      <td>NaN</td>\n",
       "      <td>NaN</td>\n",
       "      <td>NaN</td>\n",
       "      <td>NaN</td>\n",
       "      <td>NaN</td>\n",
       "      <td>NaN</td>\n",
       "      <td>NaN</td>\n",
       "      <td>NaN</td>\n",
       "      <td>NaN</td>\n",
       "      <td>NaN</td>\n",
       "      <td>NaN</td>\n",
       "      <td>NaN</td>\n",
       "      <td>2019-09-06 17:26:33</td>\n",
       "      <td>2019-09-06 17:23:15</td>\n",
       "    </tr>\n",
       "  </tbody>\n",
       "</table>\n",
       "<p>3129 rows × 16 columns</p>\n",
       "</div>"
      ],
      "text/plain": [
       "       key Bulk 1 Bulk 2               Bulk 3               Bulk 4 Bulk 5  \\\n",
       "0        1    NaN    NaN                  NaN  2019-05-03 11:28:48    NaN   \n",
       "1        2    NaN    NaN                  NaN  2019-05-03 11:36:50    NaN   \n",
       "2        3    NaN    NaN                  NaN  2019-05-03 12:32:39    NaN   \n",
       "3        4    NaN    NaN                  NaN  2019-05-03 12:43:22    NaN   \n",
       "4        5    NaN    NaN                  NaN  2019-05-03 13:30:47    NaN   \n",
       "...    ...    ...    ...                  ...                  ...    ...   \n",
       "3124  3237    NaN    NaN  2019-09-06 11:54:15                  NaN    NaN   \n",
       "3125  3238    NaN    NaN  2019-09-06 12:26:52                  NaN    NaN   \n",
       "3126  3239    NaN    NaN                  NaN                  NaN    NaN   \n",
       "3127  3240    NaN    NaN                  NaN                  NaN    NaN   \n",
       "3128  3241    NaN    NaN                  NaN                  NaN    NaN   \n",
       "\n",
       "                   Bulk 6 Bulk 7 Bulk 8 Bulk 9 Bulk 10 Bulk 11  \\\n",
       "0                     NaN    NaN    NaN    NaN     NaN     NaN   \n",
       "1                     NaN    NaN    NaN    NaN     NaN     NaN   \n",
       "2                     NaN    NaN    NaN    NaN     NaN     NaN   \n",
       "3                     NaN    NaN    NaN    NaN     NaN     NaN   \n",
       "4                     NaN    NaN    NaN    NaN     NaN     NaN   \n",
       "...                   ...    ...    ...    ...     ...     ...   \n",
       "3124                  NaN    NaN    NaN    NaN     NaN     NaN   \n",
       "3125                  NaN    NaN    NaN    NaN     NaN     NaN   \n",
       "3126  2019-09-06 15:06:00    NaN    NaN    NaN     NaN     NaN   \n",
       "3127  2019-09-06 16:24:28    NaN    NaN    NaN     NaN     NaN   \n",
       "3128                  NaN    NaN    NaN    NaN     NaN     NaN   \n",
       "\n",
       "                  Bulk 12 Bulk 13              Bulk 14              Bulk 15  \n",
       "0     2019-05-03 11:24:31     NaN  2019-05-03 11:14:50  2019-05-03 11:10:43  \n",
       "1     2019-05-03 11:53:30     NaN  2019-05-03 11:48:37  2019-05-03 11:44:39  \n",
       "2     2019-05-03 12:27:13     NaN  2019-05-03 12:21:01  2019-05-03 12:16:16  \n",
       "3     2019-05-03 12:58:00     NaN  2019-05-03 12:51:11  2019-05-03 12:46:36  \n",
       "4     2019-05-03 13:30:47     NaN  2019-05-03 13:34:12  2019-05-03 13:30:47  \n",
       "...                   ...     ...                  ...                  ...  \n",
       "3124  2019-09-06 11:49:45     NaN  2019-09-06 11:45:22  2019-09-06 11:40:06  \n",
       "3125  2019-09-06 12:18:35     NaN  2019-09-06 12:31:49  2019-09-06 12:26:52  \n",
       "3126  2019-09-06 15:01:44     NaN  2019-09-06 14:58:15  2019-09-06 14:48:06  \n",
       "3127                  NaN     NaN  2019-09-06 16:07:29  2019-09-06 16:01:34  \n",
       "3128                  NaN     NaN  2019-09-06 17:26:33  2019-09-06 17:23:15  \n",
       "\n",
       "[3129 rows x 16 columns]"
      ]
     },
     "execution_count": 20,
     "metadata": {},
     "output_type": "execute_result"
    }
   ],
   "source": [
    "data_bulk_time"
   ]
  },
  {
   "cell_type": "markdown",
   "id": "47cf74d8",
   "metadata": {},
   "source": [
    "Как и было в описании данных, здесь хранится время добавление того или иного сыпучего материала. Данный параметр никак не сможет повлияеть на улучшение качества разрабатываемой модели. Данную таблицу можно не учитывать в нашей работе."
   ]
  },
  {
   "cell_type": "markdown",
   "id": "622a20d9",
   "metadata": {},
   "source": [
    "_Теперь посмотрим так ли это, проверив на идентичность колонки `key` сравнив количество его уникальных значений с размером таблицы._"
   ]
  },
  {
   "cell_type": "code",
   "execution_count": 21,
   "id": "e0a62525",
   "metadata": {},
   "outputs": [
    {
     "name": "stdout",
     "output_type": "stream",
     "text": [
      "Каждый Key уникален, их количество 3129\n"
     ]
    }
   ],
   "source": [
    "if len(data_bulk.key.unique()) == data_bulk.shape[0]:\n",
    "    print('Каждый Key уникален, их количество', data_bulk.shape[0])\n",
    "else:\n",
    "    print('Key повторяются ')"
   ]
  },
  {
   "cell_type": "markdown",
   "id": "ce02566b",
   "metadata": {},
   "source": [
    "Также, стоит отметить, что не на каждом значении `key` требовались сыпучие материалы, так как в датасете с нагревом от электродов, значений вышло больше."
   ]
  },
  {
   "cell_type": "markdown",
   "id": "a3d44009",
   "metadata": {},
   "source": [
    "___  \n",
    "_Таблицы хранящие данные о сыпучих веществах, имеют большое количество пропусков, есть практически пустые колонки. Стоит исключить таблицу со временем, за ее ненадобностью. Также пропуски в выбранных колонках, стоит заполнить определенным значением для коректного обучения модели._\n",
    "___"
   ]
  },
  {
   "cell_type": "markdown",
   "id": "15a36dea",
   "metadata": {},
   "source": [
    "__Теперь таблица хранящую данные о продувке газом__  \n",
    "Эти значения также стоит учесть при обучении модели, так как с большой долей вероятности обдувка газом влияет на значения температуры замера сплавов."
   ]
  },
  {
   "cell_type": "code",
   "execution_count": 22,
   "id": "9f5bb61b",
   "metadata": {},
   "outputs": [],
   "source": [
    "data_gas = pd.read_csv('/datasets/data_gas_new.csv')"
   ]
  },
  {
   "cell_type": "code",
   "execution_count": 23,
   "id": "9bf813fa",
   "metadata": {},
   "outputs": [
    {
     "name": "stdout",
     "output_type": "stream",
     "text": [
      "<class 'pandas.core.frame.DataFrame'>\n",
      "RangeIndex: 3239 entries, 0 to 3238\n",
      "Data columns (total 2 columns):\n",
      " #   Column  Non-Null Count  Dtype  \n",
      "---  ------  --------------  -----  \n",
      " 0   key     3239 non-null   int64  \n",
      " 1   Газ 1   3239 non-null   float64\n",
      "dtypes: float64(1), int64(1)\n",
      "memory usage: 50.7 KB\n"
     ]
    }
   ],
   "source": [
    "data_gas.info()"
   ]
  },
  {
   "cell_type": "markdown",
   "id": "e11f7780",
   "metadata": {},
   "source": [
    "В данных отсутствуют пропуски и данные предположиетльно корректных типов. А количество значений отличается от предыдущих двух колонок. Сверим занчения в колонке `key`, выведя таблицу."
   ]
  },
  {
   "cell_type": "code",
   "execution_count": 24,
   "id": "4af94c23",
   "metadata": {},
   "outputs": [
    {
     "data": {
      "text/html": [
       "<div>\n",
       "<style scoped>\n",
       "    .dataframe tbody tr th:only-of-type {\n",
       "        vertical-align: middle;\n",
       "    }\n",
       "\n",
       "    .dataframe tbody tr th {\n",
       "        vertical-align: top;\n",
       "    }\n",
       "\n",
       "    .dataframe thead th {\n",
       "        text-align: right;\n",
       "    }\n",
       "</style>\n",
       "<table border=\"1\" class=\"dataframe\">\n",
       "  <thead>\n",
       "    <tr style=\"text-align: right;\">\n",
       "      <th></th>\n",
       "      <th>key</th>\n",
       "      <th>Газ 1</th>\n",
       "    </tr>\n",
       "  </thead>\n",
       "  <tbody>\n",
       "    <tr>\n",
       "      <th>0</th>\n",
       "      <td>1</td>\n",
       "      <td>29.749986</td>\n",
       "    </tr>\n",
       "    <tr>\n",
       "      <th>1</th>\n",
       "      <td>2</td>\n",
       "      <td>12.555561</td>\n",
       "    </tr>\n",
       "    <tr>\n",
       "      <th>2</th>\n",
       "      <td>3</td>\n",
       "      <td>28.554793</td>\n",
       "    </tr>\n",
       "    <tr>\n",
       "      <th>3</th>\n",
       "      <td>4</td>\n",
       "      <td>18.841219</td>\n",
       "    </tr>\n",
       "    <tr>\n",
       "      <th>4</th>\n",
       "      <td>5</td>\n",
       "      <td>5.413692</td>\n",
       "    </tr>\n",
       "    <tr>\n",
       "      <th>...</th>\n",
       "      <td>...</td>\n",
       "      <td>...</td>\n",
       "    </tr>\n",
       "    <tr>\n",
       "      <th>3234</th>\n",
       "      <td>3237</td>\n",
       "      <td>5.543905</td>\n",
       "    </tr>\n",
       "    <tr>\n",
       "      <th>3235</th>\n",
       "      <td>3238</td>\n",
       "      <td>6.745669</td>\n",
       "    </tr>\n",
       "    <tr>\n",
       "      <th>3236</th>\n",
       "      <td>3239</td>\n",
       "      <td>16.023518</td>\n",
       "    </tr>\n",
       "    <tr>\n",
       "      <th>3237</th>\n",
       "      <td>3240</td>\n",
       "      <td>11.863103</td>\n",
       "    </tr>\n",
       "    <tr>\n",
       "      <th>3238</th>\n",
       "      <td>3241</td>\n",
       "      <td>12.680959</td>\n",
       "    </tr>\n",
       "  </tbody>\n",
       "</table>\n",
       "<p>3239 rows × 2 columns</p>\n",
       "</div>"
      ],
      "text/plain": [
       "       key      Газ 1\n",
       "0        1  29.749986\n",
       "1        2  12.555561\n",
       "2        3  28.554793\n",
       "3        4  18.841219\n",
       "4        5   5.413692\n",
       "...    ...        ...\n",
       "3234  3237   5.543905\n",
       "3235  3238   6.745669\n",
       "3236  3239  16.023518\n",
       "3237  3240  11.863103\n",
       "3238  3241  12.680959\n",
       "\n",
       "[3239 rows x 2 columns]"
      ]
     },
     "execution_count": 24,
     "metadata": {},
     "output_type": "execute_result"
    }
   ],
   "source": [
    "data_gas"
   ]
  },
  {
   "cell_type": "markdown",
   "id": "3079297e",
   "metadata": {},
   "source": [
    "Крайнее значение в `key` соответсвует таблицам о сыпучих веществах и нагреве. Посмотрим присутствуют ли дубликаты в колонке `key`"
   ]
  },
  {
   "cell_type": "code",
   "execution_count": 25,
   "id": "7039cfcf",
   "metadata": {},
   "outputs": [
    {
     "name": "stdout",
     "output_type": "stream",
     "text": [
      "Количество одинаковых ключей 0\n"
     ]
    }
   ],
   "source": [
    "print('Количество одинаковых ключей', data_gas.key.duplicated().sum())"
   ]
  },
  {
   "cell_type": "markdown",
   "id": "aec1dc78",
   "metadata": {},
   "source": [
    "Можно зделать вывод, что присутствуют `key` в которых обошлись без использование сыпучих материалов и  электродов. \n",
    "Теперь взглянем на статистики колонки `Газ 1`, которую при предобработке стоит переименовать."
   ]
  },
  {
   "cell_type": "code",
   "execution_count": 26,
   "id": "110e31c7",
   "metadata": {},
   "outputs": [
    {
     "data": {
      "text/plain": [
       "count    3239.000000\n",
       "mean       11.002062\n",
       "std         6.220327\n",
       "min         0.008399\n",
       "25%         7.043089\n",
       "50%         9.836267\n",
       "75%        13.769915\n",
       "max        77.995040\n",
       "Name: Газ 1, dtype: float64"
      ]
     },
     "execution_count": 26,
     "metadata": {},
     "output_type": "execute_result"
    }
   ],
   "source": [
    "data_gas['Газ 1'].describe()"
   ]
  },
  {
   "cell_type": "markdown",
   "id": "5224ad5c",
   "metadata": {},
   "source": [
    "Среднее с медианой отличаются значительно. Стандартное отклонение невелико. Крайние значения вызывают сомнения, особенно максимальное в 7 раз больше среднего, скорее всего оно и исказило статистики в сторону завышения среднего. Посомтрим на график распределения. "
   ]
  },
  {
   "cell_type": "code",
   "execution_count": 27,
   "id": "f410ec96",
   "metadata": {},
   "outputs": [
    {
     "data": {
      "image/png": "[encoded data removed]",
      "text/plain": [
       "<Figure size 432x288 with 1 Axes>"
      ]
     },
     "metadata": {
      "needs_background": "light"
     },
     "output_type": "display_data"
    }
   ],
   "source": [
    "data_gas['Газ 1'].hist(bins=50)\n",
    "plt.title('Распределение по потреблению газа')\n",
    "plt.xlabel('Количество газа, мин.');"
   ]
  },
  {
   "cell_type": "markdown",
   "id": "7687eb1f",
   "metadata": {},
   "source": [
    "Да хорошо виден скос графика в сторону высоких значений. Также наблюдаются крупное скопление значений в крайней левой области. Посмотрим надиаграму размаха."
   ]
  },
  {
   "cell_type": "code",
   "execution_count": 28,
   "id": "59dd7734",
   "metadata": {},
   "outputs": [
    {
     "data": {
      "image/png": "[encoded data removed]",
      "text/plain": [
       "<Figure size 1080x216 with 1 Axes>"
      ]
     },
     "metadata": {
      "needs_background": "light"
     },
     "output_type": "display_data"
    }
   ],
   "source": [
    "plt.figure(figsize=(15, 3));\n",
    "plt.boxplot(data_gas['Газ 1'], vert=False)\n",
    "plt.ylabel('Газ')\n",
    "plt.yticks([])\n",
    "plt.title('Диограма размаха по температуре')\n",
    "plt.grid(True)"
   ]
  },
  {
   "cell_type": "markdown",
   "id": "7424d4a3",
   "metadata": {},
   "source": [
    "Да, хорошо виден большой скос в область с высокими значениями. Стоит при обработке, проверить данные на выбросы."
   ]
  },
  {
   "cell_type": "markdown",
   "id": "e271f071",
   "metadata": {},
   "source": [
    "Посмотрим на число уникальных `key`"
   ]
  },
  {
   "cell_type": "code",
   "execution_count": 29,
   "id": "03828eeb",
   "metadata": {},
   "outputs": [
    {
     "name": "stdout",
     "output_type": "stream",
     "text": [
      "Число уникальных значений 3239\n"
     ]
    }
   ],
   "source": [
    "print('Число уникальных значений',len(data_gas.key.unique()))"
   ]
  },
  {
   "cell_type": "markdown",
   "id": "eff52426",
   "metadata": {},
   "source": [
    "___   \n",
    "Эта таблица оказалась без пропусков и дубликатов по колонке `key`, а вот колонку со значениями показаний газа стоит проверить на выбросы и обработать их.   \n",
    "___"
   ]
  },
  {
   "cell_type": "markdown",
   "id": "c4436074",
   "metadata": {},
   "source": [
    "__Проанализируем данные о замерах температуры__"
   ]
  },
  {
   "cell_type": "markdown",
   "id": "81192f3a",
   "metadata": {},
   "source": [
    "Данная колонка хранит целевой признак, и его анализ евляется ключевым в данной части проекта. "
   ]
  },
  {
   "cell_type": "code",
   "execution_count": 30,
   "id": "cfb4198f",
   "metadata": {},
   "outputs": [],
   "source": [
    "data_temp = pd.read_csv('/datasets/data_temp_new.csv')"
   ]
  },
  {
   "cell_type": "code",
   "execution_count": 31,
   "id": "131cf146",
   "metadata": {},
   "outputs": [
    {
     "name": "stdout",
     "output_type": "stream",
     "text": [
      "<class 'pandas.core.frame.DataFrame'>\n",
      "RangeIndex: 18092 entries, 0 to 18091\n",
      "Data columns (total 3 columns):\n",
      " #   Column        Non-Null Count  Dtype  \n",
      "---  ------        --------------  -----  \n",
      " 0   key           18092 non-null  int64  \n",
      " 1   Время замера  18092 non-null  object \n",
      " 2   Температура   14665 non-null  float64\n",
      "dtypes: float64(1), int64(1), object(1)\n",
      "memory usage: 424.2+ KB\n"
     ]
    }
   ],
   "source": [
    "data_temp.info()"
   ]
  },
  {
   "cell_type": "markdown",
   "id": "8623196c",
   "metadata": {},
   "source": [
    "Присутсвуют пропуски в значениях температуры. Практически 4000 позиций. Посмотрим на первые 10 строчек."
   ]
  },
  {
   "cell_type": "code",
   "execution_count": 32,
   "id": "581bbb06",
   "metadata": {},
   "outputs": [
    {
     "data": {
      "text/html": [
       "<div>\n",
       "<style scoped>\n",
       "    .dataframe tbody tr th:only-of-type {\n",
       "        vertical-align: middle;\n",
       "    }\n",
       "\n",
       "    .dataframe tbody tr th {\n",
       "        vertical-align: top;\n",
       "    }\n",
       "\n",
       "    .dataframe thead th {\n",
       "        text-align: right;\n",
       "    }\n",
       "</style>\n",
       "<table border=\"1\" class=\"dataframe\">\n",
       "  <thead>\n",
       "    <tr style=\"text-align: right;\">\n",
       "      <th></th>\n",
       "      <th>key</th>\n",
       "      <th>Время замера</th>\n",
       "      <th>Температура</th>\n",
       "    </tr>\n",
       "  </thead>\n",
       "  <tbody>\n",
       "    <tr>\n",
       "      <th>0</th>\n",
       "      <td>1</td>\n",
       "      <td>2019-05-03 11:02:04</td>\n",
       "      <td>1571.0</td>\n",
       "    </tr>\n",
       "    <tr>\n",
       "      <th>1</th>\n",
       "      <td>1</td>\n",
       "      <td>2019-05-03 11:07:18</td>\n",
       "      <td>1604.0</td>\n",
       "    </tr>\n",
       "    <tr>\n",
       "      <th>2</th>\n",
       "      <td>1</td>\n",
       "      <td>2019-05-03 11:11:34</td>\n",
       "      <td>1618.0</td>\n",
       "    </tr>\n",
       "    <tr>\n",
       "      <th>3</th>\n",
       "      <td>1</td>\n",
       "      <td>2019-05-03 11:18:04</td>\n",
       "      <td>1601.0</td>\n",
       "    </tr>\n",
       "    <tr>\n",
       "      <th>4</th>\n",
       "      <td>1</td>\n",
       "      <td>2019-05-03 11:25:59</td>\n",
       "      <td>1606.0</td>\n",
       "    </tr>\n",
       "    <tr>\n",
       "      <th>5</th>\n",
       "      <td>1</td>\n",
       "      <td>2019-05-03 11:30:38</td>\n",
       "      <td>1613.0</td>\n",
       "    </tr>\n",
       "    <tr>\n",
       "      <th>6</th>\n",
       "      <td>2</td>\n",
       "      <td>2019-05-03 11:34:04</td>\n",
       "      <td>1581.0</td>\n",
       "    </tr>\n",
       "    <tr>\n",
       "      <th>7</th>\n",
       "      <td>2</td>\n",
       "      <td>2019-05-03 11:38:40</td>\n",
       "      <td>1577.0</td>\n",
       "    </tr>\n",
       "    <tr>\n",
       "      <th>8</th>\n",
       "      <td>2</td>\n",
       "      <td>2019-05-03 11:46:09</td>\n",
       "      <td>1589.0</td>\n",
       "    </tr>\n",
       "    <tr>\n",
       "      <th>9</th>\n",
       "      <td>2</td>\n",
       "      <td>2019-05-03 11:49:38</td>\n",
       "      <td>1604.0</td>\n",
       "    </tr>\n",
       "  </tbody>\n",
       "</table>\n",
       "</div>"
      ],
      "text/plain": [
       "   key         Время замера  Температура\n",
       "0    1  2019-05-03 11:02:04       1571.0\n",
       "1    1  2019-05-03 11:07:18       1604.0\n",
       "2    1  2019-05-03 11:11:34       1618.0\n",
       "3    1  2019-05-03 11:18:04       1601.0\n",
       "4    1  2019-05-03 11:25:59       1606.0\n",
       "5    1  2019-05-03 11:30:38       1613.0\n",
       "6    2  2019-05-03 11:34:04       1581.0\n",
       "7    2  2019-05-03 11:38:40       1577.0\n",
       "8    2  2019-05-03 11:46:09       1589.0\n",
       "9    2  2019-05-03 11:49:38       1604.0"
      ]
     },
     "execution_count": 32,
     "metadata": {},
     "output_type": "execute_result"
    }
   ],
   "source": [
    "data_temp.head(10)"
   ]
  },
  {
   "cell_type": "markdown",
   "id": "9a4a317f",
   "metadata": {},
   "source": [
    "В данных строчках происходил замер на каждой итерации. Наша модель должна предсказывать температуру розлива сплава (крайнюю по времени итерацию), начальная же температура (первая итерация) будет являтся одним из определяющих признаком, на котором будет обучатся модель. Тоесть в обработку мы можем выбрать только те ключи, у которых итерация подогрева проходила хотябы 2 раза. Вычислим такие значения `key` у которых замер температуры происходил меньше 2 раз. Также стоит учесть пропуски в колонке `Температура` стоит их исключить при подсчете общего количества замеров."
   ]
  },
  {
   "cell_type": "code",
   "execution_count": 33,
   "id": "d54d4ae9",
   "metadata": {},
   "outputs": [
    {
     "name": "stdout",
     "output_type": "stream",
     "text": [
      "Количество неполноценных данных 741\n"
     ]
    }
   ],
   "source": [
    "# Групируем по key и считаем количество ячеек по Температуре являющейся не nan. потом считаем количество позиций по каждому ключу\n",
    "poor_keys = (\n",
    "    data_temp.dropna()\n",
    "    .pivot_table(values='Температура', \n",
    "                 index='key', \n",
    "                 aggfunc='count')\n",
    "    .rename(columns={'Температура':'num_temp_count'}\n",
    "           ))\n",
    "#Выводим только те строки в которых количество замеров меньше 2\n",
    "print('Количество неполноценных данных',poor_keys[poor_keys['num_temp_count'] < 2].shape[0])"
   ]
  },
  {
   "cell_type": "markdown",
   "id": "f62fcf44",
   "metadata": {},
   "source": [
    "В данных 741 `Key` без итогового, либо начального, замера температуры. Следовательно, невозможно определить повышение либо понижения темпреатуры по данным строчкам. Это помешает корректному обучению модели, придется исключить такие занчения `key` при дальнейшей работе. Теперь посмотрим на распр\n",
    "едиление температуры полного датасета, без учета пропусков и количества замеров."
   ]
  },
  {
   "cell_type": "code",
   "execution_count": 34,
   "id": "88fee4ab",
   "metadata": {},
   "outputs": [
    {
     "data": {
      "image/png": "[encoded data removed]",
      "text/plain": [
       "<Figure size 432x288 with 1 Axes>"
      ]
     },
     "metadata": {
      "needs_background": "light"
     },
     "output_type": "display_data"
    }
   ],
   "source": [
    "data_temp['Температура'].hist(bins=50);\n",
    "plt.title('Распределение по Температуре')\n",
    "plt.xlabel('Температура');"
   ]
  },
  {
   "cell_type": "markdown",
   "id": "d7f054a2",
   "metadata": {},
   "source": [
    "Данный график имеет достаточно нормальное распределение. Только виден большой выброс в районе 1200. В предобработке, после отбора корректных значений `key` и необходимых значений температуры стоит проверить, данные на наличие найденных выбросов."
   ]
  },
  {
   "cell_type": "markdown",
   "id": "9be9860a",
   "metadata": {},
   "source": [
    "___  \n",
    "В данном датасете хранится целевой признак, по которому модель будет обучаться. Данные имеют большое количество пропусков, что в свою очередь не позволяет использовать большой кусок предоставленных данных из-за их значимости. Так же в данных о температуре присутствуют выбросы, которые после отсева неподходящих значений, стот проверить.   \n",
    "___"
   ]
  },
  {
   "cell_type": "markdown",
   "id": "934b5c52",
   "metadata": {},
   "source": [
    "__Последние таблицы о проволочных материалах__  \n",
    "Эти данные хранят еще один определяющий параметр, который будет использоваться для обучения модели. Посмотрим на информацию в них."
   ]
  },
  {
   "cell_type": "code",
   "execution_count": 35,
   "id": "29790c07",
   "metadata": {},
   "outputs": [],
   "source": [
    "data_wire = pd.read_csv('/datasets/data_wire_new.csv')\n",
    "data_wire_time =pd.read_csv('/datasets/data_wire_time_new.csv')"
   ]
  },
  {
   "cell_type": "code",
   "execution_count": 36,
   "id": "0b0618cf",
   "metadata": {},
   "outputs": [
    {
     "name": "stdout",
     "output_type": "stream",
     "text": [
      "<class 'pandas.core.frame.DataFrame'>\n",
      "RangeIndex: 3081 entries, 0 to 3080\n",
      "Data columns (total 10 columns):\n",
      " #   Column  Non-Null Count  Dtype  \n",
      "---  ------  --------------  -----  \n",
      " 0   key     3081 non-null   int64  \n",
      " 1   Wire 1  3055 non-null   float64\n",
      " 2   Wire 2  1079 non-null   float64\n",
      " 3   Wire 3  63 non-null     float64\n",
      " 4   Wire 4  14 non-null     float64\n",
      " 5   Wire 5  1 non-null      float64\n",
      " 6   Wire 6  73 non-null     float64\n",
      " 7   Wire 7  11 non-null     float64\n",
      " 8   Wire 8  19 non-null     float64\n",
      " 9   Wire 9  29 non-null     float64\n",
      "dtypes: float64(9), int64(1)\n",
      "memory usage: 240.8 KB\n"
     ]
    }
   ],
   "source": [
    "data_wire.info()"
   ]
  },
  {
   "cell_type": "markdown",
   "id": "60ae3857",
   "metadata": {},
   "source": [
    "Таблица хранящая данные об объеме проволочных материалов, похожа на таблицу об объеме текучих. Также присутсвует большое количество пропусков в некоторых колонках. `Wire 5` с одним значением исключим из датасета."
   ]
  },
  {
   "cell_type": "code",
   "execution_count": 37,
   "id": "9bfd92ac",
   "metadata": {},
   "outputs": [
    {
     "data": {
      "text/html": [
       "<div>\n",
       "<style scoped>\n",
       "    .dataframe tbody tr th:only-of-type {\n",
       "        vertical-align: middle;\n",
       "    }\n",
       "\n",
       "    .dataframe tbody tr th {\n",
       "        vertical-align: top;\n",
       "    }\n",
       "\n",
       "    .dataframe thead th {\n",
       "        text-align: right;\n",
       "    }\n",
       "</style>\n",
       "<table border=\"1\" class=\"dataframe\">\n",
       "  <thead>\n",
       "    <tr style=\"text-align: right;\">\n",
       "      <th></th>\n",
       "      <th>key</th>\n",
       "      <th>Wire 1</th>\n",
       "      <th>Wire 2</th>\n",
       "      <th>Wire 3</th>\n",
       "      <th>Wire 4</th>\n",
       "      <th>Wire 6</th>\n",
       "      <th>Wire 7</th>\n",
       "      <th>Wire 8</th>\n",
       "      <th>Wire 9</th>\n",
       "    </tr>\n",
       "  </thead>\n",
       "  <tbody>\n",
       "    <tr>\n",
       "      <th>0</th>\n",
       "      <td>1</td>\n",
       "      <td>60.059998</td>\n",
       "      <td>NaN</td>\n",
       "      <td>NaN</td>\n",
       "      <td>NaN</td>\n",
       "      <td>NaN</td>\n",
       "      <td>NaN</td>\n",
       "      <td>NaN</td>\n",
       "      <td>NaN</td>\n",
       "    </tr>\n",
       "    <tr>\n",
       "      <th>1</th>\n",
       "      <td>2</td>\n",
       "      <td>96.052315</td>\n",
       "      <td>NaN</td>\n",
       "      <td>NaN</td>\n",
       "      <td>NaN</td>\n",
       "      <td>NaN</td>\n",
       "      <td>NaN</td>\n",
       "      <td>NaN</td>\n",
       "      <td>NaN</td>\n",
       "    </tr>\n",
       "    <tr>\n",
       "      <th>2</th>\n",
       "      <td>3</td>\n",
       "      <td>91.160157</td>\n",
       "      <td>NaN</td>\n",
       "      <td>NaN</td>\n",
       "      <td>NaN</td>\n",
       "      <td>NaN</td>\n",
       "      <td>NaN</td>\n",
       "      <td>NaN</td>\n",
       "      <td>NaN</td>\n",
       "    </tr>\n",
       "    <tr>\n",
       "      <th>3</th>\n",
       "      <td>4</td>\n",
       "      <td>89.063515</td>\n",
       "      <td>NaN</td>\n",
       "      <td>NaN</td>\n",
       "      <td>NaN</td>\n",
       "      <td>NaN</td>\n",
       "      <td>NaN</td>\n",
       "      <td>NaN</td>\n",
       "      <td>NaN</td>\n",
       "    </tr>\n",
       "    <tr>\n",
       "      <th>4</th>\n",
       "      <td>5</td>\n",
       "      <td>89.238236</td>\n",
       "      <td>9.11456</td>\n",
       "      <td>NaN</td>\n",
       "      <td>NaN</td>\n",
       "      <td>NaN</td>\n",
       "      <td>NaN</td>\n",
       "      <td>NaN</td>\n",
       "      <td>NaN</td>\n",
       "    </tr>\n",
       "    <tr>\n",
       "      <th>...</th>\n",
       "      <td>...</td>\n",
       "      <td>...</td>\n",
       "      <td>...</td>\n",
       "      <td>...</td>\n",
       "      <td>...</td>\n",
       "      <td>...</td>\n",
       "      <td>...</td>\n",
       "      <td>...</td>\n",
       "      <td>...</td>\n",
       "    </tr>\n",
       "    <tr>\n",
       "      <th>3076</th>\n",
       "      <td>3237</td>\n",
       "      <td>38.088959</td>\n",
       "      <td>NaN</td>\n",
       "      <td>NaN</td>\n",
       "      <td>NaN</td>\n",
       "      <td>NaN</td>\n",
       "      <td>NaN</td>\n",
       "      <td>NaN</td>\n",
       "      <td>NaN</td>\n",
       "    </tr>\n",
       "    <tr>\n",
       "      <th>3077</th>\n",
       "      <td>3238</td>\n",
       "      <td>56.128799</td>\n",
       "      <td>NaN</td>\n",
       "      <td>NaN</td>\n",
       "      <td>NaN</td>\n",
       "      <td>NaN</td>\n",
       "      <td>NaN</td>\n",
       "      <td>NaN</td>\n",
       "      <td>NaN</td>\n",
       "    </tr>\n",
       "    <tr>\n",
       "      <th>3078</th>\n",
       "      <td>3239</td>\n",
       "      <td>143.357761</td>\n",
       "      <td>NaN</td>\n",
       "      <td>NaN</td>\n",
       "      <td>NaN</td>\n",
       "      <td>NaN</td>\n",
       "      <td>NaN</td>\n",
       "      <td>NaN</td>\n",
       "      <td>NaN</td>\n",
       "    </tr>\n",
       "    <tr>\n",
       "      <th>3079</th>\n",
       "      <td>3240</td>\n",
       "      <td>34.070400</td>\n",
       "      <td>NaN</td>\n",
       "      <td>NaN</td>\n",
       "      <td>NaN</td>\n",
       "      <td>NaN</td>\n",
       "      <td>NaN</td>\n",
       "      <td>NaN</td>\n",
       "      <td>NaN</td>\n",
       "    </tr>\n",
       "    <tr>\n",
       "      <th>3080</th>\n",
       "      <td>3241</td>\n",
       "      <td>63.117595</td>\n",
       "      <td>NaN</td>\n",
       "      <td>NaN</td>\n",
       "      <td>NaN</td>\n",
       "      <td>NaN</td>\n",
       "      <td>NaN</td>\n",
       "      <td>NaN</td>\n",
       "      <td>NaN</td>\n",
       "    </tr>\n",
       "  </tbody>\n",
       "</table>\n",
       "<p>3081 rows × 9 columns</p>\n",
       "</div>"
      ],
      "text/plain": [
       "       key      Wire 1   Wire 2  Wire 3  Wire 4  Wire 6  Wire 7  Wire 8  \\\n",
       "0        1   60.059998      NaN     NaN     NaN     NaN     NaN     NaN   \n",
       "1        2   96.052315      NaN     NaN     NaN     NaN     NaN     NaN   \n",
       "2        3   91.160157      NaN     NaN     NaN     NaN     NaN     NaN   \n",
       "3        4   89.063515      NaN     NaN     NaN     NaN     NaN     NaN   \n",
       "4        5   89.238236  9.11456     NaN     NaN     NaN     NaN     NaN   \n",
       "...    ...         ...      ...     ...     ...     ...     ...     ...   \n",
       "3076  3237   38.088959      NaN     NaN     NaN     NaN     NaN     NaN   \n",
       "3077  3238   56.128799      NaN     NaN     NaN     NaN     NaN     NaN   \n",
       "3078  3239  143.357761      NaN     NaN     NaN     NaN     NaN     NaN   \n",
       "3079  3240   34.070400      NaN     NaN     NaN     NaN     NaN     NaN   \n",
       "3080  3241   63.117595      NaN     NaN     NaN     NaN     NaN     NaN   \n",
       "\n",
       "      Wire 9  \n",
       "0        NaN  \n",
       "1        NaN  \n",
       "2        NaN  \n",
       "3        NaN  \n",
       "4        NaN  \n",
       "...      ...  \n",
       "3076     NaN  \n",
       "3077     NaN  \n",
       "3078     NaN  \n",
       "3079     NaN  \n",
       "3080     NaN  \n",
       "\n",
       "[3081 rows x 9 columns]"
      ]
     },
     "execution_count": 37,
     "metadata": {},
     "output_type": "execute_result"
    }
   ],
   "source": [
    "data_wire = data_wire.drop('Wire 5', axis=1)\n",
    "data_wire"
   ]
  },
  {
   "cell_type": "markdown",
   "id": "bd3d9e2b",
   "metadata": {},
   "source": [
    "Видимо заполнение таблиц, хранящих данные о добавках к стали, заполнялись идентично. В предобработке заполним пропуски."
   ]
  },
  {
   "cell_type": "markdown",
   "id": "f41a3629",
   "metadata": {},
   "source": [
    "Проверим количество занченией `key`"
   ]
  },
  {
   "cell_type": "code",
   "execution_count": 38,
   "id": "c66ff0a5",
   "metadata": {},
   "outputs": [
    {
     "name": "stdout",
     "output_type": "stream",
     "text": [
      "Уникальные значения key 3081\n"
     ]
    }
   ],
   "source": [
    "print('Уникальные значения key',len(data_wire.key.unique()))"
   ]
  },
  {
   "cell_type": "markdown",
   "id": "31496f6b",
   "metadata": {},
   "source": [
    "Здесь значений еще меньше. "
   ]
  },
  {
   "cell_type": "markdown",
   "id": "195f34f0",
   "metadata": {},
   "source": [
    "Построим гистограммы всех колонок."
   ]
  },
  {
   "cell_type": "code",
   "execution_count": 39,
   "id": "f03eeff7",
   "metadata": {},
   "outputs": [
    {
     "data": {
      "image/png": "[encoded data removed]",
      "text/plain": [
       "<Figure size 1080x72 with 8 Axes>"
      ]
     },
     "metadata": {
      "needs_background": "light"
     },
     "output_type": "display_data"
    }
   ],
   "source": [
    "ploting_hist(data_wire.drop('key',axis=1),top=20, wspace=0.15)"
   ]
  },
  {
   "cell_type": "markdown",
   "id": "7f01d3c5",
   "metadata": {},
   "source": [
    "Здесь распределения у некоторых колонок совсем бедные. Сложно чтолибо сказать об этих данных, кроме первых двух. Распределения достаточно нормальные, аномальных значений ненаблюдается."
   ]
  },
  {
   "cell_type": "markdown",
   "id": "7d7ca319",
   "metadata": {},
   "source": [
    "_Проверим таблицу со временем подачи провочны материвалов._"
   ]
  },
  {
   "cell_type": "code",
   "execution_count": 40,
   "id": "2bab3165",
   "metadata": {},
   "outputs": [
    {
     "name": "stdout",
     "output_type": "stream",
     "text": [
      "<class 'pandas.core.frame.DataFrame'>\n",
      "RangeIndex: 3081 entries, 0 to 3080\n",
      "Data columns (total 10 columns):\n",
      " #   Column  Non-Null Count  Dtype \n",
      "---  ------  --------------  ----- \n",
      " 0   key     3081 non-null   int64 \n",
      " 1   Wire 1  3055 non-null   object\n",
      " 2   Wire 2  1079 non-null   object\n",
      " 3   Wire 3  63 non-null     object\n",
      " 4   Wire 4  14 non-null     object\n",
      " 5   Wire 5  1 non-null      object\n",
      " 6   Wire 6  73 non-null     object\n",
      " 7   Wire 7  11 non-null     object\n",
      " 8   Wire 8  19 non-null     object\n",
      " 9   Wire 9  29 non-null     object\n",
      "dtypes: int64(1), object(9)\n",
      "memory usage: 240.8+ KB\n"
     ]
    }
   ],
   "source": [
    "data_wire_time.info()"
   ]
  },
  {
   "cell_type": "markdown",
   "id": "e28976ce",
   "metadata": {},
   "source": [
    "Информация схожа с таблицей обьема."
   ]
  },
  {
   "cell_type": "code",
   "execution_count": 41,
   "id": "4e24b046",
   "metadata": {},
   "outputs": [
    {
     "data": {
      "text/html": [
       "<div>\n",
       "<style scoped>\n",
       "    .dataframe tbody tr th:only-of-type {\n",
       "        vertical-align: middle;\n",
       "    }\n",
       "\n",
       "    .dataframe tbody tr th {\n",
       "        vertical-align: top;\n",
       "    }\n",
       "\n",
       "    .dataframe thead th {\n",
       "        text-align: right;\n",
       "    }\n",
       "</style>\n",
       "<table border=\"1\" class=\"dataframe\">\n",
       "  <thead>\n",
       "    <tr style=\"text-align: right;\">\n",
       "      <th></th>\n",
       "      <th>key</th>\n",
       "      <th>Wire 1</th>\n",
       "      <th>Wire 2</th>\n",
       "      <th>Wire 3</th>\n",
       "      <th>Wire 4</th>\n",
       "      <th>Wire 5</th>\n",
       "      <th>Wire 6</th>\n",
       "      <th>Wire 7</th>\n",
       "      <th>Wire 8</th>\n",
       "      <th>Wire 9</th>\n",
       "    </tr>\n",
       "  </thead>\n",
       "  <tbody>\n",
       "    <tr>\n",
       "      <th>0</th>\n",
       "      <td>1</td>\n",
       "      <td>2019-05-03 11:06:19</td>\n",
       "      <td>NaN</td>\n",
       "      <td>NaN</td>\n",
       "      <td>NaN</td>\n",
       "      <td>NaN</td>\n",
       "      <td>NaN</td>\n",
       "      <td>NaN</td>\n",
       "      <td>NaN</td>\n",
       "      <td>NaN</td>\n",
       "    </tr>\n",
       "    <tr>\n",
       "      <th>1</th>\n",
       "      <td>2</td>\n",
       "      <td>2019-05-03 11:36:50</td>\n",
       "      <td>NaN</td>\n",
       "      <td>NaN</td>\n",
       "      <td>NaN</td>\n",
       "      <td>NaN</td>\n",
       "      <td>NaN</td>\n",
       "      <td>NaN</td>\n",
       "      <td>NaN</td>\n",
       "      <td>NaN</td>\n",
       "    </tr>\n",
       "    <tr>\n",
       "      <th>2</th>\n",
       "      <td>3</td>\n",
       "      <td>2019-05-03 12:11:46</td>\n",
       "      <td>NaN</td>\n",
       "      <td>NaN</td>\n",
       "      <td>NaN</td>\n",
       "      <td>NaN</td>\n",
       "      <td>NaN</td>\n",
       "      <td>NaN</td>\n",
       "      <td>NaN</td>\n",
       "      <td>NaN</td>\n",
       "    </tr>\n",
       "    <tr>\n",
       "      <th>3</th>\n",
       "      <td>4</td>\n",
       "      <td>2019-05-03 12:43:22</td>\n",
       "      <td>NaN</td>\n",
       "      <td>NaN</td>\n",
       "      <td>NaN</td>\n",
       "      <td>NaN</td>\n",
       "      <td>NaN</td>\n",
       "      <td>NaN</td>\n",
       "      <td>NaN</td>\n",
       "      <td>NaN</td>\n",
       "    </tr>\n",
       "    <tr>\n",
       "      <th>4</th>\n",
       "      <td>5</td>\n",
       "      <td>2019-05-03 13:20:44</td>\n",
       "      <td>2019-05-03 13:15:34</td>\n",
       "      <td>NaN</td>\n",
       "      <td>NaN</td>\n",
       "      <td>NaN</td>\n",
       "      <td>NaN</td>\n",
       "      <td>NaN</td>\n",
       "      <td>NaN</td>\n",
       "      <td>NaN</td>\n",
       "    </tr>\n",
       "    <tr>\n",
       "      <th>...</th>\n",
       "      <td>...</td>\n",
       "      <td>...</td>\n",
       "      <td>...</td>\n",
       "      <td>...</td>\n",
       "      <td>...</td>\n",
       "      <td>...</td>\n",
       "      <td>...</td>\n",
       "      <td>...</td>\n",
       "      <td>...</td>\n",
       "      <td>...</td>\n",
       "    </tr>\n",
       "    <tr>\n",
       "      <th>3076</th>\n",
       "      <td>3237</td>\n",
       "      <td>2019-09-06 11:33:38</td>\n",
       "      <td>NaN</td>\n",
       "      <td>NaN</td>\n",
       "      <td>NaN</td>\n",
       "      <td>NaN</td>\n",
       "      <td>NaN</td>\n",
       "      <td>NaN</td>\n",
       "      <td>NaN</td>\n",
       "      <td>NaN</td>\n",
       "    </tr>\n",
       "    <tr>\n",
       "      <th>3077</th>\n",
       "      <td>3238</td>\n",
       "      <td>2019-09-06 12:18:35</td>\n",
       "      <td>NaN</td>\n",
       "      <td>NaN</td>\n",
       "      <td>NaN</td>\n",
       "      <td>NaN</td>\n",
       "      <td>NaN</td>\n",
       "      <td>NaN</td>\n",
       "      <td>NaN</td>\n",
       "      <td>NaN</td>\n",
       "    </tr>\n",
       "    <tr>\n",
       "      <th>3078</th>\n",
       "      <td>3239</td>\n",
       "      <td>2019-09-06 14:36:11</td>\n",
       "      <td>NaN</td>\n",
       "      <td>NaN</td>\n",
       "      <td>NaN</td>\n",
       "      <td>NaN</td>\n",
       "      <td>NaN</td>\n",
       "      <td>NaN</td>\n",
       "      <td>NaN</td>\n",
       "      <td>NaN</td>\n",
       "    </tr>\n",
       "    <tr>\n",
       "      <th>3079</th>\n",
       "      <td>3240</td>\n",
       "      <td>2019-09-06 15:33:55</td>\n",
       "      <td>NaN</td>\n",
       "      <td>NaN</td>\n",
       "      <td>NaN</td>\n",
       "      <td>NaN</td>\n",
       "      <td>NaN</td>\n",
       "      <td>NaN</td>\n",
       "      <td>NaN</td>\n",
       "      <td>NaN</td>\n",
       "    </tr>\n",
       "    <tr>\n",
       "      <th>3080</th>\n",
       "      <td>3241</td>\n",
       "      <td>2019-09-06 17:10:06</td>\n",
       "      <td>NaN</td>\n",
       "      <td>NaN</td>\n",
       "      <td>NaN</td>\n",
       "      <td>NaN</td>\n",
       "      <td>NaN</td>\n",
       "      <td>NaN</td>\n",
       "      <td>NaN</td>\n",
       "      <td>NaN</td>\n",
       "    </tr>\n",
       "  </tbody>\n",
       "</table>\n",
       "<p>3081 rows × 10 columns</p>\n",
       "</div>"
      ],
      "text/plain": [
       "       key               Wire 1               Wire 2 Wire 3 Wire 4 Wire 5  \\\n",
       "0        1  2019-05-03 11:06:19                  NaN    NaN    NaN    NaN   \n",
       "1        2  2019-05-03 11:36:50                  NaN    NaN    NaN    NaN   \n",
       "2        3  2019-05-03 12:11:46                  NaN    NaN    NaN    NaN   \n",
       "3        4  2019-05-03 12:43:22                  NaN    NaN    NaN    NaN   \n",
       "4        5  2019-05-03 13:20:44  2019-05-03 13:15:34    NaN    NaN    NaN   \n",
       "...    ...                  ...                  ...    ...    ...    ...   \n",
       "3076  3237  2019-09-06 11:33:38                  NaN    NaN    NaN    NaN   \n",
       "3077  3238  2019-09-06 12:18:35                  NaN    NaN    NaN    NaN   \n",
       "3078  3239  2019-09-06 14:36:11                  NaN    NaN    NaN    NaN   \n",
       "3079  3240  2019-09-06 15:33:55                  NaN    NaN    NaN    NaN   \n",
       "3080  3241  2019-09-06 17:10:06                  NaN    NaN    NaN    NaN   \n",
       "\n",
       "     Wire 6 Wire 7 Wire 8 Wire 9  \n",
       "0       NaN    NaN    NaN    NaN  \n",
       "1       NaN    NaN    NaN    NaN  \n",
       "2       NaN    NaN    NaN    NaN  \n",
       "3       NaN    NaN    NaN    NaN  \n",
       "4       NaN    NaN    NaN    NaN  \n",
       "...     ...    ...    ...    ...  \n",
       "3076    NaN    NaN    NaN    NaN  \n",
       "3077    NaN    NaN    NaN    NaN  \n",
       "3078    NaN    NaN    NaN    NaN  \n",
       "3079    NaN    NaN    NaN    NaN  \n",
       "3080    NaN    NaN    NaN    NaN  \n",
       "\n",
       "[3081 rows x 10 columns]"
      ]
     },
     "execution_count": 41,
     "metadata": {},
     "output_type": "execute_result"
    }
   ],
   "source": [
    "data_wire_time"
   ]
  },
  {
   "cell_type": "markdown",
   "id": "37639071",
   "metadata": {},
   "source": [
    "Информация не является информативной. Данную таблицу также исключим из нашей работы."
   ]
  },
  {
   "cell_type": "markdown",
   "id": "dc43bc17",
   "metadata": {},
   "source": [
    "___  \n",
    "_Таблицу `data_wire_time` учитывать не будем. В качестве признаков, будем использовать только таблицу с обьемом._   \n",
    "___"
   ]
  },
  {
   "cell_type": "markdown",
   "id": "48df4cbf",
   "metadata": {},
   "source": [
    "__Вывод__  \n",
    "В данной части мы провели статистический анализ предоставленных данных. Целевым признаком была выбрана температура крайней итерации ее замера (по времени) `data_temp`, а первая итерация (замер) будет являтся одним из признаков. Таблицы `data_wire_time` и `data_bulk_time` было решенно исключить, так как время добавления определенных присадок, не поможет обьяснить изменение температуры. Было определенно 741 значение `key`, для которых не был обнаружен целевой признак температуры разлива партии, и данные позиции в обучении модели учавствоать не будут. В качестве признаков для обучения были выбранны не все присадки, что обьясняется малым использованием некоторых из них, полной работы затраченной на полный подогрев определенной партии с ее идентичным значением `key` , а также будут использованны данные по продувки сплава газом.\n",
    "В будующем стоит обратить внимание на сбор исходных данным, так как текущие как имеют большое количество пропусков, так и содержат много ненужной информации. "
   ]
  },
  {
   "cell_type": "markdown",
   "id": "14c1ed23",
   "metadata": {},
   "source": [
    "## Предобработка исходных данных."
   ]
  },
  {
   "cell_type": "markdown",
   "id": "53864867",
   "metadata": {},
   "source": [
    "Так как за целевой признак была выбрана конечная температура определенного значения `key`, начнем формировать рабочий датафрейм для обучения модели с таблицы хранящейся в `data_temp`. Из нее мы выберем те значения `key`, которые имеют более двух итераций подогрева, также соответственно конечную температуру, как целевой признак и начальную как один из определяющих."
   ]
  },
  {
   "cell_type": "markdown",
   "id": "73a9274d",
   "metadata": {},
   "source": [
    "___\n",
    "_Обьединение в итоговую таблицу_\n",
    "____"
   ]
  },
  {
   "cell_type": "code",
   "execution_count": 42,
   "id": "7fc016c7",
   "metadata": {},
   "outputs": [
    {
     "data": {
      "text/html": [
       "<div>\n",
       "<style scoped>\n",
       "    .dataframe tbody tr th:only-of-type {\n",
       "        vertical-align: middle;\n",
       "    }\n",
       "\n",
       "    .dataframe tbody tr th {\n",
       "        vertical-align: top;\n",
       "    }\n",
       "\n",
       "    .dataframe thead th {\n",
       "        text-align: right;\n",
       "    }\n",
       "</style>\n",
       "<table border=\"1\" class=\"dataframe\">\n",
       "  <thead>\n",
       "    <tr style=\"text-align: right;\">\n",
       "      <th></th>\n",
       "      <th>key</th>\n",
       "      <th>time</th>\n",
       "      <th>temp</th>\n",
       "    </tr>\n",
       "  </thead>\n",
       "  <tbody>\n",
       "    <tr>\n",
       "      <th>0</th>\n",
       "      <td>1</td>\n",
       "      <td>2019-05-03 11:02:04</td>\n",
       "      <td>1571.0</td>\n",
       "    </tr>\n",
       "    <tr>\n",
       "      <th>1</th>\n",
       "      <td>1</td>\n",
       "      <td>2019-05-03 11:07:18</td>\n",
       "      <td>1604.0</td>\n",
       "    </tr>\n",
       "    <tr>\n",
       "      <th>2</th>\n",
       "      <td>1</td>\n",
       "      <td>2019-05-03 11:11:34</td>\n",
       "      <td>1618.0</td>\n",
       "    </tr>\n",
       "    <tr>\n",
       "      <th>3</th>\n",
       "      <td>1</td>\n",
       "      <td>2019-05-03 11:18:04</td>\n",
       "      <td>1601.0</td>\n",
       "    </tr>\n",
       "    <tr>\n",
       "      <th>4</th>\n",
       "      <td>1</td>\n",
       "      <td>2019-05-03 11:25:59</td>\n",
       "      <td>1606.0</td>\n",
       "    </tr>\n",
       "    <tr>\n",
       "      <th>5</th>\n",
       "      <td>1</td>\n",
       "      <td>2019-05-03 11:30:38</td>\n",
       "      <td>1613.0</td>\n",
       "    </tr>\n",
       "    <tr>\n",
       "      <th>6</th>\n",
       "      <td>2</td>\n",
       "      <td>2019-05-03 11:34:04</td>\n",
       "      <td>1581.0</td>\n",
       "    </tr>\n",
       "    <tr>\n",
       "      <th>7</th>\n",
       "      <td>2</td>\n",
       "      <td>2019-05-03 11:38:40</td>\n",
       "      <td>1577.0</td>\n",
       "    </tr>\n",
       "    <tr>\n",
       "      <th>8</th>\n",
       "      <td>2</td>\n",
       "      <td>2019-05-03 11:46:09</td>\n",
       "      <td>1589.0</td>\n",
       "    </tr>\n",
       "    <tr>\n",
       "      <th>9</th>\n",
       "      <td>2</td>\n",
       "      <td>2019-05-03 11:49:38</td>\n",
       "      <td>1604.0</td>\n",
       "    </tr>\n",
       "  </tbody>\n",
       "</table>\n",
       "</div>"
      ],
      "text/plain": [
       "   key                 time    temp\n",
       "0    1  2019-05-03 11:02:04  1571.0\n",
       "1    1  2019-05-03 11:07:18  1604.0\n",
       "2    1  2019-05-03 11:11:34  1618.0\n",
       "3    1  2019-05-03 11:18:04  1601.0\n",
       "4    1  2019-05-03 11:25:59  1606.0\n",
       "5    1  2019-05-03 11:30:38  1613.0\n",
       "6    2  2019-05-03 11:34:04  1581.0\n",
       "7    2  2019-05-03 11:38:40  1577.0\n",
       "8    2  2019-05-03 11:46:09  1589.0\n",
       "9    2  2019-05-03 11:49:38  1604.0"
      ]
     },
     "execution_count": 42,
     "metadata": {},
     "output_type": "execute_result"
    }
   ],
   "source": [
    "# Key удовлетворяющие нашему условию\n",
    "correct_keys = poor_keys[poor_keys['num_temp_count']>1].index\n",
    "# Исключаем все бедные ключи\n",
    "data_temp = (\n",
    "    data_temp.loc[data_temp.key.isin(correct_keys)].\n",
    "    rename(columns={'Время замера':'time',\n",
    "                    'Температура': 'temp'}\n",
    "          )\n",
    "                    )\n",
    "data_temp.head(10)"
   ]
  },
  {
   "cell_type": "markdown",
   "id": "a01d56c1",
   "metadata": {},
   "source": [
    "Некоректные `key` мы исключили. Теперь начнем создавать нашу итоговую таблицу. "
   ]
  },
  {
   "cell_type": "code",
   "execution_count": 43,
   "id": "7126dd0b",
   "metadata": {},
   "outputs": [
    {
     "name": "stdout",
     "output_type": "stream",
     "text": [
      "<class 'pandas.core.frame.DataFrame'>\n",
      "RangeIndex: 2475 entries, 0 to 2474\n",
      "Data columns (total 3 columns):\n",
      " #   Column      Non-Null Count  Dtype  \n",
      "---  ------      --------------  -----  \n",
      " 0   key         2475 non-null   int64  \n",
      " 1   start_temp  2475 non-null   float64\n",
      " 2   final_temp  2475 non-null   float64\n",
      "dtypes: float64(2), int64(1)\n",
      "memory usage: 58.1 KB\n"
     ]
    }
   ],
   "source": [
    "#Формируем пустой датасет\n",
    "data_for_learning = pd.DataFrame()\n",
    "#формируем два пустых списка, для хранения целевого и определяющего признака\n",
    "str_temp = []\n",
    "fin_temp = []\n",
    "\n",
    "# проходимся по всем уникальным key, заранее отсортированными по возростанию\n",
    "for key in sorted(data_temp.key.unique()):\n",
    "    # добавляем по каждому крайнему значению в соответствующие списки\n",
    "    str_temp.append(list(data_temp[data_temp.key == key].sort_values(by='time').temp.reset_index(drop=True))[0])\n",
    "    fin_temp.append(list(data_temp[data_temp.key == key].sort_values(by='time').temp.reset_index(drop=True))[-1])\n",
    "#Заполняем наш датафрейм\n",
    "(data_for_learning['key'], \n",
    "data_for_learning['start_temp'], \n",
    "data_for_learning['final_temp'] )= (sorted(data_temp.key.unique()), \n",
    "                                    str_temp, \n",
    "                                    fin_temp\n",
    "                                   )\n",
    "data_for_learning.info()"
   ]
  },
  {
   "cell_type": "markdown",
   "id": "bdd6e23f",
   "metadata": {},
   "source": [
    "Начало положенно. Теперь добавим остальные опредлеляющие признаки, исключая неподходящие `key`."
   ]
  },
  {
   "cell_type": "code",
   "execution_count": 44,
   "id": "6bbc840a",
   "metadata": {},
   "outputs": [
    {
     "data": {
      "text/html": [
       "<div>\n",
       "<style scoped>\n",
       "    .dataframe tbody tr th:only-of-type {\n",
       "        vertical-align: middle;\n",
       "    }\n",
       "\n",
       "    .dataframe tbody tr th {\n",
       "        vertical-align: top;\n",
       "    }\n",
       "\n",
       "    .dataframe thead th {\n",
       "        text-align: right;\n",
       "    }\n",
       "</style>\n",
       "<table border=\"1\" class=\"dataframe\">\n",
       "  <thead>\n",
       "    <tr style=\"text-align: right;\">\n",
       "      <th></th>\n",
       "      <th>key</th>\n",
       "      <th>start_temp</th>\n",
       "      <th>final_temp</th>\n",
       "    </tr>\n",
       "  </thead>\n",
       "  <tbody>\n",
       "    <tr>\n",
       "      <th>0</th>\n",
       "      <td>1</td>\n",
       "      <td>1571.0</td>\n",
       "      <td>1613.0</td>\n",
       "    </tr>\n",
       "    <tr>\n",
       "      <th>1</th>\n",
       "      <td>2</td>\n",
       "      <td>1581.0</td>\n",
       "      <td>1602.0</td>\n",
       "    </tr>\n",
       "    <tr>\n",
       "      <th>2</th>\n",
       "      <td>3</td>\n",
       "      <td>1596.0</td>\n",
       "      <td>1599.0</td>\n",
       "    </tr>\n",
       "    <tr>\n",
       "      <th>3</th>\n",
       "      <td>4</td>\n",
       "      <td>1601.0</td>\n",
       "      <td>1625.0</td>\n",
       "    </tr>\n",
       "    <tr>\n",
       "      <th>4</th>\n",
       "      <td>5</td>\n",
       "      <td>1576.0</td>\n",
       "      <td>1602.0</td>\n",
       "    </tr>\n",
       "    <tr>\n",
       "      <th>...</th>\n",
       "      <td>...</td>\n",
       "      <td>...</td>\n",
       "      <td>...</td>\n",
       "    </tr>\n",
       "    <tr>\n",
       "      <th>2470</th>\n",
       "      <td>2495</td>\n",
       "      <td>1570.0</td>\n",
       "      <td>1591.0</td>\n",
       "    </tr>\n",
       "    <tr>\n",
       "      <th>2471</th>\n",
       "      <td>2496</td>\n",
       "      <td>1554.0</td>\n",
       "      <td>1591.0</td>\n",
       "    </tr>\n",
       "    <tr>\n",
       "      <th>2472</th>\n",
       "      <td>2497</td>\n",
       "      <td>1571.0</td>\n",
       "      <td>1589.0</td>\n",
       "    </tr>\n",
       "    <tr>\n",
       "      <th>2473</th>\n",
       "      <td>2498</td>\n",
       "      <td>1591.0</td>\n",
       "      <td>1594.0</td>\n",
       "    </tr>\n",
       "    <tr>\n",
       "      <th>2474</th>\n",
       "      <td>2499</td>\n",
       "      <td>1569.0</td>\n",
       "      <td>1603.0</td>\n",
       "    </tr>\n",
       "  </tbody>\n",
       "</table>\n",
       "<p>2475 rows × 3 columns</p>\n",
       "</div>"
      ],
      "text/plain": [
       "       key  start_temp  final_temp\n",
       "0        1      1571.0      1613.0\n",
       "1        2      1581.0      1602.0\n",
       "2        3      1596.0      1599.0\n",
       "3        4      1601.0      1625.0\n",
       "4        5      1576.0      1602.0\n",
       "...    ...         ...         ...\n",
       "2470  2495      1570.0      1591.0\n",
       "2471  2496      1554.0      1591.0\n",
       "2472  2497      1571.0      1589.0\n",
       "2473  2498      1591.0      1594.0\n",
       "2474  2499      1569.0      1603.0\n",
       "\n",
       "[2475 rows x 3 columns]"
      ]
     },
     "execution_count": 44,
     "metadata": {},
     "output_type": "execute_result"
    }
   ],
   "source": [
    "data_for_learning"
   ]
  },
  {
   "cell_type": "markdown",
   "id": "70239dcd",
   "metadata": {},
   "source": [
    "Добавим признак, хранящий данные по обдуву газом. Сначала выберем только рабочие значения `key`"
   ]
  },
  {
   "cell_type": "code",
   "execution_count": 45,
   "id": "35ea976d",
   "metadata": {},
   "outputs": [
    {
     "name": "stdout",
     "output_type": "stream",
     "text": [
      "<class 'pandas.core.frame.DataFrame'>\n",
      "Int64Index: 2473 entries, 0 to 2496\n",
      "Data columns (total 2 columns):\n",
      " #   Column  Non-Null Count  Dtype  \n",
      "---  ------  --------------  -----  \n",
      " 0   key     2473 non-null   int64  \n",
      " 1   Газ 1   2473 non-null   float64\n",
      "dtypes: float64(1), int64(1)\n",
      "memory usage: 58.0 KB\n"
     ]
    }
   ],
   "source": [
    "data_gas = data_gas.loc[data_gas.key.isin(data_for_learning.key)]\n",
    "data_gas.info()"
   ]
  },
  {
   "cell_type": "markdown",
   "id": "3ee32f26",
   "metadata": {},
   "source": [
    "Видно, что значеней на 2 позиции меньше чем в нашей формирующейся таблице. Скорее всего в пропусках, не было зайдестван обдув воздухом. Добавим данный признак, а пропуски и аномальные значения, обработаем после заполнения итоговой таблицы."
   ]
  },
  {
   "cell_type": "code",
   "execution_count": 46,
   "id": "6712814e",
   "metadata": {},
   "outputs": [
    {
     "name": "stdout",
     "output_type": "stream",
     "text": [
      "<class 'pandas.core.frame.DataFrame'>\n",
      "RangeIndex: 2473 entries, 0 to 2472\n",
      "Data columns (total 4 columns):\n",
      " #   Column      Non-Null Count  Dtype  \n",
      "---  ------      --------------  -----  \n",
      " 0   key         2473 non-null   int64  \n",
      " 1   start_temp  2473 non-null   float64\n",
      " 2   final_temp  2473 non-null   float64\n",
      " 3   gas         2473 non-null   float64\n",
      "dtypes: float64(3), int64(1)\n",
      "memory usage: 77.4 KB\n"
     ]
    }
   ],
   "source": [
    "#Присоединяем параметр по газ, переименовываем, и обновляем индексы.\n",
    "data_for_learning = (\n",
    "    data_for_learning.merge(data_gas, how='inner')\n",
    "    .rename(columns={'Газ 1':'gas'})\n",
    "    .reset_index(drop=True)\n",
    "    )\n",
    "data_for_learning.info()"
   ]
  },
  {
   "cell_type": "markdown",
   "id": "3c099ed0",
   "metadata": {},
   "source": [
    "Также, по опредленным индексам, добавим информацию по различным присадкам. Сначала оставим только подходящие колонки и строки для сыпучих материалов и проволочных."
   ]
  },
  {
   "cell_type": "code",
   "execution_count": 47,
   "id": "94ec145f",
   "metadata": {},
   "outputs": [
    {
     "name": "stdout",
     "output_type": "stream",
     "text": [
      "<class 'pandas.core.frame.DataFrame'>\n",
      "Int64Index: 2405 entries, 0 to 2407\n",
      "Data columns (total 15 columns):\n",
      " #   Column   Non-Null Count  Dtype  \n",
      "---  ------   --------------  -----  \n",
      " 0   key      2405 non-null   int64  \n",
      " 1   bulk_1   199 non-null    float64\n",
      " 2   bulk_2   13 non-null     float64\n",
      " 3   bulk_3   965 non-null    float64\n",
      " 4   bulk_4   813 non-null    float64\n",
      " 5   bulk_5   53 non-null     float64\n",
      " 6   bulk_6   442 non-null    float64\n",
      " 7   bulk_7   14 non-null     float64\n",
      " 8   bulk_9   13 non-null     float64\n",
      " 9   bulk_10  143 non-null    float64\n",
      " 10  bulk_11  130 non-null    float64\n",
      " 11  bulk_12  1880 non-null   float64\n",
      " 12  bulk_13  14 non-null     float64\n",
      " 13  bulk_14  2135 non-null   float64\n",
      " 14  bulk_15  1711 non-null   float64\n",
      "dtypes: float64(14), int64(1)\n",
      "memory usage: 300.6 KB\n"
     ]
    }
   ],
   "source": [
    "#Обрежем исходную таблицу по сып. мат.\n",
    "data_bulk = data_bulk.loc[data_bulk.key.isin(data_for_learning.key)]\n",
    "#Переименуем колонки\n",
    "data_bulk = data_bulk.rename(columns=dict(zip(data_bulk.columns,\n",
    "                                              [name.replace(' ','_').lower() for name in data_bulk.columns])))\n",
    "data_bulk.info()"
   ]
  },
  {
   "cell_type": "markdown",
   "id": "a6107420",
   "metadata": {},
   "source": [
    "Добавим в итоговую"
   ]
  },
  {
   "cell_type": "code",
   "execution_count": 48,
   "id": "580f1c6c",
   "metadata": {},
   "outputs": [
    {
     "name": "stdout",
     "output_type": "stream",
     "text": [
      "<class 'pandas.core.frame.DataFrame'>\n",
      "RangeIndex: 2405 entries, 0 to 2404\n",
      "Data columns (total 18 columns):\n",
      " #   Column      Non-Null Count  Dtype  \n",
      "---  ------      --------------  -----  \n",
      " 0   key         2405 non-null   int64  \n",
      " 1   start_temp  2405 non-null   float64\n",
      " 2   final_temp  2405 non-null   float64\n",
      " 3   gas         2405 non-null   float64\n",
      " 4   bulk_1      199 non-null    float64\n",
      " 5   bulk_2      13 non-null     float64\n",
      " 6   bulk_3      965 non-null    float64\n",
      " 7   bulk_4      813 non-null    float64\n",
      " 8   bulk_5      53 non-null     float64\n",
      " 9   bulk_6      442 non-null    float64\n",
      " 10  bulk_7      14 non-null     float64\n",
      " 11  bulk_9      13 non-null     float64\n",
      " 12  bulk_10     143 non-null    float64\n",
      " 13  bulk_11     130 non-null    float64\n",
      " 14  bulk_12     1880 non-null   float64\n",
      " 15  bulk_13     14 non-null     float64\n",
      " 16  bulk_14     2135 non-null   float64\n",
      " 17  bulk_15     1711 non-null   float64\n",
      "dtypes: float64(17), int64(1)\n",
      "memory usage: 338.3 KB\n"
     ]
    }
   ],
   "source": [
    "# Добавим к итоговой\n",
    "data_for_learning = (\n",
    "    data_for_learning.merge(data_bulk, how='inner').reset_index(drop=True)\n",
    "    )\n",
    "data_for_learning.info()"
   ]
  },
  {
   "cell_type": "markdown",
   "id": "7f27e13f",
   "metadata": {},
   "source": [
    "Тоже самое и м проволочными."
   ]
  },
  {
   "cell_type": "code",
   "execution_count": 49,
   "id": "1f37417f",
   "metadata": {},
   "outputs": [
    {
     "name": "stdout",
     "output_type": "stream",
     "text": [
      "<class 'pandas.core.frame.DataFrame'>\n",
      "RangeIndex: 2329 entries, 0 to 2328\n",
      "Data columns (total 26 columns):\n",
      " #   Column      Non-Null Count  Dtype  \n",
      "---  ------      --------------  -----  \n",
      " 0   key         2329 non-null   int64  \n",
      " 1   start_temp  2329 non-null   float64\n",
      " 2   final_temp  2329 non-null   float64\n",
      " 3   gas         2329 non-null   float64\n",
      " 4   bulk_1      199 non-null    float64\n",
      " 5   bulk_2      13 non-null     float64\n",
      " 6   bulk_3      960 non-null    float64\n",
      " 7   bulk_4      812 non-null    float64\n",
      " 8   bulk_5      53 non-null     float64\n",
      " 9   bulk_6      438 non-null    float64\n",
      " 10  bulk_7      13 non-null     float64\n",
      " 11  bulk_9      13 non-null     float64\n",
      " 12  bulk_10     143 non-null    float64\n",
      " 13  bulk_11     130 non-null    float64\n",
      " 14  bulk_12     1812 non-null   float64\n",
      " 15  bulk_13     14 non-null     float64\n",
      " 16  bulk_14     2068 non-null   float64\n",
      " 17  bulk_15     1699 non-null   float64\n",
      " 18  wire_1      2306 non-null   float64\n",
      " 19  wire_2      811 non-null    float64\n",
      " 20  wire_3      39 non-null     float64\n",
      " 21  wire_4      12 non-null     float64\n",
      " 22  wire_6      45 non-null     float64\n",
      " 23  wire_7      4 non-null      float64\n",
      " 24  wire_8      13 non-null     float64\n",
      " 25  wire_9      24 non-null     float64\n",
      "dtypes: float64(25), int64(1)\n",
      "memory usage: 473.2 KB\n"
     ]
    }
   ],
   "source": [
    "#Обрежем исходную таблицу проволочных материалов, переименуем все колонки \n",
    "data_wire = (data_wire.loc[data_wire.key\n",
    "                        .isin(data_for_learning.key)]\n",
    "                        .rename(columns=dict(zip(data_wire.columns,\n",
    "                        [name.replace(' ','_').lower() for name in data_wire.columns]))))\n",
    "\n",
    "\n",
    "# Добавим к итоговой.\n",
    "data_for_learning = (\n",
    "    data_for_learning.merge(data_wire, how='inner').reset_index(drop=True)\n",
    "    )\n",
    "data_for_learning.info()"
   ]
  },
  {
   "cell_type": "markdown",
   "id": "023fa75f",
   "metadata": {},
   "source": [
    "Осталась мощность, для начала сгрупируем исходную."
   ]
  },
  {
   "cell_type": "code",
   "execution_count": 50,
   "id": "13e3819c",
   "metadata": {},
   "outputs": [
    {
     "data": {
      "text/html": [
       "<div>\n",
       "<style scoped>\n",
       "    .dataframe tbody tr th:only-of-type {\n",
       "        vertical-align: middle;\n",
       "    }\n",
       "\n",
       "    .dataframe tbody tr th {\n",
       "        vertical-align: top;\n",
       "    }\n",
       "\n",
       "    .dataframe thead th {\n",
       "        text-align: right;\n",
       "    }\n",
       "</style>\n",
       "<table border=\"1\" class=\"dataframe\">\n",
       "  <thead>\n",
       "    <tr style=\"text-align: right;\">\n",
       "      <th></th>\n",
       "      <th>act_power</th>\n",
       "      <th>react_power</th>\n",
       "      <th>time_power</th>\n",
       "      <th>key</th>\n",
       "    </tr>\n",
       "    <tr>\n",
       "      <th>key</th>\n",
       "      <th></th>\n",
       "      <th></th>\n",
       "      <th></th>\n",
       "      <th></th>\n",
       "    </tr>\n",
       "  </thead>\n",
       "  <tbody>\n",
       "    <tr>\n",
       "      <th>1</th>\n",
       "      <td>3.036730</td>\n",
       "      <td>2.142821</td>\n",
       "      <td>185</td>\n",
       "      <td>1</td>\n",
       "    </tr>\n",
       "    <tr>\n",
       "      <th>2</th>\n",
       "      <td>2.139408</td>\n",
       "      <td>1.453357</td>\n",
       "      <td>172</td>\n",
       "      <td>2</td>\n",
       "    </tr>\n",
       "    <tr>\n",
       "      <th>3</th>\n",
       "      <td>4.063641</td>\n",
       "      <td>2.937457</td>\n",
       "      <td>365</td>\n",
       "      <td>3</td>\n",
       "    </tr>\n",
       "    <tr>\n",
       "      <th>4</th>\n",
       "      <td>2.706489</td>\n",
       "      <td>2.056992</td>\n",
       "      <td>148</td>\n",
       "      <td>4</td>\n",
       "    </tr>\n",
       "    <tr>\n",
       "      <th>5</th>\n",
       "      <td>2.252950</td>\n",
       "      <td>1.687991</td>\n",
       "      <td>137</td>\n",
       "      <td>5</td>\n",
       "    </tr>\n",
       "    <tr>\n",
       "      <th>...</th>\n",
       "      <td>...</td>\n",
       "      <td>...</td>\n",
       "      <td>...</td>\n",
       "      <td>...</td>\n",
       "    </tr>\n",
       "    <tr>\n",
       "      <th>3237</th>\n",
       "      <td>2.541872</td>\n",
       "      <td>2.025417</td>\n",
       "      <td>332</td>\n",
       "      <td>3237</td>\n",
       "    </tr>\n",
       "    <tr>\n",
       "      <th>3238</th>\n",
       "      <td>1.374821</td>\n",
       "      <td>1.038103</td>\n",
       "      <td>53</td>\n",
       "      <td>3238</td>\n",
       "    </tr>\n",
       "    <tr>\n",
       "      <th>3239</th>\n",
       "      <td>4.848005</td>\n",
       "      <td>3.541541</td>\n",
       "      <td>182</td>\n",
       "      <td>3239</td>\n",
       "    </tr>\n",
       "    <tr>\n",
       "      <th>3240</th>\n",
       "      <td>3.317679</td>\n",
       "      <td>2.373552</td>\n",
       "      <td>152</td>\n",
       "      <td>3240</td>\n",
       "    </tr>\n",
       "    <tr>\n",
       "      <th>3241</th>\n",
       "      <td>3.045283</td>\n",
       "      <td>2.140011</td>\n",
       "      <td>144</td>\n",
       "      <td>3241</td>\n",
       "    </tr>\n",
       "  </tbody>\n",
       "</table>\n",
       "<p>3214 rows × 4 columns</p>\n",
       "</div>"
      ],
      "text/plain": [
       "      act_power  react_power  time_power   key\n",
       "key                                           \n",
       "1      3.036730     2.142821         185     1\n",
       "2      2.139408     1.453357         172     2\n",
       "3      4.063641     2.937457         365     3\n",
       "4      2.706489     2.056992         148     4\n",
       "5      2.252950     1.687991         137     5\n",
       "...         ...          ...         ...   ...\n",
       "3237   2.541872     2.025417         332  3237\n",
       "3238   1.374821     1.038103          53  3238\n",
       "3239   4.848005     3.541541         182  3239\n",
       "3240   3.317679     2.373552         152  3240\n",
       "3241   3.045283     2.140011         144  3241\n",
       "\n",
       "[3214 rows x 4 columns]"
      ]
     },
     "execution_count": 50,
     "metadata": {},
     "output_type": "execute_result"
    }
   ],
   "source": [
    "#Срупируем по key суммируя мощности\n",
    "data_arc = (pd.pivot_table(data_arc, index = 'key', aggfunc='sum')\n",
    "            .rename(columns={'Активная мощность':'act_power', 'Реактивная мощность':'react_power'})\n",
    "           )\n",
    "#Добавим колонку с временем а также столбец хранящим key для соединения таблиц.\n",
    "data_arc['time_power'], data_arc['key']  = heating_time, data_arc.index\n",
    "data_arc"
   ]
  },
  {
   "cell_type": "markdown",
   "id": "1d53a6c1",
   "metadata": {},
   "source": [
    "Теперь мы можем посчитать полную мощность."
   ]
  },
  {
   "cell_type": "code",
   "execution_count": 51,
   "id": "6f37b801",
   "metadata": {},
   "outputs": [],
   "source": [
    "# Вычислим полную работу\n",
    "data_arc['work_power'] = ((data_arc['act_power']**2+data_arc['react_power']**2)**(1/2)) *data_arc['time_power']"
   ]
  },
  {
   "cell_type": "markdown",
   "id": "2905344f",
   "metadata": {},
   "source": [
    "Можно дозаполнить таблицу."
   ]
  },
  {
   "cell_type": "code",
   "execution_count": 52,
   "id": "d95d98e1",
   "metadata": {},
   "outputs": [
    {
     "name": "stdout",
     "output_type": "stream",
     "text": [
      "<class 'pandas.core.frame.DataFrame'>\n",
      "RangeIndex: 2329 entries, 0 to 2328\n",
      "Data columns (total 30 columns):\n",
      " #   Column       Non-Null Count  Dtype  \n",
      "---  ------       --------------  -----  \n",
      " 0   key          2329 non-null   int64  \n",
      " 1   start_temp   2329 non-null   float64\n",
      " 2   final_temp   2329 non-null   float64\n",
      " 3   gas          2329 non-null   float64\n",
      " 4   bulk_1       199 non-null    float64\n",
      " 5   bulk_2       13 non-null     float64\n",
      " 6   bulk_3       960 non-null    float64\n",
      " 7   bulk_4       812 non-null    float64\n",
      " 8   bulk_5       53 non-null     float64\n",
      " 9   bulk_6       438 non-null    float64\n",
      " 10  bulk_7       13 non-null     float64\n",
      " 11  bulk_9       13 non-null     float64\n",
      " 12  bulk_10      143 non-null    float64\n",
      " 13  bulk_11      130 non-null    float64\n",
      " 14  bulk_12      1812 non-null   float64\n",
      " 15  bulk_13      14 non-null     float64\n",
      " 16  bulk_14      2068 non-null   float64\n",
      " 17  bulk_15      1699 non-null   float64\n",
      " 18  wire_1       2306 non-null   float64\n",
      " 19  wire_2       811 non-null    float64\n",
      " 20  wire_3       39 non-null     float64\n",
      " 21  wire_4       12 non-null     float64\n",
      " 22  wire_6       45 non-null     float64\n",
      " 23  wire_7       4 non-null      float64\n",
      " 24  wire_8       13 non-null     float64\n",
      " 25  wire_9       24 non-null     float64\n",
      " 26  act_power    2329 non-null   float64\n",
      " 27  react_power  2329 non-null   float64\n",
      " 28  time_power   2329 non-null   int64  \n",
      " 29  work_power   2329 non-null   float64\n",
      "dtypes: float64(28), int64(2)\n",
      "memory usage: 546.0 KB\n"
     ]
    }
   ],
   "source": [
    "#Переименуем название столбца с индексами, для корректной работы\n",
    "data_arc.index.name = 'index_key'\n",
    "#Только нужные key\n",
    "data_arc = data_arc.loc[data_arc.key.isin(data_for_learning.key)]\n",
    "# Добавим к итоговой.\n",
    "data_for_learning = (\n",
    "    data_for_learning.merge(data_arc, how='inner').reset_index(drop=True)\n",
    "    )\n",
    "data_for_learning.info()"
   ]
  },
  {
   "cell_type": "markdown",
   "id": "cd9f740a",
   "metadata": {},
   "source": [
    "Удалим колонку с `key` так как она уже не потребуется."
   ]
  },
  {
   "cell_type": "code",
   "execution_count": 53,
   "id": "4fd88541",
   "metadata": {},
   "outputs": [
    {
     "data": {
      "text/html": [
       "<div>\n",
       "<style scoped>\n",
       "    .dataframe tbody tr th:only-of-type {\n",
       "        vertical-align: middle;\n",
       "    }\n",
       "\n",
       "    .dataframe tbody tr th {\n",
       "        vertical-align: top;\n",
       "    }\n",
       "\n",
       "    .dataframe thead th {\n",
       "        text-align: right;\n",
       "    }\n",
       "</style>\n",
       "<table border=\"1\" class=\"dataframe\">\n",
       "  <thead>\n",
       "    <tr style=\"text-align: right;\">\n",
       "      <th></th>\n",
       "      <th>start_temp</th>\n",
       "      <th>final_temp</th>\n",
       "      <th>gas</th>\n",
       "      <th>bulk_1</th>\n",
       "      <th>bulk_2</th>\n",
       "      <th>bulk_3</th>\n",
       "      <th>bulk_4</th>\n",
       "      <th>bulk_5</th>\n",
       "      <th>bulk_6</th>\n",
       "      <th>bulk_7</th>\n",
       "      <th>...</th>\n",
       "      <th>wire_3</th>\n",
       "      <th>wire_4</th>\n",
       "      <th>wire_6</th>\n",
       "      <th>wire_7</th>\n",
       "      <th>wire_8</th>\n",
       "      <th>wire_9</th>\n",
       "      <th>act_power</th>\n",
       "      <th>react_power</th>\n",
       "      <th>time_power</th>\n",
       "      <th>work_power</th>\n",
       "    </tr>\n",
       "  </thead>\n",
       "  <tbody>\n",
       "    <tr>\n",
       "      <th>0</th>\n",
       "      <td>1571.0</td>\n",
       "      <td>1613.0</td>\n",
       "      <td>29.749986</td>\n",
       "      <td>NaN</td>\n",
       "      <td>NaN</td>\n",
       "      <td>NaN</td>\n",
       "      <td>43.0</td>\n",
       "      <td>NaN</td>\n",
       "      <td>NaN</td>\n",
       "      <td>NaN</td>\n",
       "      <td>...</td>\n",
       "      <td>NaN</td>\n",
       "      <td>NaN</td>\n",
       "      <td>NaN</td>\n",
       "      <td>NaN</td>\n",
       "      <td>NaN</td>\n",
       "      <td>NaN</td>\n",
       "      <td>3.036730</td>\n",
       "      <td>2.142821</td>\n",
       "      <td>185</td>\n",
       "      <td>687.578351</td>\n",
       "    </tr>\n",
       "    <tr>\n",
       "      <th>1</th>\n",
       "      <td>1581.0</td>\n",
       "      <td>1602.0</td>\n",
       "      <td>12.555561</td>\n",
       "      <td>NaN</td>\n",
       "      <td>NaN</td>\n",
       "      <td>NaN</td>\n",
       "      <td>73.0</td>\n",
       "      <td>NaN</td>\n",
       "      <td>NaN</td>\n",
       "      <td>NaN</td>\n",
       "      <td>...</td>\n",
       "      <td>NaN</td>\n",
       "      <td>NaN</td>\n",
       "      <td>NaN</td>\n",
       "      <td>NaN</td>\n",
       "      <td>NaN</td>\n",
       "      <td>NaN</td>\n",
       "      <td>2.139408</td>\n",
       "      <td>1.453357</td>\n",
       "      <td>172</td>\n",
       "      <td>444.855752</td>\n",
       "    </tr>\n",
       "    <tr>\n",
       "      <th>2</th>\n",
       "      <td>1596.0</td>\n",
       "      <td>1599.0</td>\n",
       "      <td>28.554793</td>\n",
       "      <td>NaN</td>\n",
       "      <td>NaN</td>\n",
       "      <td>NaN</td>\n",
       "      <td>34.0</td>\n",
       "      <td>NaN</td>\n",
       "      <td>NaN</td>\n",
       "      <td>NaN</td>\n",
       "      <td>...</td>\n",
       "      <td>NaN</td>\n",
       "      <td>NaN</td>\n",
       "      <td>NaN</td>\n",
       "      <td>NaN</td>\n",
       "      <td>NaN</td>\n",
       "      <td>NaN</td>\n",
       "      <td>4.063641</td>\n",
       "      <td>2.937457</td>\n",
       "      <td>365</td>\n",
       "      <td>1830.169539</td>\n",
       "    </tr>\n",
       "    <tr>\n",
       "      <th>3</th>\n",
       "      <td>1601.0</td>\n",
       "      <td>1625.0</td>\n",
       "      <td>18.841219</td>\n",
       "      <td>NaN</td>\n",
       "      <td>NaN</td>\n",
       "      <td>NaN</td>\n",
       "      <td>81.0</td>\n",
       "      <td>NaN</td>\n",
       "      <td>NaN</td>\n",
       "      <td>NaN</td>\n",
       "      <td>...</td>\n",
       "      <td>NaN</td>\n",
       "      <td>NaN</td>\n",
       "      <td>NaN</td>\n",
       "      <td>NaN</td>\n",
       "      <td>NaN</td>\n",
       "      <td>NaN</td>\n",
       "      <td>2.706489</td>\n",
       "      <td>2.056992</td>\n",
       "      <td>148</td>\n",
       "      <td>503.119438</td>\n",
       "    </tr>\n",
       "    <tr>\n",
       "      <th>4</th>\n",
       "      <td>1576.0</td>\n",
       "      <td>1602.0</td>\n",
       "      <td>5.413692</td>\n",
       "      <td>NaN</td>\n",
       "      <td>NaN</td>\n",
       "      <td>NaN</td>\n",
       "      <td>78.0</td>\n",
       "      <td>NaN</td>\n",
       "      <td>NaN</td>\n",
       "      <td>NaN</td>\n",
       "      <td>...</td>\n",
       "      <td>NaN</td>\n",
       "      <td>NaN</td>\n",
       "      <td>NaN</td>\n",
       "      <td>NaN</td>\n",
       "      <td>NaN</td>\n",
       "      <td>NaN</td>\n",
       "      <td>2.252950</td>\n",
       "      <td>1.687991</td>\n",
       "      <td>137</td>\n",
       "      <td>385.676226</td>\n",
       "    </tr>\n",
       "  </tbody>\n",
       "</table>\n",
       "<p>5 rows × 29 columns</p>\n",
       "</div>"
      ],
      "text/plain": [
       "   start_temp  final_temp        gas  bulk_1  bulk_2  bulk_3  bulk_4  bulk_5  \\\n",
       "0      1571.0      1613.0  29.749986     NaN     NaN     NaN    43.0     NaN   \n",
       "1      1581.0      1602.0  12.555561     NaN     NaN     NaN    73.0     NaN   \n",
       "2      1596.0      1599.0  28.554793     NaN     NaN     NaN    34.0     NaN   \n",
       "3      1601.0      1625.0  18.841219     NaN     NaN     NaN    81.0     NaN   \n",
       "4      1576.0      1602.0   5.413692     NaN     NaN     NaN    78.0     NaN   \n",
       "\n",
       "   bulk_6  bulk_7  ...  wire_3  wire_4  wire_6  wire_7  wire_8  wire_9  \\\n",
       "0     NaN     NaN  ...     NaN     NaN     NaN     NaN     NaN     NaN   \n",
       "1     NaN     NaN  ...     NaN     NaN     NaN     NaN     NaN     NaN   \n",
       "2     NaN     NaN  ...     NaN     NaN     NaN     NaN     NaN     NaN   \n",
       "3     NaN     NaN  ...     NaN     NaN     NaN     NaN     NaN     NaN   \n",
       "4     NaN     NaN  ...     NaN     NaN     NaN     NaN     NaN     NaN   \n",
       "\n",
       "   act_power  react_power  time_power   work_power  \n",
       "0   3.036730     2.142821         185   687.578351  \n",
       "1   2.139408     1.453357         172   444.855752  \n",
       "2   4.063641     2.937457         365  1830.169539  \n",
       "3   2.706489     2.056992         148   503.119438  \n",
       "4   2.252950     1.687991         137   385.676226  \n",
       "\n",
       "[5 rows x 29 columns]"
      ]
     },
     "execution_count": 53,
     "metadata": {},
     "output_type": "execute_result"
    }
   ],
   "source": [
    "data_for_learning = data_for_learning.drop('key', axis=1)\n",
    "data_for_learning.head()"
   ]
  },
  {
   "cell_type": "markdown",
   "id": "6c1724ed",
   "metadata": {},
   "source": [
    "Отлично, теперь можно еще раз взглянуть на данные на поиск анномалий. И потом  заполнить пропуски."
   ]
  },
  {
   "cell_type": "code",
   "execution_count": 54,
   "id": "84fa94c1",
   "metadata": {},
   "outputs": [
    {
     "data": {
      "text/html": [
       "<div>\n",
       "<style scoped>\n",
       "    .dataframe tbody tr th:only-of-type {\n",
       "        vertical-align: middle;\n",
       "    }\n",
       "\n",
       "    .dataframe tbody tr th {\n",
       "        vertical-align: top;\n",
       "    }\n",
       "\n",
       "    .dataframe thead th {\n",
       "        text-align: right;\n",
       "    }\n",
       "</style>\n",
       "<table border=\"1\" class=\"dataframe\">\n",
       "  <thead>\n",
       "    <tr style=\"text-align: right;\">\n",
       "      <th></th>\n",
       "      <th>start_temp</th>\n",
       "      <th>final_temp</th>\n",
       "      <th>gas</th>\n",
       "      <th>bulk_1</th>\n",
       "      <th>bulk_2</th>\n",
       "      <th>bulk_3</th>\n",
       "      <th>bulk_4</th>\n",
       "      <th>bulk_5</th>\n",
       "      <th>bulk_6</th>\n",
       "      <th>bulk_7</th>\n",
       "      <th>...</th>\n",
       "      <th>wire_3</th>\n",
       "      <th>wire_4</th>\n",
       "      <th>wire_6</th>\n",
       "      <th>wire_7</th>\n",
       "      <th>wire_8</th>\n",
       "      <th>wire_9</th>\n",
       "      <th>act_power</th>\n",
       "      <th>react_power</th>\n",
       "      <th>time_power</th>\n",
       "      <th>work_power</th>\n",
       "    </tr>\n",
       "  </thead>\n",
       "  <tbody>\n",
       "    <tr>\n",
       "      <th>0</th>\n",
       "      <td>1571.0</td>\n",
       "      <td>1613.0</td>\n",
       "      <td>29.749986</td>\n",
       "      <td>NaN</td>\n",
       "      <td>NaN</td>\n",
       "      <td>NaN</td>\n",
       "      <td>43.0</td>\n",
       "      <td>NaN</td>\n",
       "      <td>NaN</td>\n",
       "      <td>NaN</td>\n",
       "      <td>...</td>\n",
       "      <td>NaN</td>\n",
       "      <td>NaN</td>\n",
       "      <td>NaN</td>\n",
       "      <td>NaN</td>\n",
       "      <td>NaN</td>\n",
       "      <td>NaN</td>\n",
       "      <td>3.036730</td>\n",
       "      <td>2.142821</td>\n",
       "      <td>185</td>\n",
       "      <td>687.578351</td>\n",
       "    </tr>\n",
       "    <tr>\n",
       "      <th>1</th>\n",
       "      <td>1581.0</td>\n",
       "      <td>1602.0</td>\n",
       "      <td>12.555561</td>\n",
       "      <td>NaN</td>\n",
       "      <td>NaN</td>\n",
       "      <td>NaN</td>\n",
       "      <td>73.0</td>\n",
       "      <td>NaN</td>\n",
       "      <td>NaN</td>\n",
       "      <td>NaN</td>\n",
       "      <td>...</td>\n",
       "      <td>NaN</td>\n",
       "      <td>NaN</td>\n",
       "      <td>NaN</td>\n",
       "      <td>NaN</td>\n",
       "      <td>NaN</td>\n",
       "      <td>NaN</td>\n",
       "      <td>2.139408</td>\n",
       "      <td>1.453357</td>\n",
       "      <td>172</td>\n",
       "      <td>444.855752</td>\n",
       "    </tr>\n",
       "    <tr>\n",
       "      <th>2</th>\n",
       "      <td>1596.0</td>\n",
       "      <td>1599.0</td>\n",
       "      <td>28.554793</td>\n",
       "      <td>NaN</td>\n",
       "      <td>NaN</td>\n",
       "      <td>NaN</td>\n",
       "      <td>34.0</td>\n",
       "      <td>NaN</td>\n",
       "      <td>NaN</td>\n",
       "      <td>NaN</td>\n",
       "      <td>...</td>\n",
       "      <td>NaN</td>\n",
       "      <td>NaN</td>\n",
       "      <td>NaN</td>\n",
       "      <td>NaN</td>\n",
       "      <td>NaN</td>\n",
       "      <td>NaN</td>\n",
       "      <td>4.063641</td>\n",
       "      <td>2.937457</td>\n",
       "      <td>365</td>\n",
       "      <td>1830.169539</td>\n",
       "    </tr>\n",
       "    <tr>\n",
       "      <th>3</th>\n",
       "      <td>1601.0</td>\n",
       "      <td>1625.0</td>\n",
       "      <td>18.841219</td>\n",
       "      <td>NaN</td>\n",
       "      <td>NaN</td>\n",
       "      <td>NaN</td>\n",
       "      <td>81.0</td>\n",
       "      <td>NaN</td>\n",
       "      <td>NaN</td>\n",
       "      <td>NaN</td>\n",
       "      <td>...</td>\n",
       "      <td>NaN</td>\n",
       "      <td>NaN</td>\n",
       "      <td>NaN</td>\n",
       "      <td>NaN</td>\n",
       "      <td>NaN</td>\n",
       "      <td>NaN</td>\n",
       "      <td>2.706489</td>\n",
       "      <td>2.056992</td>\n",
       "      <td>148</td>\n",
       "      <td>503.119438</td>\n",
       "    </tr>\n",
       "    <tr>\n",
       "      <th>4</th>\n",
       "      <td>1576.0</td>\n",
       "      <td>1602.0</td>\n",
       "      <td>5.413692</td>\n",
       "      <td>NaN</td>\n",
       "      <td>NaN</td>\n",
       "      <td>NaN</td>\n",
       "      <td>78.0</td>\n",
       "      <td>NaN</td>\n",
       "      <td>NaN</td>\n",
       "      <td>NaN</td>\n",
       "      <td>...</td>\n",
       "      <td>NaN</td>\n",
       "      <td>NaN</td>\n",
       "      <td>NaN</td>\n",
       "      <td>NaN</td>\n",
       "      <td>NaN</td>\n",
       "      <td>NaN</td>\n",
       "      <td>2.252950</td>\n",
       "      <td>1.687991</td>\n",
       "      <td>137</td>\n",
       "      <td>385.676226</td>\n",
       "    </tr>\n",
       "    <tr>\n",
       "      <th>...</th>\n",
       "      <td>...</td>\n",
       "      <td>...</td>\n",
       "      <td>...</td>\n",
       "      <td>...</td>\n",
       "      <td>...</td>\n",
       "      <td>...</td>\n",
       "      <td>...</td>\n",
       "      <td>...</td>\n",
       "      <td>...</td>\n",
       "      <td>...</td>\n",
       "      <td>...</td>\n",
       "      <td>...</td>\n",
       "      <td>...</td>\n",
       "      <td>...</td>\n",
       "      <td>...</td>\n",
       "      <td>...</td>\n",
       "      <td>...</td>\n",
       "      <td>...</td>\n",
       "      <td>...</td>\n",
       "      <td>...</td>\n",
       "      <td>...</td>\n",
       "    </tr>\n",
       "    <tr>\n",
       "      <th>2324</th>\n",
       "      <td>1570.0</td>\n",
       "      <td>1591.0</td>\n",
       "      <td>7.125735</td>\n",
       "      <td>NaN</td>\n",
       "      <td>NaN</td>\n",
       "      <td>21.0</td>\n",
       "      <td>NaN</td>\n",
       "      <td>NaN</td>\n",
       "      <td>NaN</td>\n",
       "      <td>NaN</td>\n",
       "      <td>...</td>\n",
       "      <td>NaN</td>\n",
       "      <td>NaN</td>\n",
       "      <td>NaN</td>\n",
       "      <td>NaN</td>\n",
       "      <td>NaN</td>\n",
       "      <td>NaN</td>\n",
       "      <td>3.168133</td>\n",
       "      <td>2.210936</td>\n",
       "      <td>272</td>\n",
       "      <td>1050.825268</td>\n",
       "    </tr>\n",
       "    <tr>\n",
       "      <th>2325</th>\n",
       "      <td>1554.0</td>\n",
       "      <td>1591.0</td>\n",
       "      <td>9.412616</td>\n",
       "      <td>NaN</td>\n",
       "      <td>NaN</td>\n",
       "      <td>NaN</td>\n",
       "      <td>63.0</td>\n",
       "      <td>NaN</td>\n",
       "      <td>NaN</td>\n",
       "      <td>NaN</td>\n",
       "      <td>...</td>\n",
       "      <td>NaN</td>\n",
       "      <td>NaN</td>\n",
       "      <td>NaN</td>\n",
       "      <td>NaN</td>\n",
       "      <td>NaN</td>\n",
       "      <td>NaN</td>\n",
       "      <td>4.174918</td>\n",
       "      <td>2.872031</td>\n",
       "      <td>187</td>\n",
       "      <td>947.603055</td>\n",
       "    </tr>\n",
       "    <tr>\n",
       "      <th>2326</th>\n",
       "      <td>1571.0</td>\n",
       "      <td>1589.0</td>\n",
       "      <td>6.271699</td>\n",
       "      <td>NaN</td>\n",
       "      <td>NaN</td>\n",
       "      <td>NaN</td>\n",
       "      <td>85.0</td>\n",
       "      <td>NaN</td>\n",
       "      <td>NaN</td>\n",
       "      <td>NaN</td>\n",
       "      <td>...</td>\n",
       "      <td>NaN</td>\n",
       "      <td>NaN</td>\n",
       "      <td>NaN</td>\n",
       "      <td>NaN</td>\n",
       "      <td>NaN</td>\n",
       "      <td>NaN</td>\n",
       "      <td>3.605239</td>\n",
       "      <td>2.452092</td>\n",
       "      <td>171</td>\n",
       "      <td>745.577716</td>\n",
       "    </tr>\n",
       "    <tr>\n",
       "      <th>2327</th>\n",
       "      <td>1591.0</td>\n",
       "      <td>1594.0</td>\n",
       "      <td>14.953657</td>\n",
       "      <td>NaN</td>\n",
       "      <td>NaN</td>\n",
       "      <td>90.0</td>\n",
       "      <td>NaN</td>\n",
       "      <td>NaN</td>\n",
       "      <td>NaN</td>\n",
       "      <td>NaN</td>\n",
       "      <td>...</td>\n",
       "      <td>NaN</td>\n",
       "      <td>NaN</td>\n",
       "      <td>NaN</td>\n",
       "      <td>NaN</td>\n",
       "      <td>NaN</td>\n",
       "      <td>NaN</td>\n",
       "      <td>3.202310</td>\n",
       "      <td>2.239820</td>\n",
       "      <td>98</td>\n",
       "      <td>382.972953</td>\n",
       "    </tr>\n",
       "    <tr>\n",
       "      <th>2328</th>\n",
       "      <td>1569.0</td>\n",
       "      <td>1603.0</td>\n",
       "      <td>11.336151</td>\n",
       "      <td>NaN</td>\n",
       "      <td>NaN</td>\n",
       "      <td>47.0</td>\n",
       "      <td>NaN</td>\n",
       "      <td>NaN</td>\n",
       "      <td>NaN</td>\n",
       "      <td>NaN</td>\n",
       "      <td>...</td>\n",
       "      <td>NaN</td>\n",
       "      <td>NaN</td>\n",
       "      <td>NaN</td>\n",
       "      <td>NaN</td>\n",
       "      <td>NaN</td>\n",
       "      <td>NaN</td>\n",
       "      <td>1.737084</td>\n",
       "      <td>1.296836</td>\n",
       "      <td>226</td>\n",
       "      <td>489.916941</td>\n",
       "    </tr>\n",
       "  </tbody>\n",
       "</table>\n",
       "<p>2329 rows × 29 columns</p>\n",
       "</div>"
      ],
      "text/plain": [
       "      start_temp  final_temp        gas  bulk_1  bulk_2  bulk_3  bulk_4  \\\n",
       "0         1571.0      1613.0  29.749986     NaN     NaN     NaN    43.0   \n",
       "1         1581.0      1602.0  12.555561     NaN     NaN     NaN    73.0   \n",
       "2         1596.0      1599.0  28.554793     NaN     NaN     NaN    34.0   \n",
       "3         1601.0      1625.0  18.841219     NaN     NaN     NaN    81.0   \n",
       "4         1576.0      1602.0   5.413692     NaN     NaN     NaN    78.0   \n",
       "...          ...         ...        ...     ...     ...     ...     ...   \n",
       "2324      1570.0      1591.0   7.125735     NaN     NaN    21.0     NaN   \n",
       "2325      1554.0      1591.0   9.412616     NaN     NaN     NaN    63.0   \n",
       "2326      1571.0      1589.0   6.271699     NaN     NaN     NaN    85.0   \n",
       "2327      1591.0      1594.0  14.953657     NaN     NaN    90.0     NaN   \n",
       "2328      1569.0      1603.0  11.336151     NaN     NaN    47.0     NaN   \n",
       "\n",
       "      bulk_5  bulk_6  bulk_7  ...  wire_3  wire_4  wire_6  wire_7  wire_8  \\\n",
       "0        NaN     NaN     NaN  ...     NaN     NaN     NaN     NaN     NaN   \n",
       "1        NaN     NaN     NaN  ...     NaN     NaN     NaN     NaN     NaN   \n",
       "2        NaN     NaN     NaN  ...     NaN     NaN     NaN     NaN     NaN   \n",
       "3        NaN     NaN     NaN  ...     NaN     NaN     NaN     NaN     NaN   \n",
       "4        NaN     NaN     NaN  ...     NaN     NaN     NaN     NaN     NaN   \n",
       "...      ...     ...     ...  ...     ...     ...     ...     ...     ...   \n",
       "2324     NaN     NaN     NaN  ...     NaN     NaN     NaN     NaN     NaN   \n",
       "2325     NaN     NaN     NaN  ...     NaN     NaN     NaN     NaN     NaN   \n",
       "2326     NaN     NaN     NaN  ...     NaN     NaN     NaN     NaN     NaN   \n",
       "2327     NaN     NaN     NaN  ...     NaN     NaN     NaN     NaN     NaN   \n",
       "2328     NaN     NaN     NaN  ...     NaN     NaN     NaN     NaN     NaN   \n",
       "\n",
       "      wire_9  act_power  react_power  time_power   work_power  \n",
       "0        NaN   3.036730     2.142821         185   687.578351  \n",
       "1        NaN   2.139408     1.453357         172   444.855752  \n",
       "2        NaN   4.063641     2.937457         365  1830.169539  \n",
       "3        NaN   2.706489     2.056992         148   503.119438  \n",
       "4        NaN   2.252950     1.687991         137   385.676226  \n",
       "...      ...        ...          ...         ...          ...  \n",
       "2324     NaN   3.168133     2.210936         272  1050.825268  \n",
       "2325     NaN   4.174918     2.872031         187   947.603055  \n",
       "2326     NaN   3.605239     2.452092         171   745.577716  \n",
       "2327     NaN   3.202310     2.239820          98   382.972953  \n",
       "2328     NaN   1.737084     1.296836         226   489.916941  \n",
       "\n",
       "[2329 rows x 29 columns]"
      ]
     },
     "execution_count": 54,
     "metadata": {},
     "output_type": "execute_result"
    }
   ],
   "source": [
    "data_for_learning"
   ]
  },
  {
   "cell_type": "code",
   "execution_count": null,
   "id": "8f4402ca",
   "metadata": {},
   "outputs": [],
   "source": []
  },
  {
   "cell_type": "markdown",
   "id": "bef2fcd0",
   "metadata": {},
   "source": [
    "___\n",
    "_Обработка аномальных значений_\n",
    "___"
   ]
  },
  {
   "cell_type": "markdown",
   "id": "ebc1ad6e",
   "metadata": {},
   "source": [
    "Для начала нам необходимо разделить данные на тестовые и обучщающие, аномалии же обрабатывать мы будем только по обучающей выборке."
   ]
  },
  {
   "cell_type": "code",
   "execution_count": 55,
   "id": "2ef68fd1",
   "metadata": {},
   "outputs": [
    {
     "name": "stdout",
     "output_type": "stream",
     "text": [
      "Размеры обучающей выборки: 1746\n",
      "Размеры тестовой выборки: 583\n"
     ]
    }
   ],
   "source": [
    "data_train, data_test = train_test_split(data_for_learning,\n",
    "                                    test_size=0.25, \n",
    "                                    random_state=RANDOM_NUM\n",
    "                                   )\n",
    "                                   #Проверка\n",
    "print('Размеры обучающей выборки:', data_train.shape[0])\n",
    "print('Размеры тестовой выборки:', data_test.shape[0])"
   ]
  },
  {
   "cell_type": "markdown",
   "id": "f8689222",
   "metadata": {},
   "source": [
    "Запомним начальный размер итоговой таблицы, чтобы отсчитать потерянные данные."
   ]
  },
  {
   "cell_type": "code",
   "execution_count": 56,
   "id": "510642eb",
   "metadata": {},
   "outputs": [
    {
     "name": "stdout",
     "output_type": "stream",
     "text": [
      "Изначальный размер датасета равен 1746\n"
     ]
    }
   ],
   "source": [
    "start_size = data_train.shape[0]\n",
    "print('Изначальный размер датасета равен',start_size)"
   ]
  },
  {
   "cell_type": "markdown",
   "id": "cef1f085",
   "metadata": {},
   "source": [
    "Начнем со значений температуры. Начальной и конечной. "
   ]
  },
  {
   "cell_type": "code",
   "execution_count": 57,
   "id": "cacd5d17",
   "metadata": {},
   "outputs": [],
   "source": [
    "# Функция для постройки графиков и статистик для обработки\n",
    "def plt_h_b(feature , name = '\"признак не назван\"'):\n",
    "    if type(feature) == pd.core.series.Series:\n",
    "        #Распределение \n",
    "        sns.histplot(feature, kde=True)\n",
    "        plt.grid(True)\n",
    "        plt.title('Распределение данных по '+name)\n",
    "        plt.ylabel('Конечная температура')\n",
    "        plt.xlabel('Количество значений.');\n",
    "        plt.show()\n",
    "        \n",
    "\n",
    "        \n",
    "        plt.figure(figsize=(10,1))\n",
    "        sns.boxplot(feature, color='red')\n",
    "        plt.title('Диаграмма размаха по '+name)\n",
    "        plt.xlabel('Конечная температура')\n",
    "        plt.xlabel('')\n",
    "        plt.grid(True)\n",
    "        plt.show();\n",
    "        #Посмотрим на значения квантилей в доверитеьном интервале в 1 процент,\n",
    "        print(feature.describe(percentiles=[0.925, 0.025]))\n",
    "    else:\n",
    "        print('Данные должны быть серие')"
   ]
  },
  {
   "cell_type": "code",
   "execution_count": 58,
   "id": "47f03699",
   "metadata": {},
   "outputs": [
    {
     "data": {
      "image/png": "[encoded data removed]",
      "text/plain": [
       "<Figure size 432x288 with 1 Axes>"
      ]
     },
     "metadata": {
      "needs_background": "light"
     },
     "output_type": "display_data"
    },
    {
     "data": {
      "image/png": "[encoded data removed]",
      "text/plain": [
       "<Figure size 720x72 with 1 Axes>"
      ]
     },
     "metadata": {
      "needs_background": "light"
     },
     "output_type": "display_data"
    },
    {
     "name": "stdout",
     "output_type": "stream",
     "text": [
      "count    1746.000000\n",
      "mean     1593.399771\n",
      "std        11.265917\n",
      "min      1543.000000\n",
      "2.5%     1574.000000\n",
      "50%      1592.500000\n",
      "92.5%    1612.125000\n",
      "max      1653.000000\n",
      "Name: final_temp, dtype: float64\n"
     ]
    }
   ],
   "source": [
    "plt_h_b(data_train.final_temp, 'конечной температуре')"
   ]
  },
  {
   "cell_type": "markdown",
   "id": "53a10efb",
   "metadata": {},
   "source": [
    "Из графиков и статистик, мы видем что есть в стороне высоких значений, врятле при плавки стали требуются значения в 100 раз превышающее среднее по нагреву, даже учитываея непредвиденные перегревы. По доверительному интервалу в 5% можно сделать вывод что значения превышающие 1640 и меньше значения в 1560 примем за выбросы. Стоит исключить такие значения целевово признака."
   ]
  },
  {
   "cell_type": "code",
   "execution_count": 59,
   "id": "1afda97c",
   "metadata": {},
   "outputs": [
    {
     "name": "stdout",
     "output_type": "stream",
     "text": [
      "Количество исключенных значений в итоговой таблице 10\n"
     ]
    }
   ],
   "source": [
    "data_train = data_train[(data_train.final_temp < 1640)&(data_train.final_temp > 1560)]\n",
    "print('Количество исключенных значений в итоговой таблице', \n",
    "      start_size - data_train.shape[0]\n",
    "     )\n"
   ]
  },
  {
   "cell_type": "code",
   "execution_count": 60,
   "id": "b38226f2",
   "metadata": {},
   "outputs": [
    {
     "name": "stdout",
     "output_type": "stream",
     "text": [
      "<class 'pandas.core.frame.DataFrame'>\n",
      "Int64Index: 1736 entries, 26 to 108\n",
      "Data columns (total 29 columns):\n",
      " #   Column       Non-Null Count  Dtype  \n",
      "---  ------       --------------  -----  \n",
      " 0   start_temp   1736 non-null   float64\n",
      " 1   final_temp   1736 non-null   float64\n",
      " 2   gas          1736 non-null   float64\n",
      " 3   bulk_1       149 non-null    float64\n",
      " 4   bulk_2       4 non-null      float64\n",
      " 5   bulk_3       708 non-null    float64\n",
      " 6   bulk_4       609 non-null    float64\n",
      " 7   bulk_5       33 non-null     float64\n",
      " 8   bulk_6       329 non-null    float64\n",
      " 9   bulk_7       2 non-null      float64\n",
      " 10  bulk_9       8 non-null      float64\n",
      " 11  bulk_10      111 non-null    float64\n",
      " 12  bulk_11      97 non-null     float64\n",
      " 13  bulk_12      1357 non-null   float64\n",
      " 14  bulk_13      13 non-null     float64\n",
      " 15  bulk_14      1554 non-null   float64\n",
      " 16  bulk_15      1270 non-null   float64\n",
      " 17  wire_1       1721 non-null   float64\n",
      " 18  wire_2       610 non-null    float64\n",
      " 19  wire_3       23 non-null     float64\n",
      " 20  wire_4       2 non-null      float64\n",
      " 21  wire_6       31 non-null     float64\n",
      " 22  wire_7       0 non-null      float64\n",
      " 23  wire_8       8 non-null      float64\n",
      " 24  wire_9       19 non-null     float64\n",
      " 25  act_power    1736 non-null   float64\n",
      " 26  react_power  1736 non-null   float64\n",
      " 27  time_power   1736 non-null   int64  \n",
      " 28  work_power   1736 non-null   float64\n",
      "dtypes: float64(28), int64(1)\n",
      "memory usage: 406.9 KB\n"
     ]
    }
   ],
   "source": [
    "data_train.info()"
   ]
  },
  {
   "cell_type": "markdown",
   "id": "1222378f",
   "metadata": {},
   "source": [
    "Начальная температура."
   ]
  },
  {
   "cell_type": "code",
   "execution_count": 61,
   "id": "254473d5",
   "metadata": {},
   "outputs": [
    {
     "data": {
      "image/png": "[encoded data removed]",
      "text/plain": [
       "<Figure size 432x288 with 1 Axes>"
      ]
     },
     "metadata": {
      "needs_background": "light"
     },
     "output_type": "display_data"
    },
    {
     "data": {
      "image/png": "[encoded data removed]",
      "text/plain": [
       "<Figure size 720x72 with 1 Axes>"
      ]
     },
     "metadata": {
      "needs_background": "light"
     },
     "output_type": "display_data"
    },
    {
     "name": "stdout",
     "output_type": "stream",
     "text": [
      "count    1736.000000\n",
      "mean     1587.493664\n",
      "std        25.172190\n",
      "min      1227.000000\n",
      "2.5%     1541.000000\n",
      "50%      1587.000000\n",
      "92.5%    1623.000000\n",
      "max      1660.000000\n",
      "Name: start_temp, dtype: float64\n"
     ]
    }
   ],
   "source": [
    "plt_h_b(data_train.start_temp, 'начальная температуре')"
   ]
  },
  {
   "cell_type": "markdown",
   "id": "7f9e4b3a",
   "metadata": {},
   "source": [
    "В данном случае, правую часть графика можно оставить без изменений, сдвиг в сторону больших значений не велик. А вот со знчениями в низких значениях темепературы, стоит поработать, а именно исключим те знчения, которые ниже значения 1500."
   ]
  },
  {
   "cell_type": "code",
   "execution_count": 62,
   "id": "8296537f",
   "metadata": {},
   "outputs": [
    {
     "name": "stdout",
     "output_type": "stream",
     "text": [
      "Количество исключенных значений в итоговой таблице: 11\n"
     ]
    }
   ],
   "source": [
    "data_train = data_train[data_train.start_temp > 1500]\n",
    "print('Количество исключенных значений в итоговой таблице:', \n",
    "      start_size - data_train.shape[0]\n",
    "     )\n"
   ]
  },
  {
   "cell_type": "code",
   "execution_count": 63,
   "id": "7de21e6c",
   "metadata": {},
   "outputs": [
    {
     "data": {
      "image/png": "[encoded data removed]",
      "text/plain": [
       "<Figure size 432x288 with 1 Axes>"
      ]
     },
     "metadata": {
      "needs_background": "light"
     },
     "output_type": "display_data"
    },
    {
     "data": {
      "image/png": "[encoded data removed]",
      "text/plain": [
       "<Figure size 720x72 with 1 Axes>"
      ]
     },
     "metadata": {
      "needs_background": "light"
     },
     "output_type": "display_data"
    },
    {
     "name": "stdout",
     "output_type": "stream",
     "text": [
      "count    1735.000000\n",
      "mean       11.294429\n",
      "std         6.134563\n",
      "min         0.016696\n",
      "2.5%        2.244501\n",
      "50%        10.105196\n",
      "92.5%      20.462324\n",
      "max        60.935689\n",
      "Name: gas, dtype: float64\n"
     ]
    }
   ],
   "source": [
    "plt_h_b(data_train.gas, 'газу')"
   ]
  },
  {
   "cell_type": "markdown",
   "id": "41112e8e",
   "metadata": {},
   "source": [
    "Видны позицие с большим использованиям газа. Оставим данную колонку без изменения так-как предпологаем уникальные позиции по использованию слишком большого использования газа."
   ]
  },
  {
   "cell_type": "markdown",
   "id": "6e6974f6",
   "metadata": {},
   "source": [
    "Теперь аномальные значения у признака по реактивной мощности, который был опредлен в исследовательском анализе данных."
   ]
  },
  {
   "cell_type": "code",
   "execution_count": 64,
   "id": "96ad21b5",
   "metadata": {},
   "outputs": [
    {
     "data": {
      "image/png": "[encoded data removed]",
      "text/plain": [
       "<Figure size 432x288 with 1 Axes>"
      ]
     },
     "metadata": {
      "needs_background": "light"
     },
     "output_type": "display_data"
    },
    {
     "data": {
      "image/png": "[encoded data removed]",
      "text/plain": [
       "<Figure size 720x72 with 1 Axes>"
      ]
     },
     "metadata": {
      "needs_background": "light"
     },
     "output_type": "display_data"
    },
    {
     "name": "stdout",
     "output_type": "stream",
     "text": [
      "count    1735.000000\n",
      "mean        1.873676\n",
      "std        17.218340\n",
      "min      -713.966032\n",
      "2.5%        0.720097\n",
      "50%         2.215897\n",
      "92.5%       3.557910\n",
      "max         8.949049\n",
      "Name: react_power, dtype: float64\n"
     ]
    }
   ],
   "source": [
    "plt_h_b(data_train.react_power, 'Реактивной мощности')"
   ]
  },
  {
   "cell_type": "markdown",
   "id": "ab179b4e",
   "metadata": {},
   "source": [
    "Да действительно, аномалия. исключим данное значение."
   ]
  },
  {
   "cell_type": "code",
   "execution_count": 65,
   "id": "4409de02",
   "metadata": {},
   "outputs": [
    {
     "name": "stdout",
     "output_type": "stream",
     "text": [
      "Количество исключенных значений в итоговой таблице: 12\n"
     ]
    }
   ],
   "source": [
    "data_train = data_train[data_train.react_power >= 0]\n",
    "print('Количество исключенных значений в итоговой таблице:', \n",
    "      start_size - data_train.shape[0]\n",
    "     )\n"
   ]
  },
  {
   "cell_type": "code",
   "execution_count": 66,
   "id": "532492c4",
   "metadata": {},
   "outputs": [
    {
     "name": "stdout",
     "output_type": "stream",
     "text": [
      "Часть удаленных дынных 0.69\n"
     ]
    }
   ],
   "source": [
    "print('Часть удаленных дынных', \n",
    "      round((start_size - data_train.shape[0])/start_size*100,2))"
   ]
  },
  {
   "cell_type": "markdown",
   "id": "032de538",
   "metadata": {},
   "source": [
    "Потеряно 0.69 %. Это меньше 5%, что не должно сильно повлиять на одекватность данных. Теперь можно заменить пропуски, значением 0. Для корректного обучения наших потенциальных моедлей."
   ]
  },
  {
   "cell_type": "markdown",
   "id": "2da08f3d",
   "metadata": {},
   "source": [
    "Остальные данные подойдут без изменений, либо они были рассмотренны, либо они рассчитываются из уже рассмотренных."
   ]
  },
  {
   "cell_type": "code",
   "execution_count": 67,
   "id": "b5ca66f8",
   "metadata": {},
   "outputs": [
    {
     "name": "stdout",
     "output_type": "stream",
     "text": [
      "<class 'pandas.core.frame.DataFrame'>\n",
      "RangeIndex: 1734 entries, 0 to 1733\n",
      "Data columns (total 29 columns):\n",
      " #   Column       Non-Null Count  Dtype  \n",
      "---  ------       --------------  -----  \n",
      " 0   start_temp   1734 non-null   float64\n",
      " 1   final_temp   1734 non-null   float64\n",
      " 2   gas          1734 non-null   float64\n",
      " 3   bulk_1       1734 non-null   float64\n",
      " 4   bulk_2       1734 non-null   float64\n",
      " 5   bulk_3       1734 non-null   float64\n",
      " 6   bulk_4       1734 non-null   float64\n",
      " 7   bulk_5       1734 non-null   float64\n",
      " 8   bulk_6       1734 non-null   float64\n",
      " 9   bulk_7       1734 non-null   float64\n",
      " 10  bulk_9       1734 non-null   float64\n",
      " 11  bulk_10      1734 non-null   float64\n",
      " 12  bulk_11      1734 non-null   float64\n",
      " 13  bulk_12      1734 non-null   float64\n",
      " 14  bulk_13      1734 non-null   float64\n",
      " 15  bulk_14      1734 non-null   float64\n",
      " 16  bulk_15      1734 non-null   float64\n",
      " 17  wire_1       1734 non-null   float64\n",
      " 18  wire_2       1734 non-null   float64\n",
      " 19  wire_3       1734 non-null   float64\n",
      " 20  wire_4       1734 non-null   float64\n",
      " 21  wire_6       1734 non-null   float64\n",
      " 22  wire_7       1734 non-null   float64\n",
      " 23  wire_8       1734 non-null   float64\n",
      " 24  wire_9       1734 non-null   float64\n",
      " 25  act_power    1734 non-null   float64\n",
      " 26  react_power  1734 non-null   float64\n",
      " 27  time_power   1734 non-null   int64  \n",
      " 28  work_power   1734 non-null   float64\n",
      "dtypes: float64(28), int64(1)\n",
      "memory usage: 393.0 KB\n"
     ]
    }
   ],
   "source": [
    "data_train = data_train.fillna(0).reset_index(drop=True)\n",
    "data_test = data_test.fillna(0).reset_index(drop=True)\n",
    "data_train.info()"
   ]
  },
  {
   "cell_type": "markdown",
   "id": "ef464978",
   "metadata": {},
   "source": [
    "___\n",
    "_Проверка на мультиколлениварность._\n",
    "___"
   ]
  },
  {
   "cell_type": "markdown",
   "id": "e6c9d1d7",
   "metadata": {},
   "source": [
    "Построим `heatmap` для отслеживания зависимости наших признаков."
   ]
  },
  {
   "cell_type": "code",
   "execution_count": 67,
   "id": "9790aa3e",
   "metadata": {},
   "outputs": [
    {
     "data": {
      "image/png": "[encoded data removed]",
      "text/plain": [
       "<Figure size 1080x720 with 2 Axes>"
      ]
     },
     "metadata": {
      "needs_background": "light"
     },
     "output_type": "display_data"
    }
   ],
   "source": [
    "colomns_data = list(data_train.columns)\n",
    "plt.figure(figsize=(15,10))\n",
    "\n",
    "df_plot = sns.heatmap(data_train.corr(), cmap=\"YlGnBu\", annot=False)\n",
    "plt.title('HeatMap')    \n",
    "plt.grid(True)\n",
    "plt.show()"
   ]
  },
  {
   "cell_type": "markdown",
   "id": "3570e229",
   "metadata": {},
   "source": [
    "По `Heatmap` можно увидить, что самые большие корреляции у  `act_power` с `react_power`, а также у `wire_8` и `wire_9`. Они равны практически единицы, а значит обладают мультиколлениварностью. Исключим те, который имеют с целевым наименьший коэффициент `wire_7` же вообще пустой, удалим и его."
   ]
  },
  {
   "cell_type": "code",
   "execution_count": 68,
   "id": "8da4e898",
   "metadata": {},
   "outputs": [
    {
     "data": {
      "text/plain": [
       "act_power      0.218585\n",
       "react_power    0.216866\n",
       "wire_8        -0.008708\n",
       "wire_9        -0.035020\n",
       "Name: final_temp, dtype: float64"
      ]
     },
     "execution_count": 68,
     "metadata": {},
     "output_type": "execute_result"
    }
   ],
   "source": [
    "data_train.corr().final_temp[['act_power',\n",
    "                              'react_power',\n",
    "                              'wire_8',\n",
    "                              'wire_9']\n",
    "                            ]"
   ]
  },
  {
   "cell_type": "markdown",
   "id": "78646817",
   "metadata": {},
   "source": [
    "В данном случае исключим `react_power` и `wire_8 'wire_7'`."
   ]
  },
  {
   "cell_type": "code",
   "execution_count": 69,
   "id": "3d545afc",
   "metadata": {},
   "outputs": [
    {
     "name": "stdout",
     "output_type": "stream",
     "text": [
      "<class 'pandas.core.frame.DataFrame'>\n",
      "RangeIndex: 2329 entries, 0 to 2328\n",
      "Data columns (total 29 columns):\n",
      " #   Column       Non-Null Count  Dtype  \n",
      "---  ------       --------------  -----  \n",
      " 0   start_temp   2329 non-null   float64\n",
      " 1   final_temp   2329 non-null   float64\n",
      " 2   gas          2329 non-null   float64\n",
      " 3   bulk_1       199 non-null    float64\n",
      " 4   bulk_2       13 non-null     float64\n",
      " 5   bulk_3       960 non-null    float64\n",
      " 6   bulk_4       812 non-null    float64\n",
      " 7   bulk_5       53 non-null     float64\n",
      " 8   bulk_6       438 non-null    float64\n",
      " 9   bulk_7       13 non-null     float64\n",
      " 10  bulk_9       13 non-null     float64\n",
      " 11  bulk_10      143 non-null    float64\n",
      " 12  bulk_11      130 non-null    float64\n",
      " 13  bulk_12      1812 non-null   float64\n",
      " 14  bulk_13      14 non-null     float64\n",
      " 15  bulk_14      2068 non-null   float64\n",
      " 16  bulk_15      1699 non-null   float64\n",
      " 17  wire_1       2306 non-null   float64\n",
      " 18  wire_2       811 non-null    float64\n",
      " 19  wire_3       39 non-null     float64\n",
      " 20  wire_4       12 non-null     float64\n",
      " 21  wire_6       45 non-null     float64\n",
      " 22  wire_7       4 non-null      float64\n",
      " 23  wire_8       13 non-null     float64\n",
      " 24  wire_9       24 non-null     float64\n",
      " 25  act_power    2329 non-null   float64\n",
      " 26  react_power  2329 non-null   float64\n",
      " 27  time_power   2329 non-null   int64  \n",
      " 28  work_power   2329 non-null   float64\n",
      "dtypes: float64(28), int64(1)\n",
      "memory usage: 527.8 KB\n"
     ]
    }
   ],
   "source": [
    "data_train = data_train.drop(['react_power',\n",
    "                              'wire_8',\n",
    "                              'wire_7'],axis=1)\n",
    "data_test = data_test.drop(['react_power',\n",
    "                              'wire_8',\n",
    "                              'wire_7'],axis=1)\n",
    "data_for_learning.info()"
   ]
  },
  {
   "cell_type": "markdown",
   "id": "d254be8e",
   "metadata": {},
   "source": [
    "Теперь осталось нормализовать данные, так-как они имеют разный маштаб, что в свою очередь поможет корректно обучиться некоторым потенциальным моделям."
   ]
  },
  {
   "cell_type": "markdown",
   "id": "d4ad6fd9",
   "metadata": {},
   "source": [
    "___  \n",
    "_Разделение данных на обучающую и тестовую выборки, а также нормализация, данных._\n",
    "___"
   ]
  },
  {
   "cell_type": "markdown",
   "id": "efe649c3",
   "metadata": {},
   "source": [
    "Для для начала выделим отдельно целевой признак в обучающем и тестовом датасете."
   ]
  },
  {
   "cell_type": "code",
   "execution_count": 70,
   "id": "ca07cd62",
   "metadata": {},
   "outputs": [],
   "source": [
    "features_train = data_train.drop('final_temp', axis=1)\n",
    "target_train = data_train.final_temp\n",
    "features_test = data_test.drop('final_temp', axis=1)\n",
    "target_test = data_test.final_temp"
   ]
  },
  {
   "cell_type": "markdown",
   "id": "e8b3f3b9",
   "metadata": {},
   "source": [
    "Наши данные имею разный маштаб, это может повлиять на качество обучения некорых из потенциальныйх моделей. Замаштабируем данные."
   ]
  },
  {
   "cell_type": "code",
   "execution_count": 71,
   "id": "d29f850a",
   "metadata": {},
   "outputs": [
    {
     "data": {
      "text/html": [
       "<div>\n",
       "<style scoped>\n",
       "    .dataframe tbody tr th:only-of-type {\n",
       "        vertical-align: middle;\n",
       "    }\n",
       "\n",
       "    .dataframe tbody tr th {\n",
       "        vertical-align: top;\n",
       "    }\n",
       "\n",
       "    .dataframe thead th {\n",
       "        text-align: right;\n",
       "    }\n",
       "</style>\n",
       "<table border=\"1\" class=\"dataframe\">\n",
       "  <thead>\n",
       "    <tr style=\"text-align: right;\">\n",
       "      <th></th>\n",
       "      <th>start_temp</th>\n",
       "      <th>gas</th>\n",
       "      <th>bulk_1</th>\n",
       "      <th>bulk_2</th>\n",
       "      <th>bulk_3</th>\n",
       "      <th>bulk_4</th>\n",
       "      <th>bulk_5</th>\n",
       "      <th>bulk_6</th>\n",
       "      <th>bulk_7</th>\n",
       "      <th>bulk_9</th>\n",
       "      <th>...</th>\n",
       "      <th>bulk_15</th>\n",
       "      <th>wire_1</th>\n",
       "      <th>wire_2</th>\n",
       "      <th>wire_3</th>\n",
       "      <th>wire_4</th>\n",
       "      <th>wire_6</th>\n",
       "      <th>wire_9</th>\n",
       "      <th>act_power</th>\n",
       "      <th>time_power</th>\n",
       "      <th>work_power</th>\n",
       "    </tr>\n",
       "  </thead>\n",
       "  <tbody>\n",
       "    <tr>\n",
       "      <th>0</th>\n",
       "      <td>-0.410550</td>\n",
       "      <td>-0.145074</td>\n",
       "      <td>-0.283657</td>\n",
       "      <td>-0.047637</td>\n",
       "      <td>-0.614693</td>\n",
       "      <td>-0.639864</td>\n",
       "      <td>-0.113838</td>\n",
       "      <td>-0.398589</td>\n",
       "      <td>-0.026924</td>\n",
       "      <td>-0.066805</td>\n",
       "      <td>...</td>\n",
       "      <td>0.393825</td>\n",
       "      <td>0.348359</td>\n",
       "      <td>0.358171</td>\n",
       "      <td>-0.108065</td>\n",
       "      <td>-0.033614</td>\n",
       "      <td>-0.103172</td>\n",
       "      <td>-0.095364</td>\n",
       "      <td>-0.174696</td>\n",
       "      <td>1.811447</td>\n",
       "      <td>1.180141</td>\n",
       "    </tr>\n",
       "    <tr>\n",
       "      <th>1</th>\n",
       "      <td>0.139305</td>\n",
       "      <td>-0.219635</td>\n",
       "      <td>-0.283657</td>\n",
       "      <td>-0.047637</td>\n",
       "      <td>-0.614693</td>\n",
       "      <td>-0.639864</td>\n",
       "      <td>-0.113838</td>\n",
       "      <td>-0.398589</td>\n",
       "      <td>-0.026924</td>\n",
       "      <td>-0.066805</td>\n",
       "      <td>...</td>\n",
       "      <td>0.405681</td>\n",
       "      <td>-0.185260</td>\n",
       "      <td>0.657101</td>\n",
       "      <td>-0.108065</td>\n",
       "      <td>-0.033614</td>\n",
       "      <td>-0.103172</td>\n",
       "      <td>-0.095364</td>\n",
       "      <td>-0.561128</td>\n",
       "      <td>-0.317729</td>\n",
       "      <td>-0.502637</td>\n",
       "    </tr>\n",
       "    <tr>\n",
       "      <th>2</th>\n",
       "      <td>-0.368253</td>\n",
       "      <td>-1.003706</td>\n",
       "      <td>-0.283657</td>\n",
       "      <td>-0.047637</td>\n",
       "      <td>-0.614693</td>\n",
       "      <td>1.241198</td>\n",
       "      <td>-0.113838</td>\n",
       "      <td>-0.398589</td>\n",
       "      <td>-0.026924</td>\n",
       "      <td>-0.066805</td>\n",
       "      <td>...</td>\n",
       "      <td>1.140777</td>\n",
       "      <td>0.345319</td>\n",
       "      <td>-0.532055</td>\n",
       "      <td>-0.108065</td>\n",
       "      <td>-0.033614</td>\n",
       "      <td>-0.103172</td>\n",
       "      <td>-0.095364</td>\n",
       "      <td>-0.795677</td>\n",
       "      <td>1.337175</td>\n",
       "      <td>0.248943</td>\n",
       "    </tr>\n",
       "    <tr>\n",
       "      <th>3</th>\n",
       "      <td>-0.452846</td>\n",
       "      <td>-0.094903</td>\n",
       "      <td>-0.283657</td>\n",
       "      <td>-0.047637</td>\n",
       "      <td>-0.614693</td>\n",
       "      <td>-0.639864</td>\n",
       "      <td>-0.113838</td>\n",
       "      <td>-0.398589</td>\n",
       "      <td>-0.026924</td>\n",
       "      <td>-0.066805</td>\n",
       "      <td>...</td>\n",
       "      <td>-0.187138</td>\n",
       "      <td>-0.696589</td>\n",
       "      <td>2.494887</td>\n",
       "      <td>-0.108065</td>\n",
       "      <td>-0.033614</td>\n",
       "      <td>-0.103172</td>\n",
       "      <td>-0.095364</td>\n",
       "      <td>0.817308</td>\n",
       "      <td>-0.307638</td>\n",
       "      <td>0.077324</td>\n",
       "    </tr>\n",
       "    <tr>\n",
       "      <th>4</th>\n",
       "      <td>-1.510260</td>\n",
       "      <td>-0.496982</td>\n",
       "      <td>-0.283657</td>\n",
       "      <td>-0.047637</td>\n",
       "      <td>-0.614693</td>\n",
       "      <td>2.080957</td>\n",
       "      <td>-0.113838</td>\n",
       "      <td>-0.398589</td>\n",
       "      <td>-0.026924</td>\n",
       "      <td>-0.066805</td>\n",
       "      <td>...</td>\n",
       "      <td>0.405681</td>\n",
       "      <td>-0.201545</td>\n",
       "      <td>-0.532055</td>\n",
       "      <td>-0.108065</td>\n",
       "      <td>-0.033614</td>\n",
       "      <td>-0.103172</td>\n",
       "      <td>-0.095364</td>\n",
       "      <td>-0.234846</td>\n",
       "      <td>0.681268</td>\n",
       "      <td>0.326187</td>\n",
       "    </tr>\n",
       "  </tbody>\n",
       "</table>\n",
       "<p>5 rows × 25 columns</p>\n",
       "</div>"
      ],
      "text/plain": [
       "   start_temp       gas    bulk_1    bulk_2    bulk_3    bulk_4    bulk_5  \\\n",
       "0   -0.410550 -0.145074 -0.283657 -0.047637 -0.614693 -0.639864 -0.113838   \n",
       "1    0.139305 -0.219635 -0.283657 -0.047637 -0.614693 -0.639864 -0.113838   \n",
       "2   -0.368253 -1.003706 -0.283657 -0.047637 -0.614693  1.241198 -0.113838   \n",
       "3   -0.452846 -0.094903 -0.283657 -0.047637 -0.614693 -0.639864 -0.113838   \n",
       "4   -1.510260 -0.496982 -0.283657 -0.047637 -0.614693  2.080957 -0.113838   \n",
       "\n",
       "     bulk_6    bulk_7    bulk_9  ...   bulk_15    wire_1    wire_2    wire_3  \\\n",
       "0 -0.398589 -0.026924 -0.066805  ...  0.393825  0.348359  0.358171 -0.108065   \n",
       "1 -0.398589 -0.026924 -0.066805  ...  0.405681 -0.185260  0.657101 -0.108065   \n",
       "2 -0.398589 -0.026924 -0.066805  ...  1.140777  0.345319 -0.532055 -0.108065   \n",
       "3 -0.398589 -0.026924 -0.066805  ... -0.187138 -0.696589  2.494887 -0.108065   \n",
       "4 -0.398589 -0.026924 -0.066805  ...  0.405681 -0.201545 -0.532055 -0.108065   \n",
       "\n",
       "     wire_4    wire_6    wire_9  act_power  time_power  work_power  \n",
       "0 -0.033614 -0.103172 -0.095364  -0.174696    1.811447    1.180141  \n",
       "1 -0.033614 -0.103172 -0.095364  -0.561128   -0.317729   -0.502637  \n",
       "2 -0.033614 -0.103172 -0.095364  -0.795677    1.337175    0.248943  \n",
       "3 -0.033614 -0.103172 -0.095364   0.817308   -0.307638    0.077324  \n",
       "4 -0.033614 -0.103172 -0.095364  -0.234846    0.681268    0.326187  \n",
       "\n",
       "[5 rows x 25 columns]"
      ]
     },
     "execution_count": 71,
     "metadata": {},
     "output_type": "execute_result"
    }
   ],
   "source": [
    "# Маштабируем данные.\n",
    "stand_scal =  StandardScaler()\n",
    "stand_scal.fit(features_train)\n",
    "\n",
    "features_train = pd.DataFrame(stand_scal.transform(features_train), \n",
    "                           columns=features_train.columns\n",
    "                          )\n",
    "features_test = pd.DataFrame(stand_scal.transform(features_test), \n",
    "                           columns=features_train.columns\n",
    "                          )\n",
    "\n",
    "features_train.head()"
   ]
  },
  {
   "cell_type": "code",
   "execution_count": 75,
   "id": "1a9fb850",
   "metadata": {},
   "outputs": [
    {
     "data": {
      "text/plain": [
       "(583, 25)"
      ]
     },
     "execution_count": 75,
     "metadata": {},
     "output_type": "execute_result"
    }
   ],
   "source": [
    "features_test.shape"
   ]
  },
  {
   "cell_type": "markdown",
   "id": "d05ed697",
   "metadata": {},
   "source": [
    "Все данные готовы, для обучения моделей."
   ]
  },
  {
   "cell_type": "markdown",
   "id": "981490ce",
   "metadata": {},
   "source": [
    "__Вывод__  \n",
    "В этой части, была сформированны и подготовленны данные, необходимые для достижения поставленной цели. Исключенна ненужная информация. Были удаленны занчения со слишком большими температурами, слишком искажающие, остальные данные. Итоговая таблица была провенна на мультиколлинеарность, таких признаков небыло обнаруженно. Данные по мощности было решенно обьединить в формулу полной, описанной в предыдущей главе. Так же были заполненны пропуски в колонках с информацией по присадкам и оценно их влияние на измениение связи с целевым признаком. "
   ]
  },
  {
   "cell_type": "markdown",
   "id": "4cc40e16",
   "metadata": {},
   "source": [
    "## Обучение модели."
   ]
  },
  {
   "cell_type": "markdown",
   "id": "571de4eb",
   "metadata": {},
   "source": [
    "Теперь на подготовленных данных обучим несколько моделей, и оценим их качество метрикой `MAE`. Модель буем считать качественной если ее метрика `MAE` будет меньше __6,8__. "
   ]
  },
  {
   "cell_type": "markdown",
   "id": "70ca9b68",
   "metadata": {},
   "source": [
    "За отенциальных претиндентов возьмем 3 модели. Возьмем одну простую модель, такую как модель \"Линейную регрессии\" предположиетльно самую быструю для обучения. После обучим модель \"Случайного лес\" один из ансамблей основанный на параллельном обучении. А так же воспользуемся градиентным бустингом по средствам библиотеки `CatBoost`."
   ]
  },
  {
   "cell_type": "markdown",
   "id": "23430908",
   "metadata": {},
   "source": [
    "Но с самого начала, потребуется критерий одекватности наших моделей. Создадим простой регрессор выдающий заданное нами значение."
   ]
  },
  {
   "cell_type": "code",
   "execution_count": 72,
   "id": "50e81833",
   "metadata": {},
   "outputs": [],
   "source": [
    "#Функция сразу строим и обучает модель с заданными параметрами в словаре\n",
    "def creat_model(model, param={}, verbose=0,):\n",
    "    try:\n",
    "        def_model = GridSearchCV(estimator=model,\n",
    "                                 # Вид модели, все значения заполнятся медианой целевого признака\n",
    "                                 param_grid=param,# обязательный аргумент принимает значение пустого словаря либо параметров\n",
    "                                 scoring='neg_mean_absolute_error', # задаем оценку модели нашей функцией расчета итоговой MAE\n",
    "                                 verbose=verbose,\n",
    "                                 n_jobs=-1,\n",
    "                                 cv=4\n",
    "                                )\n",
    "        try:\n",
    "            def_model.fit(features_train, target_train,verbose=False)\n",
    "        except:\n",
    "            def_model.fit(features_train, target_train)\n",
    "        print('Среднее значение MAE на кросс-валидации', \n",
    "          -round(def_model.best_score_,4)) # `-` для исправления вывода, так как метод \n",
    "                                             #check_model.best_score_выдает ответ с `-`  \n",
    "        if param !={}:\n",
    "            for p in param:\n",
    "                if p != 'random_state':\n",
    "                    print(f'Наилучшие гипперпараметр для {p} : {def_model.best_params_[p]}') \n",
    "        return def_model\n",
    "    except:\n",
    "        print('Некореектные входные данные')"
   ]
  },
  {
   "cell_type": "code",
   "execution_count": 73,
   "id": "d91e4d47",
   "metadata": {},
   "outputs": [
    {
     "name": "stdout",
     "output_type": "stream",
     "text": [
      "Среднее значение MAE на кросс-валидации 7.8888\n"
     ]
    }
   ],
   "source": [
    "check_model = creat_model(DummyRegressor(strategy='median'))"
   ]
  },
  {
   "cell_type": "markdown",
   "id": "ed44b6b2",
   "metadata": {},
   "source": [
    "Теперь у нас есть планка качества, по которой можно судить адекватность модели. Обучм линейную регрессию."
   ]
  },
  {
   "cell_type": "code",
   "execution_count": 74,
   "id": "09b04641",
   "metadata": {},
   "outputs": [
    {
     "name": "stdout",
     "output_type": "stream",
     "text": [
      "Среднее значение MAE на кросс-валидации 6.931\n"
     ]
    }
   ],
   "source": [
    "linear_model = creat_model(LinearRegression())"
   ]
  },
  {
   "cell_type": "markdown",
   "id": "0908f7ef",
   "metadata": {},
   "source": [
    "Модель показа значение `MAE` выше, что говорит об ее адекватности, но ее значение все равно слишком высокое. Обучим случайный лес."
   ]
  },
  {
   "cell_type": "code",
   "execution_count": 75,
   "id": "ee038acf",
   "metadata": {},
   "outputs": [
    {
     "name": "stdout",
     "output_type": "stream",
     "text": [
      "Среднее значение MAE на кросс-валидации 6.8469\n",
      "Наилучшие гипперпараметр для max_depth : 10\n",
      "Наилучшие гипперпараметр для n_estimators : 321\n"
     ]
    }
   ],
   "source": [
    "ran_for_model = creat_model(RandomForestRegressor(random_state=RANDOM_NUM), \n",
    "                            {'max_depth': range (10, 51, 10),\n",
    "                             'n_estimators':range (1, 400, 20) \n",
    "                            }\n",
    "                           )"
   ]
  },
  {
   "cell_type": "markdown",
   "id": "3475db81",
   "metadata": {},
   "source": [
    "Данная модель, по выбранной метрике на среднем валижационном значении уже достигла нишего заданного предела. Теперь обучим модель градиентного бустинга."
   ]
  },
  {
   "cell_type": "code",
   "execution_count": 76,
   "id": "197e6dd3",
   "metadata": {},
   "outputs": [
    {
     "name": "stdout",
     "output_type": "stream",
     "text": [
      "Среднее значение MAE на кросс-валидации 6.7109\n",
      "Наилучшие гипперпараметр для depth : 3\n",
      "Наилучшие гипперпараметр для iterations : 500\n"
     ]
    }
   ],
   "source": [
    "cat_model = creat_model(CatBoostRegressor(loss_function=\"MAE\",random_state=RANDOM_NUM)\n",
    "                           ,{'depth': range(1,4), \n",
    "                             'iterations':[500,1000]\n",
    "                            }\n",
    "                       )"
   ]
  },
  {
   "cell_type": "markdown",
   "id": "2b5cc09d",
   "metadata": {},
   "source": [
    "Градиентный бустинг от библиотеки `Catboost` показал себя еще лучше. Выберем данную модель как основную, и используем ее на тестовой выборке."
   ]
  },
  {
   "cell_type": "markdown",
   "id": "7c7a3419",
   "metadata": {},
   "source": [
    "__Вывод__  \n",
    "В данной части было обученно 3 модели: Линейная регрессия, Случайный лес и модель градиентного бустинга. Также перед обучением была заданна мера адекватности, с помощью заглушки ввиде медианного значения целевого признака. Наилучший резуьтат показал градиентный бустинг чье значение на среднем знчении по градиентному бустингу по `МАЕ` равно `6.71`, что в свою очередь и повлияло на ее выбор как самой лучшей."
   ]
  },
  {
   "cell_type": "markdown",
   "id": "33b4ed2e",
   "metadata": {},
   "source": [
    "## Тестирование модели"
   ]
  },
  {
   "cell_type": "markdown",
   "id": "807c2817",
   "metadata": {},
   "source": [
    "Модель обученна и выбранна, данные подготовленны и разделенны. Протестируем модель на наших данных."
   ]
  },
  {
   "cell_type": "code",
   "execution_count": 77,
   "id": "ac0f209e",
   "metadata": {},
   "outputs": [
    {
     "name": "stdout",
     "output_type": "stream",
     "text": [
      "Значение MAE на обученной модели равно: 6.77\n"
     ]
    }
   ],
   "source": [
    "print('Значение MAE на обученной модели равно:', \n",
    "      round(mean_absolute_error(cat_model.predict(features_test),target_test),2))"
   ]
  },
  {
   "cell_type": "markdown",
   "id": "ec151fb3",
   "metadata": {},
   "source": [
    "Цель достигнута, значение `MAE` вышло меньше заданного предела. Теперь посмотрим на важность факторов."
   ]
  },
  {
   "cell_type": "code",
   "execution_count": 78,
   "id": "3ec5a796",
   "metadata": {},
   "outputs": [
    {
     "data": {
      "image/png": "[encoded data removed]",
      "text/plain": [
       "<Figure size 720x432 with 1 Axes>"
      ]
     },
     "metadata": {
      "needs_background": "light"
     },
     "output_type": "display_data"
    }
   ],
   "source": [
    "(pd.DataFrame(data={'score': cat_model.best_estimator_.feature_importances_},\n",
    "              index=features_test.columns).sort_values(by='score')\n",
    "                                          .plot(kind='barh'\n",
    "                                                ,grid=True\n",
    "                                                ,figsize=(10,6)\n",
    "                                                ,legend=False\n",
    "                                               )\n",
    ")\n",
    "plt.xticks([])\n",
    "plt.title('График важности факторов на обучение модели.');"
   ]
  },
  {
   "cell_type": "markdown",
   "id": "4337e32d",
   "metadata": {},
   "source": [
    "Как мы видим, самый значимый фактор, это начальная температура, что не удивительно. На удивление сыпучий материал `bulk_12` на втором месте."
   ]
  },
  {
   "cell_type": "markdown",
   "id": "0a348cd4",
   "metadata": {},
   "source": [
    "__Вывод__  \n",
    "Была проверенна лучшея модель (градиентный бустинг) которая на тестовой выборке достигла `6.77` по метрике `MAE`. Также был определен самый значимый признак при обучении модели, `start_temp` начальная температура сплава."
   ]
  },
  {
   "cell_type": "markdown",
   "id": "00cd1eaf",
   "metadata": {},
   "source": [
    "# Отчет"
   ]
  },
  {
   "cell_type": "markdown",
   "id": "1c929af2",
   "metadata": {},
   "source": [
    "Данный проект достиг все поставленных целей. Все пункты разработанного плана были выполненны в полном размере. \n",
    "\n",
    "Во время протекания работы, а именно в анализе и предобраюотки данных, были обнаруженные высокие потери. По большому количеству \"ковшей\" отсутствовала информация как по опредлеяющим признака, так и по целевым. Что в свою очередь повлияло на решение, исключить такие позиции из использования для обучения моделей. Также были предоставленны, неинформативные таблицы, в учет которые также не пошли. После сбора всей исчерпывающей информации в общую таблицу, были найденны и обработыны выбросы в целевом и определяющих признаках, за пример можно привезти отрицательное значение (-700) в реактивной мощности `reack_power` , и крайне высокая температура (1700) у финальной температуры `final_temp`. Они также были исключенны из обучения. \n",
    "\n",
    "В работе стоит выделить аспект, о выборе целевого признака `final_temp` температура розлива сплава и о большом срезе данных, за виду отстутствия корректных данных по данному признаку у некоторых ковшей. Что повлияло, на объективность результатов ключевой метрики обучения модели, ведь данных для обучения стало значительно меньше. \n",
    "\n",
    "Самой результативной моделью была выбранна _модель градиентного бустинга_ разработанная с помощью бибилиотеки `CatBoost`. С ее качеством по метрике `MAE` на волидации  6.71 и на тесте 6.77, при гипперпараметрах `depth` = 3 `iterations` = 500 и `random_state` = 250623. После всех манипуляций с исходными данными, модель обучалась на признаках : \n",
    "* Начальная темпереатура ковша, температура первой итерации замера;\n",
    "* Активаня мощность, которая вытеснила собой Реактивную в связи с их мультиколлениарностью и большей значимостью с целевым признаком;\n",
    "* Время нагрева ковшей электродами, разница по времени в секундах, между первой и крайней итерации нагрева;\n",
    "* Затраченное на это работа, высчитанная по формуле из активаной, реактивной мощностей и времени нагрева;\n",
    "* Обьемы сыпучих и проволочных присадок, исключая крайне маллоинформативных и мультикколениарных с меньшей значимостью.\n",
    "\n",
    "Самым значимым в обучении, является признак `start_temp` Начальная температура ковша.  \n",
    "Рекомендуется в будующем, для повышения качетсва моедли, подготавливать исходные данные в полном размере по всем выше перечисленным признакам, в одном датасете. Стараться избегать одиночных размеров, и аномальных выбросов в данных. Также, при обучении модели, возможно прибегать к разбросу, исследуемых гипперпараметров, свыше представленного в данном проекте."
   ]
  }
 ],
 "metadata": {
  "ExecuteTimeLog": [
   {
    "duration": 991,
    "start_time": "2023-06-08T20:30:52.371Z"
   },
   {
    "duration": 134,
    "start_time": "2023-06-08T20:30:55.804Z"
   },
   {
    "duration": 9,
    "start_time": "2023-06-08T20:30:56.012Z"
   },
   {
    "duration": 152,
    "start_time": "2023-06-08T20:31:03.571Z"
   },
   {
    "duration": 30,
    "start_time": "2023-06-08T20:31:04.479Z"
   },
   {
    "duration": 275,
    "start_time": "2023-06-08T20:31:08.043Z"
   },
   {
    "duration": 9,
    "start_time": "2023-06-08T20:31:09.610Z"
   },
   {
    "duration": 222,
    "start_time": "2023-06-08T20:31:11.824Z"
   },
   {
    "duration": 9,
    "start_time": "2023-06-08T20:31:13.019Z"
   },
   {
    "duration": 13201,
    "start_time": "2023-06-08T20:31:14.271Z"
   },
   {
    "duration": 143,
    "start_time": "2023-06-08T20:31:27.474Z"
   },
   {
    "duration": 323,
    "start_time": "2023-06-08T20:31:27.618Z"
   },
   {
    "duration": 5,
    "start_time": "2023-06-08T20:31:27.944Z"
   },
   {
    "duration": 94,
    "start_time": "2023-06-08T20:31:27.952Z"
   },
   {
    "duration": 0,
    "start_time": "2023-06-08T20:31:28.049Z"
   },
   {
    "duration": 0,
    "start_time": "2023-06-08T20:31:28.051Z"
   },
   {
    "duration": 0,
    "start_time": "2023-06-08T20:31:28.053Z"
   },
   {
    "duration": 0,
    "start_time": "2023-06-08T20:31:28.054Z"
   },
   {
    "duration": 0,
    "start_time": "2023-06-08T20:31:28.056Z"
   },
   {
    "duration": 0,
    "start_time": "2023-06-08T20:31:28.057Z"
   },
   {
    "duration": 0,
    "start_time": "2023-06-08T20:31:28.060Z"
   },
   {
    "duration": 0,
    "start_time": "2023-06-08T20:31:28.062Z"
   },
   {
    "duration": 0,
    "start_time": "2023-06-08T20:31:28.063Z"
   },
   {
    "duration": 0,
    "start_time": "2023-06-08T20:31:28.065Z"
   },
   {
    "duration": 0,
    "start_time": "2023-06-08T20:31:28.066Z"
   },
   {
    "duration": 0,
    "start_time": "2023-06-08T20:31:28.069Z"
   },
   {
    "duration": 0,
    "start_time": "2023-06-08T20:31:28.071Z"
   },
   {
    "duration": 1,
    "start_time": "2023-06-08T20:31:28.072Z"
   },
   {
    "duration": 0,
    "start_time": "2023-06-08T20:31:28.075Z"
   },
   {
    "duration": 0,
    "start_time": "2023-06-08T20:31:28.077Z"
   },
   {
    "duration": 64,
    "start_time": "2023-06-08T20:31:28.972Z"
   },
   {
    "duration": 17,
    "start_time": "2023-06-08T20:31:29.170Z"
   },
   {
    "duration": 187,
    "start_time": "2023-06-08T20:31:38.052Z"
   },
   {
    "duration": 302,
    "start_time": "2023-06-08T20:31:57.492Z"
   },
   {
    "duration": 14,
    "start_time": "2023-06-08T20:31:58.116Z"
   },
   {
    "duration": 23,
    "start_time": "2023-06-08T20:31:58.608Z"
   },
   {
    "duration": 73,
    "start_time": "2023-06-08T20:31:59.227Z"
   },
   {
    "duration": 8,
    "start_time": "2023-06-08T20:31:59.904Z"
   },
   {
    "duration": 2700,
    "start_time": "2023-06-08T20:32:00.063Z"
   },
   {
    "duration": 22,
    "start_time": "2023-06-08T20:32:02.765Z"
   },
   {
    "duration": 27,
    "start_time": "2023-06-08T20:32:04.097Z"
   },
   {
    "duration": 4,
    "start_time": "2023-06-08T20:32:05.111Z"
   },
   {
    "duration": 76,
    "start_time": "2023-06-08T20:32:08.270Z"
   },
   {
    "duration": 8,
    "start_time": "2023-06-08T20:32:08.442Z"
   },
   {
    "duration": 148,
    "start_time": "2023-06-08T20:32:14.885Z"
   },
   {
    "duration": 15,
    "start_time": "2023-06-08T20:32:15.398Z"
   },
   {
    "duration": 10,
    "start_time": "2023-06-08T20:32:16.157Z"
   },
   {
    "duration": 5,
    "start_time": "2023-06-08T20:32:16.713Z"
   },
   {
    "duration": 12,
    "start_time": "2023-06-08T20:32:17.095Z"
   },
   {
    "duration": 246,
    "start_time": "2023-06-08T20:32:17.472Z"
   },
   {
    "duration": 160,
    "start_time": "2023-06-08T20:32:17.871Z"
   },
   {
    "duration": 6,
    "start_time": "2023-06-08T20:32:19.309Z"
   },
   {
    "duration": 41,
    "start_time": "2023-06-08T20:32:21.914Z"
   },
   {
    "duration": 18,
    "start_time": "2023-06-08T20:32:22.396Z"
   },
   {
    "duration": 11,
    "start_time": "2023-06-08T20:32:23.507Z"
   },
   {
    "duration": 19,
    "start_time": "2023-06-08T20:32:23.927Z"
   },
   {
    "duration": 210,
    "start_time": "2023-06-08T20:32:24.972Z"
   },
   {
    "duration": 68,
    "start_time": "2023-06-08T20:32:26.530Z"
   },
   {
    "duration": 15,
    "start_time": "2023-06-08T20:32:26.810Z"
   },
   {
    "duration": 205,
    "start_time": "2023-06-08T20:32:34.413Z"
   },
   {
    "duration": 17,
    "start_time": "2023-06-08T20:32:34.908Z"
   },
   {
    "duration": 21,
    "start_time": "2023-06-08T20:32:35.778Z"
   },
   {
    "duration": 7,
    "start_time": "2023-06-08T20:32:36.320Z"
   },
   {
    "duration": 384,
    "start_time": "2023-06-08T20:32:36.872Z"
   },
   {
    "duration": 12,
    "start_time": "2023-06-08T20:32:37.944Z"
   },
   {
    "duration": 26,
    "start_time": "2023-06-08T20:32:38.396Z"
   },
   {
    "duration": 6198,
    "start_time": "2023-06-17T06:55:10.458Z"
   },
   {
    "duration": 2,
    "start_time": "2023-06-17T06:55:16.658Z"
   },
   {
    "duration": 70,
    "start_time": "2023-06-17T06:55:16.662Z"
   },
   {
    "duration": 14,
    "start_time": "2023-06-17T06:55:16.734Z"
   },
   {
    "duration": 198,
    "start_time": "2023-06-17T06:55:16.749Z"
   },
   {
    "duration": 8,
    "start_time": "2023-06-17T06:55:16.949Z"
   },
   {
    "duration": 191,
    "start_time": "2023-06-17T06:55:16.958Z"
   },
   {
    "duration": 9,
    "start_time": "2023-06-17T06:55:17.151Z"
   },
   {
    "duration": 9390,
    "start_time": "2023-06-17T06:55:17.161Z"
   },
   {
    "duration": 849,
    "start_time": "2023-06-17T06:55:26.553Z"
   },
   {
    "duration": 196,
    "start_time": "2023-06-17T06:55:27.403Z"
   },
   {
    "duration": 4,
    "start_time": "2023-06-17T06:55:27.601Z"
   },
   {
    "duration": 69,
    "start_time": "2023-06-17T06:55:27.606Z"
   },
   {
    "duration": 11,
    "start_time": "2023-06-17T06:55:27.676Z"
   },
   {
    "duration": 23,
    "start_time": "2023-06-17T06:55:27.689Z"
   },
   {
    "duration": 65,
    "start_time": "2023-06-17T06:55:27.714Z"
   },
   {
    "duration": 4,
    "start_time": "2023-06-17T06:55:52.334Z"
   },
   {
    "duration": 2393,
    "start_time": "2023-06-17T06:55:52.991Z"
   },
   {
    "duration": 12,
    "start_time": "2023-06-17T06:55:55.386Z"
   },
   {
    "duration": 39,
    "start_time": "2023-06-17T06:55:55.399Z"
   },
   {
    "duration": 4,
    "start_time": "2023-06-17T06:55:55.531Z"
   },
   {
    "duration": 47,
    "start_time": "2023-06-17T06:55:56.198Z"
   },
   {
    "duration": 9,
    "start_time": "2023-06-17T06:55:56.384Z"
   },
   {
    "duration": 10,
    "start_time": "2023-06-17T06:55:56.734Z"
   },
   {
    "duration": 3,
    "start_time": "2023-06-17T06:55:57.073Z"
   },
   {
    "duration": 8,
    "start_time": "2023-06-17T06:55:57.489Z"
   },
   {
    "duration": 178,
    "start_time": "2023-06-17T06:55:58.070Z"
   },
   {
    "duration": 120,
    "start_time": "2023-06-17T06:55:58.431Z"
   },
   {
    "duration": 3,
    "start_time": "2023-06-17T06:55:59.040Z"
   },
   {
    "duration": 36,
    "start_time": "2023-06-17T06:55:59.788Z"
   },
   {
    "duration": 10,
    "start_time": "2023-06-17T06:55:59.961Z"
   },
   {
    "duration": 8,
    "start_time": "2023-06-17T06:56:00.310Z"
   },
   {
    "duration": 17,
    "start_time": "2023-06-17T06:56:00.891Z"
   },
   {
    "duration": 181,
    "start_time": "2023-06-17T06:56:01.227Z"
   },
   {
    "duration": 44,
    "start_time": "2023-06-17T06:56:02.364Z"
   },
   {
    "duration": 10,
    "start_time": "2023-06-17T06:56:02.758Z"
   },
   {
    "duration": 14,
    "start_time": "2023-06-17T06:56:03.130Z"
   },
   {
    "duration": 3,
    "start_time": "2023-06-17T06:56:04.164Z"
   },
   {
    "duration": 1407,
    "start_time": "2023-06-17T06:56:04.697Z"
   },
   {
    "duration": 11,
    "start_time": "2023-06-17T06:56:06.106Z"
   },
   {
    "duration": 18,
    "start_time": "2023-06-17T06:56:06.118Z"
   },
   {
    "duration": 11,
    "start_time": "2023-06-17T06:56:39.205Z"
   },
   {
    "duration": 3959,
    "start_time": "2023-06-17T06:56:43.959Z"
   },
   {
    "duration": 10,
    "start_time": "2023-06-17T06:57:31.900Z"
   },
   {
    "duration": 9,
    "start_time": "2023-06-17T06:57:41.796Z"
   },
   {
    "duration": 15,
    "start_time": "2023-06-17T06:58:01.215Z"
   },
   {
    "duration": 12,
    "start_time": "2023-06-17T06:58:09.460Z"
   },
   {
    "duration": 16,
    "start_time": "2023-06-17T06:58:15.856Z"
   },
   {
    "duration": 23,
    "start_time": "2023-06-17T06:58:17.610Z"
   },
   {
    "duration": 24,
    "start_time": "2023-06-17T06:58:19.716Z"
   },
   {
    "duration": 5,
    "start_time": "2023-06-17T06:58:53.811Z"
   },
   {
    "duration": 28,
    "start_time": "2023-06-17T06:58:54.810Z"
   },
   {
    "duration": 24,
    "start_time": "2023-06-17T06:58:55.848Z"
   },
   {
    "duration": 31,
    "start_time": "2023-06-17T06:59:04.770Z"
   },
   {
    "duration": 3,
    "start_time": "2023-06-17T07:01:15.270Z"
   },
   {
    "duration": 5,
    "start_time": "2023-06-17T07:01:17.012Z"
   },
   {
    "duration": 410,
    "start_time": "2023-06-17T07:01:17.748Z"
   },
   {
    "duration": 6,
    "start_time": "2023-06-17T07:01:31.227Z"
   },
   {
    "duration": 506,
    "start_time": "2023-06-17T07:02:20.551Z"
   },
   {
    "duration": 6,
    "start_time": "2023-06-17T07:02:24.392Z"
   },
   {
    "duration": 444,
    "start_time": "2023-06-17T07:02:24.577Z"
   },
   {
    "duration": 6,
    "start_time": "2023-06-17T07:02:25.145Z"
   },
   {
    "duration": 5994,
    "start_time": "2023-06-17T07:02:26.259Z"
   },
   {
    "duration": 5,
    "start_time": "2023-06-17T07:02:32.255Z"
   },
   {
    "duration": 41,
    "start_time": "2023-06-17T07:02:32.261Z"
   },
   {
    "duration": 33,
    "start_time": "2023-06-17T07:02:32.304Z"
   },
   {
    "duration": 1830,
    "start_time": "2023-06-17T07:46:26.645Z"
   },
   {
    "duration": 3,
    "start_time": "2023-06-17T07:46:28.477Z"
   },
   {
    "duration": 111,
    "start_time": "2023-06-17T07:46:28.484Z"
   },
   {
    "duration": 15,
    "start_time": "2023-06-17T07:46:28.598Z"
   },
   {
    "duration": 230,
    "start_time": "2023-06-17T07:46:28.614Z"
   },
   {
    "duration": 13,
    "start_time": "2023-06-17T07:46:28.845Z"
   },
   {
    "duration": 204,
    "start_time": "2023-06-17T07:46:28.859Z"
   },
   {
    "duration": 10,
    "start_time": "2023-06-17T07:46:29.065Z"
   },
   {
    "duration": 10390,
    "start_time": "2023-06-17T07:46:29.077Z"
   },
   {
    "duration": 957,
    "start_time": "2023-06-17T07:46:39.470Z"
   },
   {
    "duration": 218,
    "start_time": "2023-06-17T07:46:40.429Z"
   },
   {
    "duration": 4,
    "start_time": "2023-06-17T07:46:40.649Z"
   },
   {
    "duration": 279,
    "start_time": "2023-06-17T07:46:40.654Z"
   },
   {
    "duration": 10,
    "start_time": "2023-06-17T07:46:40.935Z"
   },
   {
    "duration": 21,
    "start_time": "2023-06-17T07:46:40.946Z"
   },
   {
    "duration": 51,
    "start_time": "2023-06-17T07:46:40.968Z"
   },
   {
    "duration": 4,
    "start_time": "2023-06-17T07:46:41.021Z"
   },
   {
    "duration": 2641,
    "start_time": "2023-06-17T07:46:41.026Z"
   },
   {
    "duration": 13,
    "start_time": "2023-06-17T07:46:43.669Z"
   },
   {
    "duration": 24,
    "start_time": "2023-06-17T07:46:43.684Z"
   },
   {
    "duration": 7,
    "start_time": "2023-06-17T07:46:43.710Z"
   },
   {
    "duration": 129,
    "start_time": "2023-06-17T07:46:43.719Z"
   },
   {
    "duration": 11,
    "start_time": "2023-06-17T07:46:43.850Z"
   },
   {
    "duration": 16,
    "start_time": "2023-06-17T07:46:43.863Z"
   },
   {
    "duration": 5,
    "start_time": "2023-06-17T07:46:43.881Z"
   },
   {
    "duration": 13,
    "start_time": "2023-06-17T07:46:43.887Z"
   },
   {
    "duration": 201,
    "start_time": "2023-06-17T07:46:43.901Z"
   },
   {
    "duration": 122,
    "start_time": "2023-06-17T07:46:44.105Z"
   },
   {
    "duration": 3,
    "start_time": "2023-06-17T07:46:44.229Z"
   },
   {
    "duration": 247,
    "start_time": "2023-06-17T07:46:44.234Z"
   },
   {
    "duration": 12,
    "start_time": "2023-06-17T07:46:44.483Z"
   },
   {
    "duration": 13,
    "start_time": "2023-06-17T07:46:44.497Z"
   },
   {
    "duration": 25,
    "start_time": "2023-06-17T07:46:44.512Z"
   },
   {
    "duration": 197,
    "start_time": "2023-06-17T07:46:44.539Z"
   },
   {
    "duration": 150,
    "start_time": "2023-06-17T07:46:44.738Z"
   },
   {
    "duration": 11,
    "start_time": "2023-06-17T07:46:44.890Z"
   },
   {
    "duration": 19,
    "start_time": "2023-06-17T07:46:44.903Z"
   },
   {
    "duration": 5,
    "start_time": "2023-06-17T07:46:44.923Z"
   },
   {
    "duration": 1552,
    "start_time": "2023-06-17T07:46:44.930Z"
   },
   {
    "duration": 12,
    "start_time": "2023-06-17T07:46:46.484Z"
   },
   {
    "duration": 17,
    "start_time": "2023-06-17T07:46:46.498Z"
   },
   {
    "duration": 35,
    "start_time": "2023-06-17T07:46:46.517Z"
   },
   {
    "duration": 4348,
    "start_time": "2023-06-17T07:46:46.554Z"
   },
   {
    "duration": 10,
    "start_time": "2023-06-17T07:46:50.904Z"
   },
   {
    "duration": 10,
    "start_time": "2023-06-17T07:46:50.916Z"
   },
   {
    "duration": 15,
    "start_time": "2023-06-17T07:47:15.056Z"
   },
   {
    "duration": 14,
    "start_time": "2023-06-17T07:47:18.115Z"
   },
   {
    "duration": 116,
    "start_time": "2023-06-17T07:53:48.170Z"
   },
   {
    "duration": 209,
    "start_time": "2023-06-17T07:53:56.121Z"
   },
   {
    "duration": 65,
    "start_time": "2023-06-17T07:54:01.537Z"
   },
   {
    "duration": 119,
    "start_time": "2023-06-17T07:54:07.807Z"
   },
   {
    "duration": 6,
    "start_time": "2023-06-17T07:54:14.469Z"
   },
   {
    "duration": 9,
    "start_time": "2023-06-17T07:54:14.478Z"
   },
   {
    "duration": 56,
    "start_time": "2023-06-17T07:54:14.489Z"
   },
   {
    "duration": 16,
    "start_time": "2023-06-17T07:54:14.547Z"
   },
   {
    "duration": 249,
    "start_time": "2023-06-17T07:54:14.565Z"
   },
   {
    "duration": 9,
    "start_time": "2023-06-17T07:54:14.815Z"
   },
   {
    "duration": 204,
    "start_time": "2023-06-17T07:54:14.825Z"
   },
   {
    "duration": 8,
    "start_time": "2023-06-17T07:54:15.031Z"
   },
   {
    "duration": 10516,
    "start_time": "2023-06-17T07:54:15.040Z"
   },
   {
    "duration": 1003,
    "start_time": "2023-06-17T07:54:25.559Z"
   },
   {
    "duration": 188,
    "start_time": "2023-06-17T07:54:26.564Z"
   },
   {
    "duration": 5,
    "start_time": "2023-06-17T07:54:26.753Z"
   },
   {
    "duration": 66,
    "start_time": "2023-06-17T07:54:26.759Z"
   },
   {
    "duration": 10,
    "start_time": "2023-06-17T07:54:26.827Z"
   },
   {
    "duration": 20,
    "start_time": "2023-06-17T07:54:26.839Z"
   },
   {
    "duration": 53,
    "start_time": "2023-06-17T07:54:26.860Z"
   },
   {
    "duration": 4,
    "start_time": "2023-06-17T07:54:26.915Z"
   },
   {
    "duration": 2688,
    "start_time": "2023-06-17T07:54:26.920Z"
   },
   {
    "duration": 12,
    "start_time": "2023-06-17T07:54:29.610Z"
   },
   {
    "duration": 39,
    "start_time": "2023-06-17T07:54:29.624Z"
   },
   {
    "duration": 18,
    "start_time": "2023-06-17T07:54:29.665Z"
   },
   {
    "duration": 57,
    "start_time": "2023-06-17T07:54:29.685Z"
   },
   {
    "duration": 14,
    "start_time": "2023-06-17T07:54:29.744Z"
   },
   {
    "duration": 17,
    "start_time": "2023-06-17T07:54:29.761Z"
   },
   {
    "duration": 7,
    "start_time": "2023-06-17T07:54:29.780Z"
   },
   {
    "duration": 32,
    "start_time": "2023-06-17T07:54:29.789Z"
   },
   {
    "duration": 238,
    "start_time": "2023-06-17T07:54:29.823Z"
   },
   {
    "duration": 128,
    "start_time": "2023-06-17T07:54:30.066Z"
   },
   {
    "duration": 5,
    "start_time": "2023-06-17T07:54:30.196Z"
   },
   {
    "duration": 33,
    "start_time": "2023-06-17T07:54:30.203Z"
   },
   {
    "duration": 15,
    "start_time": "2023-06-17T07:54:30.238Z"
   },
   {
    "duration": 35,
    "start_time": "2023-06-17T07:54:30.255Z"
   },
   {
    "duration": 20,
    "start_time": "2023-06-17T07:54:30.293Z"
   },
   {
    "duration": 218,
    "start_time": "2023-06-17T07:54:30.315Z"
   },
   {
    "duration": 34,
    "start_time": "2023-06-17T07:54:30.534Z"
   },
   {
    "duration": 18,
    "start_time": "2023-06-17T07:54:30.570Z"
   },
   {
    "duration": 56,
    "start_time": "2023-06-17T07:54:30.590Z"
   },
   {
    "duration": 28,
    "start_time": "2023-06-17T07:54:30.648Z"
   },
   {
    "duration": 1756,
    "start_time": "2023-06-17T07:54:30.678Z"
   },
   {
    "duration": 18,
    "start_time": "2023-06-17T07:54:32.435Z"
   },
   {
    "duration": 35,
    "start_time": "2023-06-17T07:54:32.455Z"
   },
   {
    "duration": 26,
    "start_time": "2023-06-17T07:54:32.492Z"
   },
   {
    "duration": 4728,
    "start_time": "2023-06-17T07:54:32.520Z"
   },
   {
    "duration": 16,
    "start_time": "2023-06-17T07:54:37.252Z"
   },
   {
    "duration": 24,
    "start_time": "2023-06-17T07:54:37.269Z"
   },
   {
    "duration": 23,
    "start_time": "2023-06-17T07:54:37.294Z"
   },
   {
    "duration": 22,
    "start_time": "2023-06-17T07:54:37.320Z"
   },
   {
    "duration": 32,
    "start_time": "2023-06-17T07:54:37.343Z"
   },
   {
    "duration": 25,
    "start_time": "2023-06-17T07:54:37.377Z"
   },
   {
    "duration": 26,
    "start_time": "2023-06-17T07:54:37.403Z"
   },
   {
    "duration": 23,
    "start_time": "2023-06-17T07:54:37.431Z"
   },
   {
    "duration": 27,
    "start_time": "2023-06-17T07:54:37.456Z"
   },
   {
    "duration": 28,
    "start_time": "2023-06-17T07:54:37.485Z"
   },
   {
    "duration": 46,
    "start_time": "2023-06-17T07:54:37.515Z"
   },
   {
    "duration": 4,
    "start_time": "2023-06-17T07:54:37.563Z"
   },
   {
    "duration": 24,
    "start_time": "2023-06-17T07:54:37.570Z"
   },
   {
    "duration": 398,
    "start_time": "2023-06-17T07:54:37.596Z"
   },
   {
    "duration": 5,
    "start_time": "2023-06-17T07:54:37.997Z"
   },
   {
    "duration": 587,
    "start_time": "2023-06-17T07:54:38.004Z"
   },
   {
    "duration": 5,
    "start_time": "2023-06-17T07:54:38.593Z"
   },
   {
    "duration": 376,
    "start_time": "2023-06-17T07:54:38.600Z"
   },
   {
    "duration": 5,
    "start_time": "2023-06-17T07:54:38.977Z"
   },
   {
    "duration": 6421,
    "start_time": "2023-06-17T07:54:38.984Z"
   },
   {
    "duration": 4,
    "start_time": "2023-06-17T07:54:45.407Z"
   },
   {
    "duration": 8,
    "start_time": "2023-06-17T07:54:45.413Z"
   },
   {
    "duration": 17,
    "start_time": "2023-06-17T07:54:45.422Z"
   },
   {
    "duration": 907,
    "start_time": "2023-06-17T07:54:45.440Z"
   },
   {
    "duration": 12,
    "start_time": "2023-06-17T07:54:46.351Z"
   },
   {
    "duration": 52,
    "start_time": "2023-06-17T07:54:46.364Z"
   },
   {
    "duration": 11,
    "start_time": "2023-06-17T07:55:02.265Z"
   },
   {
    "duration": 6,
    "start_time": "2023-06-17T07:55:22.398Z"
   },
   {
    "duration": 35,
    "start_time": "2023-06-17T07:55:27.190Z"
   },
   {
    "duration": 7,
    "start_time": "2023-06-17T07:57:20.236Z"
   },
   {
    "duration": 5,
    "start_time": "2023-06-17T07:59:12.340Z"
   },
   {
    "duration": 11,
    "start_time": "2023-06-17T07:59:12.346Z"
   },
   {
    "duration": 62,
    "start_time": "2023-06-17T07:59:12.359Z"
   },
   {
    "duration": 13,
    "start_time": "2023-06-17T07:59:12.422Z"
   },
   {
    "duration": 222,
    "start_time": "2023-06-17T07:59:12.437Z"
   },
   {
    "duration": 9,
    "start_time": "2023-06-17T07:59:12.660Z"
   },
   {
    "duration": 220,
    "start_time": "2023-06-17T07:59:12.671Z"
   },
   {
    "duration": 11,
    "start_time": "2023-06-17T07:59:12.893Z"
   },
   {
    "duration": 10847,
    "start_time": "2023-06-17T07:59:12.906Z"
   },
   {
    "duration": 1033,
    "start_time": "2023-06-17T07:59:23.755Z"
   },
   {
    "duration": 213,
    "start_time": "2023-06-17T07:59:24.791Z"
   },
   {
    "duration": 4,
    "start_time": "2023-06-17T07:59:25.006Z"
   },
   {
    "duration": 80,
    "start_time": "2023-06-17T07:59:25.011Z"
   },
   {
    "duration": 14,
    "start_time": "2023-06-17T07:59:25.094Z"
   },
   {
    "duration": 33,
    "start_time": "2023-06-17T07:59:25.110Z"
   },
   {
    "duration": 66,
    "start_time": "2023-06-17T07:59:25.145Z"
   },
   {
    "duration": 5,
    "start_time": "2023-06-17T07:59:25.213Z"
   },
   {
    "duration": 2619,
    "start_time": "2023-06-17T07:59:25.220Z"
   },
   {
    "duration": 20,
    "start_time": "2023-06-17T07:59:27.841Z"
   },
   {
    "duration": 22,
    "start_time": "2023-06-17T07:59:27.863Z"
   },
   {
    "duration": 9,
    "start_time": "2023-06-17T07:59:27.887Z"
   },
   {
    "duration": 52,
    "start_time": "2023-06-17T07:59:27.898Z"
   },
   {
    "duration": 10,
    "start_time": "2023-06-17T07:59:27.952Z"
   },
   {
    "duration": 12,
    "start_time": "2023-06-17T07:59:27.964Z"
   },
   {
    "duration": 7,
    "start_time": "2023-06-17T07:59:27.978Z"
   },
   {
    "duration": 12,
    "start_time": "2023-06-17T07:59:27.987Z"
   },
   {
    "duration": 214,
    "start_time": "2023-06-17T07:59:28.001Z"
   },
   {
    "duration": 155,
    "start_time": "2023-06-17T07:59:28.217Z"
   },
   {
    "duration": 5,
    "start_time": "2023-06-17T07:59:28.376Z"
   },
   {
    "duration": 37,
    "start_time": "2023-06-17T07:59:28.383Z"
   },
   {
    "duration": 14,
    "start_time": "2023-06-17T07:59:28.422Z"
   },
   {
    "duration": 21,
    "start_time": "2023-06-17T07:59:28.438Z"
   },
   {
    "duration": 38,
    "start_time": "2023-06-17T07:59:28.461Z"
   },
   {
    "duration": 239,
    "start_time": "2023-06-17T07:59:28.500Z"
   },
   {
    "duration": 39,
    "start_time": "2023-06-17T07:59:28.741Z"
   },
   {
    "duration": 14,
    "start_time": "2023-06-17T07:59:28.782Z"
   },
   {
    "duration": 19,
    "start_time": "2023-06-17T07:59:28.799Z"
   },
   {
    "duration": 9,
    "start_time": "2023-06-17T07:59:28.820Z"
   },
   {
    "duration": 1615,
    "start_time": "2023-06-17T07:59:28.830Z"
   },
   {
    "duration": 17,
    "start_time": "2023-06-17T07:59:30.447Z"
   },
   {
    "duration": 94,
    "start_time": "2023-06-17T07:59:30.466Z"
   },
   {
    "duration": 63,
    "start_time": "2023-06-17T07:59:30.562Z"
   },
   {
    "duration": 4384,
    "start_time": "2023-06-17T07:59:30.627Z"
   },
   {
    "duration": 11,
    "start_time": "2023-06-17T07:59:35.012Z"
   },
   {
    "duration": 16,
    "start_time": "2023-06-17T07:59:35.024Z"
   },
   {
    "duration": 14,
    "start_time": "2023-06-17T07:59:35.051Z"
   },
   {
    "duration": 13,
    "start_time": "2023-06-17T07:59:35.067Z"
   },
   {
    "duration": 18,
    "start_time": "2023-06-17T07:59:35.081Z"
   },
   {
    "duration": 18,
    "start_time": "2023-06-17T07:59:35.101Z"
   },
   {
    "duration": 49,
    "start_time": "2023-06-17T07:59:35.121Z"
   },
   {
    "duration": 5,
    "start_time": "2023-06-17T07:59:35.171Z"
   },
   {
    "duration": 5,
    "start_time": "2023-06-17T07:59:38.909Z"
   },
   {
    "duration": 20,
    "start_time": "2023-06-17T07:59:45.046Z"
   },
   {
    "duration": 33,
    "start_time": "2023-06-17T07:59:53.755Z"
   },
   {
    "duration": 34,
    "start_time": "2023-06-17T07:59:54.264Z"
   },
   {
    "duration": 7,
    "start_time": "2023-06-17T08:01:32.493Z"
   },
   {
    "duration": 25,
    "start_time": "2023-06-17T08:01:32.502Z"
   },
   {
    "duration": 71,
    "start_time": "2023-06-17T08:01:32.529Z"
   },
   {
    "duration": 13,
    "start_time": "2023-06-17T08:01:32.603Z"
   },
   {
    "duration": 232,
    "start_time": "2023-06-17T08:01:32.618Z"
   },
   {
    "duration": 9,
    "start_time": "2023-06-17T08:01:32.851Z"
   },
   {
    "duration": 223,
    "start_time": "2023-06-17T08:01:32.862Z"
   },
   {
    "duration": 13,
    "start_time": "2023-06-17T08:01:33.087Z"
   },
   {
    "duration": 10369,
    "start_time": "2023-06-17T08:01:33.102Z"
   },
   {
    "duration": 976,
    "start_time": "2023-06-17T08:01:43.473Z"
   },
   {
    "duration": 200,
    "start_time": "2023-06-17T08:01:44.452Z"
   },
   {
    "duration": 5,
    "start_time": "2023-06-17T08:01:44.654Z"
   },
   {
    "duration": 63,
    "start_time": "2023-06-17T08:01:44.660Z"
   },
   {
    "duration": 11,
    "start_time": "2023-06-17T08:01:44.725Z"
   },
   {
    "duration": 31,
    "start_time": "2023-06-17T08:01:44.738Z"
   },
   {
    "duration": 63,
    "start_time": "2023-06-17T08:01:44.770Z"
   },
   {
    "duration": 4,
    "start_time": "2023-06-17T08:01:44.836Z"
   },
   {
    "duration": 2528,
    "start_time": "2023-06-17T08:01:44.842Z"
   },
   {
    "duration": 13,
    "start_time": "2023-06-17T08:01:47.372Z"
   },
   {
    "duration": 28,
    "start_time": "2023-06-17T08:01:47.387Z"
   },
   {
    "duration": 7,
    "start_time": "2023-06-17T08:01:47.417Z"
   },
   {
    "duration": 52,
    "start_time": "2023-06-17T08:01:47.425Z"
   },
   {
    "duration": 11,
    "start_time": "2023-06-17T08:01:47.478Z"
   },
   {
    "duration": 12,
    "start_time": "2023-06-17T08:01:47.492Z"
   },
   {
    "duration": 9,
    "start_time": "2023-06-17T08:01:47.505Z"
   },
   {
    "duration": 11,
    "start_time": "2023-06-17T08:01:47.515Z"
   },
   {
    "duration": 178,
    "start_time": "2023-06-17T08:01:47.527Z"
   },
   {
    "duration": 118,
    "start_time": "2023-06-17T08:01:47.707Z"
   },
   {
    "duration": 4,
    "start_time": "2023-06-17T08:01:47.827Z"
   },
   {
    "duration": 32,
    "start_time": "2023-06-17T08:01:47.832Z"
   },
   {
    "duration": 15,
    "start_time": "2023-06-17T08:01:47.866Z"
   },
   {
    "duration": 12,
    "start_time": "2023-06-17T08:01:47.883Z"
   },
   {
    "duration": 20,
    "start_time": "2023-06-17T08:01:47.897Z"
   },
   {
    "duration": 215,
    "start_time": "2023-06-17T08:01:47.919Z"
   },
   {
    "duration": 35,
    "start_time": "2023-06-17T08:01:48.136Z"
   },
   {
    "duration": 12,
    "start_time": "2023-06-17T08:01:48.173Z"
   },
   {
    "duration": 18,
    "start_time": "2023-06-17T08:01:48.188Z"
   },
   {
    "duration": 8,
    "start_time": "2023-06-17T08:01:48.208Z"
   },
   {
    "duration": 1719,
    "start_time": "2023-06-17T08:01:48.217Z"
   },
   {
    "duration": 17,
    "start_time": "2023-06-17T08:01:49.937Z"
   },
   {
    "duration": 16,
    "start_time": "2023-06-17T08:01:49.955Z"
   },
   {
    "duration": 15,
    "start_time": "2023-06-17T08:01:49.973Z"
   },
   {
    "duration": 4296,
    "start_time": "2023-06-17T08:01:49.990Z"
   },
   {
    "duration": 13,
    "start_time": "2023-06-17T08:01:54.288Z"
   },
   {
    "duration": 30,
    "start_time": "2023-06-17T08:01:54.302Z"
   },
   {
    "duration": 37,
    "start_time": "2023-06-17T08:01:54.334Z"
   },
   {
    "duration": 24,
    "start_time": "2023-06-17T08:01:54.374Z"
   },
   {
    "duration": 19,
    "start_time": "2023-06-17T08:01:54.400Z"
   },
   {
    "duration": 22,
    "start_time": "2023-06-17T08:01:54.421Z"
   },
   {
    "duration": 26,
    "start_time": "2023-06-17T08:01:54.445Z"
   },
   {
    "duration": 6,
    "start_time": "2023-06-17T08:01:54.473Z"
   },
   {
    "duration": 26,
    "start_time": "2023-06-17T08:01:54.481Z"
   },
   {
    "duration": 21,
    "start_time": "2023-06-17T08:01:54.508Z"
   },
   {
    "duration": 58,
    "start_time": "2023-06-17T08:01:54.531Z"
   },
   {
    "duration": 7,
    "start_time": "2023-06-17T08:04:14.012Z"
   },
   {
    "duration": 4,
    "start_time": "2023-06-17T08:04:30.573Z"
   },
   {
    "duration": 4,
    "start_time": "2023-06-17T08:04:43.206Z"
   },
   {
    "duration": 6,
    "start_time": "2023-06-17T08:04:47.810Z"
   },
   {
    "duration": 375,
    "start_time": "2023-06-17T08:04:51.535Z"
   },
   {
    "duration": 5,
    "start_time": "2023-06-17T08:05:18.219Z"
   },
   {
    "duration": 5,
    "start_time": "2023-06-17T08:05:39.333Z"
   },
   {
    "duration": 5,
    "start_time": "2023-06-17T08:05:47.009Z"
   },
   {
    "duration": 9,
    "start_time": "2023-06-17T08:05:47.016Z"
   },
   {
    "duration": 54,
    "start_time": "2023-06-17T08:05:47.027Z"
   },
   {
    "duration": 12,
    "start_time": "2023-06-17T08:05:47.082Z"
   },
   {
    "duration": 222,
    "start_time": "2023-06-17T08:05:47.096Z"
   },
   {
    "duration": 10,
    "start_time": "2023-06-17T08:05:47.320Z"
   },
   {
    "duration": 371,
    "start_time": "2023-06-17T08:05:47.332Z"
   },
   {
    "duration": 10,
    "start_time": "2023-06-17T08:05:47.704Z"
   },
   {
    "duration": 10333,
    "start_time": "2023-06-17T08:05:47.715Z"
   },
   {
    "duration": 1018,
    "start_time": "2023-06-17T08:05:58.052Z"
   },
   {
    "duration": 195,
    "start_time": "2023-06-17T08:05:59.073Z"
   },
   {
    "duration": 4,
    "start_time": "2023-06-17T08:05:59.270Z"
   },
   {
    "duration": 72,
    "start_time": "2023-06-17T08:05:59.276Z"
   },
   {
    "duration": 16,
    "start_time": "2023-06-17T08:05:59.350Z"
   },
   {
    "duration": 60,
    "start_time": "2023-06-17T08:05:59.368Z"
   },
   {
    "duration": 73,
    "start_time": "2023-06-17T08:05:59.429Z"
   },
   {
    "duration": 4,
    "start_time": "2023-06-17T08:05:59.505Z"
   },
   {
    "duration": 2608,
    "start_time": "2023-06-17T08:05:59.511Z"
   },
   {
    "duration": 13,
    "start_time": "2023-06-17T08:06:02.121Z"
   },
   {
    "duration": 34,
    "start_time": "2023-06-17T08:06:02.136Z"
   },
   {
    "duration": 24,
    "start_time": "2023-06-17T08:06:02.172Z"
   },
   {
    "duration": 60,
    "start_time": "2023-06-17T08:06:02.198Z"
   },
   {
    "duration": 16,
    "start_time": "2023-06-17T08:06:02.261Z"
   },
   {
    "duration": 29,
    "start_time": "2023-06-17T08:06:02.279Z"
   },
   {
    "duration": 27,
    "start_time": "2023-06-17T08:06:02.310Z"
   },
   {
    "duration": 38,
    "start_time": "2023-06-17T08:06:02.338Z"
   },
   {
    "duration": 196,
    "start_time": "2023-06-17T08:06:02.378Z"
   },
   {
    "duration": 136,
    "start_time": "2023-06-17T08:06:02.576Z"
   },
   {
    "duration": 5,
    "start_time": "2023-06-17T08:06:02.716Z"
   },
   {
    "duration": 51,
    "start_time": "2023-06-17T08:06:02.723Z"
   },
   {
    "duration": 14,
    "start_time": "2023-06-17T08:06:02.777Z"
   },
   {
    "duration": 28,
    "start_time": "2023-06-17T08:06:02.793Z"
   },
   {
    "duration": 37,
    "start_time": "2023-06-17T08:06:02.823Z"
   },
   {
    "duration": 209,
    "start_time": "2023-06-17T08:06:02.863Z"
   },
   {
    "duration": 36,
    "start_time": "2023-06-17T08:06:03.074Z"
   },
   {
    "duration": 12,
    "start_time": "2023-06-17T08:06:03.112Z"
   },
   {
    "duration": 31,
    "start_time": "2023-06-17T08:06:03.125Z"
   },
   {
    "duration": 14,
    "start_time": "2023-06-17T08:06:03.158Z"
   },
   {
    "duration": 1634,
    "start_time": "2023-06-17T08:06:03.173Z"
   },
   {
    "duration": 12,
    "start_time": "2023-06-17T08:06:04.809Z"
   },
   {
    "duration": 29,
    "start_time": "2023-06-17T08:06:04.822Z"
   },
   {
    "duration": 16,
    "start_time": "2023-06-17T08:06:04.853Z"
   },
   {
    "duration": 4394,
    "start_time": "2023-06-17T08:06:04.871Z"
   },
   {
    "duration": 11,
    "start_time": "2023-06-17T08:06:09.268Z"
   },
   {
    "duration": 22,
    "start_time": "2023-06-17T08:06:09.280Z"
   },
   {
    "duration": 15,
    "start_time": "2023-06-17T08:06:09.303Z"
   },
   {
    "duration": 36,
    "start_time": "2023-06-17T08:06:09.321Z"
   },
   {
    "duration": 19,
    "start_time": "2023-06-17T08:06:09.359Z"
   },
   {
    "duration": 18,
    "start_time": "2023-06-17T08:06:09.379Z"
   },
   {
    "duration": 24,
    "start_time": "2023-06-17T08:06:09.398Z"
   },
   {
    "duration": 85,
    "start_time": "2023-06-17T08:06:09.424Z"
   },
   {
    "duration": 49,
    "start_time": "2023-06-17T08:06:09.511Z"
   },
   {
    "duration": 36,
    "start_time": "2023-06-17T08:06:09.563Z"
   },
   {
    "duration": 27,
    "start_time": "2023-06-17T08:06:09.601Z"
   },
   {
    "duration": 13,
    "start_time": "2023-06-17T08:06:09.630Z"
   },
   {
    "duration": 13,
    "start_time": "2023-06-17T08:06:09.646Z"
   },
   {
    "duration": 19,
    "start_time": "2023-06-17T08:06:09.661Z"
   },
   {
    "duration": 409,
    "start_time": "2023-06-17T08:06:09.682Z"
   },
   {
    "duration": 6,
    "start_time": "2023-06-17T08:06:16.732Z"
   },
   {
    "duration": 524,
    "start_time": "2023-06-17T08:06:35.939Z"
   },
   {
    "duration": 6,
    "start_time": "2023-06-17T08:07:10.721Z"
   },
   {
    "duration": 390,
    "start_time": "2023-06-17T08:07:29.264Z"
   },
   {
    "duration": 6,
    "start_time": "2023-06-17T08:07:59.577Z"
   },
   {
    "duration": 322,
    "start_time": "2023-06-17T08:08:07.276Z"
   },
   {
    "duration": 451,
    "start_time": "2023-06-17T08:09:00.901Z"
   },
   {
    "duration": 5,
    "start_time": "2023-06-17T08:09:30.465Z"
   },
   {
    "duration": 33,
    "start_time": "2023-06-17T08:09:30.472Z"
   },
   {
    "duration": 72,
    "start_time": "2023-06-17T08:09:30.507Z"
   },
   {
    "duration": 14,
    "start_time": "2023-06-17T08:09:30.581Z"
   },
   {
    "duration": 243,
    "start_time": "2023-06-17T08:09:30.597Z"
   },
   {
    "duration": 16,
    "start_time": "2023-06-17T08:09:30.843Z"
   },
   {
    "duration": 236,
    "start_time": "2023-06-17T08:09:30.860Z"
   },
   {
    "duration": 9,
    "start_time": "2023-06-17T08:09:31.098Z"
   },
   {
    "duration": 10602,
    "start_time": "2023-06-17T08:09:31.109Z"
   },
   {
    "duration": 99,
    "start_time": "2023-06-17T08:09:41.713Z"
   },
   {
    "duration": 187,
    "start_time": "2023-06-17T08:09:41.816Z"
   },
   {
    "duration": 4,
    "start_time": "2023-06-17T08:09:42.005Z"
   },
   {
    "duration": 56,
    "start_time": "2023-06-17T08:09:42.010Z"
   },
   {
    "duration": 12,
    "start_time": "2023-06-17T08:09:42.068Z"
   },
   {
    "duration": 26,
    "start_time": "2023-06-17T08:09:42.082Z"
   },
   {
    "duration": 62,
    "start_time": "2023-06-17T08:09:42.110Z"
   },
   {
    "duration": 4,
    "start_time": "2023-06-17T08:09:42.174Z"
   },
   {
    "duration": 3608,
    "start_time": "2023-06-17T08:09:42.179Z"
   },
   {
    "duration": 14,
    "start_time": "2023-06-17T08:09:45.789Z"
   },
   {
    "duration": 28,
    "start_time": "2023-06-17T08:09:45.805Z"
   },
   {
    "duration": 18,
    "start_time": "2023-06-17T08:09:45.835Z"
   },
   {
    "duration": 52,
    "start_time": "2023-06-17T08:09:45.855Z"
   },
   {
    "duration": 9,
    "start_time": "2023-06-17T08:09:45.908Z"
   },
   {
    "duration": 13,
    "start_time": "2023-06-17T08:09:45.919Z"
   },
   {
    "duration": 14,
    "start_time": "2023-06-17T08:09:45.933Z"
   },
   {
    "duration": 32,
    "start_time": "2023-06-17T08:09:45.949Z"
   },
   {
    "duration": 188,
    "start_time": "2023-06-17T08:09:45.983Z"
   },
   {
    "duration": 124,
    "start_time": "2023-06-17T08:09:46.173Z"
   },
   {
    "duration": 5,
    "start_time": "2023-06-17T08:09:46.302Z"
   },
   {
    "duration": 30,
    "start_time": "2023-06-17T08:09:46.308Z"
   },
   {
    "duration": 15,
    "start_time": "2023-06-17T08:09:46.339Z"
   },
   {
    "duration": 12,
    "start_time": "2023-06-17T08:09:46.355Z"
   },
   {
    "duration": 18,
    "start_time": "2023-06-17T08:09:46.368Z"
   },
   {
    "duration": 208,
    "start_time": "2023-06-17T08:09:46.387Z"
   },
   {
    "duration": 34,
    "start_time": "2023-06-17T08:09:46.597Z"
   },
   {
    "duration": 10,
    "start_time": "2023-06-17T08:09:46.633Z"
   },
   {
    "duration": 17,
    "start_time": "2023-06-17T08:09:46.645Z"
   },
   {
    "duration": 6,
    "start_time": "2023-06-17T08:09:46.664Z"
   },
   {
    "duration": 1633,
    "start_time": "2023-06-17T08:09:46.671Z"
   },
   {
    "duration": 12,
    "start_time": "2023-06-17T08:09:48.306Z"
   },
   {
    "duration": 17,
    "start_time": "2023-06-17T08:09:48.322Z"
   },
   {
    "duration": 20,
    "start_time": "2023-06-17T08:09:48.353Z"
   },
   {
    "duration": 4453,
    "start_time": "2023-06-17T08:09:48.375Z"
   },
   {
    "duration": 21,
    "start_time": "2023-06-17T08:09:52.830Z"
   },
   {
    "duration": 12,
    "start_time": "2023-06-17T08:09:52.854Z"
   },
   {
    "duration": 15,
    "start_time": "2023-06-17T08:09:52.868Z"
   },
   {
    "duration": 14,
    "start_time": "2023-06-17T08:09:52.884Z"
   },
   {
    "duration": 50,
    "start_time": "2023-06-17T08:09:52.900Z"
   },
   {
    "duration": 28,
    "start_time": "2023-06-17T08:09:52.952Z"
   },
   {
    "duration": 23,
    "start_time": "2023-06-17T08:09:52.982Z"
   },
   {
    "duration": 5,
    "start_time": "2023-06-17T08:09:53.007Z"
   },
   {
    "duration": 28,
    "start_time": "2023-06-17T08:09:53.014Z"
   },
   {
    "duration": 23,
    "start_time": "2023-06-17T08:09:53.051Z"
   },
   {
    "duration": 28,
    "start_time": "2023-06-17T08:09:53.076Z"
   },
   {
    "duration": 7,
    "start_time": "2023-06-17T08:09:53.105Z"
   },
   {
    "duration": 9,
    "start_time": "2023-06-17T08:09:53.114Z"
   },
   {
    "duration": 27,
    "start_time": "2023-06-17T08:09:53.125Z"
   },
   {
    "duration": 454,
    "start_time": "2023-06-17T08:09:53.154Z"
   },
   {
    "duration": 6,
    "start_time": "2023-06-17T08:09:53.611Z"
   },
   {
    "duration": 14,
    "start_time": "2023-06-17T08:10:23.703Z"
   },
   {
    "duration": 401,
    "start_time": "2023-06-17T08:10:38.034Z"
   },
   {
    "duration": 5,
    "start_time": "2023-06-17T08:10:44.406Z"
   },
   {
    "duration": 464,
    "start_time": "2023-06-17T08:10:52.409Z"
   },
   {
    "duration": 6393,
    "start_time": "2023-06-17T08:12:40.487Z"
   },
   {
    "duration": 6060,
    "start_time": "2023-06-17T08:12:52.571Z"
   },
   {
    "duration": 6,
    "start_time": "2023-06-17T08:13:06.435Z"
   },
   {
    "duration": 10,
    "start_time": "2023-06-17T08:13:23.525Z"
   },
   {
    "duration": 6,
    "start_time": "2023-06-17T08:13:38.347Z"
   },
   {
    "duration": 5,
    "start_time": "2023-06-17T08:13:48.306Z"
   },
   {
    "duration": 5,
    "start_time": "2023-06-17T08:18:55.315Z"
   },
   {
    "duration": 10,
    "start_time": "2023-06-17T08:18:55.322Z"
   },
   {
    "duration": 111,
    "start_time": "2023-06-17T08:18:55.335Z"
   },
   {
    "duration": 13,
    "start_time": "2023-06-17T08:18:55.447Z"
   },
   {
    "duration": 723,
    "start_time": "2023-06-17T08:18:55.462Z"
   },
   {
    "duration": 10,
    "start_time": "2023-06-17T08:18:56.186Z"
   },
   {
    "duration": 224,
    "start_time": "2023-06-17T08:18:56.198Z"
   },
   {
    "duration": 11,
    "start_time": "2023-06-17T08:18:56.424Z"
   },
   {
    "duration": 11076,
    "start_time": "2023-06-17T08:18:56.451Z"
   },
   {
    "duration": 103,
    "start_time": "2023-06-17T08:19:07.530Z"
   },
   {
    "duration": 203,
    "start_time": "2023-06-17T08:19:07.635Z"
   },
   {
    "duration": 15,
    "start_time": "2023-06-17T08:19:07.840Z"
   },
   {
    "duration": 64,
    "start_time": "2023-06-17T08:19:07.856Z"
   },
   {
    "duration": 11,
    "start_time": "2023-06-17T08:19:07.922Z"
   },
   {
    "duration": 44,
    "start_time": "2023-06-17T08:19:07.935Z"
   },
   {
    "duration": 70,
    "start_time": "2023-06-17T08:19:07.980Z"
   },
   {
    "duration": 8,
    "start_time": "2023-06-17T08:19:08.057Z"
   },
   {
    "duration": 3671,
    "start_time": "2023-06-17T08:19:08.066Z"
   },
   {
    "duration": 22,
    "start_time": "2023-06-17T08:19:11.739Z"
   },
   {
    "duration": 19,
    "start_time": "2023-06-17T08:19:11.763Z"
   },
   {
    "duration": 12,
    "start_time": "2023-06-17T08:19:11.784Z"
   },
   {
    "duration": 54,
    "start_time": "2023-06-17T08:19:11.798Z"
   },
   {
    "duration": 11,
    "start_time": "2023-06-17T08:19:11.854Z"
   },
   {
    "duration": 12,
    "start_time": "2023-06-17T08:19:11.867Z"
   },
   {
    "duration": 7,
    "start_time": "2023-06-17T08:19:11.880Z"
   },
   {
    "duration": 13,
    "start_time": "2023-06-17T08:19:11.888Z"
   },
   {
    "duration": 212,
    "start_time": "2023-06-17T08:19:11.903Z"
   },
   {
    "duration": 130,
    "start_time": "2023-06-17T08:19:12.117Z"
   },
   {
    "duration": 6,
    "start_time": "2023-06-17T08:19:12.251Z"
   },
   {
    "duration": 41,
    "start_time": "2023-06-17T08:19:12.258Z"
   },
   {
    "duration": 12,
    "start_time": "2023-06-17T08:19:12.301Z"
   },
   {
    "duration": 12,
    "start_time": "2023-06-17T08:19:12.315Z"
   },
   {
    "duration": 16,
    "start_time": "2023-06-17T08:19:12.329Z"
   },
   {
    "duration": 405,
    "start_time": "2023-06-17T08:19:12.347Z"
   },
   {
    "duration": 37,
    "start_time": "2023-06-17T08:19:12.754Z"
   },
   {
    "duration": 11,
    "start_time": "2023-06-17T08:19:12.793Z"
   },
   {
    "duration": 20,
    "start_time": "2023-06-17T08:19:12.805Z"
   },
   {
    "duration": 7,
    "start_time": "2023-06-17T08:19:12.827Z"
   },
   {
    "duration": 1522,
    "start_time": "2023-06-17T08:19:12.836Z"
   },
   {
    "duration": 16,
    "start_time": "2023-06-17T08:19:14.360Z"
   },
   {
    "duration": 15,
    "start_time": "2023-06-17T08:19:14.378Z"
   },
   {
    "duration": 19,
    "start_time": "2023-06-17T08:19:14.394Z"
   },
   {
    "duration": 4569,
    "start_time": "2023-06-17T08:19:14.415Z"
   },
   {
    "duration": 10,
    "start_time": "2023-06-17T08:19:18.986Z"
   },
   {
    "duration": 19,
    "start_time": "2023-06-17T08:19:18.997Z"
   },
   {
    "duration": 13,
    "start_time": "2023-06-17T08:19:19.017Z"
   },
   {
    "duration": 26,
    "start_time": "2023-06-17T08:19:19.032Z"
   },
   {
    "duration": 16,
    "start_time": "2023-06-17T08:19:23.693Z"
   },
   {
    "duration": 19,
    "start_time": "2023-06-17T08:19:58.891Z"
   },
   {
    "duration": 5,
    "start_time": "2023-06-17T08:22:04.553Z"
   },
   {
    "duration": 14,
    "start_time": "2023-06-17T08:22:04.560Z"
   },
   {
    "duration": 68,
    "start_time": "2023-06-17T08:22:04.576Z"
   },
   {
    "duration": 12,
    "start_time": "2023-06-17T08:22:04.646Z"
   },
   {
    "duration": 230,
    "start_time": "2023-06-17T08:22:04.660Z"
   },
   {
    "duration": 9,
    "start_time": "2023-06-17T08:22:04.892Z"
   },
   {
    "duration": 372,
    "start_time": "2023-06-17T08:22:04.903Z"
   },
   {
    "duration": 9,
    "start_time": "2023-06-17T08:22:05.277Z"
   },
   {
    "duration": 10113,
    "start_time": "2023-06-17T08:22:05.288Z"
   },
   {
    "duration": 1029,
    "start_time": "2023-06-17T08:22:15.403Z"
   },
   {
    "duration": 191,
    "start_time": "2023-06-17T08:22:16.433Z"
   },
   {
    "duration": 4,
    "start_time": "2023-06-17T08:22:16.626Z"
   },
   {
    "duration": 53,
    "start_time": "2023-06-17T08:22:16.632Z"
   },
   {
    "duration": 12,
    "start_time": "2023-06-17T08:22:16.687Z"
   },
   {
    "duration": 29,
    "start_time": "2023-06-17T08:22:16.701Z"
   },
   {
    "duration": 54,
    "start_time": "2023-06-17T08:22:16.731Z"
   },
   {
    "duration": 4,
    "start_time": "2023-06-17T08:22:16.787Z"
   },
   {
    "duration": 2694,
    "start_time": "2023-06-17T08:22:16.792Z"
   },
   {
    "duration": 14,
    "start_time": "2023-06-17T08:22:19.487Z"
   },
   {
    "duration": 19,
    "start_time": "2023-06-17T08:22:19.502Z"
   },
   {
    "duration": 5,
    "start_time": "2023-06-17T08:22:19.523Z"
   },
   {
    "duration": 71,
    "start_time": "2023-06-17T08:22:19.530Z"
   },
   {
    "duration": 11,
    "start_time": "2023-06-17T08:22:19.603Z"
   },
   {
    "duration": 18,
    "start_time": "2023-06-17T08:22:19.617Z"
   },
   {
    "duration": 18,
    "start_time": "2023-06-17T08:22:19.636Z"
   },
   {
    "duration": 24,
    "start_time": "2023-06-17T08:22:19.656Z"
   },
   {
    "duration": 197,
    "start_time": "2023-06-17T08:22:19.682Z"
   },
   {
    "duration": 113,
    "start_time": "2023-06-17T08:22:19.881Z"
   },
   {
    "duration": 4,
    "start_time": "2023-06-17T08:22:19.996Z"
   },
   {
    "duration": 34,
    "start_time": "2023-06-17T08:22:20.001Z"
   },
   {
    "duration": 11,
    "start_time": "2023-06-17T08:22:20.037Z"
   },
   {
    "duration": 11,
    "start_time": "2023-06-17T08:22:20.052Z"
   },
   {
    "duration": 21,
    "start_time": "2023-06-17T08:22:20.064Z"
   },
   {
    "duration": 206,
    "start_time": "2023-06-17T08:22:20.086Z"
   },
   {
    "duration": 34,
    "start_time": "2023-06-17T08:22:20.293Z"
   },
   {
    "duration": 11,
    "start_time": "2023-06-17T08:22:20.329Z"
   },
   {
    "duration": 23,
    "start_time": "2023-06-17T08:22:20.342Z"
   },
   {
    "duration": 8,
    "start_time": "2023-06-17T08:22:20.367Z"
   },
   {
    "duration": 1650,
    "start_time": "2023-06-17T08:22:20.377Z"
   },
   {
    "duration": 12,
    "start_time": "2023-06-17T08:22:22.029Z"
   },
   {
    "duration": 24,
    "start_time": "2023-06-17T08:22:22.051Z"
   },
   {
    "duration": 17,
    "start_time": "2023-06-17T08:22:22.077Z"
   },
   {
    "duration": 4363,
    "start_time": "2023-06-17T08:22:22.095Z"
   },
   {
    "duration": 11,
    "start_time": "2023-06-17T08:22:26.459Z"
   },
   {
    "duration": 38,
    "start_time": "2023-06-17T08:22:26.472Z"
   },
   {
    "duration": 16,
    "start_time": "2023-06-17T08:22:55.190Z"
   },
   {
    "duration": 14,
    "start_time": "2023-06-17T08:23:05.452Z"
   },
   {
    "duration": 15,
    "start_time": "2023-06-17T08:23:12.532Z"
   },
   {
    "duration": 26,
    "start_time": "2023-06-17T08:23:18.806Z"
   },
   {
    "duration": 25,
    "start_time": "2023-06-17T08:23:54.663Z"
   },
   {
    "duration": 24,
    "start_time": "2023-06-17T08:23:59.923Z"
   },
   {
    "duration": 22,
    "start_time": "2023-06-17T08:24:12.859Z"
   },
   {
    "duration": 4,
    "start_time": "2023-06-17T08:25:23.518Z"
   },
   {
    "duration": 22,
    "start_time": "2023-06-17T08:25:26.943Z"
   },
   {
    "duration": 29,
    "start_time": "2023-06-17T08:25:36.454Z"
   },
   {
    "duration": 30,
    "start_time": "2023-06-17T08:25:38.003Z"
   },
   {
    "duration": 9,
    "start_time": "2023-06-17T08:25:48.841Z"
   },
   {
    "duration": 3,
    "start_time": "2023-06-17T08:25:53.571Z"
   },
   {
    "duration": 5,
    "start_time": "2023-06-17T08:25:54.611Z"
   },
   {
    "duration": 334,
    "start_time": "2023-06-17T08:25:55.902Z"
   },
   {
    "duration": 5,
    "start_time": "2023-06-17T08:26:16.723Z"
   },
   {
    "duration": 12,
    "start_time": "2023-06-17T08:26:17.927Z"
   },
   {
    "duration": 509,
    "start_time": "2023-06-17T08:26:21.002Z"
   },
   {
    "duration": 8,
    "start_time": "2023-06-17T08:26:29.065Z"
   },
   {
    "duration": 354,
    "start_time": "2023-06-17T08:26:30.752Z"
   },
   {
    "duration": 6108,
    "start_time": "2023-06-17T08:26:37.416Z"
   },
   {
    "duration": 6,
    "start_time": "2023-06-17T08:26:47.809Z"
   },
   {
    "duration": 4,
    "start_time": "2023-06-17T08:26:48.869Z"
   },
   {
    "duration": 13,
    "start_time": "2023-06-17T08:27:01.268Z"
   },
   {
    "duration": 944,
    "start_time": "2023-06-17T08:27:03.420Z"
   },
   {
    "duration": 14,
    "start_time": "2023-06-17T08:28:47.865Z"
   },
   {
    "duration": 893,
    "start_time": "2023-06-17T08:28:54.168Z"
   },
   {
    "duration": 921,
    "start_time": "2023-06-17T08:29:23.547Z"
   },
   {
    "duration": 10,
    "start_time": "2023-06-17T08:30:19.211Z"
   },
   {
    "duration": 24,
    "start_time": "2023-06-17T08:30:48.442Z"
   },
   {
    "duration": 16,
    "start_time": "2023-06-17T08:31:38.964Z"
   },
   {
    "duration": 12,
    "start_time": "2023-06-17T08:33:13.911Z"
   },
   {
    "duration": 6,
    "start_time": "2023-06-17T08:33:23.791Z"
   },
   {
    "duration": 20,
    "start_time": "2023-06-17T08:33:32.263Z"
   },
   {
    "duration": 26,
    "start_time": "2023-06-17T08:34:50.532Z"
   },
   {
    "duration": 6,
    "start_time": "2023-06-17T08:34:59.613Z"
   },
   {
    "duration": 19,
    "start_time": "2023-06-17T08:35:00.150Z"
   },
   {
    "duration": 743,
    "start_time": "2023-06-17T08:35:03.316Z"
   },
   {
    "duration": 506210,
    "start_time": "2023-06-17T08:35:08.760Z"
   },
   {
    "duration": 557490,
    "start_time": "2023-06-17T08:47:43.019Z"
   },
   {
    "duration": 1629,
    "start_time": "2023-06-17T09:09:41.397Z"
   },
   {
    "duration": 3,
    "start_time": "2023-06-17T09:09:43.028Z"
   },
   {
    "duration": 88,
    "start_time": "2023-06-17T09:09:43.033Z"
   },
   {
    "duration": 15,
    "start_time": "2023-06-17T09:09:43.123Z"
   },
   {
    "duration": 246,
    "start_time": "2023-06-17T09:09:43.141Z"
   },
   {
    "duration": 9,
    "start_time": "2023-06-17T09:09:43.389Z"
   },
   {
    "duration": 277,
    "start_time": "2023-06-17T09:09:43.400Z"
   },
   {
    "duration": 12,
    "start_time": "2023-06-17T09:09:43.680Z"
   },
   {
    "duration": 11452,
    "start_time": "2023-06-17T09:09:43.693Z"
   },
   {
    "duration": 1039,
    "start_time": "2023-06-17T09:09:55.154Z"
   },
   {
    "duration": 217,
    "start_time": "2023-06-17T09:09:56.194Z"
   },
   {
    "duration": 5,
    "start_time": "2023-06-17T09:09:56.413Z"
   },
   {
    "duration": 75,
    "start_time": "2023-06-17T09:09:56.419Z"
   },
   {
    "duration": 13,
    "start_time": "2023-06-17T09:09:56.498Z"
   },
   {
    "duration": 30,
    "start_time": "2023-06-17T09:09:56.513Z"
   },
   {
    "duration": 60,
    "start_time": "2023-06-17T09:09:56.544Z"
   },
   {
    "duration": 5,
    "start_time": "2023-06-17T09:09:56.605Z"
   },
   {
    "duration": 3021,
    "start_time": "2023-06-17T09:09:56.612Z"
   },
   {
    "duration": 26,
    "start_time": "2023-06-17T09:09:59.635Z"
   },
   {
    "duration": 44,
    "start_time": "2023-06-17T09:09:59.666Z"
   },
   {
    "duration": 15,
    "start_time": "2023-06-17T09:09:59.711Z"
   },
   {
    "duration": 80,
    "start_time": "2023-06-17T09:09:59.727Z"
   },
   {
    "duration": 10,
    "start_time": "2023-06-17T09:09:59.809Z"
   },
   {
    "duration": 12,
    "start_time": "2023-06-17T09:09:59.821Z"
   },
   {
    "duration": 8,
    "start_time": "2023-06-17T09:09:59.834Z"
   },
   {
    "duration": 16,
    "start_time": "2023-06-17T09:09:59.843Z"
   },
   {
    "duration": 319,
    "start_time": "2023-06-17T09:09:59.860Z"
   },
   {
    "duration": 236,
    "start_time": "2023-06-17T09:10:00.182Z"
   },
   {
    "duration": 5,
    "start_time": "2023-06-17T09:10:00.419Z"
   },
   {
    "duration": 88,
    "start_time": "2023-06-17T09:10:00.426Z"
   },
   {
    "duration": 43,
    "start_time": "2023-06-17T09:10:00.516Z"
   },
   {
    "duration": 60,
    "start_time": "2023-06-17T09:10:00.561Z"
   },
   {
    "duration": 287,
    "start_time": "2023-06-17T09:10:00.623Z"
   },
   {
    "duration": 285,
    "start_time": "2023-06-17T09:10:00.912Z"
   },
   {
    "duration": 47,
    "start_time": "2023-06-17T09:10:01.201Z"
   },
   {
    "duration": 58,
    "start_time": "2023-06-17T09:10:01.250Z"
   },
   {
    "duration": 109,
    "start_time": "2023-06-17T09:10:01.310Z"
   },
   {
    "duration": 54,
    "start_time": "2023-06-17T09:10:01.421Z"
   },
   {
    "duration": 1911,
    "start_time": "2023-06-17T09:10:01.477Z"
   },
   {
    "duration": 14,
    "start_time": "2023-06-17T09:10:03.390Z"
   },
   {
    "duration": 15,
    "start_time": "2023-06-17T09:10:03.410Z"
   },
   {
    "duration": 50,
    "start_time": "2023-06-17T09:10:03.427Z"
   },
   {
    "duration": 4658,
    "start_time": "2023-06-17T09:10:03.480Z"
   },
   {
    "duration": 23,
    "start_time": "2023-06-17T09:10:08.140Z"
   },
   {
    "duration": 30,
    "start_time": "2023-06-17T09:10:08.165Z"
   },
   {
    "duration": 14,
    "start_time": "2023-06-17T09:10:08.196Z"
   },
   {
    "duration": 15,
    "start_time": "2023-06-17T09:10:08.212Z"
   },
   {
    "duration": 40,
    "start_time": "2023-06-17T09:10:08.229Z"
   },
   {
    "duration": 50,
    "start_time": "2023-06-17T09:10:08.271Z"
   },
   {
    "duration": 24,
    "start_time": "2023-06-17T09:10:08.323Z"
   },
   {
    "duration": 22,
    "start_time": "2023-06-17T09:10:08.349Z"
   },
   {
    "duration": 55,
    "start_time": "2023-06-17T09:10:08.379Z"
   },
   {
    "duration": 52,
    "start_time": "2023-06-17T09:10:08.437Z"
   },
   {
    "duration": 19,
    "start_time": "2023-06-17T09:10:08.493Z"
   },
   {
    "duration": 18,
    "start_time": "2023-06-17T09:10:08.514Z"
   },
   {
    "duration": 46,
    "start_time": "2023-06-17T09:10:08.534Z"
   },
   {
    "duration": 408,
    "start_time": "2023-06-17T09:10:08.582Z"
   },
   {
    "duration": 6,
    "start_time": "2023-06-17T09:10:08.993Z"
   },
   {
    "duration": 21,
    "start_time": "2023-06-17T09:10:09.001Z"
   },
   {
    "duration": 510,
    "start_time": "2023-06-17T09:10:09.024Z"
   },
   {
    "duration": 16,
    "start_time": "2023-06-17T09:10:09.536Z"
   },
   {
    "duration": 351,
    "start_time": "2023-06-17T09:10:09.553Z"
   },
   {
    "duration": 6366,
    "start_time": "2023-06-17T09:10:09.906Z"
   },
   {
    "duration": 8,
    "start_time": "2023-06-17T09:10:16.274Z"
   },
   {
    "duration": 13,
    "start_time": "2023-06-17T09:10:16.284Z"
   },
   {
    "duration": 28,
    "start_time": "2023-06-17T09:10:16.299Z"
   },
   {
    "duration": 972,
    "start_time": "2023-06-17T09:10:16.329Z"
   },
   {
    "duration": 11,
    "start_time": "2023-06-17T09:10:17.302Z"
   },
   {
    "duration": 53,
    "start_time": "2023-06-17T09:10:17.315Z"
   },
   {
    "duration": 18,
    "start_time": "2023-06-17T09:10:17.370Z"
   },
   {
    "duration": 44,
    "start_time": "2023-06-17T09:10:17.390Z"
   },
   {
    "duration": 5,
    "start_time": "2023-06-17T09:10:17.436Z"
   },
   {
    "duration": 53,
    "start_time": "2023-06-17T09:10:17.443Z"
   },
   {
    "duration": 996,
    "start_time": "2023-06-17T09:10:17.498Z"
   },
   {
    "duration": 679395,
    "start_time": "2023-06-17T09:10:18.496Z"
   },
   {
    "duration": 42928,
    "start_time": "2023-06-17T09:21:37.897Z"
   },
   {
    "duration": 7,
    "start_time": "2023-06-17T09:22:20.827Z"
   },
   {
    "duration": 307,
    "start_time": "2023-06-17T09:22:20.835Z"
   },
   {
    "duration": 14656,
    "start_time": "2023-06-17T10:37:03.082Z"
   },
   {
    "duration": 3,
    "start_time": "2023-06-17T10:37:17.740Z"
   },
   {
    "duration": 260,
    "start_time": "2023-06-17T10:37:17.747Z"
   },
   {
    "duration": 18,
    "start_time": "2023-06-17T10:37:18.009Z"
   },
   {
    "duration": 322,
    "start_time": "2023-06-17T10:37:18.028Z"
   },
   {
    "duration": 11,
    "start_time": "2023-06-17T10:37:18.356Z"
   },
   {
    "duration": 280,
    "start_time": "2023-06-17T10:37:18.370Z"
   },
   {
    "duration": 23,
    "start_time": "2023-06-17T10:37:18.651Z"
   },
   {
    "duration": 12909,
    "start_time": "2023-06-17T10:37:18.676Z"
   },
   {
    "duration": 1211,
    "start_time": "2023-06-17T10:37:31.593Z"
   },
   {
    "duration": 233,
    "start_time": "2023-06-17T10:37:32.806Z"
   },
   {
    "duration": 4,
    "start_time": "2023-06-17T10:37:33.041Z"
   },
   {
    "duration": 295,
    "start_time": "2023-06-17T10:37:33.052Z"
   },
   {
    "duration": 21,
    "start_time": "2023-06-17T10:37:33.348Z"
   },
   {
    "duration": 53,
    "start_time": "2023-06-17T10:37:33.372Z"
   },
   {
    "duration": 74,
    "start_time": "2023-06-17T10:37:33.426Z"
   },
   {
    "duration": 4,
    "start_time": "2023-06-17T10:37:33.502Z"
   },
   {
    "duration": 2928,
    "start_time": "2023-06-17T10:37:33.507Z"
   },
   {
    "duration": 14,
    "start_time": "2023-06-17T10:37:36.437Z"
   },
   {
    "duration": 65,
    "start_time": "2023-06-17T10:37:36.453Z"
   },
   {
    "duration": 10,
    "start_time": "2023-06-17T10:37:36.520Z"
   },
   {
    "duration": 143,
    "start_time": "2023-06-17T10:37:36.532Z"
   },
   {
    "duration": 18,
    "start_time": "2023-06-17T10:37:36.676Z"
   },
   {
    "duration": 53,
    "start_time": "2023-06-17T10:37:36.697Z"
   },
   {
    "duration": 55,
    "start_time": "2023-06-17T10:37:36.752Z"
   },
   {
    "duration": 26,
    "start_time": "2023-06-17T10:37:36.808Z"
   },
   {
    "duration": 271,
    "start_time": "2023-06-17T10:37:36.836Z"
   },
   {
    "duration": 136,
    "start_time": "2023-06-17T10:37:37.111Z"
   },
   {
    "duration": 7,
    "start_time": "2023-06-17T10:37:37.258Z"
   },
   {
    "duration": 215,
    "start_time": "2023-06-17T10:37:37.267Z"
   },
   {
    "duration": 15,
    "start_time": "2023-06-17T10:37:37.484Z"
   },
   {
    "duration": 8,
    "start_time": "2023-06-17T10:37:37.501Z"
   },
   {
    "duration": 33,
    "start_time": "2023-06-17T10:37:37.510Z"
   },
   {
    "duration": 242,
    "start_time": "2023-06-17T10:37:37.545Z"
   },
   {
    "duration": 147,
    "start_time": "2023-06-17T10:37:37.788Z"
   },
   {
    "duration": 10,
    "start_time": "2023-06-17T10:37:37.937Z"
   },
   {
    "duration": 21,
    "start_time": "2023-06-17T10:37:37.949Z"
   },
   {
    "duration": 21,
    "start_time": "2023-06-17T10:37:37.975Z"
   },
   {
    "duration": 1770,
    "start_time": "2023-06-17T10:37:39.012Z"
   },
   {
    "duration": 13,
    "start_time": "2023-06-17T10:37:40.784Z"
   },
   {
    "duration": 16,
    "start_time": "2023-06-17T10:37:40.799Z"
   },
   {
    "duration": 18,
    "start_time": "2023-06-17T10:37:45.312Z"
   },
   {
    "duration": 4884,
    "start_time": "2023-06-17T10:37:46.752Z"
   },
   {
    "duration": 25,
    "start_time": "2023-06-17T10:37:51.638Z"
   },
   {
    "duration": 43,
    "start_time": "2023-06-17T10:37:51.667Z"
   },
   {
    "duration": 21,
    "start_time": "2023-06-17T10:37:53.308Z"
   },
   {
    "duration": 14,
    "start_time": "2023-06-17T10:37:55.181Z"
   },
   {
    "duration": 19,
    "start_time": "2023-06-17T10:37:57.416Z"
   },
   {
    "duration": 21,
    "start_time": "2023-06-17T10:37:58.523Z"
   },
   {
    "duration": 2710,
    "start_time": "2023-06-17T10:38:22.035Z"
   },
   {
    "duration": 0,
    "start_time": "2023-06-17T10:38:24.748Z"
   },
   {
    "duration": 24,
    "start_time": "2023-06-17T10:38:25.716Z"
   },
   {
    "duration": 30,
    "start_time": "2023-06-17T10:38:44.303Z"
   },
   {
    "duration": 2349,
    "start_time": "2023-06-17T10:39:03.728Z"
   },
   {
    "duration": 4823,
    "start_time": "2023-06-17T10:39:26.616Z"
   },
   {
    "duration": 3,
    "start_time": "2023-06-17T10:39:31.441Z"
   },
   {
    "duration": 184,
    "start_time": "2023-06-17T10:39:31.446Z"
   },
   {
    "duration": 16,
    "start_time": "2023-06-17T10:39:31.633Z"
   },
   {
    "duration": 270,
    "start_time": "2023-06-17T10:39:32.179Z"
   },
   {
    "duration": 17,
    "start_time": "2023-06-17T10:39:32.550Z"
   },
   {
    "duration": 220,
    "start_time": "2023-06-17T10:39:33.416Z"
   },
   {
    "duration": 8,
    "start_time": "2023-06-17T10:39:33.736Z"
   },
   {
    "duration": 11662,
    "start_time": "2023-06-17T10:39:34.050Z"
   },
   {
    "duration": 1088,
    "start_time": "2023-06-17T10:39:45.714Z"
   },
   {
    "duration": 218,
    "start_time": "2023-06-17T10:39:46.804Z"
   },
   {
    "duration": 4,
    "start_time": "2023-06-17T10:39:47.024Z"
   },
   {
    "duration": 81,
    "start_time": "2023-06-17T10:39:47.029Z"
   },
   {
    "duration": 12,
    "start_time": "2023-06-17T10:39:47.112Z"
   },
   {
    "duration": 47,
    "start_time": "2023-06-17T10:39:47.125Z"
   },
   {
    "duration": 61,
    "start_time": "2023-06-17T10:39:47.180Z"
   },
   {
    "duration": 4,
    "start_time": "2023-06-17T10:39:47.243Z"
   },
   {
    "duration": 3169,
    "start_time": "2023-06-17T10:39:47.250Z"
   },
   {
    "duration": 15,
    "start_time": "2023-06-17T10:39:50.420Z"
   },
   {
    "duration": 49,
    "start_time": "2023-06-17T10:39:50.437Z"
   },
   {
    "duration": 11,
    "start_time": "2023-06-17T10:39:50.488Z"
   },
   {
    "duration": 83,
    "start_time": "2023-06-17T10:39:50.501Z"
   },
   {
    "duration": 15,
    "start_time": "2023-06-17T10:39:50.586Z"
   },
   {
    "duration": 11,
    "start_time": "2023-06-17T10:39:50.603Z"
   },
   {
    "duration": 6,
    "start_time": "2023-06-17T10:39:50.615Z"
   },
   {
    "duration": 12,
    "start_time": "2023-06-17T10:39:50.623Z"
   },
   {
    "duration": 243,
    "start_time": "2023-06-17T10:39:50.636Z"
   },
   {
    "duration": 128,
    "start_time": "2023-06-17T10:39:50.886Z"
   },
   {
    "duration": 5,
    "start_time": "2023-06-17T10:39:51.015Z"
   },
   {
    "duration": 29,
    "start_time": "2023-06-17T10:39:51.304Z"
   },
   {
    "duration": 11,
    "start_time": "2023-06-17T10:39:51.808Z"
   },
   {
    "duration": 22,
    "start_time": "2023-06-17T10:39:52.349Z"
   },
   {
    "duration": 17,
    "start_time": "2023-06-17T10:39:52.934Z"
   },
   {
    "duration": 223,
    "start_time": "2023-06-17T10:39:53.421Z"
   },
   {
    "duration": 73,
    "start_time": "2023-06-17T10:39:54.331Z"
   },
   {
    "duration": 12,
    "start_time": "2023-06-17T10:39:54.515Z"
   },
   {
    "duration": 21,
    "start_time": "2023-06-17T10:39:54.943Z"
   },
   {
    "duration": 7,
    "start_time": "2023-06-17T10:39:55.667Z"
   },
   {
    "duration": 1764,
    "start_time": "2023-06-17T10:39:56.304Z"
   },
   {
    "duration": 15,
    "start_time": "2023-06-17T10:39:58.070Z"
   },
   {
    "duration": 29,
    "start_time": "2023-06-17T10:39:58.086Z"
   },
   {
    "duration": 13,
    "start_time": "2023-06-17T10:39:58.912Z"
   },
   {
    "duration": 5181,
    "start_time": "2023-06-17T10:39:59.257Z"
   },
   {
    "duration": 33,
    "start_time": "2023-06-17T10:40:04.440Z"
   },
   {
    "duration": 23,
    "start_time": "2023-06-17T10:40:04.479Z"
   },
   {
    "duration": 17,
    "start_time": "2023-06-17T10:40:04.504Z"
   },
   {
    "duration": 15,
    "start_time": "2023-06-17T10:40:04.522Z"
   },
   {
    "duration": 55,
    "start_time": "2023-06-17T10:40:04.539Z"
   },
   {
    "duration": 17,
    "start_time": "2023-06-17T10:40:04.596Z"
   },
   {
    "duration": 18,
    "start_time": "2023-06-17T10:40:04.615Z"
   },
   {
    "duration": 7,
    "start_time": "2023-06-17T10:40:04.760Z"
   },
   {
    "duration": 21,
    "start_time": "2023-06-17T10:40:06.712Z"
   },
   {
    "duration": 38,
    "start_time": "2023-06-17T10:40:07.933Z"
   },
   {
    "duration": 34,
    "start_time": "2023-06-17T10:40:08.283Z"
   },
   {
    "duration": 8,
    "start_time": "2023-06-17T10:42:27.812Z"
   },
   {
    "duration": 3,
    "start_time": "2023-06-17T10:42:29.542Z"
   },
   {
    "duration": 5,
    "start_time": "2023-06-17T10:42:30.724Z"
   },
   {
    "duration": 369,
    "start_time": "2023-06-17T10:42:31.431Z"
   },
   {
    "duration": 6,
    "start_time": "2023-06-17T10:42:32.637Z"
   },
   {
    "duration": 13,
    "start_time": "2023-06-17T10:42:33.908Z"
   },
   {
    "duration": 498,
    "start_time": "2023-06-17T10:42:37.380Z"
   },
   {
    "duration": 8,
    "start_time": "2023-06-17T10:42:38.481Z"
   },
   {
    "duration": 362,
    "start_time": "2023-06-17T10:42:39.120Z"
   },
   {
    "duration": 6206,
    "start_time": "2023-06-17T10:42:40.438Z"
   },
   {
    "duration": 18,
    "start_time": "2023-06-17T10:42:46.652Z"
   },
   {
    "duration": 15,
    "start_time": "2023-06-17T10:42:46.677Z"
   },
   {
    "duration": 12,
    "start_time": "2023-06-17T10:42:47.536Z"
   },
   {
    "duration": 6,
    "start_time": "2023-06-17T10:51:08.217Z"
   },
   {
    "duration": 16,
    "start_time": "2023-06-17T10:51:14.971Z"
   },
   {
    "duration": 6,
    "start_time": "2023-06-17T10:51:16.813Z"
   },
   {
    "duration": 28,
    "start_time": "2023-06-17T10:51:18.783Z"
   },
   {
    "duration": 7,
    "start_time": "2023-06-17T10:51:58.222Z"
   },
   {
    "duration": 42,
    "start_time": "2023-06-17T10:52:00.676Z"
   },
   {
    "duration": 602,
    "start_time": "2023-06-17T10:52:49.973Z"
   },
   {
    "duration": 5,
    "start_time": "2023-06-17T11:24:04.704Z"
   }
  ],
  "kernelspec": {
   "display_name": "Python 3 (ipykernel)",
   "language": "python",
   "name": "python3"
  },
  "language_info": {
   "codemirror_mode": {
    "name": "ipython",
    "version": 3
   },
   "file_extension": ".py",
   "mimetype": "text/x-python",
   "name": "python",
   "nbconvert_exporter": "python",
   "pygments_lexer": "ipython3",
   "version": "3.9.12"
  },
  "toc": {
   "base_numbering": 1,
   "nav_menu": {},
   "number_sections": true,
   "sideBar": true,
   "skip_h1_title": true,
   "title_cell": "Оптимизация производственных расходов, металлургического комбината   ООО «Так закаляем сталь» ",
   "title_sidebar": "Содержание",
   "toc_cell": true,
   "toc_position": {
    "height": "calc(100% - 180px)",
    "left": "10px",
    "top": "150px",
    "width": "191.58px"
   },
   "toc_section_display": true,
   "toc_window_display": true
  }
 },
 "nbformat": 4,
 "nbformat_minor": 5
}
