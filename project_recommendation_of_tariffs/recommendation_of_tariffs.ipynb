{
 "cells": [
  {
   "cell_type": "markdown",
   "metadata": {},
   "source": [
    "# Рекомендация тарифов"
   ]
  },
  {
   "cell_type": "markdown",
   "metadata": {},
   "source": [
    "В моем распоряжении данные о поведении клиентов, которые уже перешли на эти тарифы . Нужно построить модель для задачи классификации, которая выберет подходящий тариф. Предобработка данных не понадобится — была произведенна заранее.\n",
    "\n",
    "Построим модель с максимально большим значением *accuracy*. Проект будут считаться успешным при доли правильнно предсказанных ответов равным не меньше 0.75. "
   ]
  },
  {
   "cell_type": "markdown",
   "metadata": {},
   "source": [
    "# Рекомендация тарифов. "
   ]
  },
  {
   "cell_type": "markdown",
   "metadata": {},
   "source": [
    "В данной работе, будет проделанна работа, по реализации модели которая поможет оператору мобильной связи \"Мегалайн\" проанализировать поведение клиентов с новыми тарифами \"Смарт\" и \"Ультра\", после на основе результата модели определить (предсказать) какой тариф  больше подойдет тому или другому новому клиенту.\n",
    "___"
   ]
  },
  {
   "cell_type": "markdown",
   "metadata": {},
   "source": [
    "Импорт библиотек, необходимых для дальнейшей работы."
   ]
  },
  {
   "cell_type": "code",
   "execution_count": 2,
   "metadata": {},
   "outputs": [],
   "source": [
    "import pandas as pd\n",
    "from tqdm import tqdm\n",
    "from matplotlib import pyplot as plt\n",
    "\n",
    "from sklearn import tree\n",
    "from sklearn.model_selection import train_test_split\n",
    "from sklearn.tree import DecisionTreeClassifier\n",
    "from sklearn.ensemble import RandomForestClassifier\n",
    "from sklearn.linear_model import LogisticRegression\n",
    "from sklearn.metrics import accuracy_score\n",
    "from sklearn.dummy import DummyClassifier"
   ]
  },
  {
   "cell_type": "markdown",
   "metadata": {},
   "source": [
    "## Откройте и изучите файл"
   ]
  },
  {
   "cell_type": "code",
   "execution_count": 3,
   "metadata": {},
   "outputs": [
    {
     "data": {
      "text/html": [
       "<div>\n",
       "<style scoped>\n",
       "    .dataframe tbody tr th:only-of-type {\n",
       "        vertical-align: middle;\n",
       "    }\n",
       "\n",
       "    .dataframe tbody tr th {\n",
       "        vertical-align: top;\n",
       "    }\n",
       "\n",
       "    .dataframe thead th {\n",
       "        text-align: right;\n",
       "    }\n",
       "</style>\n",
       "<table border=\"1\" class=\"dataframe\">\n",
       "  <thead>\n",
       "    <tr style=\"text-align: right;\">\n",
       "      <th></th>\n",
       "      <th>calls</th>\n",
       "      <th>minutes</th>\n",
       "      <th>messages</th>\n",
       "      <th>mb_used</th>\n",
       "      <th>is_ultra</th>\n",
       "    </tr>\n",
       "  </thead>\n",
       "  <tbody>\n",
       "    <tr>\n",
       "      <th>0</th>\n",
       "      <td>40.0</td>\n",
       "      <td>311.90</td>\n",
       "      <td>83.0</td>\n",
       "      <td>19915.42</td>\n",
       "      <td>0</td>\n",
       "    </tr>\n",
       "    <tr>\n",
       "      <th>1</th>\n",
       "      <td>85.0</td>\n",
       "      <td>516.75</td>\n",
       "      <td>56.0</td>\n",
       "      <td>22696.96</td>\n",
       "      <td>0</td>\n",
       "    </tr>\n",
       "    <tr>\n",
       "      <th>2</th>\n",
       "      <td>77.0</td>\n",
       "      <td>467.66</td>\n",
       "      <td>86.0</td>\n",
       "      <td>21060.45</td>\n",
       "      <td>0</td>\n",
       "    </tr>\n",
       "    <tr>\n",
       "      <th>3</th>\n",
       "      <td>106.0</td>\n",
       "      <td>745.53</td>\n",
       "      <td>81.0</td>\n",
       "      <td>8437.39</td>\n",
       "      <td>1</td>\n",
       "    </tr>\n",
       "    <tr>\n",
       "      <th>4</th>\n",
       "      <td>66.0</td>\n",
       "      <td>418.74</td>\n",
       "      <td>1.0</td>\n",
       "      <td>14502.75</td>\n",
       "      <td>0</td>\n",
       "    </tr>\n",
       "    <tr>\n",
       "      <th>5</th>\n",
       "      <td>58.0</td>\n",
       "      <td>344.56</td>\n",
       "      <td>21.0</td>\n",
       "      <td>15823.37</td>\n",
       "      <td>0</td>\n",
       "    </tr>\n",
       "    <tr>\n",
       "      <th>6</th>\n",
       "      <td>57.0</td>\n",
       "      <td>431.64</td>\n",
       "      <td>20.0</td>\n",
       "      <td>3738.90</td>\n",
       "      <td>1</td>\n",
       "    </tr>\n",
       "    <tr>\n",
       "      <th>7</th>\n",
       "      <td>15.0</td>\n",
       "      <td>132.40</td>\n",
       "      <td>6.0</td>\n",
       "      <td>21911.60</td>\n",
       "      <td>0</td>\n",
       "    </tr>\n",
       "    <tr>\n",
       "      <th>8</th>\n",
       "      <td>7.0</td>\n",
       "      <td>43.39</td>\n",
       "      <td>3.0</td>\n",
       "      <td>2538.67</td>\n",
       "      <td>1</td>\n",
       "    </tr>\n",
       "    <tr>\n",
       "      <th>9</th>\n",
       "      <td>90.0</td>\n",
       "      <td>665.41</td>\n",
       "      <td>38.0</td>\n",
       "      <td>17358.61</td>\n",
       "      <td>0</td>\n",
       "    </tr>\n",
       "  </tbody>\n",
       "</table>\n",
       "</div>"
      ],
      "text/plain": [
       "   calls  minutes  messages   mb_used  is_ultra\n",
       "0   40.0   311.90      83.0  19915.42         0\n",
       "1   85.0   516.75      56.0  22696.96         0\n",
       "2   77.0   467.66      86.0  21060.45         0\n",
       "3  106.0   745.53      81.0   8437.39         1\n",
       "4   66.0   418.74       1.0  14502.75         0\n",
       "5   58.0   344.56      21.0  15823.37         0\n",
       "6   57.0   431.64      20.0   3738.90         1\n",
       "7   15.0   132.40       6.0  21911.60         0\n",
       "8    7.0    43.39       3.0   2538.67         1\n",
       "9   90.0   665.41      38.0  17358.61         0"
      ]
     },
     "execution_count": 3,
     "metadata": {},
     "output_type": "execute_result"
    }
   ],
   "source": [
    "data = pd.read_csv('users_behavior.csv')\n",
    "data.head(10)"
   ]
  },
  {
   "cell_type": "markdown",
   "metadata": {},
   "source": [
    "Таблица выглядит корректной, выведем всю основную информацию о ней."
   ]
  },
  {
   "cell_type": "code",
   "execution_count": 3,
   "metadata": {},
   "outputs": [
    {
     "name": "stdout",
     "output_type": "stream",
     "text": [
      "<class 'pandas.core.frame.DataFrame'>\n",
      "RangeIndex: 3214 entries, 0 to 3213\n",
      "Data columns (total 5 columns):\n",
      " #   Column    Non-Null Count  Dtype  \n",
      "---  ------    --------------  -----  \n",
      " 0   calls     3214 non-null   float64\n",
      " 1   minutes   3214 non-null   float64\n",
      " 2   messages  3214 non-null   float64\n",
      " 3   mb_used   3214 non-null   float64\n",
      " 4   is_ultra  3214 non-null   int64  \n",
      "dtypes: float64(4), int64(1)\n",
      "memory usage: 125.7 KB\n"
     ]
    }
   ],
   "source": [
    "data.info()"
   ]
  },
  {
   "cell_type": "markdown",
   "metadata": {},
   "source": [
    "Всего 3214 ячеек без пропусков с 5 колонками. На последок, проверим и посмотрим на их гистограммы."
   ]
  },
  {
   "cell_type": "code",
   "execution_count": 4,
   "metadata": {},
   "outputs": [
    {
     "data": {
      "image/png": "[encoded data removed]",
      "text/plain": [
       "<Figure size 1080x720 with 6 Axes>"
      ]
     },
     "metadata": {
      "needs_background": "light"
     },
     "output_type": "display_data"
    }
   ],
   "source": [
    "data.hist(figsize=(15,10), bins=20);"
   ]
  },
  {
   "cell_type": "markdown",
   "metadata": {},
   "source": [
    "_Здесь тоже все хорошо, диаграммы без выбросов, и напоминают распределенние Пуассона, что является признаком корректности. `is ultra`  же имеет всего две колонки, неудивительно так-как это колонка с булевым типом. По ней можно сказать, что пользователей с тарифом \"Смарт\" больше в два раза чем с тарифом \"Ультра\". Также взглянем на корреляцию признаков нашей таблицы._\n",
    "___"
   ]
  },
  {
   "cell_type": "code",
   "execution_count": 5,
   "metadata": {},
   "outputs": [
    {
     "data": {
      "text/html": [
       "<div>\n",
       "<style scoped>\n",
       "    .dataframe tbody tr th:only-of-type {\n",
       "        vertical-align: middle;\n",
       "    }\n",
       "\n",
       "    .dataframe tbody tr th {\n",
       "        vertical-align: top;\n",
       "    }\n",
       "\n",
       "    .dataframe thead th {\n",
       "        text-align: right;\n",
       "    }\n",
       "</style>\n",
       "<table border=\"1\" class=\"dataframe\">\n",
       "  <thead>\n",
       "    <tr style=\"text-align: right;\">\n",
       "      <th></th>\n",
       "      <th>calls</th>\n",
       "      <th>minutes</th>\n",
       "      <th>messages</th>\n",
       "      <th>mb_used</th>\n",
       "      <th>is_ultra</th>\n",
       "    </tr>\n",
       "  </thead>\n",
       "  <tbody>\n",
       "    <tr>\n",
       "      <th>calls</th>\n",
       "      <td>1.000000</td>\n",
       "      <td>0.982083</td>\n",
       "      <td>0.177385</td>\n",
       "      <td>0.286442</td>\n",
       "      <td>0.207122</td>\n",
       "    </tr>\n",
       "    <tr>\n",
       "      <th>minutes</th>\n",
       "      <td>0.982083</td>\n",
       "      <td>1.000000</td>\n",
       "      <td>0.173110</td>\n",
       "      <td>0.280967</td>\n",
       "      <td>0.206955</td>\n",
       "    </tr>\n",
       "    <tr>\n",
       "      <th>messages</th>\n",
       "      <td>0.177385</td>\n",
       "      <td>0.173110</td>\n",
       "      <td>1.000000</td>\n",
       "      <td>0.195721</td>\n",
       "      <td>0.203830</td>\n",
       "    </tr>\n",
       "    <tr>\n",
       "      <th>mb_used</th>\n",
       "      <td>0.286442</td>\n",
       "      <td>0.280967</td>\n",
       "      <td>0.195721</td>\n",
       "      <td>1.000000</td>\n",
       "      <td>0.198568</td>\n",
       "    </tr>\n",
       "    <tr>\n",
       "      <th>is_ultra</th>\n",
       "      <td>0.207122</td>\n",
       "      <td>0.206955</td>\n",
       "      <td>0.203830</td>\n",
       "      <td>0.198568</td>\n",
       "      <td>1.000000</td>\n",
       "    </tr>\n",
       "  </tbody>\n",
       "</table>\n",
       "</div>"
      ],
      "text/plain": [
       "             calls   minutes  messages   mb_used  is_ultra\n",
       "calls     1.000000  0.982083  0.177385  0.286442  0.207122\n",
       "minutes   0.982083  1.000000  0.173110  0.280967  0.206955\n",
       "messages  0.177385  0.173110  1.000000  0.195721  0.203830\n",
       "mb_used   0.286442  0.280967  0.195721  1.000000  0.198568\n",
       "is_ultra  0.207122  0.206955  0.203830  0.198568  1.000000"
      ]
     },
     "execution_count": 5,
     "metadata": {},
     "output_type": "execute_result"
    }
   ],
   "source": [
    "data.corr()"
   ]
  },
  {
   "cell_type": "markdown",
   "metadata": {},
   "source": [
    "Видна большая корреляция у `calls` и `minutes`. Интересующая же нас колонка `is_ultra` имеет наименьшую корреляцию с `mb_used`."
   ]
  },
  {
   "cell_type": "markdown",
   "metadata": {},
   "source": [
    "## Разбейте данные на выборки"
   ]
  },
  {
   "cell_type": "markdown",
   "metadata": {},
   "source": [
    "Чтобы разбить на выборки необходимо, определиться с признаками, по которым модель будет определять ключевое качество, и этот самое ключевое качество. Зададим целью `target` колонку нашей таблицы `is_ultra` которая хранит в себе информацию о тарифе. А все остальные данные будут нашими особенностями `features`."
   ]
  },
  {
   "cell_type": "code",
   "execution_count": 6,
   "metadata": {},
   "outputs": [],
   "source": [
    "features = data.drop('is_ultra', axis=1)\n",
    "target = data.is_ultra"
   ]
  },
  {
   "cell_type": "markdown",
   "metadata": {},
   "source": [
    "Теперь мы можем разделить на три выборки. Выборка для обучения, будет заключать в себе 75% процентов от всей таблицы, это позволит обучить модель качественно. Так сначала обучим модель с выборкой для обучения 75% и с выборкой для тестирования в 25% от основоной таблицы."
   ]
  },
  {
   "cell_type": "code",
   "execution_count": 7,
   "metadata": {},
   "outputs": [
    {
     "name": "stdout",
     "output_type": "stream",
     "text": [
      "Размер обучающей выборки: 2410\n",
      "Размер тестовой выборки: 804\n"
     ]
    }
   ],
   "source": [
    "features_train, features_test, target_train, target_test = train_test_split(\n",
    "    features, target, test_size=0.25, random_state=2503, stratify=target)\n",
    "#Проверка\n",
    "print('Размер обучающей выборки:',features_train.shape[0])\n",
    "print('Размер тестовой выборки:',features_test.shape[0])"
   ]
  },
  {
   "cell_type": "markdown",
   "metadata": {},
   "source": [
    "Также нам потребуется, выборка для итоговой проверки нашей модели. Для этого разделим нашу промежуточную выборку для теста пополам. И в итоге у нас получится: \n",
    "* Для обучения = 75%;\n",
    "* Для теста = 12.5%;\n",
    "* Для валидации = 12.5%."
   ]
  },
  {
   "cell_type": "code",
   "execution_count": 8,
   "metadata": {},
   "outputs": [
    {
     "name": "stdout",
     "output_type": "stream",
     "text": [
      "Размер тестовой выборки: 402\n",
      "Размер валидационной выборки: 402\n"
     ]
    }
   ],
   "source": [
    "features_test, features_valid, target_test , target_valid = train_test_split(\n",
    "    features_test, target_test, test_size=0.5, random_state=302, stratify=target_test)\n",
    "print('Размер тестовой выборки:',features_test.shape[0])\n",
    "print('Размер валидационной выборки:',features_valid.shape[0])"
   ]
  },
  {
   "cell_type": "markdown",
   "metadata": {},
   "source": [
    "Теперь с полученным разделением данных, можно приступить к обучению нескольких моделей.\n",
    "___"
   ]
  },
  {
   "cell_type": "markdown",
   "metadata": {},
   "source": [
    "## Исследуйте модели"
   ]
  },
  {
   "cell_type": "markdown",
   "metadata": {},
   "source": [
    "С данной таблицей, в которой все колонка имееет тип `bool`, мы приследуем цели которые достигнем при помощи **классификации**. Дальнейшая работа с данными будет основанна на особенностях и правилах работы с ней. Так качество той или иной модели мы будем определять при помощи метрики правильности модели `accuracy`. Так же выведем время работы кода для "
   ]
  },
  {
   "cell_type": "markdown",
   "metadata": {},
   "source": [
    "__Первую модель, обучим как \"Дерево решений\". На ее качество будем влиять, значением глубины ее дерева решений. Сделаем это в цикле который и выведет наименьшую ошибку которая поможет нам определить наилучшую модель.__"
   ]
  },
  {
   "cell_type": "code",
   "execution_count": 9,
   "metadata": {},
   "outputs": [
    {
     "name": "stderr",
     "output_type": "stream",
     "text": [
      "100%|██████████| 50/50 [00:00<00:00, 64.90it/s]"
     ]
    },
    {
     "name": "stdout",
     "output_type": "stream",
     "text": [
      "Модель с наименьшей средней квадратичной ошибкой равной 0.7935 имеет глубину 10.\n"
     ]
    },
    {
     "name": "stderr",
     "output_type": "stream",
     "text": [
      "\n"
     ]
    }
   ],
   "source": [
    "#Задаем начальное сильно завышеннок значение переменной(хранящая в будующем ответ),\n",
    "# с которым будем сравнивать полученные значения.\n",
    "accuracy = 0\n",
    "best_model_dec_tree = None\n",
    "best_depth = 0\n",
    "train_accuracy = []\n",
    "valid_accuracy = []\n",
    "\n",
    "# В цикле пройдемся по 10 значчениям глубины дерева и определим, дерево с наибольшей точностью.\n",
    "for depth in tqdm(range(1,51)):  \n",
    "    # Создаем модель \"Дерево решений\"\n",
    "    # max_depth = depth \n",
    "    model_dec_tree = DecisionTreeClassifier(random_state=2503, max_depth = depth) \n",
    "    # Обучаем модель\n",
    "    model_dec_tree.fit(features_train, target_train)\n",
    "    # Расчитываем правильность\n",
    "    accuracy_score_valid = accuracy_score(target_valid, \n",
    "                                          model_dec_tree.predict(features_valid))\n",
    "    valid_accuracy.append(accuracy_score_valid)\n",
    "    \n",
    "    accuracy_score_train = accuracy_score(target_train, \n",
    "                                          model_dec_tree.predict(features_train))\n",
    "    train_accuracy.append(accuracy_score_train)\n",
    "    \n",
    "    if accuracy_score_valid > accuracy:\n",
    "        accuracy = accuracy_score_valid\n",
    "        best_model_dec_tree = model_dec_tree\n",
    "        best_depth = depth\n",
    "print(f'Модель с наименьшей средней квадратичной ошибкой равной {round(accuracy, 4)} имеет глубину {best_depth}.')"
   ]
  },
  {
   "cell_type": "markdown",
   "metadata": {},
   "source": [
    "Модель \"Дерево решений\" с глубиной равной 10 и будет нашей первым кандидатом для сравнения с другими. Но для начала построим график метрики првильности при изменении гипперпараметра `max_depth` по валидационной и тренировочной выборке, и посмотрим как они будут отличаться при его увеличении."
   ]
  },
  {
   "cell_type": "code",
   "execution_count": 10,
   "metadata": {},
   "outputs": [
    {
     "data": {
      "image/png": "[encoded data removed]",
      "text/plain": [
       "<Figure size 1080x360 with 1 Axes>"
      ]
     },
     "metadata": {
      "needs_background": "light"
     },
     "output_type": "display_data"
    }
   ],
   "source": [
    "#задаем размер полотна графика \n",
    "plt.figure(figsize=(15,5))\n",
    "#строим два граффика по получинным спискам метрик\n",
    "plt.plot(range(1,51), valid_accuracy, label='Валидационная')\n",
    "plt.plot(range(1,51), train_accuracy, label='Тренировочная')\n",
    "#отображаем легенду\n",
    "plt.legend()\n",
    "#сетка\n",
    "plt.grid()\n",
    "# Задаем название \n",
    "plt.title('\\nЗависимость accuracy от аргумента max_depth\\n');"
   ]
  },
  {
   "cell_type": "markdown",
   "metadata": {},
   "source": [
    "<a id=\"1_answer\"></a>\n",
    "__График валидационной действительно достигает макисмума на значении 10, а вот тренировачная предпочла дастигнуть его в значении 20, скорее всего это связанна с гараздо большим ее размером. Можно предположить, при увеличении количества значений валидационной выборки, увеличится и более подходящее значение `max_depth`.__"
   ]
  },
  {
   "cell_type": "markdown",
   "metadata": {},
   "source": [
    "Так же для общего развития посмотрим как модель \"Дерево решение\" будет принимать решение сформированном по тренировочной выборке и с `max_depth` = 3."
   ]
  },
  {
   "cell_type": "code",
   "execution_count": 11,
   "metadata": {},
   "outputs": [
    {
     "data": {
      "image/png": "[encoded data removed]",
      "text/plain": [
       "<Figure size 1080x720 with 1 Axes>"
      ]
     },
     "metadata": {
      "needs_background": "light"
     },
     "output_type": "display_data"
    }
   ],
   "source": [
    "#Создаем модель дерева с гипперпараметромmax_depth = 3\n",
    "clf = tree.DecisionTreeClassifier(random_state=2503, max_depth = 3)\n",
    "#Тренируем модель\n",
    "clf.fit(features_train, target_train)\n",
    "# Размер шрафика \n",
    "plt.figure(figsize=(15,10))\n",
    "#Постройка граффика.\n",
    "tree.plot_tree(clf);"
   ]
  },
  {
   "cell_type": "markdown",
   "metadata": {},
   "source": [
    "__Теперь обучим модель \"Линейной регресии\". Тут с менять гиперпараметры не будем, так как они еше мало мной изученны. Просто оценим правильность.__\n",
    "___"
   ]
  },
  {
   "cell_type": "code",
   "execution_count": 12,
   "metadata": {},
   "outputs": [
    {
     "name": "stdout",
     "output_type": "stream",
     "text": [
      "Правильность \"accuracy\" для модели \"Линейной регресии\": 0.7065 \n",
      "\n",
      "CPU times: user 128 ms, sys: 161 ms, total: 289 ms\n",
      "Wall time: 214 ms\n"
     ]
    }
   ],
   "source": [
    "%%time\n",
    "model_log_reg = LogisticRegression()\n",
    "model_log_reg.fit(features_train, target_train)\n",
    "accuracy_log_reg = accuracy_score(target_valid, model_log_reg.predict(features_valid))\n",
    "print('Правильность \"accuracy\" для модели \"Линейной регресии\":', round(accuracy_log_reg,4),'\\n')"
   ]
  },
  {
   "cell_type": "markdown",
   "metadata": {},
   "source": [
    "Заметно, что она меньше чем у предыдущей модели. Но тем не менее, она будет учавствовать в сравнении с другими.\n",
    "___"
   ]
  },
  {
   "cell_type": "markdown",
   "metadata": {},
   "source": [
    "__Обучим последнюю модель по правилам \"Случайного леса\". Здесь изменяя гиперпараметры `n_estimators`(количество деревьев) и `max_depth`(глубина каждого дерева) будем влиять на величину полученной правильности. Так же в цикле, но уже со вложенным пройдемся по нескольким значениям выбранных гиперпараметров и выберем наилучшую.__"
   ]
  },
  {
   "cell_type": "code",
   "execution_count": 13,
   "metadata": {},
   "outputs": [
    {
     "name": "stderr",
     "output_type": "stream",
     "text": [
      "100%|██████████| 14/14 [00:05<00:00,  2.51it/s]"
     ]
    },
    {
     "name": "stdout",
     "output_type": "stream",
     "text": [
      "Accuracy наилучшей модели 'Случайного леса' с количество деревьев 9, максимальная глубина 9 равно 0.806\n",
      "\n"
     ]
    },
    {
     "name": "stderr",
     "output_type": "stream",
     "text": [
      "\n"
     ]
    }
   ],
   "source": [
    "best_model_rf = None\n",
    "best_accuracy_rf = 0\n",
    "best_est_rf = 0\n",
    "best_depth_rf = 0\n",
    "for est in tqdm(range(1, 15)):\n",
    "    for depth in range (1, 15):\n",
    "        # инициализируйте модель RandomForestClassifier с параметрами random_state=12345, n_estimators=est и max_depth=depth\n",
    "        model_random_forest = RandomForestClassifier(random_state=2503, n_estimators=est, max_depth=depth)\n",
    "        # обучите модель на тренировочной выборке\n",
    "        model_random_forest.fit(features_train, target_train) \n",
    "        # получите предсказания модели на валидационной выборке\n",
    "        predictions_valid = model_random_forest.predict(features_valid) \n",
    "        # посчитайте значение метрики accuracy на валидационной выборке\n",
    "        accuracy = accuracy_score(target_valid, predictions_valid)\n",
    "        if accuracy > best_accuracy_rf:\n",
    "            best_model_rf = model_random_forest\n",
    "            best_accuracy_rf = accuracy\n",
    "            best_est_rf = est\n",
    "            best_depth_rf = depth\n",
    "print(f\"Accuracy наилучшей модели 'Случайного леса' с количество деревьев {best_est_rf},\", end=' ') \n",
    "print(f'максимальная глубина {best_depth_rf} равно {round(best_accuracy_rf,4)}\\n')"
   ]
  },
  {
   "cell_type": "markdown",
   "metadata": {},
   "source": [
    "Данная модель \"Случайного леса\" имеет наибольшую правильность (которая также наибольшая среди других видов ошибок) при количестве деревьев 9 с их глубиной в 9.\n",
    "___"
   ]
  },
  {
   "cell_type": "markdown",
   "metadata": {},
   "source": [
    "_По обученным моделям можно, заключить что наибольшей правильностью `acuracy` имеет модель \"Случайного леса\", второй является \"Дерево решений\", на последнем месте \"Линейная регрессия\". А вот по времени обучения и оценки этих моделей, все с точности наоборот. Это обьясняется количеством, проходов по выборке для определения самой эффективной. Время можно уменьшить уменьшив обхват значений гиперпараметров `n_estimators` и `max_depth`._"
   ]
  },
  {
   "cell_type": "markdown",
   "metadata": {},
   "source": [
    "## Проверьте модель на тестовой выборке"
   ]
  },
  {
   "cell_type": "markdown",
   "metadata": {},
   "source": [
    "Валидационная выборка показала нам оценку правильности `accuracy` всех 3 выбранных моделей наиболее подходящими гипперпараметрами. По показателю правельности самой точной оказалась модель \"Случайный лес\" именно по ней проведем тестирование. Теперь обучим нашу выбранную модель с выбранными нами параметрами на валидационной и тренировочной выборке вместе. И протестируем на тестовой выборке с параметрами `features_test`, `target_test`.\n",
    "___"
   ]
  },
  {
   "cell_type": "code",
   "execution_count": 14,
   "metadata": {},
   "outputs": [
    {
     "name": "stdout",
     "output_type": "stream",
     "text": [
      "Правильность модели \"Случайный лес\" по тестовой выборке : 0.806\n"
     ]
    }
   ],
   "source": [
    "# инициализируйте модель RandomForestClassifier с параметрами random_state=2503, n_estimators=9 и max_depth=9\n",
    "model_rf = RandomForestClassifier(random_state=2503, \n",
    "                                  n_estimators=9, \n",
    "                                  max_depth=9\n",
    "                                 )\n",
    "# обучите модель на тренировочной выборке\n",
    "model_rf.fit(pd.concat([features_train, features_valid]), \n",
    "             pd.concat([target_train, target_valid])\n",
    "            )\n",
    "# получите предсказания модели на валидационной выборке\n",
    "predictions_rf = model_rf.predict(features_test)\n",
    "\n",
    "print('Правильность модели \"Случайный лес\" по тестовой выборке :', round(accuracy_score(target_test, predictions_rf), 4))"
   ]
  },
  {
   "cell_type": "markdown",
   "metadata": {},
   "source": [
    "_Видно, что показатель правильности сильно не просел, модель с большей долей вероятности можно назвать рабочей, но для начала проверим ее на адекватность._"
   ]
  },
  {
   "cell_type": "markdown",
   "metadata": {},
   "source": [
    "## Проверька модели на адекватность"
   ]
  },
  {
   "cell_type": "markdown",
   "metadata": {},
   "source": [
    "Адекватность модели постараемся разглядеть сравнив ее так сказать c приметивным прогнозом, это прогноз при котором, за правильный выбор модель будет считать самый частое значение в целевой колонке. В первой части мы уже заключили, что в колонке `is_ultra` наиболее вречаемо значение `0`. Но для создания примитивной модели используем модуль `DummyClassifier` с параметром `strategy` равным `most_frequent`, что позволит и заполнить предсказание модели популярным значением целевой колонки. После после обучем на выборке предыдущей части. Протестируем и сравним показатели `accuracy` с нашей моделью \"Случайного леса\".  \n",
    "___"
   ]
  },
  {
   "cell_type": "code",
   "execution_count": 15,
   "metadata": {},
   "outputs": [
    {
     "name": "stdout",
     "output_type": "stream",
     "text": [
      "Правильность примитивной модели по тестовой выборке : 0.694\n"
     ]
    }
   ],
   "source": [
    "#Создаем модель методом DummyClassifier с параметром strategy=\"most_frequent\"\n",
    "dummy_clf = DummyClassifier(strategy=\"most_frequent\")\n",
    "\n",
    "# Обучаем на той же выборке\n",
    "dummy_clf.fit(pd.concat([features_train, \n",
    "                         features_valid]), \n",
    "             pd.concat([target_train, \n",
    "                        target_valid])\n",
    "             )\n",
    "\n",
    "# Предсказываем одни 0\n",
    "dummy_clf.predict(features_test)\n",
    "\n",
    "print('Правильность примитивной модели по тестовой выборке :', \n",
    "      round(accuracy_score(target_test, \n",
    "                           dummy_clf.predict(features_test)), 4)\n",
    "     )"
   ]
  },
  {
   "cell_type": "markdown",
   "metadata": {},
   "source": [
    "_Видно, что наша премитивная модель гараздо реже угадывала правильный ответ, а тоесть предложение всем клиентам тарифа \"смарт\" будет менее корректно чем пренятие решение предсказанного нашей моделью \"Случайного леса\"._"
   ]
  },
  {
   "cell_type": "markdown",
   "metadata": {},
   "source": [
    "## Вывод"
   ]
  },
  {
   "cell_type": "markdown",
   "metadata": {},
   "source": [
    "_В работе были обученны три модели для принятия решений по рекомендации пользователям мобильного оператора \"Мегалайн\", проведенны их сравнения по оценки правельности `accurcy` и отслежанно время работы кода для реализации их обучения, а также принята попытка оценки их адекватной работы.  \n",
    "По значениям `accuracy`, мы увидели, что \"Слуайный лес\" является наиболее точным, с результатом 0.8333, чем два остальных метода. Но затрачивающий наибольшие ресурсы для обучения самой качественной модели.  \n",
    "Самой быстрообучаеммой стала \"Логистическая регрессия\" крайне слабо обошедшая \"Дерево решений\"._"
   ]
  }
 ],
 "metadata": {
  "ExecuteTimeLog": [
   {
    "duration": 407,
    "start_time": "2022-12-28T11:50:11.854Z"
   },
   {
    "duration": 122,
    "start_time": "2022-12-28T11:51:43.423Z"
   },
   {
    "duration": 15,
    "start_time": "2022-12-28T11:51:47.973Z"
   },
   {
    "duration": 13,
    "start_time": "2022-12-28T11:51:55.223Z"
   },
   {
    "duration": 10,
    "start_time": "2022-12-28T11:51:58.906Z"
   },
   {
    "duration": 837,
    "start_time": "2022-12-28T11:52:21.244Z"
   },
   {
    "duration": 89,
    "start_time": "2022-12-28T11:52:45.234Z"
   },
   {
    "duration": 438,
    "start_time": "2022-12-28T11:53:07.071Z"
   },
   {
    "duration": 454,
    "start_time": "2022-12-28T11:53:10.930Z"
   },
   {
    "duration": 464,
    "start_time": "2022-12-28T11:53:15.412Z"
   },
   {
    "duration": 504,
    "start_time": "2022-12-28T11:53:19.506Z"
   },
   {
    "duration": 18,
    "start_time": "2022-12-28T11:53:32.305Z"
   },
   {
    "duration": 645,
    "start_time": "2022-12-28T11:53:35.536Z"
   },
   {
    "duration": 17,
    "start_time": "2022-12-28T11:54:10.608Z"
   },
   {
    "duration": 9,
    "start_time": "2022-12-28T12:19:47.820Z"
   },
   {
    "duration": 705,
    "start_time": "2022-12-28T12:19:53.337Z"
   },
   {
    "duration": 43,
    "start_time": "2022-12-28T12:19:58.866Z"
   },
   {
    "duration": 4,
    "start_time": "2022-12-28T12:31:18.906Z"
   },
   {
    "duration": 8,
    "start_time": "2022-12-28T12:31:19.735Z"
   },
   {
    "duration": 7,
    "start_time": "2022-12-28T12:32:05.701Z"
   },
   {
    "duration": 8,
    "start_time": "2022-12-28T12:35:01.302Z"
   },
   {
    "duration": 7,
    "start_time": "2022-12-28T12:35:06.574Z"
   },
   {
    "duration": 7,
    "start_time": "2022-12-28T12:35:15.891Z"
   },
   {
    "duration": 7,
    "start_time": "2022-12-28T12:35:53.748Z"
   },
   {
    "duration": 46,
    "start_time": "2022-12-29T06:46:10.433Z"
   },
   {
    "duration": 1021,
    "start_time": "2022-12-29T06:46:49.577Z"
   },
   {
    "duration": 138,
    "start_time": "2022-12-29T06:46:51.816Z"
   },
   {
    "duration": 15,
    "start_time": "2022-12-29T06:47:36.093Z"
   },
   {
    "duration": 7,
    "start_time": "2022-12-29T06:59:17.887Z"
   },
   {
    "duration": 7,
    "start_time": "2022-12-29T06:59:29.137Z"
   },
   {
    "duration": 3,
    "start_time": "2022-12-29T06:59:52.485Z"
   },
   {
    "duration": 6,
    "start_time": "2022-12-29T07:05:32.221Z"
   },
   {
    "duration": 6,
    "start_time": "2022-12-29T07:06:40.646Z"
   },
   {
    "duration": 7,
    "start_time": "2022-12-29T07:10:35.336Z"
   },
   {
    "duration": 5,
    "start_time": "2022-12-29T07:10:44.365Z"
   },
   {
    "duration": 39,
    "start_time": "2022-12-29T07:11:37.048Z"
   },
   {
    "duration": 40,
    "start_time": "2022-12-29T07:30:17.249Z"
   },
   {
    "duration": 9,
    "start_time": "2022-12-29T07:30:21.913Z"
   },
   {
    "duration": 75,
    "start_time": "2022-12-29T07:38:26.936Z"
   },
   {
    "duration": 65,
    "start_time": "2022-12-29T07:38:31.996Z"
   },
   {
    "duration": 29,
    "start_time": "2022-12-29T07:38:46.157Z"
   },
   {
    "duration": 56,
    "start_time": "2022-12-29T07:39:01.329Z"
   },
   {
    "duration": 53,
    "start_time": "2022-12-29T07:39:07.116Z"
   },
   {
    "duration": 151,
    "start_time": "2022-12-29T07:39:17.536Z"
   },
   {
    "duration": 154,
    "start_time": "2022-12-29T07:46:59.061Z"
   },
   {
    "duration": 163,
    "start_time": "2022-12-29T07:47:07.100Z"
   },
   {
    "duration": 169,
    "start_time": "2022-12-29T07:47:26.377Z"
   },
   {
    "duration": 161,
    "start_time": "2022-12-29T07:47:31.254Z"
   },
   {
    "duration": 258,
    "start_time": "2022-12-29T07:47:37.667Z"
   },
   {
    "duration": 64,
    "start_time": "2022-12-29T07:47:41.368Z"
   },
   {
    "duration": 69,
    "start_time": "2022-12-29T07:47:44.089Z"
   },
   {
    "duration": 69,
    "start_time": "2022-12-29T07:47:47.256Z"
   },
   {
    "duration": 71,
    "start_time": "2022-12-29T07:50:09.373Z"
   },
   {
    "duration": 49,
    "start_time": "2022-12-29T07:50:22.790Z"
   },
   {
    "duration": 76,
    "start_time": "2022-12-29T07:50:26.406Z"
   },
   {
    "duration": 50,
    "start_time": "2022-12-29T07:56:16.865Z"
   },
   {
    "duration": 70,
    "start_time": "2022-12-29T07:56:26.625Z"
   },
   {
    "duration": 72,
    "start_time": "2022-12-29T07:56:35.084Z"
   },
   {
    "duration": 71,
    "start_time": "2022-12-29T07:56:37.413Z"
   },
   {
    "duration": 73,
    "start_time": "2022-12-29T07:58:32.186Z"
   },
   {
    "duration": 8,
    "start_time": "2022-12-29T08:06:43.908Z"
   },
   {
    "duration": 8,
    "start_time": "2022-12-29T08:22:11.301Z"
   },
   {
    "duration": 70,
    "start_time": "2022-12-29T08:22:19.786Z"
   },
   {
    "duration": 8,
    "start_time": "2022-12-29T08:22:24.317Z"
   },
   {
    "duration": 8,
    "start_time": "2022-12-29T08:22:30.933Z"
   },
   {
    "duration": 8,
    "start_time": "2022-12-29T08:23:26.637Z"
   },
   {
    "duration": 81,
    "start_time": "2022-12-29T08:24:52.633Z"
   },
   {
    "duration": 9,
    "start_time": "2022-12-29T08:25:21.489Z"
   },
   {
    "duration": 10,
    "start_time": "2022-12-29T09:28:46.598Z"
   },
   {
    "duration": 1056,
    "start_time": "2022-12-29T09:28:54.563Z"
   },
   {
    "duration": 42,
    "start_time": "2022-12-29T09:28:55.621Z"
   },
   {
    "duration": 13,
    "start_time": "2022-12-29T09:28:55.665Z"
   },
   {
    "duration": 953,
    "start_time": "2022-12-29T09:28:55.679Z"
   },
   {
    "duration": 3,
    "start_time": "2022-12-29T09:28:56.635Z"
   },
   {
    "duration": 11,
    "start_time": "2022-12-29T09:28:56.640Z"
   },
   {
    "duration": 11,
    "start_time": "2022-12-29T09:28:56.653Z"
   },
   {
    "duration": 86,
    "start_time": "2022-12-29T09:28:56.665Z"
   },
   {
    "duration": 9,
    "start_time": "2022-12-29T09:28:56.753Z"
   },
   {
    "duration": 142,
    "start_time": "2022-12-29T09:28:56.764Z"
   },
   {
    "duration": 31,
    "start_time": "2022-12-29T09:29:09.930Z"
   },
   {
    "duration": 52,
    "start_time": "2022-12-29T09:30:25.475Z"
   },
   {
    "duration": 363,
    "start_time": "2022-12-29T09:30:40.829Z"
   },
   {
    "duration": 365,
    "start_time": "2022-12-29T09:30:56.091Z"
   },
   {
    "duration": 2956,
    "start_time": "2022-12-29T09:31:09.158Z"
   },
   {
    "duration": 13048,
    "start_time": "2022-12-29T09:31:27.110Z"
   },
   {
    "duration": 6639,
    "start_time": "2022-12-29T09:31:50.648Z"
   },
   {
    "duration": 24408,
    "start_time": "2022-12-29T09:32:13.588Z"
   },
   {
    "duration": 145762,
    "start_time": "2022-12-29T09:33:22.394Z"
   },
   {
    "duration": 24302,
    "start_time": "2022-12-29T09:36:47.947Z"
   },
   {
    "duration": 46570,
    "start_time": "2022-12-29T09:37:32.639Z"
   },
   {
    "duration": 54001,
    "start_time": "2022-12-29T09:38:32.703Z"
   },
   {
    "duration": 71098,
    "start_time": "2022-12-29T09:40:17.708Z"
   },
   {
    "duration": 56,
    "start_time": "2022-12-29T09:43:46.937Z"
   },
   {
    "duration": 50,
    "start_time": "2022-12-29T09:44:16.988Z"
   },
   {
    "duration": 47049,
    "start_time": "2022-12-29T09:44:33.966Z"
   },
   {
    "duration": 43581,
    "start_time": "2022-12-29T09:45:49.195Z"
   },
   {
    "duration": 43397,
    "start_time": "2022-12-29T09:46:55.882Z"
   },
   {
    "duration": 45081,
    "start_time": "2022-12-29T09:47:54.558Z"
   },
   {
    "duration": 43123,
    "start_time": "2022-12-29T09:58:04.679Z"
   },
   {
    "duration": 7,
    "start_time": "2022-12-29T09:59:02.043Z"
   },
   {
    "duration": 8,
    "start_time": "2022-12-29T09:59:09.334Z"
   },
   {
    "duration": 7,
    "start_time": "2022-12-29T09:59:15.231Z"
   },
   {
    "duration": 1170,
    "start_time": "2022-12-29T09:59:52.166Z"
   },
   {
    "duration": 43,
    "start_time": "2022-12-29T09:59:53.338Z"
   },
   {
    "duration": 13,
    "start_time": "2022-12-29T09:59:53.382Z"
   },
   {
    "duration": 801,
    "start_time": "2022-12-29T09:59:53.396Z"
   },
   {
    "duration": 4,
    "start_time": "2022-12-29T09:59:54.199Z"
   },
   {
    "duration": 20,
    "start_time": "2022-12-29T09:59:54.205Z"
   },
   {
    "duration": 9,
    "start_time": "2022-12-29T09:59:54.226Z"
   },
   {
    "duration": 88,
    "start_time": "2022-12-29T09:59:54.237Z"
   },
   {
    "duration": 9,
    "start_time": "2022-12-29T09:59:54.326Z"
   },
   {
    "duration": 43777,
    "start_time": "2022-12-29T09:59:54.336Z"
   },
   {
    "duration": 48,
    "start_time": "2022-12-29T10:00:38.114Z"
   },
   {
    "duration": 0,
    "start_time": "2022-12-29T10:00:38.164Z"
   },
   {
    "duration": 11,
    "start_time": "2022-12-29T10:00:48.572Z"
   },
   {
    "duration": 42907,
    "start_time": "2022-12-29T10:01:35.108Z"
   },
   {
    "duration": 1079,
    "start_time": "2022-12-29T10:02:21.105Z"
   },
   {
    "duration": 41,
    "start_time": "2022-12-29T10:02:22.186Z"
   },
   {
    "duration": 10,
    "start_time": "2022-12-29T10:02:22.228Z"
   },
   {
    "duration": 783,
    "start_time": "2022-12-29T10:02:22.239Z"
   },
   {
    "duration": 4,
    "start_time": "2022-12-29T10:02:23.024Z"
   },
   {
    "duration": 20,
    "start_time": "2022-12-29T10:02:23.029Z"
   },
   {
    "duration": 20,
    "start_time": "2022-12-29T10:02:23.050Z"
   },
   {
    "duration": 105,
    "start_time": "2022-12-29T10:02:23.071Z"
   },
   {
    "duration": 9,
    "start_time": "2022-12-29T10:02:23.177Z"
   },
   {
    "duration": 43172,
    "start_time": "2022-12-29T10:02:23.188Z"
   },
   {
    "duration": 49,
    "start_time": "2022-12-29T10:03:06.362Z"
   },
   {
    "duration": 46168,
    "start_time": "2022-12-29T10:06:25.268Z"
   },
   {
    "duration": 72,
    "start_time": "2022-12-29T10:07:27.410Z"
   },
   {
    "duration": 71,
    "start_time": "2022-12-29T10:07:34.963Z"
   },
   {
    "duration": 72,
    "start_time": "2022-12-29T10:07:47.260Z"
   },
   {
    "duration": 8,
    "start_time": "2022-12-29T10:07:58.486Z"
   },
   {
    "duration": 42825,
    "start_time": "2022-12-29T10:08:12.897Z"
   },
   {
    "duration": 1027,
    "start_time": "2022-12-29T10:27:28.733Z"
   },
   {
    "duration": 40,
    "start_time": "2022-12-29T10:27:29.762Z"
   },
   {
    "duration": 10,
    "start_time": "2022-12-29T10:27:29.804Z"
   },
   {
    "duration": 739,
    "start_time": "2022-12-29T10:27:29.816Z"
   },
   {
    "duration": 4,
    "start_time": "2022-12-29T10:27:30.556Z"
   },
   {
    "duration": 31,
    "start_time": "2022-12-29T10:27:30.561Z"
   },
   {
    "duration": 44,
    "start_time": "2022-12-29T10:27:30.594Z"
   },
   {
    "duration": 103,
    "start_time": "2022-12-29T10:27:30.640Z"
   },
   {
    "duration": 8,
    "start_time": "2022-12-29T10:27:30.745Z"
   },
   {
    "duration": 42858,
    "start_time": "2022-12-29T10:27:30.755Z"
   },
   {
    "duration": 100,
    "start_time": "2022-12-29T10:31:09.386Z"
   },
   {
    "duration": 3,
    "start_time": "2022-12-29T10:31:16.717Z"
   },
   {
    "duration": 15,
    "start_time": "2022-12-29T10:31:21.996Z"
   },
   {
    "duration": 13,
    "start_time": "2022-12-29T10:31:33.914Z"
   },
   {
    "duration": 13,
    "start_time": "2022-12-29T10:32:10.521Z"
   },
   {
    "duration": 12,
    "start_time": "2022-12-29T10:32:57.527Z"
   },
   {
    "duration": 8,
    "start_time": "2022-12-29T10:33:53.356Z"
   },
   {
    "duration": 9,
    "start_time": "2022-12-29T10:33:58.075Z"
   },
   {
    "duration": 6,
    "start_time": "2022-12-29T10:38:42.623Z"
   },
   {
    "duration": 6,
    "start_time": "2022-12-29T10:39:32.057Z"
   },
   {
    "duration": 18,
    "start_time": "2022-12-29T10:39:32.865Z"
   },
   {
    "duration": 3,
    "start_time": "2022-12-29T10:40:06.995Z"
   },
   {
    "duration": 8,
    "start_time": "2022-12-29T10:41:18.805Z"
   },
   {
    "duration": 5,
    "start_time": "2022-12-29T10:41:59.850Z"
   },
   {
    "duration": 59,
    "start_time": "2022-12-29T10:44:00.841Z"
   },
   {
    "duration": 3,
    "start_time": "2022-12-29T10:44:07.309Z"
   },
   {
    "duration": 73,
    "start_time": "2022-12-29T10:44:10.471Z"
   },
   {
    "duration": 6,
    "start_time": "2022-12-29T10:44:35.810Z"
   },
   {
    "duration": 10,
    "start_time": "2022-12-29T10:46:04.278Z"
   },
   {
    "duration": 3,
    "start_time": "2022-12-29T10:46:43.090Z"
   },
   {
    "duration": 179,
    "start_time": "2022-12-29T10:55:53.944Z"
   },
   {
    "duration": 35817,
    "start_time": "2022-12-29T10:57:33.161Z"
   },
   {
    "duration": 5588,
    "start_time": "2022-12-29T10:59:21.523Z"
   },
   {
    "duration": 5411,
    "start_time": "2022-12-29T11:00:47.179Z"
   },
   {
    "duration": 39784,
    "start_time": "2022-12-29T11:00:59.609Z"
   },
   {
    "duration": 305710,
    "start_time": "2022-12-29T11:02:02.602Z"
   },
   {
    "duration": 48,
    "start_time": "2022-12-30T05:50:09.944Z"
   },
   {
    "duration": 1080,
    "start_time": "2022-12-30T05:50:13.602Z"
   },
   {
    "duration": 133,
    "start_time": "2022-12-30T05:50:14.684Z"
   },
   {
    "duration": 12,
    "start_time": "2022-12-30T05:50:14.818Z"
   },
   {
    "duration": 1028,
    "start_time": "2022-12-30T05:50:14.832Z"
   },
   {
    "duration": 4,
    "start_time": "2022-12-30T05:50:15.863Z"
   },
   {
    "duration": 8,
    "start_time": "2022-12-30T05:50:15.878Z"
   },
   {
    "duration": 12,
    "start_time": "2022-12-30T05:50:15.888Z"
   },
   {
    "duration": 6,
    "start_time": "2022-12-30T05:50:17.364Z"
   },
   {
    "duration": 124,
    "start_time": "2022-12-30T05:52:03.893Z"
   },
   {
    "duration": 98,
    "start_time": "2022-12-30T05:52:23.981Z"
   },
   {
    "duration": 79,
    "start_time": "2022-12-30T05:53:05.730Z"
   },
   {
    "duration": 82,
    "start_time": "2022-12-30T05:53:22.463Z"
   },
   {
    "duration": 238,
    "start_time": "2022-12-30T05:54:11.939Z"
   },
   {
    "duration": 54496,
    "start_time": "2022-12-30T05:55:34.774Z"
   },
   {
    "duration": 196099,
    "start_time": "2022-12-30T05:56:30.836Z"
   },
   {
    "duration": 9997,
    "start_time": "2022-12-30T05:59:48.206Z"
   },
   {
    "duration": 4176,
    "start_time": "2022-12-30T06:00:27.458Z"
   },
   {
    "duration": 7585,
    "start_time": "2022-12-30T06:00:52.940Z"
   },
   {
    "duration": 9620,
    "start_time": "2022-12-30T06:01:19.091Z"
   },
   {
    "duration": 5936,
    "start_time": "2022-12-30T06:01:47.033Z"
   },
   {
    "duration": 7,
    "start_time": "2022-12-30T06:04:19.357Z"
   },
   {
    "duration": 10,
    "start_time": "2022-12-30T06:04:20.089Z"
   },
   {
    "duration": 15,
    "start_time": "2022-12-30T06:04:21.185Z"
   },
   {
    "duration": 11,
    "start_time": "2022-12-30T06:04:28.290Z"
   },
   {
    "duration": 9,
    "start_time": "2022-12-30T06:05:08.012Z"
   },
   {
    "duration": 7,
    "start_time": "2022-12-30T06:05:26.432Z"
   },
   {
    "duration": 10,
    "start_time": "2022-12-30T06:05:27.422Z"
   },
   {
    "duration": 7,
    "start_time": "2022-12-30T06:14:51.791Z"
   },
   {
    "duration": 6,
    "start_time": "2022-12-30T06:14:52.251Z"
   },
   {
    "duration": 9,
    "start_time": "2022-12-30T06:14:52.700Z"
   },
   {
    "duration": 66,
    "start_time": "2022-12-30T06:25:17.502Z"
   },
   {
    "duration": 7,
    "start_time": "2022-12-30T06:25:22.115Z"
   },
   {
    "duration": 70,
    "start_time": "2022-12-30T06:25:49.256Z"
   },
   {
    "duration": 49,
    "start_time": "2022-12-30T06:25:53.307Z"
   },
   {
    "duration": 11,
    "start_time": "2022-12-30T06:25:59.679Z"
   },
   {
    "duration": 7,
    "start_time": "2022-12-30T06:26:13.805Z"
   },
   {
    "duration": 8,
    "start_time": "2022-12-30T06:26:38.321Z"
   },
   {
    "duration": 12,
    "start_time": "2022-12-30T06:26:55.880Z"
   },
   {
    "duration": 7,
    "start_time": "2022-12-30T06:27:07.293Z"
   },
   {
    "duration": 8,
    "start_time": "2022-12-30T06:27:37.923Z"
   },
   {
    "duration": 7,
    "start_time": "2022-12-30T06:42:11.937Z"
   },
   {
    "duration": 7,
    "start_time": "2022-12-30T06:42:34.311Z"
   },
   {
    "duration": 7,
    "start_time": "2022-12-30T06:43:03.893Z"
   },
   {
    "duration": 9,
    "start_time": "2022-12-30T06:43:05.161Z"
   },
   {
    "duration": 10,
    "start_time": "2022-12-30T06:43:30.396Z"
   },
   {
    "duration": 7,
    "start_time": "2022-12-30T06:43:33.309Z"
   },
   {
    "duration": 20,
    "start_time": "2022-12-30T06:50:32.349Z"
   },
   {
    "duration": 7,
    "start_time": "2022-12-30T06:50:45.957Z"
   },
   {
    "duration": 6,
    "start_time": "2022-12-30T06:50:55.015Z"
   },
   {
    "duration": 14,
    "start_time": "2022-12-30T06:51:11.490Z"
   },
   {
    "duration": 14,
    "start_time": "2022-12-30T06:51:46.021Z"
   },
   {
    "duration": 15,
    "start_time": "2022-12-30T06:51:55.349Z"
   },
   {
    "duration": 1123,
    "start_time": "2022-12-30T06:52:13.778Z"
   },
   {
    "duration": 850,
    "start_time": "2022-12-30T06:52:32.944Z"
   },
   {
    "duration": 15,
    "start_time": "2022-12-30T06:52:37.828Z"
   },
   {
    "duration": 4,
    "start_time": "2022-12-30T06:53:45.113Z"
   },
   {
    "duration": 11,
    "start_time": "2022-12-30T06:53:48.156Z"
   },
   {
    "duration": 50,
    "start_time": "2022-12-30T06:54:09.185Z"
   },
   {
    "duration": 28,
    "start_time": "2022-12-30T06:54:13.742Z"
   },
   {
    "duration": 13,
    "start_time": "2022-12-30T06:54:33.433Z"
   },
   {
    "duration": 14,
    "start_time": "2022-12-30T06:54:37.692Z"
   },
   {
    "duration": 13,
    "start_time": "2022-12-30T06:54:50.801Z"
   },
   {
    "duration": 24,
    "start_time": "2022-12-30T06:55:00.641Z"
   },
   {
    "duration": 13,
    "start_time": "2022-12-30T06:55:13.948Z"
   },
   {
    "duration": 12,
    "start_time": "2022-12-30T06:55:54.960Z"
   },
   {
    "duration": 27,
    "start_time": "2022-12-30T06:56:06.129Z"
   },
   {
    "duration": 810,
    "start_time": "2022-12-30T06:56:20.967Z"
   },
   {
    "duration": 824,
    "start_time": "2022-12-30T06:56:32.704Z"
   },
   {
    "duration": 50,
    "start_time": "2022-12-30T06:56:58.862Z"
   },
   {
    "duration": 45,
    "start_time": "2022-12-30T06:57:10.605Z"
   },
   {
    "duration": 899,
    "start_time": "2022-12-30T06:58:13.238Z"
   },
   {
    "duration": 9,
    "start_time": "2022-12-30T06:59:28.193Z"
   },
   {
    "duration": 11,
    "start_time": "2022-12-30T06:59:37.132Z"
   },
   {
    "duration": 14,
    "start_time": "2022-12-30T07:00:15.134Z"
   },
   {
    "duration": 810,
    "start_time": "2022-12-30T07:00:21.644Z"
   },
   {
    "duration": 7,
    "start_time": "2022-12-30T07:00:29.025Z"
   },
   {
    "duration": 13,
    "start_time": "2022-12-30T07:01:51.861Z"
   },
   {
    "duration": 14,
    "start_time": "2022-12-30T07:03:08.256Z"
   },
   {
    "duration": 12,
    "start_time": "2022-12-30T07:03:35.430Z"
   },
   {
    "duration": 1216,
    "start_time": "2022-12-30T08:30:52.632Z"
   },
   {
    "duration": 59,
    "start_time": "2022-12-30T08:30:53.850Z"
   },
   {
    "duration": 14,
    "start_time": "2022-12-30T08:30:53.912Z"
   },
   {
    "duration": 992,
    "start_time": "2022-12-30T08:30:53.929Z"
   },
   {
    "duration": 4,
    "start_time": "2022-12-30T08:30:54.923Z"
   },
   {
    "duration": 19,
    "start_time": "2022-12-30T08:30:54.929Z"
   },
   {
    "duration": 26,
    "start_time": "2022-12-30T08:30:54.950Z"
   },
   {
    "duration": 121,
    "start_time": "2022-12-30T08:30:54.978Z"
   },
   {
    "duration": 194,
    "start_time": "2022-12-30T08:30:55.100Z"
   },
   {
    "duration": 6487,
    "start_time": "2022-12-30T08:30:55.297Z"
   },
   {
    "duration": 9,
    "start_time": "2022-12-30T08:31:01.788Z"
   },
   {
    "duration": 28,
    "start_time": "2022-12-30T08:31:01.800Z"
   },
   {
    "duration": 29,
    "start_time": "2022-12-30T08:31:01.830Z"
   },
   {
    "duration": 27,
    "start_time": "2022-12-30T08:31:01.862Z"
   },
   {
    "duration": 31,
    "start_time": "2022-12-30T08:31:01.891Z"
   },
   {
    "duration": 974,
    "start_time": "2022-12-30T08:31:05.460Z"
   },
   {
    "duration": 775,
    "start_time": "2022-12-30T08:31:16.431Z"
   },
   {
    "duration": 19,
    "start_time": "2022-12-30T08:34:52.913Z"
   },
   {
    "duration": 30,
    "start_time": "2022-12-30T08:37:50.206Z"
   },
   {
    "duration": 14,
    "start_time": "2022-12-30T08:38:29.471Z"
   },
   {
    "duration": 22,
    "start_time": "2022-12-30T08:38:52.304Z"
   },
   {
    "duration": 16,
    "start_time": "2022-12-30T08:39:00.399Z"
   },
   {
    "duration": 18,
    "start_time": "2022-12-30T08:42:09.804Z"
   },
   {
    "duration": 46,
    "start_time": "2022-12-30T08:42:41.617Z"
   },
   {
    "duration": 7,
    "start_time": "2022-12-30T08:42:46.311Z"
   },
   {
    "duration": 1528,
    "start_time": "2022-12-30T08:49:28.428Z"
   },
   {
    "duration": 72,
    "start_time": "2022-12-30T08:49:29.959Z"
   },
   {
    "duration": 16,
    "start_time": "2022-12-30T08:49:30.033Z"
   },
   {
    "duration": 1295,
    "start_time": "2022-12-30T08:49:30.053Z"
   },
   {
    "duration": 6,
    "start_time": "2022-12-30T08:49:31.351Z"
   },
   {
    "duration": 26,
    "start_time": "2022-12-30T08:49:31.359Z"
   },
   {
    "duration": 58,
    "start_time": "2022-12-30T08:49:31.387Z"
   },
   {
    "duration": 142,
    "start_time": "2022-12-30T08:49:31.448Z"
   },
   {
    "duration": 350,
    "start_time": "2022-12-30T08:49:31.592Z"
   },
   {
    "duration": 7311,
    "start_time": "2022-12-30T08:49:32.027Z"
   },
   {
    "duration": 10,
    "start_time": "2022-12-30T08:49:39.341Z"
   },
   {
    "duration": 21,
    "start_time": "2022-12-30T08:49:39.353Z"
   },
   {
    "duration": 51,
    "start_time": "2022-12-30T08:49:39.378Z"
   },
   {
    "duration": 37,
    "start_time": "2022-12-30T08:49:39.431Z"
   },
   {
    "duration": 88,
    "start_time": "2022-12-30T08:49:39.471Z"
   },
   {
    "duration": 5,
    "start_time": "2022-12-30T08:49:39.561Z"
   },
   {
    "duration": 34,
    "start_time": "2022-12-30T08:53:10.750Z"
   },
   {
    "duration": 187,
    "start_time": "2022-12-30T08:53:35.900Z"
   },
   {
    "duration": 29,
    "start_time": "2022-12-30T08:53:44.905Z"
   },
   {
    "duration": 4,
    "start_time": "2022-12-30T08:58:35.326Z"
   },
   {
    "duration": 1324,
    "start_time": "2022-12-30T09:04:11.354Z"
   },
   {
    "duration": 74,
    "start_time": "2022-12-30T09:04:12.680Z"
   },
   {
    "duration": 13,
    "start_time": "2022-12-30T09:04:12.757Z"
   },
   {
    "duration": 1280,
    "start_time": "2022-12-30T09:04:12.772Z"
   },
   {
    "duration": 5,
    "start_time": "2022-12-30T09:04:14.055Z"
   },
   {
    "duration": 67,
    "start_time": "2022-12-30T09:04:14.062Z"
   },
   {
    "duration": 16,
    "start_time": "2022-12-30T09:04:14.131Z"
   },
   {
    "duration": 118,
    "start_time": "2022-12-30T09:04:14.149Z"
   },
   {
    "duration": 343,
    "start_time": "2022-12-30T09:04:14.268Z"
   },
   {
    "duration": 7167,
    "start_time": "2022-12-30T09:04:14.620Z"
   },
   {
    "duration": 10,
    "start_time": "2022-12-30T09:04:21.789Z"
   },
   {
    "duration": 80,
    "start_time": "2022-12-30T09:04:21.801Z"
   },
   {
    "duration": 92,
    "start_time": "2022-12-30T09:04:21.883Z"
   },
   {
    "duration": 77,
    "start_time": "2022-12-30T09:04:21.979Z"
   },
   {
    "duration": 31,
    "start_time": "2022-12-30T09:04:22.059Z"
   },
   {
    "duration": 55,
    "start_time": "2022-12-30T09:04:22.092Z"
   },
   {
    "duration": 25,
    "start_time": "2022-12-30T09:04:22.149Z"
   },
   {
    "duration": 1420,
    "start_time": "2022-12-30T09:06:29.625Z"
   },
   {
    "duration": 70,
    "start_time": "2022-12-30T09:06:31.049Z"
   },
   {
    "duration": 295,
    "start_time": "2022-12-30T09:06:31.127Z"
   },
   {
    "duration": 1329,
    "start_time": "2022-12-30T09:06:31.424Z"
   },
   {
    "duration": 6,
    "start_time": "2022-12-30T09:06:32.756Z"
   },
   {
    "duration": 57,
    "start_time": "2022-12-30T09:06:32.764Z"
   },
   {
    "duration": 18,
    "start_time": "2022-12-30T09:06:32.823Z"
   },
   {
    "duration": 112,
    "start_time": "2022-12-30T09:06:32.843Z"
   },
   {
    "duration": 172,
    "start_time": "2022-12-30T09:06:32.957Z"
   },
   {
    "duration": 7139,
    "start_time": "2022-12-30T09:06:33.136Z"
   },
   {
    "duration": 15,
    "start_time": "2022-12-30T09:06:40.277Z"
   },
   {
    "duration": 56,
    "start_time": "2022-12-30T09:06:40.295Z"
   },
   {
    "duration": 17,
    "start_time": "2022-12-30T09:06:40.354Z"
   },
   {
    "duration": 48,
    "start_time": "2022-12-30T09:06:40.374Z"
   },
   {
    "duration": 41,
    "start_time": "2022-12-30T09:06:40.425Z"
   },
   {
    "duration": 46,
    "start_time": "2022-12-30T09:06:40.468Z"
   },
   {
    "duration": 27,
    "start_time": "2022-12-30T09:06:40.519Z"
   },
   {
    "duration": 2066,
    "start_time": "2022-12-30T10:03:06.567Z"
   },
   {
    "duration": 136,
    "start_time": "2022-12-30T10:03:08.636Z"
   },
   {
    "duration": 14,
    "start_time": "2022-12-30T10:03:08.774Z"
   },
   {
    "duration": 1215,
    "start_time": "2022-12-30T10:03:08.790Z"
   },
   {
    "duration": 5,
    "start_time": "2022-12-30T10:03:10.007Z"
   },
   {
    "duration": 19,
    "start_time": "2022-12-30T10:03:10.014Z"
   },
   {
    "duration": 20,
    "start_time": "2022-12-30T10:03:10.035Z"
   },
   {
    "duration": 99,
    "start_time": "2022-12-30T10:03:10.057Z"
   },
   {
    "duration": 120,
    "start_time": "2022-12-30T10:03:10.159Z"
   },
   {
    "duration": 5634,
    "start_time": "2022-12-30T10:03:10.282Z"
   },
   {
    "duration": 9,
    "start_time": "2022-12-30T10:03:15.918Z"
   },
   {
    "duration": 12,
    "start_time": "2022-12-30T10:03:15.928Z"
   },
   {
    "duration": 12,
    "start_time": "2022-12-30T10:03:15.941Z"
   },
   {
    "duration": 30,
    "start_time": "2022-12-30T10:03:15.955Z"
   },
   {
    "duration": 32,
    "start_time": "2022-12-30T10:03:15.987Z"
   },
   {
    "duration": 8,
    "start_time": "2022-12-30T10:03:16.021Z"
   },
   {
    "duration": 24,
    "start_time": "2022-12-30T10:03:16.031Z"
   },
   {
    "duration": 1141,
    "start_time": "2023-01-10T06:45:10.535Z"
   },
   {
    "duration": 146,
    "start_time": "2023-01-10T06:45:11.678Z"
   },
   {
    "duration": 12,
    "start_time": "2023-01-10T06:45:11.826Z"
   },
   {
    "duration": 1134,
    "start_time": "2023-01-10T06:45:11.839Z"
   },
   {
    "duration": 107,
    "start_time": "2023-01-10T06:45:19.841Z"
   },
   {
    "duration": 3,
    "start_time": "2023-01-10T06:45:59.400Z"
   },
   {
    "duration": 9,
    "start_time": "2023-01-10T06:46:05.258Z"
   },
   {
    "duration": 12,
    "start_time": "2023-01-10T06:46:09.812Z"
   },
   {
    "duration": 9,
    "start_time": "2023-01-10T06:46:20.840Z"
   },
   {
    "duration": 9,
    "start_time": "2023-01-10T06:47:16.674Z"
   },
   {
    "duration": 16,
    "start_time": "2023-01-10T06:51:26.322Z"
   },
   {
    "duration": 13,
    "start_time": "2023-01-10T06:51:30.996Z"
   },
   {
    "duration": 93,
    "start_time": "2023-01-10T09:10:33.294Z"
   },
   {
    "duration": 3,
    "start_time": "2023-01-10T09:10:51.462Z"
   },
   {
    "duration": 39,
    "start_time": "2023-01-10T09:10:51.525Z"
   },
   {
    "duration": 10,
    "start_time": "2023-01-10T09:10:51.566Z"
   },
   {
    "duration": 698,
    "start_time": "2023-01-10T09:10:51.578Z"
   },
   {
    "duration": 11,
    "start_time": "2023-01-10T09:10:52.278Z"
   },
   {
    "duration": 5,
    "start_time": "2023-01-10T09:10:52.290Z"
   },
   {
    "duration": 17,
    "start_time": "2023-01-10T09:10:52.297Z"
   },
   {
    "duration": 5,
    "start_time": "2023-01-10T09:10:52.316Z"
   },
   {
    "duration": 107,
    "start_time": "2023-01-10T09:10:52.323Z"
   },
   {
    "duration": 98,
    "start_time": "2023-01-10T09:11:29.897Z"
   },
   {
    "duration": 10,
    "start_time": "2023-01-10T09:13:47.928Z"
   },
   {
    "duration": 99328,
    "start_time": "2023-01-10T09:14:47.060Z"
   },
   {
    "duration": 5369,
    "start_time": "2023-01-10T09:19:32.674Z"
   },
   {
    "duration": 5040,
    "start_time": "2023-01-10T09:19:57.142Z"
   },
   {
    "duration": 5527,
    "start_time": "2023-01-10T09:20:16.344Z"
   },
   {
    "duration": 93,
    "start_time": "2023-01-10T10:05:57.504Z"
   },
   {
    "duration": 6,
    "start_time": "2023-01-10T10:09:29.601Z"
   },
   {
    "duration": 7,
    "start_time": "2023-01-10T10:11:28.620Z"
   },
   {
    "duration": 7,
    "start_time": "2023-01-10T10:12:03.497Z"
   },
   {
    "duration": 7,
    "start_time": "2023-01-10T10:12:23.994Z"
   },
   {
    "duration": 48,
    "start_time": "2023-01-10T10:18:20.751Z"
   },
   {
    "duration": 55,
    "start_time": "2023-01-10T10:18:42.038Z"
   },
   {
    "duration": 69,
    "start_time": "2023-01-10T10:19:04.125Z"
   },
   {
    "duration": 12,
    "start_time": "2023-01-10T10:19:10.877Z"
   },
   {
    "duration": 14,
    "start_time": "2023-01-10T10:21:31.220Z"
   },
   {
    "duration": 6,
    "start_time": "2023-01-10T10:21:42.754Z"
   },
   {
    "duration": 6,
    "start_time": "2023-01-10T10:21:57.632Z"
   },
   {
    "duration": 11,
    "start_time": "2023-01-10T10:22:21.025Z"
   },
   {
    "duration": 11,
    "start_time": "2023-01-10T10:22:25.099Z"
   },
   {
    "duration": 11,
    "start_time": "2023-01-10T10:22:43.279Z"
   },
   {
    "duration": 18,
    "start_time": "2023-01-10T10:22:52.057Z"
   },
   {
    "duration": 53,
    "start_time": "2023-01-10T10:24:31.430Z"
   },
   {
    "duration": 53,
    "start_time": "2023-01-10T10:24:38.936Z"
   },
   {
    "duration": 56,
    "start_time": "2023-01-10T10:24:53.091Z"
   },
   {
    "duration": 15,
    "start_time": "2023-01-10T10:24:55.458Z"
   },
   {
    "duration": 84,
    "start_time": "2023-01-10T10:26:47.548Z"
   },
   {
    "duration": 56,
    "start_time": "2023-01-10T10:27:01.067Z"
   },
   {
    "duration": 53,
    "start_time": "2023-01-10T10:27:08.156Z"
   },
   {
    "duration": 55,
    "start_time": "2023-01-10T10:27:25.358Z"
   },
   {
    "duration": 58,
    "start_time": "2023-01-10T10:28:09.424Z"
   },
   {
    "duration": 19,
    "start_time": "2023-01-10T10:28:24.260Z"
   },
   {
    "duration": 95,
    "start_time": "2023-01-10T11:10:53.767Z"
   },
   {
    "duration": 1145,
    "start_time": "2023-01-10T11:11:06.022Z"
   },
   {
    "duration": 45,
    "start_time": "2023-01-10T11:11:07.169Z"
   },
   {
    "duration": 12,
    "start_time": "2023-01-10T11:11:07.216Z"
   },
   {
    "duration": 883,
    "start_time": "2023-01-10T11:11:07.230Z"
   },
   {
    "duration": 14,
    "start_time": "2023-01-10T11:11:08.115Z"
   },
   {
    "duration": 4,
    "start_time": "2023-01-10T11:11:08.130Z"
   },
   {
    "duration": 10,
    "start_time": "2023-01-10T11:11:08.136Z"
   },
   {
    "duration": 11,
    "start_time": "2023-01-10T11:11:08.148Z"
   },
   {
    "duration": 135,
    "start_time": "2023-01-10T11:11:08.160Z"
   },
   {
    "duration": 125,
    "start_time": "2023-01-10T11:11:08.298Z"
   },
   {
    "duration": 5760,
    "start_time": "2023-01-10T11:11:08.425Z"
   },
   {
    "duration": 26,
    "start_time": "2023-01-10T11:11:14.187Z"
   },
   {
    "duration": 12,
    "start_time": "2023-01-10T11:11:14.215Z"
   },
   {
    "duration": 21,
    "start_time": "2023-01-10T11:11:14.228Z"
   },
   {
    "duration": 5,
    "start_time": "2023-01-10T11:11:14.250Z"
   },
   {
    "duration": 22,
    "start_time": "2023-01-10T11:11:14.256Z"
   },
   {
    "duration": 78,
    "start_time": "2023-01-10T11:20:47.265Z"
   },
   {
    "duration": 58,
    "start_time": "2023-01-10T11:22:35.909Z"
   },
   {
    "duration": 57,
    "start_time": "2023-01-10T11:22:45.178Z"
   },
   {
    "duration": 68,
    "start_time": "2023-01-10T11:22:50.111Z"
   },
   {
    "duration": 61,
    "start_time": "2023-01-10T11:24:08.925Z"
   },
   {
    "duration": 10,
    "start_time": "2023-01-10T11:25:12.333Z"
   },
   {
    "duration": 9,
    "start_time": "2023-01-10T11:25:18.486Z"
   },
   {
    "duration": 10,
    "start_time": "2023-01-10T11:25:23.512Z"
   },
   {
    "duration": 4,
    "start_time": "2023-01-10T11:28:26.277Z"
   },
   {
    "duration": 119,
    "start_time": "2023-01-10T11:28:50.739Z"
   },
   {
    "duration": 5,
    "start_time": "2023-01-10T11:29:12.672Z"
   },
   {
    "duration": 4,
    "start_time": "2023-01-10T11:30:45.079Z"
   },
   {
    "duration": 3,
    "start_time": "2023-01-10T11:32:39.184Z"
   },
   {
    "duration": 7,
    "start_time": "2023-01-10T11:34:05.715Z"
   },
   {
    "duration": 8,
    "start_time": "2023-01-10T11:34:41.675Z"
   },
   {
    "duration": 9,
    "start_time": "2023-01-10T11:35:36.303Z"
   },
   {
    "duration": 18,
    "start_time": "2023-01-10T11:37:37.312Z"
   },
   {
    "duration": 8,
    "start_time": "2023-01-10T11:38:07.736Z"
   },
   {
    "duration": 10,
    "start_time": "2023-01-10T11:39:03.119Z"
   },
   {
    "duration": 11,
    "start_time": "2023-01-10T11:39:25.900Z"
   },
   {
    "duration": 10,
    "start_time": "2023-01-10T11:39:33.831Z"
   },
   {
    "duration": 8,
    "start_time": "2023-01-10T11:39:44.868Z"
   },
   {
    "duration": 7,
    "start_time": "2023-01-10T11:39:49.670Z"
   },
   {
    "duration": 8,
    "start_time": "2023-01-10T11:40:12.908Z"
   },
   {
    "duration": 8,
    "start_time": "2023-01-10T11:51:46.796Z"
   },
   {
    "duration": 18,
    "start_time": "2023-01-10T12:05:52.008Z"
   },
   {
    "duration": 38,
    "start_time": "2023-01-10T12:06:02.444Z"
   },
   {
    "duration": 10,
    "start_time": "2023-01-10T12:06:14.383Z"
   },
   {
    "duration": 17,
    "start_time": "2023-01-10T12:06:22.370Z"
   },
   {
    "duration": 9,
    "start_time": "2023-01-10T12:06:24.601Z"
   },
   {
    "duration": 110,
    "start_time": "2023-01-10T12:06:46.365Z"
   },
   {
    "duration": 1150,
    "start_time": "2023-01-10T16:04:02.136Z"
   },
   {
    "duration": 178,
    "start_time": "2023-01-10T16:04:03.288Z"
   },
   {
    "duration": 11,
    "start_time": "2023-01-10T16:04:03.468Z"
   },
   {
    "duration": 1104,
    "start_time": "2023-01-10T16:04:03.481Z"
   },
   {
    "duration": 15,
    "start_time": "2023-01-10T16:04:04.587Z"
   },
   {
    "duration": 8,
    "start_time": "2023-01-10T16:04:04.605Z"
   },
   {
    "duration": 18,
    "start_time": "2023-01-10T16:04:04.616Z"
   },
   {
    "duration": 22,
    "start_time": "2023-01-10T16:04:04.636Z"
   },
   {
    "duration": 132,
    "start_time": "2023-01-10T16:04:04.661Z"
   },
   {
    "duration": 161,
    "start_time": "2023-01-10T16:04:04.796Z"
   },
   {
    "duration": 5820,
    "start_time": "2023-01-10T16:04:04.959Z"
   },
   {
    "duration": 60,
    "start_time": "2023-01-10T16:04:10.780Z"
   },
   {
    "duration": 7,
    "start_time": "2023-01-10T16:04:10.854Z"
   },
   {
    "duration": 1304,
    "start_time": "2023-01-10T16:08:27.902Z"
   },
   {
    "duration": 162,
    "start_time": "2023-01-10T16:09:17.414Z"
   },
   {
    "duration": 1374,
    "start_time": "2023-01-10T16:09:23.851Z"
   },
   {
    "duration": 3093,
    "start_time": "2023-01-10T16:09:32.149Z"
   },
   {
    "duration": 1356,
    "start_time": "2023-01-10T16:10:06.919Z"
   },
   {
    "duration": 3095,
    "start_time": "2023-01-10T16:12:55.950Z"
   },
   {
    "duration": 97,
    "start_time": "2023-01-10T16:13:06.665Z"
   },
   {
    "duration": 14151,
    "start_time": "2023-01-10T16:13:18.797Z"
   },
   {
    "duration": 3038,
    "start_time": "2023-01-10T16:13:39.994Z"
   },
   {
    "duration": 5502,
    "start_time": "2023-01-10T16:30:02.914Z"
   },
   {
    "duration": 1202,
    "start_time": "2023-01-10T16:30:22.057Z"
   },
   {
    "duration": 124,
    "start_time": "2023-01-10T16:32:16.716Z"
   },
   {
    "duration": 20,
    "start_time": "2023-01-10T16:32:22.112Z"
   },
   {
    "duration": 700,
    "start_time": "2023-01-10T16:32:32.169Z"
   },
   {
    "duration": 719,
    "start_time": "2023-01-10T16:32:47.027Z"
   },
   {
    "duration": 748,
    "start_time": "2023-01-10T16:33:31.843Z"
   },
   {
    "duration": 5795,
    "start_time": "2023-01-10T16:34:30.373Z"
   },
   {
    "duration": 48,
    "start_time": "2023-01-10T16:35:40.878Z"
   },
   {
    "duration": 51,
    "start_time": "2023-01-10T16:40:32.513Z"
   },
   {
    "duration": 41,
    "start_time": "2023-01-10T16:40:47.385Z"
   },
   {
    "duration": 52,
    "start_time": "2023-01-10T16:40:51.579Z"
   },
   {
    "duration": 5755,
    "start_time": "2023-01-10T16:40:57.545Z"
   },
   {
    "duration": 818,
    "start_time": "2023-01-10T16:41:38.348Z"
   },
   {
    "duration": 757,
    "start_time": "2023-01-10T16:41:50.781Z"
   },
   {
    "duration": 3,
    "start_time": "2023-01-10T16:41:57.361Z"
   },
   {
    "duration": 41,
    "start_time": "2023-01-10T16:41:57.366Z"
   },
   {
    "duration": 11,
    "start_time": "2023-01-10T16:41:57.408Z"
   },
   {
    "duration": 696,
    "start_time": "2023-01-10T16:41:57.421Z"
   },
   {
    "duration": 15,
    "start_time": "2023-01-10T16:41:58.120Z"
   },
   {
    "duration": 4,
    "start_time": "2023-01-10T16:41:58.137Z"
   },
   {
    "duration": 10,
    "start_time": "2023-01-10T16:41:58.156Z"
   },
   {
    "duration": 9,
    "start_time": "2023-01-10T16:41:58.168Z"
   },
   {
    "duration": 734,
    "start_time": "2023-01-10T16:42:02.288Z"
   },
   {
    "duration": 920,
    "start_time": "2023-01-10T16:42:10.250Z"
   },
   {
    "duration": 880,
    "start_time": "2023-01-10T16:42:29.351Z"
   },
   {
    "duration": 944,
    "start_time": "2023-01-10T16:43:01.436Z"
   },
   {
    "duration": 949,
    "start_time": "2023-01-10T16:43:42.897Z"
   },
   {
    "duration": 1002,
    "start_time": "2023-01-10T16:43:48.134Z"
   },
   {
    "duration": 879,
    "start_time": "2023-01-10T16:45:35.859Z"
   },
   {
    "duration": 875,
    "start_time": "2023-01-10T16:45:56.242Z"
   },
   {
    "duration": 888,
    "start_time": "2023-01-10T16:46:15.888Z"
   },
   {
    "duration": 54,
    "start_time": "2023-01-10T16:47:23.609Z"
   },
   {
    "duration": 894,
    "start_time": "2023-01-10T16:47:31.414Z"
   },
   {
    "duration": 867,
    "start_time": "2023-01-10T16:48:45.911Z"
   },
   {
    "duration": 870,
    "start_time": "2023-01-10T16:48:52.695Z"
   },
   {
    "duration": 830,
    "start_time": "2023-01-10T16:49:51.325Z"
   },
   {
    "duration": 959,
    "start_time": "2023-01-10T16:50:01.221Z"
   },
   {
    "duration": 852,
    "start_time": "2023-01-10T16:50:26.404Z"
   },
   {
    "duration": 865,
    "start_time": "2023-01-10T16:50:31.312Z"
   },
   {
    "duration": 138,
    "start_time": "2023-01-10T16:58:35.792Z"
   },
   {
    "duration": 149,
    "start_time": "2023-01-10T16:59:11.682Z"
   },
   {
    "duration": 160,
    "start_time": "2023-01-10T16:59:23.182Z"
   },
   {
    "duration": 140,
    "start_time": "2023-01-10T16:59:47.380Z"
   },
   {
    "duration": 241,
    "start_time": "2023-01-10T17:00:17.581Z"
   },
   {
    "duration": 154,
    "start_time": "2023-01-10T17:00:32.946Z"
   },
   {
    "duration": 165,
    "start_time": "2023-01-10T17:00:40.574Z"
   },
   {
    "duration": 190,
    "start_time": "2023-01-10T17:01:13.596Z"
   },
   {
    "duration": 178,
    "start_time": "2023-01-10T17:05:36.556Z"
   },
   {
    "duration": 178,
    "start_time": "2023-01-10T17:05:43.145Z"
   },
   {
    "duration": 10,
    "start_time": "2023-01-10T17:10:08.679Z"
   },
   {
    "duration": 4,
    "start_time": "2023-01-10T17:10:17.542Z"
   },
   {
    "duration": 716,
    "start_time": "2023-01-10T17:10:40.998Z"
   },
   {
    "duration": 713,
    "start_time": "2023-01-10T17:10:50.743Z"
   },
   {
    "duration": 5,
    "start_time": "2023-01-10T17:10:56.281Z"
   },
   {
    "duration": 907,
    "start_time": "2023-01-10T17:12:53.452Z"
   },
   {
    "duration": 869,
    "start_time": "2023-01-10T17:13:00.069Z"
   },
   {
    "duration": 877,
    "start_time": "2023-01-10T17:13:11.742Z"
   },
   {
    "duration": 926,
    "start_time": "2023-01-10T17:13:17.246Z"
   },
   {
    "duration": 589,
    "start_time": "2023-01-10T17:13:26.212Z"
   },
   {
    "duration": 553,
    "start_time": "2023-01-10T17:16:42.383Z"
   },
   {
    "duration": 194,
    "start_time": "2023-01-10T17:19:33.467Z"
   },
   {
    "duration": 5348,
    "start_time": "2023-01-10T17:19:38.514Z"
   },
   {
    "duration": 58,
    "start_time": "2023-01-10T17:19:52.348Z"
   },
   {
    "duration": 44,
    "start_time": "2023-01-10T17:20:04.358Z"
   },
   {
    "duration": 8,
    "start_time": "2023-01-10T17:20:16.022Z"
   },
   {
    "duration": 1438,
    "start_time": "2023-01-10T17:45:17.584Z"
   },
   {
    "duration": 42,
    "start_time": "2023-01-10T17:45:19.023Z"
   },
   {
    "duration": 13,
    "start_time": "2023-01-10T17:45:19.067Z"
   },
   {
    "duration": 745,
    "start_time": "2023-01-10T17:45:19.083Z"
   },
   {
    "duration": 11,
    "start_time": "2023-01-10T17:45:19.829Z"
   },
   {
    "duration": 14,
    "start_time": "2023-01-10T17:45:19.841Z"
   },
   {
    "duration": 7,
    "start_time": "2023-01-10T17:45:19.857Z"
   },
   {
    "duration": 9,
    "start_time": "2023-01-10T17:45:19.866Z"
   },
   {
    "duration": 879,
    "start_time": "2023-01-10T17:45:19.877Z"
   },
   {
    "duration": 0,
    "start_time": "2023-01-10T17:45:20.758Z"
   },
   {
    "duration": 0,
    "start_time": "2023-01-10T17:45:20.760Z"
   },
   {
    "duration": 0,
    "start_time": "2023-01-10T17:45:20.761Z"
   },
   {
    "duration": 0,
    "start_time": "2023-01-10T17:45:20.762Z"
   },
   {
    "duration": 0,
    "start_time": "2023-01-10T17:45:20.764Z"
   },
   {
    "duration": 0,
    "start_time": "2023-01-10T17:45:20.765Z"
   },
   {
    "duration": 723,
    "start_time": "2023-01-10T17:46:31.654Z"
   },
   {
    "duration": 764,
    "start_time": "2023-01-10T17:46:44.393Z"
   },
   {
    "duration": 1430,
    "start_time": "2023-01-10T17:46:54.057Z"
   },
   {
    "duration": 43,
    "start_time": "2023-01-10T17:46:55.489Z"
   },
   {
    "duration": 11,
    "start_time": "2023-01-10T17:46:55.534Z"
   },
   {
    "duration": 700,
    "start_time": "2023-01-10T17:46:55.547Z"
   },
   {
    "duration": 14,
    "start_time": "2023-01-10T17:46:56.249Z"
   },
   {
    "duration": 4,
    "start_time": "2023-01-10T17:46:56.264Z"
   },
   {
    "duration": 11,
    "start_time": "2023-01-10T17:46:56.270Z"
   },
   {
    "duration": 7,
    "start_time": "2023-01-10T17:46:56.283Z"
   },
   {
    "duration": 781,
    "start_time": "2023-01-10T17:46:56.292Z"
   },
   {
    "duration": 190,
    "start_time": "2023-01-10T17:46:57.076Z"
   },
   {
    "duration": 676,
    "start_time": "2023-01-10T17:46:57.267Z"
   },
   {
    "duration": 219,
    "start_time": "2023-01-10T17:46:57.944Z"
   },
   {
    "duration": 5686,
    "start_time": "2023-01-10T17:46:58.165Z"
   },
   {
    "duration": 47,
    "start_time": "2023-01-10T17:47:03.854Z"
   },
   {
    "duration": 7,
    "start_time": "2023-01-10T17:47:03.903Z"
   },
   {
    "duration": 15,
    "start_time": "2023-01-10T18:22:37.715Z"
   },
   {
    "duration": 111,
    "start_time": "2023-01-10T18:26:43.363Z"
   }
  ],
  "kernelspec": {
   "display_name": "Python 3 (ipykernel)",
   "language": "python",
   "name": "python3"
  },
  "language_info": {
   "codemirror_mode": {
    "name": "ipython",
    "version": 3
   },
   "file_extension": ".py",
   "mimetype": "text/x-python",
   "name": "python",
   "nbconvert_exporter": "python",
   "pygments_lexer": "ipython3",
   "version": "3.9.12"
  },
  "toc": {
   "base_numbering": 1,
   "nav_menu": {},
   "number_sections": true,
   "sideBar": true,
   "skip_h1_title": true,
   "title_cell": "Table of Contents",
   "title_sidebar": "Contents",
   "toc_cell": false,
   "toc_position": {},
   "toc_section_display": true,
   "toc_window_display": false
  }
 },
 "nbformat": 4,
 "nbformat_minor": 2
}
